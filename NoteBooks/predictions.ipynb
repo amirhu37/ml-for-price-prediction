{
  "cells": [
    {
      "attachments": {},
      "cell_type": "markdown",
      "metadata": {
        "id": "hGrhKeBZwiby"
      },
      "source": [
        "# imports"
      ]
    },
    {
      "cell_type": "code",
      "execution_count": 1,
      "metadata": {
        "id": "UvSGKEdgGDW4",
        "notebookRunGroups": {
          "groupValue": "1"
        }
      },
      "outputs": [],
      "source": [
        "#imports\n",
        "import warnings\n",
        "warnings.simplefilter('ignore')\n",
        "warnings.filterwarnings('ignore')\n",
        "import pandas as pd\n",
        "import numpy as np\n",
        "from sklearn.model_selection import train_test_split\n",
        "import matplotlib.pyplot as plt\n",
        "import joblib\n",
        "import pandas_ta as ta\n",
        "from xgboost import XGBClassifier\n",
        "from sklearn.metrics import accuracy_score, confusion_matrix, classification_report\n",
        "from sklearn.neighbors import KNeighborsClassifier\n",
        "from sklearn.svm import SVC\n",
        "from sklearn.tree import DecisionTreeClassifier\n",
        "from sklearn.ensemble import RandomForestClassifier as Forest\n",
        "from sklearn.metrics import accuracy_score\n",
        "from scipy.signal import argrelextrema\n",
        "pd.set_option('display.max_columns', 500)\n",
        "pd.set_option('display.max_rows', 500)\n"
      ]
    },
    {
      "cell_type": "code",
      "execution_count": 2,
      "metadata": {
        "id": "DcR_g3UcGDW_",
        "notebookRunGroups": {
          "groupValue": "1"
        }
      },
      "outputs": [],
      "source": [
        "def pivot_point( df) :\n",
        "  pivot_points = []\n",
        "  # support1 = []\n",
        "  # support2 = []\n",
        "  # support3 = []\n",
        "  # resistance1 = []\n",
        "  # resistance2 = []\n",
        "  # resistance3 = []\n",
        "\n",
        "  for _, row in df.iterrows():\n",
        "      high = row['High']\n",
        "      low = row['Low']\n",
        "      close = row['Close']\n",
        "\n",
        "      pivot_point = (high + low + close) / 3\n",
        "      # s1 = (2 * pivot_point) - high\n",
        "      # s2 = pivot_point - (high - low)\n",
        "      # s3 = low - 2 * (high - pivot_point)\n",
        "      # r1 = (2 * pivot_point) - low\n",
        "      # r2 = pivot_point + (high - low)\n",
        "      # r3 = high + 2 * (pivot_point - low)\n",
        "\n",
        "      pivot_points.append(round(pivot_point, 2))\n",
        "      # support1.append(s1)\n",
        "      # support2.append(s2)\n",
        "      # support3.append(s3)\n",
        "      # resistance1.append(r1)\n",
        "      # resistance2.append(r2)\n",
        "      # resistance3.append(r3)\n",
        "\n",
        "  # df['Pivot'] = pivot_points\n",
        "  # df['Support 1'] = support1\n",
        "  # df['Support 2'] = support2\n",
        "  # df['Support 3'] = support3\n",
        "  # df['Resistance 1'] = resistance1\n",
        "  # df['Resistance 2'] = resistance2\n",
        "  # df['Resistance 3'] = resistance3\n",
        "  return pivot_points\n",
        "\n",
        "\n",
        "# Assuming 'df' is your DataFrame with a 'price' column\n",
        "def candle_color(df):\n",
        "    color = []\n",
        "\n",
        "    for idx in df.index:\n",
        "        if df['Open'][idx] > df['Close'][idx]:\n",
        "            color.append(-1)\n",
        "        elif df['Open'][idx] < df['Close'][idx]:\n",
        "            color.append(1)\n",
        "        else:\n",
        "            color.append(0)  # Add a neutral color if open and close prices are equal\n",
        "\n",
        "    return color\n",
        "\n",
        "\n",
        "\n",
        "def fair_value_gap(df):\n",
        "    high, low = df['High'], df['Low']\n",
        "    fvg = [None] * len(df)\n",
        "    for row in range(1, len(df) - 1):\n",
        "        # bulish\n",
        "        if not high[row - 1] >= low[row + 1]:\n",
        "            # Placeholder for the missing logic\n",
        "            fvg[row] = (low[row + 1] - high[row - 1])  # Example: Storing the row index in the fvg list\n",
        "        # Bearish\n",
        "        if not low[row - 1] <= high[row + 1]:\n",
        "            # Placeholder for the missing logic\n",
        "            fvg[row] = ( high[row + 1] - low[row - 1])  # Example: Storing the row index in the fvg list\n",
        "        \n",
        "    return fvg\n",
        "\n",
        "\n",
        "def zigzag(df, length, source):\n",
        "  z_os = np.zeros(len(df))\n",
        "  valtop = np.nan\n",
        "  valbtm = np.nan\n",
        "  df['z_btm'] = np.nan\n",
        "  df['z_top'] = np.nan\n",
        "\n",
        "  for i in range(length, len(df)):\n",
        "    upper = df[source].iloc[i-length:i].max()\n",
        "    lower = df[source].iloc[i-length:i].min()\n",
        "    df.loc[i, 'z_btm'] = lower\n",
        "    df.loc[i, 'z_top'] = upper\n",
        "    z_os[i] = df[source].iloc[i]\n",
        "    \n",
        "  return z_os, df['z_btm'], df['z_top']\n",
        "\n",
        "\n"
      ]
    },
    {
      "attachments": {},
      "cell_type": "markdown",
      "metadata": {
        "id": "sFFC6ekiwomt"
      },
      "source": [
        "# variables"
      ]
    },
    {
      "cell_type": "code",
      "execution_count": 3,
      "metadata": {
        "colab": {
          "base_uri": "https://localhost:8080/",
          "height": 237
        },
        "id": "EJjDo4OXGDW8",
        "notebookRunGroups": {
          "groupValue": "1"
        },
        "outputId": "144089ef-bb3d-4a7b-d6b6-bf53335235dc"
      },
      "outputs": [],
      "source": [
        "#Reading Data\n",
        "df = pd.read_csv(\"C:\\\\Users\\AmirHussain\\Desktop\\machine-Learning-tradert-bot-main\\Datas\\XAUUSDM15.csv\" , \n",
        "                   encoding = 'utf-16', \n",
        "                   names =  ['Date', 'Open', 'High', 'Low', 'Close', 'Volume', '0'] )\n",
        "\n",
        "df.drop(['0', 'Volume'], inplace= True, axis= 1)\n",
        "df['Date'] = pd.to_datetime(df['Date'])\n",
        "df.set_index('Date', drop=True, inplace = True)\n"
      ]
    },
    {
      "cell_type": "code",
      "execution_count": 4,
      "metadata": {},
      "outputs": [],
      "source": [
        "# _, df['z_btm'], df['z_top'] = zigzag(df, length=5, source='Open')\n"
      ]
    },
    {
      "cell_type": "code",
      "execution_count": 5,
      "metadata": {
        "notebookRunGroups": {
          "groupValue": "1"
        }
      },
      "outputs": [],
      "source": [
        "# back_candel = 3\n",
        "# df['hl2'] = (df['High'] - df['Low']) / 2\n",
        "# df['Slope'] = df['hl2'].rolling(window=back_candel).apply(lambda x: np.polyfit(np.arange(back_candel), x, 1)[0])"
      ]
    },
    {
      "cell_type": "code",
      "execution_count": 6,
      "metadata": {},
      "outputs": [],
      "source": [
        "df['color'] = candle_color(df)\n",
        "df['fvg'] = fair_value_gap(df)"
      ]
    },
    {
      "cell_type": "code",
      "execution_count": 7,
      "metadata": {
        "notebookRunGroups": {
          "groupValue": "1"
        }
      },
      "outputs": [],
      "source": [
        "df['ho diff'] =  df['High'] - df['Open']\n",
        "df['lo diff'] =  df['Low'] - df['Open']"
      ]
    },
    {
      "cell_type": "code",
      "execution_count": 8,
      "metadata": {
        "notebookRunGroups": {
          "groupValue": "1"
        }
      },
      "outputs": [],
      "source": [
        "df['Pivot'] = pivot_point(df)\n",
        "df['next'] = df['Open'].shift(-1)\n",
        "\n",
        "\n",
        "\n",
        "df['ma 1'] = ta.ma('sma', df['Open'], length = 5)\n",
        "df['ma 2'] = ta.ma('sma', df['Open'], length = 10)\n",
        "\n",
        "df['rsi'] = ta.rsi(df['Open'], 21)\n",
        "df['mom'] = ta.mom(df['Open'], 21)\n",
        "macd = ta.macd(df['Open'], fastperiod=13, slowperiod=36, signalperiod=9)\n",
        "df['atr'] = ta.atr(df['High'], df['Low'], df['Close'], 13)\n",
        "df['Open-pivot'] = df['Open'] - df['Pivot']\n",
        "df = df.join(macd['MACD_12_26_9'])\n",
        "df = df.rename(columns={ \"MACD_12_26_9\": \"macd\"})\n",
        "df['crossover'] = ((df['ma 1'] >= df['ma 2']   ) & (df['ma 1'].shift(1) < df['ma 2'].shift(1)) ).astype(int)\n",
        "df['crossunder'] =( (df['ma 1'] <= df['ma 2']  ) & (df['ma 1'].shift(1) > df['ma 2'].shift(1))) .astype(int)\n",
        "\n",
        "df = df[36:]\n",
        "df.reset_index(inplace=True)"
      ]
    },
    {
      "cell_type": "code",
      "execution_count": 9,
      "metadata": {
        "notebookRunGroups": {
          "groupValue": "1"
        }
      },
      "outputs": [],
      "source": [
        "signal = [0] * len(df.index)\n",
        "\n",
        "for row in range( len(df)):\n",
        "\n",
        "\n",
        "    if (df['fvg'][row ] > 1.)    :\n",
        "      signal[row] = 1\n",
        "\n",
        "\n",
        "    elif (df['fvg'][row ] < -1.)    :\n",
        "      signal[row] = 2\n",
        "    else:\n",
        "        signal[row] = 0\n",
        "\n",
        "\n",
        "df['signal'] = signal\n",
        "\n"
      ]
    },
    {
      "cell_type": "code",
      "execution_count": 10,
      "metadata": {
        "colab": {
          "base_uri": "https://localhost:8080/"
        },
        "id": "w-YfwogIvSm6",
        "outputId": "cd070701-5a72-46a3-ce69-4d23a823c434"
      },
      "outputs": [
        {
          "data": {
            "text/plain": [
              "0    94334\n",
              "1     2937\n",
              "2     2736\n",
              "Name: signal, dtype: int64"
            ]
          },
          "execution_count": 10,
          "metadata": {},
          "output_type": "execute_result"
        }
      ],
      "source": [
        "df['signal'].value_counts()  "
      ]
    },
    {
      "cell_type": "code",
      "execution_count": 11,
      "metadata": {},
      "outputs": [
        {
          "data": {
            "text/html": [
              "<div>\n",
              "<style scoped>\n",
              "    .dataframe tbody tr th:only-of-type {\n",
              "        vertical-align: middle;\n",
              "    }\n",
              "\n",
              "    .dataframe tbody tr th {\n",
              "        vertical-align: top;\n",
              "    }\n",
              "\n",
              "    .dataframe thead th {\n",
              "        text-align: right;\n",
              "    }\n",
              "</style>\n",
              "<table border=\"1\" class=\"dataframe\">\n",
              "  <thead>\n",
              "    <tr style=\"text-align: right;\">\n",
              "      <th></th>\n",
              "      <th>Date</th>\n",
              "      <th>Open</th>\n",
              "      <th>High</th>\n",
              "      <th>Low</th>\n",
              "      <th>Close</th>\n",
              "      <th>color</th>\n",
              "      <th>fvg</th>\n",
              "      <th>ho diff</th>\n",
              "      <th>lo diff</th>\n",
              "      <th>Pivot</th>\n",
              "      <th>next</th>\n",
              "      <th>ma 1</th>\n",
              "      <th>ma 2</th>\n",
              "      <th>rsi</th>\n",
              "      <th>mom</th>\n",
              "      <th>atr</th>\n",
              "      <th>Open-pivot</th>\n",
              "      <th>macd</th>\n",
              "      <th>crossover</th>\n",
              "      <th>crossunder</th>\n",
              "      <th>signal</th>\n",
              "    </tr>\n",
              "  </thead>\n",
              "  <tbody>\n",
              "    <tr>\n",
              "      <th>0</th>\n",
              "      <td>2019-02-19 07:15:00</td>\n",
              "      <td>1323.70</td>\n",
              "      <td>1324.10</td>\n",
              "      <td>1323.50</td>\n",
              "      <td>1323.60</td>\n",
              "      <td>-1</td>\n",
              "      <td>NaN</td>\n",
              "      <td>0.40</td>\n",
              "      <td>-0.20</td>\n",
              "      <td>1323.73</td>\n",
              "      <td>1323.70</td>\n",
              "      <td>1323.844</td>\n",
              "      <td>1324.349</td>\n",
              "      <td>34.310139</td>\n",
              "      <td>-2.56</td>\n",
              "      <td>0.547799</td>\n",
              "      <td>-0.03</td>\n",
              "      <td>-0.607987</td>\n",
              "      <td>0</td>\n",
              "      <td>0</td>\n",
              "      <td>0</td>\n",
              "    </tr>\n",
              "    <tr>\n",
              "      <th>1</th>\n",
              "      <td>2019-02-19 07:30:00</td>\n",
              "      <td>1323.70</td>\n",
              "      <td>1324.28</td>\n",
              "      <td>1323.60</td>\n",
              "      <td>1324.18</td>\n",
              "      <td>1</td>\n",
              "      <td>NaN</td>\n",
              "      <td>0.58</td>\n",
              "      <td>-0.10</td>\n",
              "      <td>1324.02</td>\n",
              "      <td>1324.21</td>\n",
              "      <td>1323.660</td>\n",
              "      <td>1324.240</td>\n",
              "      <td>34.310139</td>\n",
              "      <td>-2.56</td>\n",
              "      <td>0.558523</td>\n",
              "      <td>-0.32</td>\n",
              "      <td>-0.611465</td>\n",
              "      <td>0</td>\n",
              "      <td>0</td>\n",
              "      <td>0</td>\n",
              "    </tr>\n",
              "    <tr>\n",
              "      <th>2</th>\n",
              "      <td>2019-02-19 07:45:00</td>\n",
              "      <td>1324.21</td>\n",
              "      <td>1324.31</td>\n",
              "      <td>1323.79</td>\n",
              "      <td>1323.93</td>\n",
              "      <td>-1</td>\n",
              "      <td>NaN</td>\n",
              "      <td>0.10</td>\n",
              "      <td>-0.42</td>\n",
              "      <td>1324.01</td>\n",
              "      <td>1323.93</td>\n",
              "      <td>1323.782</td>\n",
              "      <td>1324.183</td>\n",
              "      <td>41.208584</td>\n",
              "      <td>-1.79</td>\n",
              "      <td>0.555411</td>\n",
              "      <td>0.20</td>\n",
              "      <td>-0.566537</td>\n",
              "      <td>0</td>\n",
              "      <td>0</td>\n",
              "      <td>0</td>\n",
              "    </tr>\n",
              "    <tr>\n",
              "      <th>3</th>\n",
              "      <td>2019-02-19 08:00:00</td>\n",
              "      <td>1323.93</td>\n",
              "      <td>1323.98</td>\n",
              "      <td>1323.40</td>\n",
              "      <td>1323.48</td>\n",
              "      <td>-1</td>\n",
              "      <td>NaN</td>\n",
              "      <td>0.05</td>\n",
              "      <td>-0.53</td>\n",
              "      <td>1323.62</td>\n",
              "      <td>1323.48</td>\n",
              "      <td>1323.868</td>\n",
              "      <td>1324.058</td>\n",
              "      <td>38.856291</td>\n",
              "      <td>-1.91</td>\n",
              "      <td>0.557390</td>\n",
              "      <td>0.31</td>\n",
              "      <td>-0.547217</td>\n",
              "      <td>0</td>\n",
              "      <td>0</td>\n",
              "      <td>0</td>\n",
              "    </tr>\n",
              "    <tr>\n",
              "      <th>4</th>\n",
              "      <td>2019-02-19 08:15:00</td>\n",
              "      <td>1323.48</td>\n",
              "      <td>1323.80</td>\n",
              "      <td>1323.22</td>\n",
              "      <td>1323.69</td>\n",
              "      <td>1</td>\n",
              "      <td>NaN</td>\n",
              "      <td>0.32</td>\n",
              "      <td>-0.26</td>\n",
              "      <td>1323.57</td>\n",
              "      <td>1323.68</td>\n",
              "      <td>1323.804</td>\n",
              "      <td>1323.918</td>\n",
              "      <td>35.442250</td>\n",
              "      <td>-1.80</td>\n",
              "      <td>0.559203</td>\n",
              "      <td>-0.09</td>\n",
              "      <td>-0.561742</td>\n",
              "      <td>0</td>\n",
              "      <td>0</td>\n",
              "      <td>0</td>\n",
              "    </tr>\n",
              "  </tbody>\n",
              "</table>\n",
              "</div>"
            ],
            "text/plain": [
              "                 Date     Open     High      Low    Close  color  fvg  \\\n",
              "0 2019-02-19 07:15:00  1323.70  1324.10  1323.50  1323.60     -1  NaN   \n",
              "1 2019-02-19 07:30:00  1323.70  1324.28  1323.60  1324.18      1  NaN   \n",
              "2 2019-02-19 07:45:00  1324.21  1324.31  1323.79  1323.93     -1  NaN   \n",
              "3 2019-02-19 08:00:00  1323.93  1323.98  1323.40  1323.48     -1  NaN   \n",
              "4 2019-02-19 08:15:00  1323.48  1323.80  1323.22  1323.69      1  NaN   \n",
              "\n",
              "   ho diff  lo diff    Pivot     next      ma 1      ma 2        rsi   mom  \\\n",
              "0     0.40    -0.20  1323.73  1323.70  1323.844  1324.349  34.310139 -2.56   \n",
              "1     0.58    -0.10  1324.02  1324.21  1323.660  1324.240  34.310139 -2.56   \n",
              "2     0.10    -0.42  1324.01  1323.93  1323.782  1324.183  41.208584 -1.79   \n",
              "3     0.05    -0.53  1323.62  1323.48  1323.868  1324.058  38.856291 -1.91   \n",
              "4     0.32    -0.26  1323.57  1323.68  1323.804  1323.918  35.442250 -1.80   \n",
              "\n",
              "        atr  Open-pivot      macd  crossover  crossunder  signal  \n",
              "0  0.547799       -0.03 -0.607987          0           0       0  \n",
              "1  0.558523       -0.32 -0.611465          0           0       0  \n",
              "2  0.555411        0.20 -0.566537          0           0       0  \n",
              "3  0.557390        0.31 -0.547217          0           0       0  \n",
              "4  0.559203       -0.09 -0.561742          0           0       0  "
            ]
          },
          "execution_count": 11,
          "metadata": {},
          "output_type": "execute_result"
        }
      ],
      "source": [
        "df.head()"
      ]
    },
    {
      "cell_type": "code",
      "execution_count": 12,
      "metadata": {},
      "outputs": [
        {
          "data": {
            "text/plain": [
              "Start                                     0.0\n",
              "End                                  100006.0\n",
              "Duration                             100006.0\n",
              "Exposure Time [%]                    4.944654\n",
              "Equity Final [$]                      8.80497\n",
              "Equity Peak [$]                   20059.19826\n",
              "Return [%]                          -99.91195\n",
              "Buy & Hold Return [%]               47.109399\n",
              "Return (Ann.) [%]                         0.0\n",
              "Volatility (Ann.) [%]                     NaN\n",
              "Sharpe Ratio                              NaN\n",
              "Sortino Ratio                             NaN\n",
              "Calmar Ratio                              0.0\n",
              "Max. Drawdown [%]                  -99.956105\n",
              "Avg. Drawdown [%]                  -37.720203\n",
              "Max. Drawdown Duration                99055.0\n",
              "Avg. Drawdown Duration            9081.545455\n",
              "# Trades                                 76.0\n",
              "Win Rate [%]                        71.052632\n",
              "Best Trade [%]                       0.456583\n",
              "Worst Trade [%]                     -1.034868\n",
              "Avg. Trade [%]                       0.045314\n",
              "Max. Trade Duration                     451.0\n",
              "Avg. Trade Duration                 69.092105\n",
              "Profit Factor                        1.257055\n",
              "Expectancy [%]                       0.046307\n",
              "SQN                                 -0.505501\n",
              "_strategy                          myStrategy\n",
              "_equity_curve                          Equ...\n",
              "_trades                       Size  EntryB...\n",
              "dtype: object"
            ]
          },
          "execution_count": 12,
          "metadata": {},
          "output_type": "execute_result"
        }
      ],
      "source": [
        "from backtesting import Strategy, Backtest\n",
        "\n",
        "def SIGNAL():\n",
        "    return df['signal']\n",
        "\n",
        "class myStrategy(Strategy):\n",
        "    def init(self):\n",
        "        super().init()\n",
        "        self.signal1 = self.I(SIGNAL)\n",
        "        \n",
        "    \n",
        "    def next(self):\n",
        "        super().next()\n",
        "        \n",
        "        if self.signal1 == 1:\n",
        "            sl1 = self.data.Low[-1] - 5\n",
        "            tp1 = self.data.High[-1] + 5\n",
        "            self.buy(sl=sl1, tp=tp1)\n",
        "        \n",
        "        if self.signal1 == 2:\n",
        "            sl1 = self.data.High[-1] + 5\n",
        "            tp1 = self.data.Low[-1] - 5\n",
        "            self.sell(sl=sl1, tp=tp1)\n",
        "\n",
        "\n",
        "\n",
        "bt = Backtest(df, myStrategy,cash=10_000, commission= 0.001,hedging= False, margin= .01, trade_on_close = False, exclusive_orders=False)\n",
        "bt.run()"
      ]
    },
    {
      "cell_type": "code",
      "execution_count": 13,
      "metadata": {},
      "outputs": [
        {
          "data": {
            "text/html": [
              "<div style=\"display: table;\"><div style=\"display: table-row;\"><div style=\"display: table-cell;\"><b title=\"bokeh.models.plots.GridPlot\">GridPlot</b>(</div><div style=\"display: table-cell;\">id&nbsp;=&nbsp;'p1454', <span id=\"p1910\" style=\"cursor: pointer;\">&hellip;)</span></div></div><div class=\"p1909\" style=\"display: none;\"><div style=\"display: table-cell;\"></div><div style=\"display: table-cell;\">align&nbsp;=&nbsp;'auto',</div></div><div class=\"p1909\" style=\"display: none;\"><div style=\"display: table-cell;\"></div><div style=\"display: table-cell;\">aspect_ratio&nbsp;=&nbsp;None,</div></div><div class=\"p1909\" style=\"display: none;\"><div style=\"display: table-cell;\"></div><div style=\"display: table-cell;\">children&nbsp;=&nbsp;[(figure(id='p1058', ...), 0, 0), (figure(id='p1171', ...), 1, 0), (figure(id='p1002', ...), 2, 0), (figure(id='p1272', ...), 3, 0)],</div></div><div class=\"p1909\" style=\"display: none;\"><div style=\"display: table-cell;\"></div><div style=\"display: table-cell;\">cols&nbsp;=&nbsp;None,</div></div><div class=\"p1909\" style=\"display: none;\"><div style=\"display: table-cell;\"></div><div style=\"display: table-cell;\">context_menu&nbsp;=&nbsp;None,</div></div><div class=\"p1909\" style=\"display: none;\"><div style=\"display: table-cell;\"></div><div style=\"display: table-cell;\">css_classes&nbsp;=&nbsp;[],</div></div><div class=\"p1909\" style=\"display: none;\"><div style=\"display: table-cell;\"></div><div style=\"display: table-cell;\">disabled&nbsp;=&nbsp;False,</div></div><div class=\"p1909\" style=\"display: none;\"><div style=\"display: table-cell;\"></div><div style=\"display: table-cell;\">flow_mode&nbsp;=&nbsp;'block',</div></div><div class=\"p1909\" style=\"display: none;\"><div style=\"display: table-cell;\"></div><div style=\"display: table-cell;\">height&nbsp;=&nbsp;None,</div></div><div class=\"p1909\" style=\"display: none;\"><div style=\"display: table-cell;\"></div><div style=\"display: table-cell;\">height_policy&nbsp;=&nbsp;'auto',</div></div><div class=\"p1909\" style=\"display: none;\"><div style=\"display: table-cell;\"></div><div style=\"display: table-cell;\">js_event_callbacks&nbsp;=&nbsp;{},</div></div><div class=\"p1909\" style=\"display: none;\"><div style=\"display: table-cell;\"></div><div style=\"display: table-cell;\">js_property_callbacks&nbsp;=&nbsp;{},</div></div><div class=\"p1909\" style=\"display: none;\"><div style=\"display: table-cell;\"></div><div style=\"display: table-cell;\">margin&nbsp;=&nbsp;None,</div></div><div class=\"p1909\" style=\"display: none;\"><div style=\"display: table-cell;\"></div><div style=\"display: table-cell;\">max_height&nbsp;=&nbsp;None,</div></div><div class=\"p1909\" style=\"display: none;\"><div style=\"display: table-cell;\"></div><div style=\"display: table-cell;\">max_width&nbsp;=&nbsp;None,</div></div><div class=\"p1909\" style=\"display: none;\"><div style=\"display: table-cell;\"></div><div style=\"display: table-cell;\">min_height&nbsp;=&nbsp;None,</div></div><div class=\"p1909\" style=\"display: none;\"><div style=\"display: table-cell;\"></div><div style=\"display: table-cell;\">min_width&nbsp;=&nbsp;None,</div></div><div class=\"p1909\" style=\"display: none;\"><div style=\"display: table-cell;\"></div><div style=\"display: table-cell;\">name&nbsp;=&nbsp;None,</div></div><div class=\"p1909\" style=\"display: none;\"><div style=\"display: table-cell;\"></div><div style=\"display: table-cell;\">resizable&nbsp;=&nbsp;False,</div></div><div class=\"p1909\" style=\"display: none;\"><div style=\"display: table-cell;\"></div><div style=\"display: table-cell;\">rows&nbsp;=&nbsp;None,</div></div><div class=\"p1909\" style=\"display: none;\"><div style=\"display: table-cell;\"></div><div style=\"display: table-cell;\">sizing_mode&nbsp;=&nbsp;'stretch_width',</div></div><div class=\"p1909\" style=\"display: none;\"><div style=\"display: table-cell;\"></div><div style=\"display: table-cell;\">spacing&nbsp;=&nbsp;0,</div></div><div class=\"p1909\" style=\"display: none;\"><div style=\"display: table-cell;\"></div><div style=\"display: table-cell;\">styles&nbsp;=&nbsp;{},</div></div><div class=\"p1909\" style=\"display: none;\"><div style=\"display: table-cell;\"></div><div style=\"display: table-cell;\">stylesheets&nbsp;=&nbsp;[],</div></div><div class=\"p1909\" style=\"display: none;\"><div style=\"display: table-cell;\"></div><div style=\"display: table-cell;\">subscribed_events&nbsp;=&nbsp;PropertyValueSet(),</div></div><div class=\"p1909\" style=\"display: none;\"><div style=\"display: table-cell;\"></div><div style=\"display: table-cell;\">syncable&nbsp;=&nbsp;True,</div></div><div class=\"p1909\" style=\"display: none;\"><div style=\"display: table-cell;\"></div><div style=\"display: table-cell;\">tags&nbsp;=&nbsp;[],</div></div><div class=\"p1909\" style=\"display: none;\"><div style=\"display: table-cell;\"></div><div style=\"display: table-cell;\">toolbar&nbsp;=&nbsp;Toolbar(id='p1453', ...),</div></div><div class=\"p1909\" style=\"display: none;\"><div style=\"display: table-cell;\"></div><div style=\"display: table-cell;\">toolbar_location&nbsp;=&nbsp;'right',</div></div><div class=\"p1909\" style=\"display: none;\"><div style=\"display: table-cell;\"></div><div style=\"display: table-cell;\">visible&nbsp;=&nbsp;True,</div></div><div class=\"p1909\" style=\"display: none;\"><div style=\"display: table-cell;\"></div><div style=\"display: table-cell;\">width&nbsp;=&nbsp;None,</div></div><div class=\"p1909\" style=\"display: none;\"><div style=\"display: table-cell;\"></div><div style=\"display: table-cell;\">width_policy&nbsp;=&nbsp;'auto')</div></div></div>\n",
              "<script>\n",
              "(function() {\n",
              "  let expanded = false;\n",
              "  const ellipsis = document.getElementById(\"p1910\");\n",
              "  ellipsis.addEventListener(\"click\", function() {\n",
              "    const rows = document.getElementsByClassName(\"p1909\");\n",
              "    for (let i = 0; i < rows.length; i++) {\n",
              "      const el = rows[i];\n",
              "      el.style.display = expanded ? \"none\" : \"table-row\";\n",
              "    }\n",
              "    ellipsis.innerHTML = expanded ? \"&hellip;)\" : \"&lsaquo;&lsaquo;&lsaquo;\";\n",
              "    expanded = !expanded;\n",
              "  });\n",
              "})();\n",
              "</script>\n"
            ],
            "text/plain": [
              "GridPlot(id='p1454', ...)"
            ]
          },
          "execution_count": 13,
          "metadata": {},
          "output_type": "execute_result"
        }
      ],
      "source": [
        "bt.plot()"
      ]
    },
    {
      "attachments": {},
      "cell_type": "markdown",
      "metadata": {
        "id": "cdhyyvzBNw6b"
      },
      "source": [
        "# Plot For testing"
      ]
    },
    {
      "cell_type": "code",
      "execution_count": 14,
      "metadata": {
        "colab": {
          "base_uri": "https://localhost:8080/",
          "height": 1000
        },
        "id": "zanNVm34r5A4",
        "outputId": "cbe376c2-b90d-46b0-9ac4-8619853596e4"
      },
      "outputs": [
        {
          "data": {
            "text/html": [
              "        <script type=\"text/javascript\">\n",
              "        window.PlotlyConfig = {MathJaxConfig: 'local'};\n",
              "        if (window.MathJax && window.MathJax.Hub && window.MathJax.Hub.Config) {window.MathJax.Hub.Config({SVG: {font: \"STIX-Web\"}});}\n",
              "        if (typeof require !== 'undefined') {\n",
              "        require.undef(\"plotly\");\n",
              "        requirejs.config({\n",
              "            paths: {\n",
              "                'plotly': ['https://cdn.plot.ly/plotly-2.24.1.min']\n",
              "            }\n",
              "        });\n",
              "        require(['plotly'], function(Plotly) {\n",
              "            window._Plotly = Plotly;\n",
              "        });\n",
              "        }\n",
              "        </script>\n",
              "        "
            ]
          },
          "metadata": {},
          "output_type": "display_data"
        },
        {
          "data": {
            "application/vnd.plotly.v1+json": {
              "config": {
                "linkText": "Export to plot.ly",
                "plotlyServerURL": "https://plot.ly",
                "showLink": false
              },
              "data": [
                {
                  "close": [
                    1942.36,
                    1944.03,
                    1943.06,
                    1942.09,
                    1941.06,
                    1940.76,
                    1939.83,
                    1940.11,
                    1940.27,
                    1940.42,
                    1939.95,
                    1940.66,
                    1941.87,
                    1942.22,
                    1941.58,
                    1942.1,
                    1941.19,
                    1941.35,
                    1940.39,
                    1940.41,
                    1940.44,
                    1939.6,
                    1938.85,
                    1940.8,
                    1942.81,
                    1943.89,
                    1944.89,
                    1946.67,
                    1947.41,
                    1947.64,
                    1947.51,
                    1945.92,
                    1945.27,
                    1947.88,
                    1947.85,
                    1948.33,
                    1947.92,
                    1947.72,
                    1948.23,
                    1947.8,
                    1947.75,
                    1948.56,
                    1950.89,
                    1948.55,
                    1948.63,
                    1950.49,
                    1951.42,
                    1951.69,
                    1950.37,
                    1951.81,
                    1956.03,
                    1956.19,
                    1954,
                    1953.08,
                    1953.46,
                    1952.52,
                    1952.11,
                    1953.1,
                    1952.95,
                    1953.52,
                    1953.12,
                    1953.42,
                    1952.2,
                    1953.32,
                    1953.38,
                    1952.55,
                    1952.66,
                    1951.39,
                    1953.14,
                    1952.28,
                    1944.65,
                    1947.3,
                    1948.76,
                    1948.49,
                    1950.15,
                    1946.81,
                    1950.36,
                    1947.96,
                    1941.28,
                    1942.05,
                    1940.31,
                    1942.14,
                    1941.56,
                    1943.43,
                    1944.37,
                    1945.58,
                    1943.9,
                    1944.01,
                    1945.1,
                    1944.16,
                    1943.61,
                    1944.76,
                    1945.69,
                    1946,
                    1945.11,
                    1946.05,
                    1944.98,
                    1945.45,
                    1946.19
                  ],
                  "decreasing": {
                    "line": {
                      "color": "red"
                    }
                  },
                  "high": [
                    1944.42,
                    1944.07,
                    1944.07,
                    1943.04,
                    1942.27,
                    1941.29,
                    1941.22,
                    1940.5,
                    1940.58,
                    1940.85,
                    1940.71,
                    1940.66,
                    1942.16,
                    1943.08,
                    1942.31,
                    1942.44,
                    1942.11,
                    1941.62,
                    1941.44,
                    1940.49,
                    1941.58,
                    1940.76,
                    1940.36,
                    1940.85,
                    1943.19,
                    1943.93,
                    1945.26,
                    1946.78,
                    1948.24,
                    1947.95,
                    1948.72,
                    1947.77,
                    1946.64,
                    1947.95,
                    1948.05,
                    1948.68,
                    1948.83,
                    1948.12,
                    1948.56,
                    1948.7,
                    1948.38,
                    1949.19,
                    1951.68,
                    1951.14,
                    1948.97,
                    1950.94,
                    1951.94,
                    1952.36,
                    1951.69,
                    1952.63,
                    1956.26,
                    1957.17,
                    1956.69,
                    1954.24,
                    1953.5,
                    1953.68,
                    1953.09,
                    1953.42,
                    1954.1,
                    1953.6,
                    1953.87,
                    1953.59,
                    1953.62,
                    1953.41,
                    1953.68,
                    1953.59,
                    1953.61,
                    1952.72,
                    1953.83,
                    1953.52,
                    1952.69,
                    1949.14,
                    1949.69,
                    1948.89,
                    1950.37,
                    1950.09,
                    1951.33,
                    1951.76,
                    1948.57,
                    1942.5,
                    1942.51,
                    1942.19,
                    1942.85,
                    1943.65,
                    1944.47,
                    1946.48,
                    1945.93,
                    1944.9,
                    1945.2,
                    1945.3,
                    1944.3,
                    1945.27,
                    1945.7,
                    1946.24,
                    1946.92,
                    1946.21,
                    1946.3,
                    1946.03,
                    1946.38
                  ],
                  "increasing": {
                    "line": {
                      "color": "green"
                    }
                  },
                  "low": [
                    1942.18,
                    1942.39,
                    1941.78,
                    1941.94,
                    1940.87,
                    1940.49,
                    1938.8,
                    1939.48,
                    1939.73,
                    1940.22,
                    1939.79,
                    1939.82,
                    1940.18,
                    1941.67,
                    1941.02,
                    1941.41,
                    1940.5,
                    1940.88,
                    1940.1,
                    1939.27,
                    1939.94,
                    1939.05,
                    1938.72,
                    1936.6,
                    1940.29,
                    1942.24,
                    1943.3,
                    1944.74,
                    1946.22,
                    1947.09,
                    1946.93,
                    1945.82,
                    1944.8,
                    1945.2,
                    1947.43,
                    1947.79,
                    1947.02,
                    1947.14,
                    1947.57,
                    1947.69,
                    1947.58,
                    1947.33,
                    1948.51,
                    1948.33,
                    1947.33,
                    1946.88,
                    1950.15,
                    1950.08,
                    1950.28,
                    1950.33,
                    1951.54,
                    1954.49,
                    1953.61,
                    1951.82,
                    1952.28,
                    1951.35,
                    1951.88,
                    1951.68,
                    1952.77,
                    1952.68,
                    1952.85,
                    1952.83,
                    1951.89,
                    1951.86,
                    1952.68,
                    1952.36,
                    1952.35,
                    1950.95,
                    1951.29,
                    1951.9,
                    1944.24,
                    1944.3,
                    1946.31,
                    1946.43,
                    1946.07,
                    1946.25,
                    1946.65,
                    1947.92,
                    1940.6,
                    1938.78,
                    1938.71,
                    1939.41,
                    1940.97,
                    1941.3,
                    1942.75,
                    1944.29,
                    1943.72,
                    1943.06,
                    1943.46,
                    1944.14,
                    1942.97,
                    1943.63,
                    1944.7,
                    1945.47,
                    1945.11,
                    1944.46,
                    1944.74,
                    1944.8,
                    1945.05
                  ],
                  "name": "Candlestick",
                  "open": [
                    1944.42,
                    1942.4,
                    1944.04,
                    1943.04,
                    1942.09,
                    1941.07,
                    1940.75,
                    1939.82,
                    1940.09,
                    1940.27,
                    1940.43,
                    1939.95,
                    1940.51,
                    1941.83,
                    1942.2,
                    1941.46,
                    1942.1,
                    1941.15,
                    1941.37,
                    1940.44,
                    1940.39,
                    1940.51,
                    1939.57,
                    1938.84,
                    1940.85,
                    1942.84,
                    1943.87,
                    1944.87,
                    1946.64,
                    1947.34,
                    1947.63,
                    1947.54,
                    1945.89,
                    1945.26,
                    1947.85,
                    1947.86,
                    1948.32,
                    1947.92,
                    1947.7,
                    1948.25,
                    1947.81,
                    1947.73,
                    1948.56,
                    1950.88,
                    1948.57,
                    1948.63,
                    1950.47,
                    1951.39,
                    1951.69,
                    1950.35,
                    1951.81,
                    1956.02,
                    1956.14,
                    1953.99,
                    1953.05,
                    1953.46,
                    1952.54,
                    1952.11,
                    1953.07,
                    1952.97,
                    1953.48,
                    1953.13,
                    1953.43,
                    1952.16,
                    1953.37,
                    1953.42,
                    1952.57,
                    1952.65,
                    1951.39,
                    1953.14,
                    1952.25,
                    1944.59,
                    1947.3,
                    1948.76,
                    1948.45,
                    1950.09,
                    1946.75,
                    1950.36,
                    1947.96,
                    1941.25,
                    1942.09,
                    1940.35,
                    1942.09,
                    1941.56,
                    1943.36,
                    1944.35,
                    1945.57,
                    1943.97,
                    1944.03,
                    1945.09,
                    1944.16,
                    1943.64,
                    1944.76,
                    1945.75,
                    1946.04,
                    1945.11,
                    1946.08,
                    1944.94,
                    1945.46
                  ],
                  "type": "candlestick",
                  "x": [
                    99907,
                    99908,
                    99909,
                    99910,
                    99911,
                    99912,
                    99913,
                    99914,
                    99915,
                    99916,
                    99917,
                    99918,
                    99919,
                    99920,
                    99921,
                    99922,
                    99923,
                    99924,
                    99925,
                    99926,
                    99927,
                    99928,
                    99929,
                    99930,
                    99931,
                    99932,
                    99933,
                    99934,
                    99935,
                    99936,
                    99937,
                    99938,
                    99939,
                    99940,
                    99941,
                    99942,
                    99943,
                    99944,
                    99945,
                    99946,
                    99947,
                    99948,
                    99949,
                    99950,
                    99951,
                    99952,
                    99953,
                    99954,
                    99955,
                    99956,
                    99957,
                    99958,
                    99959,
                    99960,
                    99961,
                    99962,
                    99963,
                    99964,
                    99965,
                    99966,
                    99967,
                    99968,
                    99969,
                    99970,
                    99971,
                    99972,
                    99973,
                    99974,
                    99975,
                    99976,
                    99977,
                    99978,
                    99979,
                    99980,
                    99981,
                    99982,
                    99983,
                    99984,
                    99985,
                    99986,
                    99987,
                    99988,
                    99989,
                    99990,
                    99991,
                    99992,
                    99993,
                    99994,
                    99995,
                    99996,
                    99997,
                    99998,
                    99999,
                    100000,
                    100001,
                    100002,
                    100003,
                    100004,
                    100005
                  ]
                },
                {
                  "marker": {
                    "color": "black"
                  },
                  "mode": "markers",
                  "type": "scatter",
                  "x": [
                    99919
                  ],
                  "y": [
                    1940.51
                  ]
                },
                {
                  "marker": {
                    "color": "black"
                  },
                  "mode": "markers",
                  "type": "scatter",
                  "x": [
                    99931
                  ],
                  "y": [
                    1940.85
                  ]
                },
                {
                  "marker": {
                    "color": "black"
                  },
                  "mode": "markers",
                  "type": "scatter",
                  "x": [
                    99952
                  ],
                  "y": [
                    1948.63
                  ]
                },
                {
                  "marker": {
                    "color": "black"
                  },
                  "mode": "markers",
                  "type": "scatter",
                  "x": [
                    99957
                  ],
                  "y": [
                    1951.81
                  ]
                },
                {
                  "marker": {
                    "color": "white"
                  },
                  "mode": "markers",
                  "type": "scatter",
                  "x": [
                    99977
                  ],
                  "y": [
                    1952.25
                  ]
                },
                {
                  "marker": {
                    "color": "white"
                  },
                  "mode": "markers",
                  "type": "scatter",
                  "x": [
                    99985
                  ],
                  "y": [
                    1947.96
                  ]
                },
                {
                  "marker": {
                    "color": "red"
                  },
                  "mode": "lines",
                  "type": "scatter",
                  "x": [
                    99907,
                    99908,
                    99909,
                    99910,
                    99911,
                    99912,
                    99913,
                    99914,
                    99915,
                    99916,
                    99917,
                    99918,
                    99919,
                    99920,
                    99921,
                    99922,
                    99923,
                    99924,
                    99925,
                    99926,
                    99927,
                    99928,
                    99929,
                    99930,
                    99931,
                    99932,
                    99933,
                    99934,
                    99935,
                    99936,
                    99937,
                    99938,
                    99939,
                    99940,
                    99941,
                    99942,
                    99943,
                    99944,
                    99945,
                    99946,
                    99947,
                    99948,
                    99949,
                    99950,
                    99951,
                    99952,
                    99953,
                    99954,
                    99955,
                    99956,
                    99957,
                    99958,
                    99959,
                    99960,
                    99961,
                    99962,
                    99963,
                    99964,
                    99965,
                    99966,
                    99967,
                    99968,
                    99969,
                    99970,
                    99971,
                    99972,
                    99973,
                    99974,
                    99975,
                    99976,
                    99977,
                    99978,
                    99979,
                    99980,
                    99981,
                    99982,
                    99983,
                    99984,
                    99985,
                    99986,
                    99987,
                    99988,
                    99989,
                    99990,
                    99991,
                    99992,
                    99993,
                    99994,
                    99995,
                    99996,
                    99997,
                    99998,
                    99999,
                    100000,
                    100001,
                    100002,
                    100003,
                    100004,
                    100005
                  ],
                  "y": [
                    1943.8259999999998,
                    1943.602,
                    1943.604,
                    1943.5220000000002,
                    1943.1979999999999,
                    1942.5279999999998,
                    1942.1979999999999,
                    1941.354,
                    1940.764,
                    1940.4,
                    1940.2720000000002,
                    1940.1119999999999,
                    1940.25,
                    1940.598,
                    1940.984,
                    1941.19,
                    1941.6199999999997,
                    1941.748,
                    1941.6560000000002,
                    1941.304,
                    1941.0900000000001,
                    1940.7720000000002,
                    1940.4560000000001,
                    1939.95,
                    1940.032,
                    1940.5219999999997,
                    1941.194,
                    1942.2539999999997,
                    1943.8139999999999,
                    1945.1119999999999,
                    1946.0700000000002,
                    1946.804,
                    1947.0080000000003,
                    1946.732,
                    1946.834,
                    1946.8799999999999,
                    1947.036,
                    1947.4419999999998,
                    1947.9299999999998,
                    1948.0099999999998,
                    1948,
                    1947.882,
                    1948.0099999999998,
                    1948.646,
                    1948.7099999999998,
                    1948.8740000000003,
                    1949.422,
                    1949.988,
                    1950.15,
                    1950.506,
                    1951.1419999999998,
                    1952.252,
                    1953.202,
                    1953.6619999999998,
                    1954.202,
                    1954.532,
                    1953.836,
                    1953.03,
                    1952.846,
                    1952.83,
                    1952.834,
                    1952.952,
                    1953.216,
                    1953.034,
                    1953.114,
                    1953.102,
                    1952.9900000000002,
                    1952.834,
                    1952.6799999999998,
                    1952.634,
                    1952.4,
                    1950.804,
                    1949.734,
                    1949.208,
                    1948.27,
                    1947.8380000000002,
                    1948.27,
                    1948.882,
                    1948.7220000000002,
                    1947.282,
                    1945.682,
                    1944.402,
                    1942.748,
                    1941.468,
                    1941.89,
                    1942.3419999999999,
                    1943.386,
                    1943.762,
                    1944.2559999999999,
                    1944.602,
                    1944.5639999999999,
                    1944.1779999999999,
                    1944.336,
                    1944.6799999999998,
                    1944.8700000000001,
                    1945.06,
                    1945.548,
                    1945.584,
                    1945.5259999999998
                  ]
                },
                {
                  "marker": {
                    "color": "green"
                  },
                  "mode": "lines",
                  "type": "scatter",
                  "x": [
                    99907,
                    99908,
                    99909,
                    99910,
                    99911,
                    99912,
                    99913,
                    99914,
                    99915,
                    99916,
                    99917,
                    99918,
                    99919,
                    99920,
                    99921,
                    99922,
                    99923,
                    99924,
                    99925,
                    99926,
                    99927,
                    99928,
                    99929,
                    99930,
                    99931,
                    99932,
                    99933,
                    99934,
                    99935,
                    99936,
                    99937,
                    99938,
                    99939,
                    99940,
                    99941,
                    99942,
                    99943,
                    99944,
                    99945,
                    99946,
                    99947,
                    99948,
                    99949,
                    99950,
                    99951,
                    99952,
                    99953,
                    99954,
                    99955,
                    99956,
                    99957,
                    99958,
                    99959,
                    99960,
                    99961,
                    99962,
                    99963,
                    99964,
                    99965,
                    99966,
                    99967,
                    99968,
                    99969,
                    99970,
                    99971,
                    99972,
                    99973,
                    99974,
                    99975,
                    99976,
                    99977,
                    99978,
                    99979,
                    99980,
                    99981,
                    99982,
                    99983,
                    99984,
                    99985,
                    99986,
                    99987,
                    99988,
                    99989,
                    99990,
                    99991,
                    99992,
                    99993,
                    99994,
                    99995,
                    99996,
                    99997,
                    99998,
                    99999,
                    100000,
                    100001,
                    100002,
                    100003,
                    100004,
                    100005
                  ],
                  "y": [
                    1944.3170000000002,
                    1944.0459999999998,
                    1943.9119999999998,
                    1943.7130000000002,
                    1943.556,
                    1943.1770000000001,
                    1942.9,
                    1942.479,
                    1942.143,
                    1941.7990000000002,
                    1941.4,
                    1941.155,
                    1940.8020000000001,
                    1940.6809999999998,
                    1940.6919999999998,
                    1940.7309999999998,
                    1940.866,
                    1940.9989999999998,
                    1941.127,
                    1941.1439999999998,
                    1941.1399999999999,
                    1941.1960000000004,
                    1941.102,
                    1940.8030000000003,
                    1940.6680000000001,
                    1940.806,
                    1940.9829999999997,
                    1941.355,
                    1941.882,
                    1942.5720000000001,
                    1943.2959999999998,
                    1943.9989999999998,
                    1944.6309999999999,
                    1945.273,
                    1945.973,
                    1946.475,
                    1946.92,
                    1947.225,
                    1947.3309999999997,
                    1947.4219999999998,
                    1947.44,
                    1947.459,
                    1947.726,
                    1948.2879999999998,
                    1948.36,
                    1948.437,
                    1948.652,
                    1948.9990000000003,
                    1949.398,
                    1949.6080000000002,
                    1950.0079999999998,
                    1950.837,
                    1951.5949999999998,
                    1951.9060000000002,
                    1952.354,
                    1952.8370000000002,
                    1953.0439999999999,
                    1953.116,
                    1953.2540000000001,
                    1953.516,
                    1953.6830000000002,
                    1953.3940000000002,
                    1953.1230000000003,
                    1952.94,
                    1952.9720000000002,
                    1952.968,
                    1952.971,
                    1953.025,
                    1952.857,
                    1952.8739999999998,
                    1952.7510000000002,
                    1951.8969999999997,
                    1951.284,
                    1950.944,
                    1950.452,
                    1950.1190000000001,
                    1949.5370000000003,
                    1949.3080000000002,
                    1948.9650000000001,
                    1947.7760000000003,
                    1946.7600000000002,
                    1946.336,
                    1945.8149999999998,
                    1945.095,
                    1944.586,
                    1944.012,
                    1943.8939999999998,
                    1943.2549999999999,
                    1942.8619999999999,
                    1943.2459999999999,
                    1943.453,
                    1943.782,
                    1944.0490000000002,
                    1944.468,
                    1944.7359999999996,
                    1944.812,
                    1944.863,
                    1944.9599999999998,
                    1945.1029999999998
                  ]
                }
              ],
              "layout": {
                "template": {
                  "data": {
                    "bar": [
                      {
                        "error_x": {
                          "color": "#2a3f5f"
                        },
                        "error_y": {
                          "color": "#2a3f5f"
                        },
                        "marker": {
                          "line": {
                            "color": "#E5ECF6",
                            "width": 0.5
                          },
                          "pattern": {
                            "fillmode": "overlay",
                            "size": 10,
                            "solidity": 0.2
                          }
                        },
                        "type": "bar"
                      }
                    ],
                    "barpolar": [
                      {
                        "marker": {
                          "line": {
                            "color": "#E5ECF6",
                            "width": 0.5
                          },
                          "pattern": {
                            "fillmode": "overlay",
                            "size": 10,
                            "solidity": 0.2
                          }
                        },
                        "type": "barpolar"
                      }
                    ],
                    "carpet": [
                      {
                        "aaxis": {
                          "endlinecolor": "#2a3f5f",
                          "gridcolor": "white",
                          "linecolor": "white",
                          "minorgridcolor": "white",
                          "startlinecolor": "#2a3f5f"
                        },
                        "baxis": {
                          "endlinecolor": "#2a3f5f",
                          "gridcolor": "white",
                          "linecolor": "white",
                          "minorgridcolor": "white",
                          "startlinecolor": "#2a3f5f"
                        },
                        "type": "carpet"
                      }
                    ],
                    "choropleth": [
                      {
                        "colorbar": {
                          "outlinewidth": 0,
                          "ticks": ""
                        },
                        "type": "choropleth"
                      }
                    ],
                    "contour": [
                      {
                        "colorbar": {
                          "outlinewidth": 0,
                          "ticks": ""
                        },
                        "colorscale": [
                          [
                            0,
                            "#0d0887"
                          ],
                          [
                            0.1111111111111111,
                            "#46039f"
                          ],
                          [
                            0.2222222222222222,
                            "#7201a8"
                          ],
                          [
                            0.3333333333333333,
                            "#9c179e"
                          ],
                          [
                            0.4444444444444444,
                            "#bd3786"
                          ],
                          [
                            0.5555555555555556,
                            "#d8576b"
                          ],
                          [
                            0.6666666666666666,
                            "#ed7953"
                          ],
                          [
                            0.7777777777777778,
                            "#fb9f3a"
                          ],
                          [
                            0.8888888888888888,
                            "#fdca26"
                          ],
                          [
                            1,
                            "#f0f921"
                          ]
                        ],
                        "type": "contour"
                      }
                    ],
                    "contourcarpet": [
                      {
                        "colorbar": {
                          "outlinewidth": 0,
                          "ticks": ""
                        },
                        "type": "contourcarpet"
                      }
                    ],
                    "heatmap": [
                      {
                        "colorbar": {
                          "outlinewidth": 0,
                          "ticks": ""
                        },
                        "colorscale": [
                          [
                            0,
                            "#0d0887"
                          ],
                          [
                            0.1111111111111111,
                            "#46039f"
                          ],
                          [
                            0.2222222222222222,
                            "#7201a8"
                          ],
                          [
                            0.3333333333333333,
                            "#9c179e"
                          ],
                          [
                            0.4444444444444444,
                            "#bd3786"
                          ],
                          [
                            0.5555555555555556,
                            "#d8576b"
                          ],
                          [
                            0.6666666666666666,
                            "#ed7953"
                          ],
                          [
                            0.7777777777777778,
                            "#fb9f3a"
                          ],
                          [
                            0.8888888888888888,
                            "#fdca26"
                          ],
                          [
                            1,
                            "#f0f921"
                          ]
                        ],
                        "type": "heatmap"
                      }
                    ],
                    "heatmapgl": [
                      {
                        "colorbar": {
                          "outlinewidth": 0,
                          "ticks": ""
                        },
                        "colorscale": [
                          [
                            0,
                            "#0d0887"
                          ],
                          [
                            0.1111111111111111,
                            "#46039f"
                          ],
                          [
                            0.2222222222222222,
                            "#7201a8"
                          ],
                          [
                            0.3333333333333333,
                            "#9c179e"
                          ],
                          [
                            0.4444444444444444,
                            "#bd3786"
                          ],
                          [
                            0.5555555555555556,
                            "#d8576b"
                          ],
                          [
                            0.6666666666666666,
                            "#ed7953"
                          ],
                          [
                            0.7777777777777778,
                            "#fb9f3a"
                          ],
                          [
                            0.8888888888888888,
                            "#fdca26"
                          ],
                          [
                            1,
                            "#f0f921"
                          ]
                        ],
                        "type": "heatmapgl"
                      }
                    ],
                    "histogram": [
                      {
                        "marker": {
                          "pattern": {
                            "fillmode": "overlay",
                            "size": 10,
                            "solidity": 0.2
                          }
                        },
                        "type": "histogram"
                      }
                    ],
                    "histogram2d": [
                      {
                        "colorbar": {
                          "outlinewidth": 0,
                          "ticks": ""
                        },
                        "colorscale": [
                          [
                            0,
                            "#0d0887"
                          ],
                          [
                            0.1111111111111111,
                            "#46039f"
                          ],
                          [
                            0.2222222222222222,
                            "#7201a8"
                          ],
                          [
                            0.3333333333333333,
                            "#9c179e"
                          ],
                          [
                            0.4444444444444444,
                            "#bd3786"
                          ],
                          [
                            0.5555555555555556,
                            "#d8576b"
                          ],
                          [
                            0.6666666666666666,
                            "#ed7953"
                          ],
                          [
                            0.7777777777777778,
                            "#fb9f3a"
                          ],
                          [
                            0.8888888888888888,
                            "#fdca26"
                          ],
                          [
                            1,
                            "#f0f921"
                          ]
                        ],
                        "type": "histogram2d"
                      }
                    ],
                    "histogram2dcontour": [
                      {
                        "colorbar": {
                          "outlinewidth": 0,
                          "ticks": ""
                        },
                        "colorscale": [
                          [
                            0,
                            "#0d0887"
                          ],
                          [
                            0.1111111111111111,
                            "#46039f"
                          ],
                          [
                            0.2222222222222222,
                            "#7201a8"
                          ],
                          [
                            0.3333333333333333,
                            "#9c179e"
                          ],
                          [
                            0.4444444444444444,
                            "#bd3786"
                          ],
                          [
                            0.5555555555555556,
                            "#d8576b"
                          ],
                          [
                            0.6666666666666666,
                            "#ed7953"
                          ],
                          [
                            0.7777777777777778,
                            "#fb9f3a"
                          ],
                          [
                            0.8888888888888888,
                            "#fdca26"
                          ],
                          [
                            1,
                            "#f0f921"
                          ]
                        ],
                        "type": "histogram2dcontour"
                      }
                    ],
                    "mesh3d": [
                      {
                        "colorbar": {
                          "outlinewidth": 0,
                          "ticks": ""
                        },
                        "type": "mesh3d"
                      }
                    ],
                    "parcoords": [
                      {
                        "line": {
                          "colorbar": {
                            "outlinewidth": 0,
                            "ticks": ""
                          }
                        },
                        "type": "parcoords"
                      }
                    ],
                    "pie": [
                      {
                        "automargin": true,
                        "type": "pie"
                      }
                    ],
                    "scatter": [
                      {
                        "fillpattern": {
                          "fillmode": "overlay",
                          "size": 10,
                          "solidity": 0.2
                        },
                        "type": "scatter"
                      }
                    ],
                    "scatter3d": [
                      {
                        "line": {
                          "colorbar": {
                            "outlinewidth": 0,
                            "ticks": ""
                          }
                        },
                        "marker": {
                          "colorbar": {
                            "outlinewidth": 0,
                            "ticks": ""
                          }
                        },
                        "type": "scatter3d"
                      }
                    ],
                    "scattercarpet": [
                      {
                        "marker": {
                          "colorbar": {
                            "outlinewidth": 0,
                            "ticks": ""
                          }
                        },
                        "type": "scattercarpet"
                      }
                    ],
                    "scattergeo": [
                      {
                        "marker": {
                          "colorbar": {
                            "outlinewidth": 0,
                            "ticks": ""
                          }
                        },
                        "type": "scattergeo"
                      }
                    ],
                    "scattergl": [
                      {
                        "marker": {
                          "colorbar": {
                            "outlinewidth": 0,
                            "ticks": ""
                          }
                        },
                        "type": "scattergl"
                      }
                    ],
                    "scattermapbox": [
                      {
                        "marker": {
                          "colorbar": {
                            "outlinewidth": 0,
                            "ticks": ""
                          }
                        },
                        "type": "scattermapbox"
                      }
                    ],
                    "scatterpolar": [
                      {
                        "marker": {
                          "colorbar": {
                            "outlinewidth": 0,
                            "ticks": ""
                          }
                        },
                        "type": "scatterpolar"
                      }
                    ],
                    "scatterpolargl": [
                      {
                        "marker": {
                          "colorbar": {
                            "outlinewidth": 0,
                            "ticks": ""
                          }
                        },
                        "type": "scatterpolargl"
                      }
                    ],
                    "scatterternary": [
                      {
                        "marker": {
                          "colorbar": {
                            "outlinewidth": 0,
                            "ticks": ""
                          }
                        },
                        "type": "scatterternary"
                      }
                    ],
                    "surface": [
                      {
                        "colorbar": {
                          "outlinewidth": 0,
                          "ticks": ""
                        },
                        "colorscale": [
                          [
                            0,
                            "#0d0887"
                          ],
                          [
                            0.1111111111111111,
                            "#46039f"
                          ],
                          [
                            0.2222222222222222,
                            "#7201a8"
                          ],
                          [
                            0.3333333333333333,
                            "#9c179e"
                          ],
                          [
                            0.4444444444444444,
                            "#bd3786"
                          ],
                          [
                            0.5555555555555556,
                            "#d8576b"
                          ],
                          [
                            0.6666666666666666,
                            "#ed7953"
                          ],
                          [
                            0.7777777777777778,
                            "#fb9f3a"
                          ],
                          [
                            0.8888888888888888,
                            "#fdca26"
                          ],
                          [
                            1,
                            "#f0f921"
                          ]
                        ],
                        "type": "surface"
                      }
                    ],
                    "table": [
                      {
                        "cells": {
                          "fill": {
                            "color": "#EBF0F8"
                          },
                          "line": {
                            "color": "white"
                          }
                        },
                        "header": {
                          "fill": {
                            "color": "#C8D4E3"
                          },
                          "line": {
                            "color": "white"
                          }
                        },
                        "type": "table"
                      }
                    ]
                  },
                  "layout": {
                    "annotationdefaults": {
                      "arrowcolor": "#2a3f5f",
                      "arrowhead": 0,
                      "arrowwidth": 1
                    },
                    "autotypenumbers": "strict",
                    "coloraxis": {
                      "colorbar": {
                        "outlinewidth": 0,
                        "ticks": ""
                      }
                    },
                    "colorscale": {
                      "diverging": [
                        [
                          0,
                          "#8e0152"
                        ],
                        [
                          0.1,
                          "#c51b7d"
                        ],
                        [
                          0.2,
                          "#de77ae"
                        ],
                        [
                          0.3,
                          "#f1b6da"
                        ],
                        [
                          0.4,
                          "#fde0ef"
                        ],
                        [
                          0.5,
                          "#f7f7f7"
                        ],
                        [
                          0.6,
                          "#e6f5d0"
                        ],
                        [
                          0.7,
                          "#b8e186"
                        ],
                        [
                          0.8,
                          "#7fbc41"
                        ],
                        [
                          0.9,
                          "#4d9221"
                        ],
                        [
                          1,
                          "#276419"
                        ]
                      ],
                      "sequential": [
                        [
                          0,
                          "#0d0887"
                        ],
                        [
                          0.1111111111111111,
                          "#46039f"
                        ],
                        [
                          0.2222222222222222,
                          "#7201a8"
                        ],
                        [
                          0.3333333333333333,
                          "#9c179e"
                        ],
                        [
                          0.4444444444444444,
                          "#bd3786"
                        ],
                        [
                          0.5555555555555556,
                          "#d8576b"
                        ],
                        [
                          0.6666666666666666,
                          "#ed7953"
                        ],
                        [
                          0.7777777777777778,
                          "#fb9f3a"
                        ],
                        [
                          0.8888888888888888,
                          "#fdca26"
                        ],
                        [
                          1,
                          "#f0f921"
                        ]
                      ],
                      "sequentialminus": [
                        [
                          0,
                          "#0d0887"
                        ],
                        [
                          0.1111111111111111,
                          "#46039f"
                        ],
                        [
                          0.2222222222222222,
                          "#7201a8"
                        ],
                        [
                          0.3333333333333333,
                          "#9c179e"
                        ],
                        [
                          0.4444444444444444,
                          "#bd3786"
                        ],
                        [
                          0.5555555555555556,
                          "#d8576b"
                        ],
                        [
                          0.6666666666666666,
                          "#ed7953"
                        ],
                        [
                          0.7777777777777778,
                          "#fb9f3a"
                        ],
                        [
                          0.8888888888888888,
                          "#fdca26"
                        ],
                        [
                          1,
                          "#f0f921"
                        ]
                      ]
                    },
                    "colorway": [
                      "#636efa",
                      "#EF553B",
                      "#00cc96",
                      "#ab63fa",
                      "#FFA15A",
                      "#19d3f3",
                      "#FF6692",
                      "#B6E880",
                      "#FF97FF",
                      "#FECB52"
                    ],
                    "font": {
                      "color": "#2a3f5f"
                    },
                    "geo": {
                      "bgcolor": "white",
                      "lakecolor": "white",
                      "landcolor": "#E5ECF6",
                      "showlakes": true,
                      "showland": true,
                      "subunitcolor": "white"
                    },
                    "hoverlabel": {
                      "align": "left"
                    },
                    "hovermode": "closest",
                    "mapbox": {
                      "style": "light"
                    },
                    "paper_bgcolor": "white",
                    "plot_bgcolor": "#E5ECF6",
                    "polar": {
                      "angularaxis": {
                        "gridcolor": "white",
                        "linecolor": "white",
                        "ticks": ""
                      },
                      "bgcolor": "#E5ECF6",
                      "radialaxis": {
                        "gridcolor": "white",
                        "linecolor": "white",
                        "ticks": ""
                      }
                    },
                    "scene": {
                      "xaxis": {
                        "backgroundcolor": "#E5ECF6",
                        "gridcolor": "white",
                        "gridwidth": 2,
                        "linecolor": "white",
                        "showbackground": true,
                        "ticks": "",
                        "zerolinecolor": "white"
                      },
                      "yaxis": {
                        "backgroundcolor": "#E5ECF6",
                        "gridcolor": "white",
                        "gridwidth": 2,
                        "linecolor": "white",
                        "showbackground": true,
                        "ticks": "",
                        "zerolinecolor": "white"
                      },
                      "zaxis": {
                        "backgroundcolor": "#E5ECF6",
                        "gridcolor": "white",
                        "gridwidth": 2,
                        "linecolor": "white",
                        "showbackground": true,
                        "ticks": "",
                        "zerolinecolor": "white"
                      }
                    },
                    "shapedefaults": {
                      "line": {
                        "color": "#2a3f5f"
                      }
                    },
                    "ternary": {
                      "aaxis": {
                        "gridcolor": "white",
                        "linecolor": "white",
                        "ticks": ""
                      },
                      "baxis": {
                        "gridcolor": "white",
                        "linecolor": "white",
                        "ticks": ""
                      },
                      "bgcolor": "#E5ECF6",
                      "caxis": {
                        "gridcolor": "white",
                        "linecolor": "white",
                        "ticks": ""
                      }
                    },
                    "title": {
                      "x": 0.05
                    },
                    "xaxis": {
                      "automargin": true,
                      "gridcolor": "white",
                      "linecolor": "white",
                      "ticks": "",
                      "title": {
                        "standoff": 15
                      },
                      "zerolinecolor": "white",
                      "zerolinewidth": 2
                    },
                    "yaxis": {
                      "automargin": true,
                      "gridcolor": "white",
                      "linecolor": "white",
                      "ticks": "",
                      "title": {
                        "standoff": 15
                      },
                      "zerolinecolor": "white",
                      "zerolinewidth": 2
                    }
                  }
                }
              }
            },
            "text/html": [
              "<div>                            <div id=\"fbd9f55b-bfd3-4485-b214-245b7e954a76\" class=\"plotly-graph-div\" style=\"height:525px; width:100%;\"></div>            <script type=\"text/javascript\">                require([\"plotly\"], function(Plotly) {                    window.PLOTLYENV=window.PLOTLYENV || {};                                    if (document.getElementById(\"fbd9f55b-bfd3-4485-b214-245b7e954a76\")) {                    Plotly.newPlot(                        \"fbd9f55b-bfd3-4485-b214-245b7e954a76\",                        [{\"close\":[1942.36,1944.03,1943.06,1942.09,1941.06,1940.76,1939.83,1940.11,1940.27,1940.42,1939.95,1940.66,1941.87,1942.22,1941.58,1942.1,1941.19,1941.35,1940.39,1940.41,1940.44,1939.6,1938.85,1940.8,1942.81,1943.89,1944.89,1946.67,1947.41,1947.64,1947.51,1945.92,1945.27,1947.88,1947.85,1948.33,1947.92,1947.72,1948.23,1947.8,1947.75,1948.56,1950.89,1948.55,1948.63,1950.49,1951.42,1951.69,1950.37,1951.81,1956.03,1956.19,1954.0,1953.08,1953.46,1952.52,1952.11,1953.1,1952.95,1953.52,1953.12,1953.42,1952.2,1953.32,1953.38,1952.55,1952.66,1951.39,1953.14,1952.28,1944.65,1947.3,1948.76,1948.49,1950.15,1946.81,1950.36,1947.96,1941.28,1942.05,1940.31,1942.14,1941.56,1943.43,1944.37,1945.58,1943.9,1944.01,1945.1,1944.16,1943.61,1944.76,1945.69,1946.0,1945.11,1946.05,1944.98,1945.45,1946.19],\"decreasing\":{\"line\":{\"color\":\"red\"}},\"high\":[1944.42,1944.07,1944.07,1943.04,1942.27,1941.29,1941.22,1940.5,1940.58,1940.85,1940.71,1940.66,1942.16,1943.08,1942.31,1942.44,1942.11,1941.62,1941.44,1940.49,1941.58,1940.76,1940.36,1940.85,1943.19,1943.93,1945.26,1946.78,1948.24,1947.95,1948.72,1947.77,1946.64,1947.95,1948.05,1948.68,1948.83,1948.12,1948.56,1948.7,1948.38,1949.19,1951.68,1951.14,1948.97,1950.94,1951.94,1952.36,1951.69,1952.63,1956.26,1957.17,1956.69,1954.24,1953.5,1953.68,1953.09,1953.42,1954.1,1953.6,1953.87,1953.59,1953.62,1953.41,1953.68,1953.59,1953.61,1952.72,1953.83,1953.52,1952.69,1949.14,1949.69,1948.89,1950.37,1950.09,1951.33,1951.76,1948.57,1942.5,1942.51,1942.19,1942.85,1943.65,1944.47,1946.48,1945.93,1944.9,1945.2,1945.3,1944.3,1945.27,1945.7,1946.24,1946.92,1946.21,1946.3,1946.03,1946.38],\"increasing\":{\"line\":{\"color\":\"green\"}},\"low\":[1942.18,1942.39,1941.78,1941.94,1940.87,1940.49,1938.8,1939.48,1939.73,1940.22,1939.79,1939.82,1940.18,1941.67,1941.02,1941.41,1940.5,1940.88,1940.1,1939.27,1939.94,1939.05,1938.72,1936.6,1940.29,1942.24,1943.3,1944.74,1946.22,1947.09,1946.93,1945.82,1944.8,1945.2,1947.43,1947.79,1947.02,1947.14,1947.57,1947.69,1947.58,1947.33,1948.51,1948.33,1947.33,1946.88,1950.15,1950.08,1950.28,1950.33,1951.54,1954.49,1953.61,1951.82,1952.28,1951.35,1951.88,1951.68,1952.77,1952.68,1952.85,1952.83,1951.89,1951.86,1952.68,1952.36,1952.35,1950.95,1951.29,1951.9,1944.24,1944.3,1946.31,1946.43,1946.07,1946.25,1946.65,1947.92,1940.6,1938.78,1938.71,1939.41,1940.97,1941.3,1942.75,1944.29,1943.72,1943.06,1943.46,1944.14,1942.97,1943.63,1944.7,1945.47,1945.11,1944.46,1944.74,1944.8,1945.05],\"name\":\"Candlestick\",\"open\":[1944.42,1942.4,1944.04,1943.04,1942.09,1941.07,1940.75,1939.82,1940.09,1940.27,1940.43,1939.95,1940.51,1941.83,1942.2,1941.46,1942.1,1941.15,1941.37,1940.44,1940.39,1940.51,1939.57,1938.84,1940.85,1942.84,1943.87,1944.87,1946.64,1947.34,1947.63,1947.54,1945.89,1945.26,1947.85,1947.86,1948.32,1947.92,1947.7,1948.25,1947.81,1947.73,1948.56,1950.88,1948.57,1948.63,1950.47,1951.39,1951.69,1950.35,1951.81,1956.02,1956.14,1953.99,1953.05,1953.46,1952.54,1952.11,1953.07,1952.97,1953.48,1953.13,1953.43,1952.16,1953.37,1953.42,1952.57,1952.65,1951.39,1953.14,1952.25,1944.59,1947.3,1948.76,1948.45,1950.09,1946.75,1950.36,1947.96,1941.25,1942.09,1940.35,1942.09,1941.56,1943.36,1944.35,1945.57,1943.97,1944.03,1945.09,1944.16,1943.64,1944.76,1945.75,1946.04,1945.11,1946.08,1944.94,1945.46],\"x\":[99907,99908,99909,99910,99911,99912,99913,99914,99915,99916,99917,99918,99919,99920,99921,99922,99923,99924,99925,99926,99927,99928,99929,99930,99931,99932,99933,99934,99935,99936,99937,99938,99939,99940,99941,99942,99943,99944,99945,99946,99947,99948,99949,99950,99951,99952,99953,99954,99955,99956,99957,99958,99959,99960,99961,99962,99963,99964,99965,99966,99967,99968,99969,99970,99971,99972,99973,99974,99975,99976,99977,99978,99979,99980,99981,99982,99983,99984,99985,99986,99987,99988,99989,99990,99991,99992,99993,99994,99995,99996,99997,99998,99999,100000,100001,100002,100003,100004,100005],\"type\":\"candlestick\"},{\"marker\":{\"color\":\"black\"},\"mode\":\"markers\",\"x\":[99919],\"y\":[1940.51],\"type\":\"scatter\"},{\"marker\":{\"color\":\"black\"},\"mode\":\"markers\",\"x\":[99931],\"y\":[1940.85],\"type\":\"scatter\"},{\"marker\":{\"color\":\"black\"},\"mode\":\"markers\",\"x\":[99952],\"y\":[1948.63],\"type\":\"scatter\"},{\"marker\":{\"color\":\"black\"},\"mode\":\"markers\",\"x\":[99957],\"y\":[1951.81],\"type\":\"scatter\"},{\"marker\":{\"color\":\"white\"},\"mode\":\"markers\",\"x\":[99977],\"y\":[1952.25],\"type\":\"scatter\"},{\"marker\":{\"color\":\"white\"},\"mode\":\"markers\",\"x\":[99985],\"y\":[1947.96],\"type\":\"scatter\"},{\"marker\":{\"color\":\"red\"},\"mode\":\"lines\",\"x\":[99907,99908,99909,99910,99911,99912,99913,99914,99915,99916,99917,99918,99919,99920,99921,99922,99923,99924,99925,99926,99927,99928,99929,99930,99931,99932,99933,99934,99935,99936,99937,99938,99939,99940,99941,99942,99943,99944,99945,99946,99947,99948,99949,99950,99951,99952,99953,99954,99955,99956,99957,99958,99959,99960,99961,99962,99963,99964,99965,99966,99967,99968,99969,99970,99971,99972,99973,99974,99975,99976,99977,99978,99979,99980,99981,99982,99983,99984,99985,99986,99987,99988,99989,99990,99991,99992,99993,99994,99995,99996,99997,99998,99999,100000,100001,100002,100003,100004,100005],\"y\":[1943.8259999999998,1943.602,1943.604,1943.5220000000002,1943.1979999999999,1942.5279999999998,1942.1979999999999,1941.354,1940.764,1940.4,1940.2720000000002,1940.1119999999999,1940.25,1940.598,1940.984,1941.19,1941.6199999999997,1941.748,1941.6560000000002,1941.304,1941.0900000000001,1940.7720000000002,1940.4560000000001,1939.95,1940.032,1940.5219999999997,1941.194,1942.2539999999997,1943.8139999999999,1945.1119999999999,1946.0700000000002,1946.804,1947.0080000000003,1946.732,1946.834,1946.8799999999999,1947.036,1947.4419999999998,1947.9299999999998,1948.0099999999998,1948.0,1947.882,1948.0099999999998,1948.646,1948.7099999999998,1948.8740000000003,1949.422,1949.988,1950.15,1950.506,1951.1419999999998,1952.252,1953.202,1953.6619999999998,1954.202,1954.532,1953.836,1953.03,1952.846,1952.83,1952.834,1952.952,1953.216,1953.034,1953.114,1953.102,1952.9900000000002,1952.834,1952.6799999999998,1952.634,1952.4,1950.804,1949.734,1949.208,1948.27,1947.8380000000002,1948.27,1948.882,1948.7220000000002,1947.282,1945.682,1944.402,1942.748,1941.468,1941.89,1942.3419999999999,1943.386,1943.762,1944.2559999999999,1944.602,1944.5639999999999,1944.1779999999999,1944.336,1944.6799999999998,1944.8700000000001,1945.06,1945.548,1945.584,1945.5259999999998],\"type\":\"scatter\"},{\"marker\":{\"color\":\"green\"},\"mode\":\"lines\",\"x\":[99907,99908,99909,99910,99911,99912,99913,99914,99915,99916,99917,99918,99919,99920,99921,99922,99923,99924,99925,99926,99927,99928,99929,99930,99931,99932,99933,99934,99935,99936,99937,99938,99939,99940,99941,99942,99943,99944,99945,99946,99947,99948,99949,99950,99951,99952,99953,99954,99955,99956,99957,99958,99959,99960,99961,99962,99963,99964,99965,99966,99967,99968,99969,99970,99971,99972,99973,99974,99975,99976,99977,99978,99979,99980,99981,99982,99983,99984,99985,99986,99987,99988,99989,99990,99991,99992,99993,99994,99995,99996,99997,99998,99999,100000,100001,100002,100003,100004,100005],\"y\":[1944.3170000000002,1944.0459999999998,1943.9119999999998,1943.7130000000002,1943.556,1943.1770000000001,1942.9,1942.479,1942.143,1941.7990000000002,1941.4,1941.155,1940.8020000000001,1940.6809999999998,1940.6919999999998,1940.7309999999998,1940.866,1940.9989999999998,1941.127,1941.1439999999998,1941.1399999999999,1941.1960000000004,1941.102,1940.8030000000003,1940.6680000000001,1940.806,1940.9829999999997,1941.355,1941.882,1942.5720000000001,1943.2959999999998,1943.9989999999998,1944.6309999999999,1945.273,1945.973,1946.475,1946.92,1947.225,1947.3309999999997,1947.4219999999998,1947.44,1947.459,1947.726,1948.2879999999998,1948.36,1948.437,1948.652,1948.9990000000003,1949.398,1949.6080000000002,1950.0079999999998,1950.837,1951.5949999999998,1951.9060000000002,1952.354,1952.8370000000002,1953.0439999999999,1953.116,1953.2540000000001,1953.516,1953.6830000000002,1953.3940000000002,1953.1230000000003,1952.94,1952.9720000000002,1952.968,1952.971,1953.025,1952.857,1952.8739999999998,1952.7510000000002,1951.8969999999997,1951.284,1950.944,1950.452,1950.1190000000001,1949.5370000000003,1949.3080000000002,1948.9650000000001,1947.7760000000003,1946.7600000000002,1946.336,1945.8149999999998,1945.095,1944.586,1944.012,1943.8939999999998,1943.2549999999999,1942.8619999999999,1943.2459999999999,1943.453,1943.782,1944.0490000000002,1944.468,1944.7359999999996,1944.812,1944.863,1944.9599999999998,1945.1029999999998],\"type\":\"scatter\"}],                        {\"template\":{\"data\":{\"barpolar\":[{\"marker\":{\"line\":{\"color\":\"#E5ECF6\",\"width\":0.5},\"pattern\":{\"fillmode\":\"overlay\",\"size\":10,\"solidity\":0.2}},\"type\":\"barpolar\"}],\"bar\":[{\"error_x\":{\"color\":\"#2a3f5f\"},\"error_y\":{\"color\":\"#2a3f5f\"},\"marker\":{\"line\":{\"color\":\"#E5ECF6\",\"width\":0.5},\"pattern\":{\"fillmode\":\"overlay\",\"size\":10,\"solidity\":0.2}},\"type\":\"bar\"}],\"carpet\":[{\"aaxis\":{\"endlinecolor\":\"#2a3f5f\",\"gridcolor\":\"white\",\"linecolor\":\"white\",\"minorgridcolor\":\"white\",\"startlinecolor\":\"#2a3f5f\"},\"baxis\":{\"endlinecolor\":\"#2a3f5f\",\"gridcolor\":\"white\",\"linecolor\":\"white\",\"minorgridcolor\":\"white\",\"startlinecolor\":\"#2a3f5f\"},\"type\":\"carpet\"}],\"choropleth\":[{\"colorbar\":{\"outlinewidth\":0,\"ticks\":\"\"},\"type\":\"choropleth\"}],\"contourcarpet\":[{\"colorbar\":{\"outlinewidth\":0,\"ticks\":\"\"},\"type\":\"contourcarpet\"}],\"contour\":[{\"colorbar\":{\"outlinewidth\":0,\"ticks\":\"\"},\"colorscale\":[[0.0,\"#0d0887\"],[0.1111111111111111,\"#46039f\"],[0.2222222222222222,\"#7201a8\"],[0.3333333333333333,\"#9c179e\"],[0.4444444444444444,\"#bd3786\"],[0.5555555555555556,\"#d8576b\"],[0.6666666666666666,\"#ed7953\"],[0.7777777777777778,\"#fb9f3a\"],[0.8888888888888888,\"#fdca26\"],[1.0,\"#f0f921\"]],\"type\":\"contour\"}],\"heatmapgl\":[{\"colorbar\":{\"outlinewidth\":0,\"ticks\":\"\"},\"colorscale\":[[0.0,\"#0d0887\"],[0.1111111111111111,\"#46039f\"],[0.2222222222222222,\"#7201a8\"],[0.3333333333333333,\"#9c179e\"],[0.4444444444444444,\"#bd3786\"],[0.5555555555555556,\"#d8576b\"],[0.6666666666666666,\"#ed7953\"],[0.7777777777777778,\"#fb9f3a\"],[0.8888888888888888,\"#fdca26\"],[1.0,\"#f0f921\"]],\"type\":\"heatmapgl\"}],\"heatmap\":[{\"colorbar\":{\"outlinewidth\":0,\"ticks\":\"\"},\"colorscale\":[[0.0,\"#0d0887\"],[0.1111111111111111,\"#46039f\"],[0.2222222222222222,\"#7201a8\"],[0.3333333333333333,\"#9c179e\"],[0.4444444444444444,\"#bd3786\"],[0.5555555555555556,\"#d8576b\"],[0.6666666666666666,\"#ed7953\"],[0.7777777777777778,\"#fb9f3a\"],[0.8888888888888888,\"#fdca26\"],[1.0,\"#f0f921\"]],\"type\":\"heatmap\"}],\"histogram2dcontour\":[{\"colorbar\":{\"outlinewidth\":0,\"ticks\":\"\"},\"colorscale\":[[0.0,\"#0d0887\"],[0.1111111111111111,\"#46039f\"],[0.2222222222222222,\"#7201a8\"],[0.3333333333333333,\"#9c179e\"],[0.4444444444444444,\"#bd3786\"],[0.5555555555555556,\"#d8576b\"],[0.6666666666666666,\"#ed7953\"],[0.7777777777777778,\"#fb9f3a\"],[0.8888888888888888,\"#fdca26\"],[1.0,\"#f0f921\"]],\"type\":\"histogram2dcontour\"}],\"histogram2d\":[{\"colorbar\":{\"outlinewidth\":0,\"ticks\":\"\"},\"colorscale\":[[0.0,\"#0d0887\"],[0.1111111111111111,\"#46039f\"],[0.2222222222222222,\"#7201a8\"],[0.3333333333333333,\"#9c179e\"],[0.4444444444444444,\"#bd3786\"],[0.5555555555555556,\"#d8576b\"],[0.6666666666666666,\"#ed7953\"],[0.7777777777777778,\"#fb9f3a\"],[0.8888888888888888,\"#fdca26\"],[1.0,\"#f0f921\"]],\"type\":\"histogram2d\"}],\"histogram\":[{\"marker\":{\"pattern\":{\"fillmode\":\"overlay\",\"size\":10,\"solidity\":0.2}},\"type\":\"histogram\"}],\"mesh3d\":[{\"colorbar\":{\"outlinewidth\":0,\"ticks\":\"\"},\"type\":\"mesh3d\"}],\"parcoords\":[{\"line\":{\"colorbar\":{\"outlinewidth\":0,\"ticks\":\"\"}},\"type\":\"parcoords\"}],\"pie\":[{\"automargin\":true,\"type\":\"pie\"}],\"scatter3d\":[{\"line\":{\"colorbar\":{\"outlinewidth\":0,\"ticks\":\"\"}},\"marker\":{\"colorbar\":{\"outlinewidth\":0,\"ticks\":\"\"}},\"type\":\"scatter3d\"}],\"scattercarpet\":[{\"marker\":{\"colorbar\":{\"outlinewidth\":0,\"ticks\":\"\"}},\"type\":\"scattercarpet\"}],\"scattergeo\":[{\"marker\":{\"colorbar\":{\"outlinewidth\":0,\"ticks\":\"\"}},\"type\":\"scattergeo\"}],\"scattergl\":[{\"marker\":{\"colorbar\":{\"outlinewidth\":0,\"ticks\":\"\"}},\"type\":\"scattergl\"}],\"scattermapbox\":[{\"marker\":{\"colorbar\":{\"outlinewidth\":0,\"ticks\":\"\"}},\"type\":\"scattermapbox\"}],\"scatterpolargl\":[{\"marker\":{\"colorbar\":{\"outlinewidth\":0,\"ticks\":\"\"}},\"type\":\"scatterpolargl\"}],\"scatterpolar\":[{\"marker\":{\"colorbar\":{\"outlinewidth\":0,\"ticks\":\"\"}},\"type\":\"scatterpolar\"}],\"scatter\":[{\"fillpattern\":{\"fillmode\":\"overlay\",\"size\":10,\"solidity\":0.2},\"type\":\"scatter\"}],\"scatterternary\":[{\"marker\":{\"colorbar\":{\"outlinewidth\":0,\"ticks\":\"\"}},\"type\":\"scatterternary\"}],\"surface\":[{\"colorbar\":{\"outlinewidth\":0,\"ticks\":\"\"},\"colorscale\":[[0.0,\"#0d0887\"],[0.1111111111111111,\"#46039f\"],[0.2222222222222222,\"#7201a8\"],[0.3333333333333333,\"#9c179e\"],[0.4444444444444444,\"#bd3786\"],[0.5555555555555556,\"#d8576b\"],[0.6666666666666666,\"#ed7953\"],[0.7777777777777778,\"#fb9f3a\"],[0.8888888888888888,\"#fdca26\"],[1.0,\"#f0f921\"]],\"type\":\"surface\"}],\"table\":[{\"cells\":{\"fill\":{\"color\":\"#EBF0F8\"},\"line\":{\"color\":\"white\"}},\"header\":{\"fill\":{\"color\":\"#C8D4E3\"},\"line\":{\"color\":\"white\"}},\"type\":\"table\"}]},\"layout\":{\"annotationdefaults\":{\"arrowcolor\":\"#2a3f5f\",\"arrowhead\":0,\"arrowwidth\":1},\"autotypenumbers\":\"strict\",\"coloraxis\":{\"colorbar\":{\"outlinewidth\":0,\"ticks\":\"\"}},\"colorscale\":{\"diverging\":[[0,\"#8e0152\"],[0.1,\"#c51b7d\"],[0.2,\"#de77ae\"],[0.3,\"#f1b6da\"],[0.4,\"#fde0ef\"],[0.5,\"#f7f7f7\"],[0.6,\"#e6f5d0\"],[0.7,\"#b8e186\"],[0.8,\"#7fbc41\"],[0.9,\"#4d9221\"],[1,\"#276419\"]],\"sequential\":[[0.0,\"#0d0887\"],[0.1111111111111111,\"#46039f\"],[0.2222222222222222,\"#7201a8\"],[0.3333333333333333,\"#9c179e\"],[0.4444444444444444,\"#bd3786\"],[0.5555555555555556,\"#d8576b\"],[0.6666666666666666,\"#ed7953\"],[0.7777777777777778,\"#fb9f3a\"],[0.8888888888888888,\"#fdca26\"],[1.0,\"#f0f921\"]],\"sequentialminus\":[[0.0,\"#0d0887\"],[0.1111111111111111,\"#46039f\"],[0.2222222222222222,\"#7201a8\"],[0.3333333333333333,\"#9c179e\"],[0.4444444444444444,\"#bd3786\"],[0.5555555555555556,\"#d8576b\"],[0.6666666666666666,\"#ed7953\"],[0.7777777777777778,\"#fb9f3a\"],[0.8888888888888888,\"#fdca26\"],[1.0,\"#f0f921\"]]},\"colorway\":[\"#636efa\",\"#EF553B\",\"#00cc96\",\"#ab63fa\",\"#FFA15A\",\"#19d3f3\",\"#FF6692\",\"#B6E880\",\"#FF97FF\",\"#FECB52\"],\"font\":{\"color\":\"#2a3f5f\"},\"geo\":{\"bgcolor\":\"white\",\"lakecolor\":\"white\",\"landcolor\":\"#E5ECF6\",\"showlakes\":true,\"showland\":true,\"subunitcolor\":\"white\"},\"hoverlabel\":{\"align\":\"left\"},\"hovermode\":\"closest\",\"mapbox\":{\"style\":\"light\"},\"paper_bgcolor\":\"white\",\"plot_bgcolor\":\"#E5ECF6\",\"polar\":{\"angularaxis\":{\"gridcolor\":\"white\",\"linecolor\":\"white\",\"ticks\":\"\"},\"bgcolor\":\"#E5ECF6\",\"radialaxis\":{\"gridcolor\":\"white\",\"linecolor\":\"white\",\"ticks\":\"\"}},\"scene\":{\"xaxis\":{\"backgroundcolor\":\"#E5ECF6\",\"gridcolor\":\"white\",\"gridwidth\":2,\"linecolor\":\"white\",\"showbackground\":true,\"ticks\":\"\",\"zerolinecolor\":\"white\"},\"yaxis\":{\"backgroundcolor\":\"#E5ECF6\",\"gridcolor\":\"white\",\"gridwidth\":2,\"linecolor\":\"white\",\"showbackground\":true,\"ticks\":\"\",\"zerolinecolor\":\"white\"},\"zaxis\":{\"backgroundcolor\":\"#E5ECF6\",\"gridcolor\":\"white\",\"gridwidth\":2,\"linecolor\":\"white\",\"showbackground\":true,\"ticks\":\"\",\"zerolinecolor\":\"white\"}},\"shapedefaults\":{\"line\":{\"color\":\"#2a3f5f\"}},\"ternary\":{\"aaxis\":{\"gridcolor\":\"white\",\"linecolor\":\"white\",\"ticks\":\"\"},\"baxis\":{\"gridcolor\":\"white\",\"linecolor\":\"white\",\"ticks\":\"\"},\"bgcolor\":\"#E5ECF6\",\"caxis\":{\"gridcolor\":\"white\",\"linecolor\":\"white\",\"ticks\":\"\"}},\"title\":{\"x\":0.05},\"xaxis\":{\"automargin\":true,\"gridcolor\":\"white\",\"linecolor\":\"white\",\"ticks\":\"\",\"title\":{\"standoff\":15},\"zerolinecolor\":\"white\",\"zerolinewidth\":2},\"yaxis\":{\"automargin\":true,\"gridcolor\":\"white\",\"linecolor\":\"white\",\"ticks\":\"\",\"title\":{\"standoff\":15},\"zerolinecolor\":\"white\",\"zerolinewidth\":2}}}},                        {\"responsive\": true}                    ).then(function(){\n",
              "                            \n",
              "var gd = document.getElementById('fbd9f55b-bfd3-4485-b214-245b7e954a76');\n",
              "var x = new MutationObserver(function (mutations, observer) {{\n",
              "        var display = window.getComputedStyle(gd).display;\n",
              "        if (!display || display === 'none') {{\n",
              "            console.log([gd, 'removed!']);\n",
              "            Plotly.purge(gd);\n",
              "            observer.disconnect();\n",
              "        }}\n",
              "}});\n",
              "\n",
              "// Listen for the removal of the full notebook cells\n",
              "var notebookContainer = gd.closest('#notebook-container');\n",
              "if (notebookContainer) {{\n",
              "    x.observe(notebookContainer, {childList: true});\n",
              "}}\n",
              "\n",
              "// Listen for the clearing of the current output cell\n",
              "var outputEl = gd.closest('.output');\n",
              "if (outputEl) {{\n",
              "    x.observe(outputEl, {childList: true});\n",
              "}}\n",
              "\n",
              "                        })                };                });            </script>        </div>"
            ]
          },
          "metadata": {},
          "output_type": "display_data"
        }
      ],
      "source": [
        "import plotly.offline as pyo\n",
        "import plotly.graph_objects as go\n",
        "\n",
        "\n",
        "a = -100\n",
        "b = -1\n",
        "\n",
        "Open = df['Open'][a:b]\n",
        "Close = df['Close'][a:b]\n",
        "High = df['High'][a:b]\n",
        "Low = df['Low'][a:b]\n",
        "x = df.index[a:b]\n",
        "sma1 = df['ma 1'][a:b]\n",
        "sma2 = df['ma 2'][a:b]\n",
        "\n",
        "signal = df['signal'][a:b]\n",
        "color = df['color']\n",
        "fvg = df['fvg']\n",
        "\n",
        "fig = go.Figure()\n",
        "\n",
        "fig.add_trace(go.Candlestick(\n",
        "    x=x,\n",
        "    open=Open,\n",
        "    high=High,\n",
        "    low=Low,\n",
        "    close=Close,\n",
        "    increasing=dict(line=dict(color='green')),\n",
        "    decreasing=dict(line=dict(color='red')),\n",
        "    name='Candlestick'\n",
        "))\n",
        "\n",
        "for i in x:\n",
        "    if signal[i] == 1:\n",
        "        fig.add_trace(go.Scatter(x=[i], y=[Open[i]], mode='markers', marker=dict(color='black')))\n",
        "    elif signal[i] == 2:\n",
        "        fig.add_trace(go.Scatter(x=[i], y=[Open[i]], mode='markers', marker=dict(color='white')))\n",
        "\n",
        "\n",
        "# for i in x:\n",
        "#     if fvg[i] >= 1.3:\n",
        "#         fig.add_trace(go.Scatter(x=[i], y=[Open[i]], mode='markers', marker=dict(color='black')))\n",
        "\n",
        "fig.add_trace(go.Scatter(x=x, y=sma1, mode='lines', marker=dict(color='red')))\n",
        "fig.add_trace(go.Scatter(x=x, y=sma2, mode='lines', marker=dict(color='green')))\n",
        "\n",
        "pyo.init_notebook_mode(connected=True)\n",
        "pyo.iplot(fig)\n"
      ]
    },
    {
      "cell_type": "code",
      "execution_count": 15,
      "metadata": {},
      "outputs": [],
      "source": [
        "df['signal'].fillna(0., inplace=True)\n",
        "df.fillna(0., inplace=True)"
      ]
    },
    {
      "attachments": {},
      "cell_type": "markdown",
      "metadata": {
        "id": "yg2zYnOuGDXF"
      },
      "source": [
        "# split Data"
      ]
    },
    {
      "cell_type": "code",
      "execution_count": 16,
      "metadata": {
        "id": "P1-9MDjNGDXF",
        "notebookRunGroups": {
          "groupValue": "1"
        }
      },
      "outputs": [],
      "source": [
        "new_df = df[['Open', 'Pivot', 'ma 1','ma 2']]\n",
        "# signal = df[['buy', 'sell', 'hold']]\n",
        "signal = df['signal']"
      ]
    },
    {
      "cell_type": "code",
      "execution_count": 17,
      "metadata": {},
      "outputs": [],
      "source": [
        "X = new_df.to_numpy()\n",
        "Y = signal.to_numpy()"
      ]
    },
    {
      "cell_type": "code",
      "execution_count": 18,
      "metadata": {},
      "outputs": [],
      "source": [
        "from sklearn.preprocessing import StandardScaler\n",
        "import joblib\n",
        "\n",
        "\n",
        "# Create an instance of the StandardScaler and fit it to your data\n",
        "scaler = StandardScaler()\n",
        "scaler.fit(X)\n",
        "\n",
        "# Transform your data using the fitted scaler\n",
        "scaled_features = scaler.transform(X)\n",
        "\n",
        "# Save the scaler, mean, and standard deviation to disk\n",
        "joblib.dump(scaler, 'scaler.pkl')\n",
        "np.save('mean.npy', scaler.mean_)\n",
        "np.save('std.npy', scaler.scale_)\n"
      ]
    },
    {
      "cell_type": "code",
      "execution_count": 19,
      "metadata": {
        "colab": {
          "base_uri": "https://localhost:8080/"
        },
        "id": "kSQ-H-wLGDXF",
        "notebookRunGroups": {
          "groupValue": "1"
        },
        "outputId": "0ca2cce9-47c1-42ff-d397-35a115cac3b8"
      },
      "outputs": [],
      "source": [
        "\n",
        "X_train, X_test, y_train, y_test = \\\n",
        "train_test_split( scaled_features,\n",
        "                 Y,\n",
        "                 test_size= 0.30\n",
        "                 , shuffle = True)\n",
        "\n",
        "\n",
        "input_shape = X_train.shape[1]"
      ]
    },
    {
      "attachments": {},
      "cell_type": "markdown",
      "metadata": {},
      "source": [
        "# ALL MODELS"
      ]
    },
    {
      "attachments": {},
      "cell_type": "markdown",
      "metadata": {},
      "source": [
        "## LogisticRegression"
      ]
    },
    {
      "cell_type": "code",
      "execution_count": 24,
      "metadata": {},
      "outputs": [],
      "source": [
        "from sklearn.linear_model import LogisticRegression\n",
        "\n",
        "lr_model = LogisticRegression()\n",
        "lr_model.fit(X_train, y_train)\n",
        "\n",
        "\n",
        "lr_pred_train = lr_model.predict(X_train)\n",
        "lr_pred_test = lr_model.predict(X_test)\n",
        "\n",
        "lr_score_train = accuracy_score(y_train, lr_pred_train)\n",
        "lr_score_test = accuracy_score(y_test, lr_pred_test) \n",
        "\n",
        "\n",
        "\n",
        "lr_cm_train = confusion_matrix(y_train, lr_pred_train)\n",
        "lr_cm_test = confusion_matrix(y_test, lr_pred_test)\n",
        "\n",
        "lr_clasi_train = classification_report(y_train, lr_pred_train)\n",
        "lr_clasi_test = classification_report(y_test, lr_pred_test)"
      ]
    },
    {
      "cell_type": "code",
      "execution_count": 25,
      "metadata": {},
      "outputs": [
        {
          "name": "stdout",
          "output_type": "stream",
          "text": [
            "========================================\n",
            "accuracy for Train :   94.34% \n",
            "accuracy for Test :    94.31% \n",
            "----------------------------------------\n",
            "confusion matrix for Train :  \n",
            " [[66037     0     1]\n",
            " [ 2055     0     0]\n",
            " [ 1909     0     2]]\n",
            "----------------------------------------\n",
            "confusion matrix for Test : \n",
            " [[28296     0     0]\n",
            " [  882     0     0]\n",
            " [  825     0     0]]\n",
            "----------------------------------------\n",
            "classification report for Train :\n",
            "               precision    recall  f1-score   support\n",
            "\n",
            "           0       0.94      1.00      0.97     66038\n",
            "           1       0.00      0.00      0.00      2055\n",
            "           2       0.67      0.00      0.00      1911\n",
            "\n",
            "    accuracy                           0.94     70004\n",
            "   macro avg       0.54      0.33      0.32     70004\n",
            "weighted avg       0.91      0.94      0.92     70004\n",
            "\n",
            "----------------------------------------\n",
            "classification report for Test :\n",
            "               precision    recall  f1-score   support\n",
            "\n",
            "           0       0.94      1.00      0.97     28296\n",
            "           1       0.00      0.00      0.00       882\n",
            "           2       0.00      0.00      0.00       825\n",
            "\n",
            "    accuracy                           0.94     30003\n",
            "   macro avg       0.31      0.33      0.32     30003\n",
            "weighted avg       0.89      0.94      0.92     30003\n",
            "\n"
          ]
        }
      ],
      "source": [
        "print(\"==\"*20)\n",
        "print(f\"accuracy for Train :  { lr_score_train : .2%} \")\n",
        "print(f\"accuracy for Test :   { lr_score_test : .2%} \")\n",
        "print(\"--\"*20)\n",
        "print(f\"confusion matrix for Train :  \\n\", lr_cm_train)\n",
        "print(\"--\"*20)\n",
        "print(f\"confusion matrix for Test : \\n\" , lr_cm_test)\n",
        "print(\"--\"*20)\n",
        "print(f\"classification report for Train :\\n\", lr_clasi_train )\n",
        "print(\"--\"*20)\n",
        "print(f\"classification report for Test :\\n\" , lr_clasi_test )"
      ]
    },
    {
      "cell_type": "code",
      "execution_count": 26,
      "metadata": {},
      "outputs": [
        {
          "data": {
            "image/png": "[encoded data removed]",
            "text/plain": [
              "<Figure size 640x480 with 2 Axes>"
            ]
          },
          "metadata": {},
          "output_type": "display_data"
        }
      ],
      "source": [
        "labels = ['hold', 'buy', 'sell']\n",
        "\n",
        "fig = plt.figure()\n",
        "ax = fig.add_subplot(111)\n",
        "cax = ax.matshow(lr_cm_train)\n",
        "plt.title('Confusion matrix of the classifier')\n",
        "fig.colorbar(cax)\n",
        "ax.set_xticklabels([''] + labels)\n",
        "ax.set_yticklabels([''] + labels)\n",
        "plt.xlabel('Predicted')\n",
        "plt.ylabel('True')\n",
        "plt.show()"
      ]
    },
    {
      "cell_type": "code",
      "execution_count": 27,
      "metadata": {},
      "outputs": [
        {
          "data": {
            "image/png": "[encoded data removed]",
            "text/plain": [
              "<Figure size 640x480 with 2 Axes>"
            ]
          },
          "metadata": {},
          "output_type": "display_data"
        }
      ],
      "source": [
        "labels = ['hold', 'buy', 'sell']\n",
        "\n",
        "fig = plt.figure()\n",
        "ax = fig.add_subplot(111)\n",
        "cax = ax.matshow(lr_cm_test)\n",
        "plt.title('Confusion matrix of the classifier')\n",
        "fig.colorbar(cax)\n",
        "ax.set_xticklabels([''] + labels)\n",
        "ax.set_yticklabels([''] + labels)\n",
        "plt.xlabel('Predicted')\n",
        "plt.ylabel('True')\n",
        "plt.show()"
      ]
    },
    {
      "cell_type": "code",
      "execution_count": 28,
      "metadata": {},
      "outputs": [],
      "source": [
        "# joblib.dump ( lr_model,f\"C:\\\\Users\\\\AmirHussain\\\\Desktop\\\\machine-Learning-tradert-bot-main\\\\Models\\\\test\\\\Logistice Reg {lr_score_test : .2%}.h5\")"
      ]
    },
    {
      "attachments": {},
      "cell_type": "markdown",
      "metadata": {},
      "source": [
        "## Neural Network"
      ]
    },
    {
      "cell_type": "code",
      "execution_count": 27,
      "metadata": {},
      "outputs": [
        {
          "name": "stdout",
          "output_type": "stream",
          "text": [
            "Epoch 1/100\n",
            "1751/1751 [==============================] - 11s 5ms/step - loss: 0.2822 - accuracy: 0.3385 - val_loss: 0.1917 - val_accuracy: 0.5913\n",
            "Epoch 2/100\n",
            "1751/1751 [==============================] - 9s 5ms/step - loss: 0.2822 - accuracy: 0.3804 - val_loss: 0.1917 - val_accuracy: 0.5528\n",
            "Epoch 3/100\n",
            "1751/1751 [==============================] - 9s 5ms/step - loss: 0.2822 - accuracy: 0.3562 - val_loss: 0.1917 - val_accuracy: 0.6041\n",
            "Epoch 4/100\n",
            "1751/1751 [==============================] - 9s 5ms/step - loss: 0.2822 - accuracy: 0.3421 - val_loss: 0.1917 - val_accuracy: 0.1611\n",
            "Epoch 5/100\n",
            "1751/1751 [==============================] - 8s 5ms/step - loss: 0.2822 - accuracy: 0.3045 - val_loss: 0.1917 - val_accuracy: 0.4618\n",
            "Epoch 6/100\n",
            "1751/1751 [==============================] - 8s 4ms/step - loss: 0.2822 - accuracy: 0.3118 - val_loss: 0.1917 - val_accuracy: 0.3522\n",
            "938/938 [==============================] - 2s 2ms/step - loss: 0.1956 - accuracy: 0.5937\n",
            "Loss: 0.19556918740272522\n",
            "Accuracy: 0.5936739444732666\n"
          ]
        }
      ],
      "source": [
        "from tensorflow import keras\n",
        "from tensorflow.keras.models import Sequential\n",
        "from tensorflow.keras.layers import Dense, LSTM, Input\n",
        "import numpy as np\n",
        "\n",
        "# Assuming you have X_train, y_train, X_test, and y_test as your training and test data\n",
        "\n",
        "# Determine class weights\n",
        "class_weights = {\n",
        "    0: 1.0,  # Weight for class 0\n",
        "    1: 2.0,  # Weight for class 1\n",
        "    2: 2.0   # Weight for class 2\n",
        "}\n",
        "\n",
        "# Build the neural network model\n",
        "nn_model = Sequential()\n",
        "nn_model.add(LSTM(20, input_shape=(4, 1)))\n",
        "nn_model.add(Dense(120, activation='relu'))\n",
        "nn_model.add(Dense(3, activation='softmax'))\n",
        "\n",
        "# Compile the model with weighted loss\n",
        "nn_model.compile(optimizer='adam', loss='mse', metrics=['accuracy'])\n",
        "\n",
        "\n",
        "# Train the model with early stopping\n",
        "early_stopping = keras.callbacks.EarlyStopping(patience=5, restore_best_weights=True)\n",
        "\n",
        "\n",
        "\n",
        "# Train the model with class weights\n",
        "nn_model.fit(X_train, y_train, epochs=5, batch_size=32, class_weight=class_weights, validation_split=0.2, callbacks=[early_stopping])\n",
        "\n",
        "# Evaluate the model on the test set\n",
        "loss, accuracy = nn_model.evaluate(X_test, y_test)\n",
        "print(\"Loss:\", loss)\n",
        "print(\"Accuracy:\", accuracy)\n"
      ]
    },
    {
      "cell_type": "code",
      "execution_count": 21,
      "metadata": {},
      "outputs": [
        {
          "name": "stdout",
          "output_type": "stream",
          "text": [
            "2188/2188 [==============================] - 3s 1ms/step\n"
          ]
        }
      ],
      "source": [
        "y_pred = nn_model.predict(X_train)\n",
        "# print(np.unique(y_pred))"
      ]
    },
    {
      "cell_type": "code",
      "execution_count": 22,
      "metadata": {},
      "outputs": [],
      "source": [
        "ypred = []\n",
        "for row in y_pred:\n",
        "    ypred.append(\n",
        "        np.argmax(row)\n",
        "    )"
      ]
    },
    {
      "cell_type": "code",
      "execution_count": 23,
      "metadata": {},
      "outputs": [
        {
          "name": "stdout",
          "output_type": "stream",
          "text": [
            "[0, 2, 0, 0, 0, 2, 2, 2, 2, 2, 2, 0, 2, 0, 2, 0, 2, 2, 2, 2, 2, 2, 0, 2, 2, 2, 2, 0, 1, 0, 2, 0, 0, 2, 2, 2, 2, 2, 0, 0, 0, 1, 0, 2, 2, 0, 0, 0, 0, 0, 0, 2, 0, 0, 2, 0, 2, 0, 0, 1, 2, 0, 0, 2, 1, 0, 0, 1, 2, 2, 2, 2, 0, 2, 2, 2, 2, 0, 2, 2, 2, 2, 1, 2, 2, 2, 2, 1, 2, 1, 2, 1, 1, 2, 2, 2, 2, 2, 2, 2, 2, 2, 2, 2, 2, 2, 2, 2, 2, 2, 2, 2, 1, 2, 2, 2, 2, 2, 2, 2, 0, 0, 2, 2, 2, 2, 2, 2, 0, 2, 2, 0, 0, 2, 0, 0, 0, 2, 0, 2, 2, 0, 2, 0, 2, 2, 2, 1, 2, 2, 0, 2, 0, 0, 0, 2, 2, 0, 1, 2, 2, 0, 2, 2, 0, 0, 2, 2, 2, 2, 0, 2, 0, 0, 0, 2, 1, 2, 2, 2, 0, 1, 1, 0, 2, 1, 2, 0, 2, 2, 2, 2, 2, 2, 2, 2, 0, 0, 0, 0, 2, 1, 0, 2, 2, 2, 0, 2, 0, 2, 2, 2, 2, 2, 2, 2, 1, 0, 2, 0, 2, 2, 2, 2, 2, 2, 2, 1, 2, 2, 0, 2, 0, 0, 2, 0, 2, 2, 2, 2, 2, 0, 2, 2, 2, 2, 2, 0, 2, 2, 0, 2, 2, 0, 2, 2, 0, 0, 1, 2, 2, 2, 2, 2, 2, 2, 0, 0, 2, 2, 2, 2, 2, 2, 2, 0, 2, 2, 2, 2, 0, 0, 2, 0, 2, 0, 0, 0, 0, 2, 2, 1, 0, 1, 2, 2, 2, 2, 2, 2, 0, 2, 0, 2, 2, 2, 0, 2, 2, 2, 0, 0, 2, 2, 0, 2, 1, 0, 0, 2, 2, 0, 2, 2, 2, 2, 2, 2, 0, 0, 1, 2, 2, 2, 2, 1, 2, 0, 2, 2, 2, 2, 1, 0, 1, 0, 0, 0, 0, 2, 0, 2, 2, 0, 0, 2, 2, 2, 1, 2, 1, 2, 2, 1, 0, 2, 0, 0, 2, 2, 2, 2, 2, 1, 0, 2, 0, 2, 2, 2, 2, 1, 0, 2, 2, 2, 0, 0, 0, 2, 2, 2, 2, 2, 0, 1, 2, 2, 1, 2, 0, 0, 2, 0, 2, 0, 0, 0, 1, 2, 2, 2, 2, 2, 2, 0, 0, 2, 2, 0, 2, 0, 0, 2, 0, 2, 2, 2, 0, 1, 2, 2, 0, 2, 2, 2, 0, 2, 2, 0, 2, 2, 2, 2, 2, 0, 0, 2, 0, 1, 2, 0, 0, 2, 2, 2, 2, 2, 0, 2, 2, 2, 1, 2, 2, 0, 2, 2, 2, 2, 2, 1, 1, 2, 0, 2, 0, 0, 2, 2, 0, 0, 2, 2, 2, 1, 2, 2, 2, 2, 0, 2, 0, 0, 2, 2, 2, 0, 2, 0, 2, 0, 2, 2, 1, 0, 2, 2, 0, 2, 0, 0, 2, 2, 2, 2, 2, 2, 0, 2, 2, 0, 0, 2, 2, 2, 2, 1, 2, 0, 0, 0, 2, 2, 0, 1, 0, 2, 2, 2, 0, 2, 2, 0, 2, 2, 2, 0, 2, 0, 0, 0, 2, 2, 0, 2, 2, 0, 0, 2, 2, 2, 1, 2, 0, 2, 2, 0, 2, 2, 2, 2, 2, 2, 0, 2, 2, 0, 1, 0, 2, 2, 2, 2, 2, 2, 2, 2, 0, 2, 2, 2, 2, 1, 2, 2, 1, 2, 1, 1, 0, 2, 2, 2, 2, 2, 0, 2, 2, 2, 0, 2, 0, 0, 2, 2, 2, 0, 2, 2, 0, 0, 0, 1, 1, 2, 0, 2, 2, 0, 0, 2, 2, 2, 2, 0, 0, 2, 0, 0, 2, 0, 0, 2, 0, 2, 0, 2, 2, 2, 0, 2, 2, 2, 2, 0, 0, 2, 1, 2, 2, 2, 0, 2, 2, 0, 2, 0, 0, 0, 1, 2, 0, 2, 2, 2, 0, 0, 0, 2, 2, 2, 2, 1, 0, 2, 2, 2, 0, 2, 0, 1, 1, 2, 2, 0, 1, 2, 2, 0, 0, 2, 2, 2, 2, 0, 2, 2, 2, 1, 1, 2, 2, 0, 2, 0, 0, 2, 2, 2, 2, 2, 1, 0, 2, 2, 0, 2, 0, 2, 2, 2, 0, 0, 0, 0, 2, 2, 0, 0, 1, 0, 2, 2, 2, 2, 0, 2, 2, 1, 2, 2, 1, 1, 0, 2, 1, 0, 0, 1, 2, 2, 0, 2, 2, 2, 2, 2, 2, 0, 1, 2, 0, 2, 2, 2, 2, 2, 2, 1, 2, 2, 0, 2, 1, 0, 0, 0, 2, 2, 2, 2, 2, 2, 0, 2, 0, 2, 0, 1, 0, 1, 2, 1, 2, 2, 2, 2, 2, 2, 2, 2, 1, 2, 0, 1, 0, 0, 2, 2, 2, 1, 1, 2, 1, 2, 0, 0, 2, 2, 1, 2, 0, 2, 2, 2, 2, 0, 1, 2, 2, 0, 2, 2, 2, 2, 2, 0, 0, 2, 2, 0, 2, 0, 2, 1, 0, 2, 0, 0, 0, 2, 2, 2, 2, 0, 2, 2, 2, 0, 2, 0, 2, 2, 2, 2, 2, 2, 0, 1, 0, 2, 2, 1, 2, 2, 2, 0, 0, 2, 2, 0, 0, 2, 2, 1, 1, 0, 2, 0, 2, 2, 2, 2, 1, 0, 0, 2, 2, 2, 2, 2, 0, 2, 0, 2, 2, 2, 0, 1, 2, 2, 0, 2, 2, 2, 2, 0, 2, 2, 1, 2, 2, 1, 2, 2, 2, 2, 2, 2, 0, 2, 0, 0, 0, 0, 2, 0, 0, 2, 2, 0, 2, 2, 2, 2, 2, 0, 2, 2, 0, 2, 2, 2, 2, 2, 2, 0, 2, 0, 0, 1, 2, 2, 1, 0, 0, 2, 0, 2, 1, 1, 2, 2, 0, 2, 2, 0, 2, 0, 0, 1, 1, 2, 2, 2, 0, 0, 2, 0, 1, 0, 2, 2, 0, 2, 2, 2, 2, 2, 0, 0, 2, 2, 0, 2, 2, 0, 0, 2, 2, 0, 2, 2, 0, 2, 0, 0, 0, 2, 2, 0, 0, 2, 2, 1, 2, 2, 2, 2, 2, 1, 1, 2, 2, 2, 0, 2, 0, 2, 2, 0, 0, 2, 0, 0, 1, 0, 2, 2, 0, 0, 0, 2, 0, 1, 2, 2, 0, 1, 0, 0, 2, 0, 2, 2, 2, 0, 2, 2, 2, 2, 2, 2, 2, 0, 0, 2, 2, 1, 0, 2, 2, 2, 2, 2, 2, 2, 2, 2, 2, 0, 2, 0, 2, 0, 2, 2, 2, 2, 2, 0, 2, 2, 1, 2, 2, 2, 0, 2, 2, 2, 0, 2, 2, 2, 2, 1, 2, 0, 2, 0, 2, 0, 2, 2, 2, 0, 2, 2, 2, 2, 2, 0, 0, 0, 2, 0, 1, 2, 2, 0, 2, 2, 0, 2, 0, 2, 1, 2, 2, 2, 2, 0, 2, 2, 2, 2, 0, 2, 2, 2, 2, 0, 0, 0, 0, 0, 2, 2, 0, 1, 1, 2, 1, 2, 2, 0, 1, 0, 1, 2, 0, 2, 2, 2, 2, 2, 2, 1, 2, 2, 0, 1, 2, 0, 2, 2, 2, 1, 0, 2, 0, 2, 0, 2, 2, 2, 2, 2, 2, 2, 0, 2, 2, 2, 2, 2, 0, 2, 2, 2, 2, 2, 0, 2, 2, 2, 0, 0, 2, 2, 2, 0, 0, 0, 1, 2, 2, 2, 0, 2, 2, 2, 0, 1, 2, 1, 2, 0, 1, 2, 2, 0, 2, 0, 2, 2, 0, 2, 1, 0, 2, 2, 2, 2, 2, 2, 2, 0, 1, 2, 2, 0, 0, 2, 2, 2, 0, 0, 2, 2, 2, 0, 2, 0, 0, 2, 2, 2, 0, 1, 0, 2, 2, 2, 2, 2, 1, 2, 2, 0, 0, 2, 1, 2, 2, 2, 2, 2, 2, 0, 1, 0, 2, 2, 1, 2, 2, 0, 0, 2, 2, 2, 2, 0, 0, 2, 0, 2, 2, 0, 2, 2, 2, 0, 2, 1, 0, 2, 0, 2, 2, 2, 0, 0, 2, 2, 0, 2, 2, 2, 0, 2, 2, 0, 2, 0, 2, 2, 2, 1, 1, 2, 2, 0, 2, 2, 1, 2, 2, 2, 0, 0, 2, 0, 2, 0, 2, 2, 2, 2, 2, 2, 2, 0, 0, 0, 2, 0, 2, 2, 0, 2, 2, 2, 2, 0, 1, 2, 0, 0, 0, 2, 2, 2, 0, 0, 2, 2, 2, 1, 2, 1, 1, 0, 0, 2, 0, 2, 2, 0, 0, 1, 2, 1, 2, 0, 2, 2, 1, 2, 2, 2, 0, 0, 2, 2, 0, 0, 1, 0, 2, 1, 2, 0, 1, 2, 0, 2, 2, 2, 2, 0, 2, 2, 2, 2, 2, 2, 0, 2, 2, 0, 2, 2, 1, 2, 2, 2, 0, 2, 2, 0, 2, 2, 2, 2, 1, 2, 0, 2, 0, 2, 2, 2, 2, 0, 2, 2, 2, 2, 0, 0, 0, 2, 2, 0, 2, 0, 0, 2, 2, 2, 2, 0, 2, 2, 1, 2, 0, 2, 2, 2, 0, 0, 2, 0, 0, 0, 2, 0, 2, 0, 2, 2, 2, 2, 0, 2, 2, 0, 0, 2, 2, 0, 2, 0, 1, 1, 2, 2, 0, 2, 0, 2, 2, 2, 2, 2, 0, 0, 0, 0, 2, 0, 2, 0, 2, 0, 2, 2, 0, 2, 2, 0, 2, 2, 2, 2, 2, 0, 0, 2, 2, 2, 2, 2, 2, 2, 2, 2, 2, 2, 0, 0, 2, 0, 2, 0, 2, 2, 2, 1, 0, 2, 2, 0, 2, 2, 2, 2, 2, 2, 0, 1, 0, 2, 0, 0, 2, 1, 2, 2, 2, 0, 0, 2, 1, 0, 0, 0, 0, 2, 2, 2, 2, 2, 2, 0, 2, 2, 2, 0, 2, 0, 2, 2, 0, 2, 0, 2, 0, 2, 0, 2, 0, 0, 0, 1, 2, 2, 0, 0, 2, 2, 2, 2, 2, 2, 0, 2, 2, 0, 2, 0, 0, 2, 2, 2, 0, 2, 2, 2, 0, 2, 2, 0, 2, 0, 2, 2, 0, 2, 0, 0, 0, 0, 0, 0, 2, 0, 2, 2, 2, 2, 0, 2, 2, 2, 1, 2, 1, 2, 0, 0, 0, 0, 2, 2, 1, 0, 2, 2, 2, 0, 2, 2, 0, 2, 2, 0, 0, 2, 2, 2, 0, 2, 2, 2, 2, 2, 0, 2, 2, 2, 2, 2, 0, 2, 2, 2, 2, 1, 2, 2, 2, 0, 0, 0, 0, 0, 2, 0, 0, 2, 2, 2, 2, 2, 2, 2, 0, 2, 2, 0, 0, 0, 2, 0, 0, 2, 2, 2, 2, 1, 2, 2, 0, 2, 2, 0, 2, 2, 2, 2, 2, 2, 2, 2, 2, 2, 0, 0, 2, 2, 2, 2, 2, 0, 0, 0, 2, 0, 0, 0, 0, 0, 2, 2, 0, 2, 2, 2, 1, 2, 2, 0, 0, 2, 2, 2, 2, 2, 2, 2, 0, 2, 2, 0, 2, 2, 2, 0, 2, 2, 0, 2, 2, 2, 2, 2, 0, 2, 2, 0, 0, 2, 2, 2, 0, 0, 2, 2, 2, 2, 0, 2, 2, 2, 2, 0, 2, 2, 2, 2, 0, 2, 2, 0, 1, 2, 2, 2, 2, 2, 0, 2, 2, 0, 0, 2, 2, 2, 2, 2, 2, 2, 2, 2, 0, 0, 2, 1, 2, 2, 2, 0, 0, 2, 2, 2, 2, 2, 2, 1, 0, 0, 2, 2, 2, 2, 0, 2, 2, 0, 2, 1, 0, 2, 0, 0, 2, 2, 2, 2, 0, 0, 2, 2, 2, 2, 2, 2, 2, 2, 0, 2, 2, 2, 0, 2, 2, 2, 2, 2, 2, 0, 2, 2, 0, 2, 0, 0, 2, 0, 0, 2, 2, 2, 2, 2, 0, 2, 0, 2, 0, 0, 0, 2, 2, 2, 2, 0, 1, 2, 1, 0, 2, 2, 2, 2, 2, 0, 0, 2, 2, 2, 0, 2, 2, 2, 2, 2, 2, 2, 0, 2, 0, 1, 2, 0, 2, 0, 0, 0, 1, 2, 0, 2, 2, 2, 0, 2, 0, 2, 2, 2, 2, 0, 2, 2, 2, 2, 2, 2, 2, 2, 2, 2, 0, 2, 2, 2, 2, 2, 2, 2, 2, 0, 2, 2, 1, 2, 2, 2, 0, 0, 2, 0, 2, 2, 0, 0, 2, 2, 2, 2, 1, 2, 0, 2, 2, 2, 1, 1, 2, 1, 0, 1, 2, 2, 2, 2, 2, 2, 0, 2, 2, 0, 2, 2, 0, 2, 2, 2, 2, 0, 1, 2, 2, 2, 2, 0, 0, 2, 2, 0, 2, 2, 0, 0, 2, 0, 2, 0, 0, 2, 2, 2, 2, 2, 0, 0, 0, 2, 2, 2, 2, 2, 2, 0, 2, 2, 2, 2, 0, 2, 2, 2, 2, 2, 0, 1, 2, 0, 2, 2, 0, 2, 2, 2, 2, 0, 2, 2, 0, 2, 2, 2, 2, 2, 0, 2, 2, 2, 2, 0, 0, 2, 2, 0, 0, 2, 0, 1, 1, 2, 2, 2, 2, 2, 2, 2, 0, 0, 0, 2, 2, 2, 2, 2, 2, 2, 2, 2, 2, 2, 2, 2, 0, 0, 0, 2, 0, 0, 2, 2, 2, 2, 2, 0, 0, 0, 1, 2, 2, 2, 0, 1, 2, 2, 2, 2, 2, 2, 2, 2, 2, 1, 2, 2, 2, 2, 1, 2, 2, 2, 2, 2, 2, 2, 2, 2, 2, 2, 2, 2, 0, 2, 0, 2, 2, 2, 0, 0, 1, 2, 2, 2, 1, 2, 2, 0, 2, 0, 1, 2, 0, 2, 2, 0, 1, 2, 1, 2, 2, 0, 0, 2, 2, 2, 1, 1, 1, 2, 0, 2, 2, 0, 2, 2, 2, 2, 2, 2, 0, 1, 0, 2, 2, 1, 2, 2, 0, 0, 0, 0, 0, 2, 1, 2, 2, 2, 2, 0, 2, 0, 0, 2, 2, 2, 2, 2, 2, 2, 2, 2, 0, 2, 0, 2, 0, 0, 0, 0, 0, 0, 2, 0, 0, 1, 2, 2, 2, 0, 1, 0, 1, 2, 1, 2, 0, 2, 0, 2, 0, 1, 2, 2, 2, 2, 0, 0, 2, 0, 2, 2, 2, 2, 2, 1, 0, 2, 2, 2, 2, 2, 2, 0, 2, 0, 2, 2, 2, 2, 2, 2, 0, 1, 2, 2, 0, 2, 2, 0, 2, 2, 2, 2, 2, 0, 2, 1, 2, 2, 2, 2, 2, 2, 0, 0, 0, 1, 2, 0, 2, 2, 1, 2, 0, 2, 2, 0, 2, 2, 2, 0, 2, 0, 0, 2, 2, 0, 2, 2, 2, 2, 2, 2, 0, 0, 2, 0, 0, 2, 2, 0, 2, 2, 2, 2, 2, 0, 2, 2, 0, 2, 2, 0, 0, 2, 2, 1, 2, 2, 2, 2, 0, 2, 2, 0, 0, 0, 2, 0, 0, 0, 2, 2, 0, 2, 2, 0, 2, 2, 2, 2, 0, 2, 0, 2, 2, 2, 1, 2, 2, 2, 2, 0, 2, 0, 0, 1, 2, 0, 1, 2, 2, 2, 2, 2, 0, 2, 0, 2, 1, 2, 2, 2, 0, 2, 0, 2, 2, 0, 1, 0, 2, 2, 0, 2, 2, 1, 2, 0, 2, 2, 2, 2, 2, 1, 2, 2, 2, 2, 2, 2, 2, 2, 0, 0, 2, 2, 2, 2, 0, 2, 2, 0, 2, 0, 2, 0, 2, 0, 0, 2, 1, 0, 2, 2, 0, 2, 2, 2, 1, 2, 2, 2, 0, 1, 2, 2, 2, 2, 1, 0, 2, 0, 0, 0, 2, 2, 2, 2, 1, 2, 1, 2, 0, 1, 2, 2, 2, 0, 1, 2, 2, 2, 2, 2, 2, 2, 2, 0, 2, 0, 0, 2, 2, 0, 2, 2, 1, 2, 2, 2, 0, 0, 2, 2, 0, 1, 2, 2, 0, 2, 0, 0, 0, 2, 0, 2, 2, 0, 2, 0, 0, 0, 2, 0, 2, 1, 2, 2, 1, 0, 0, 2, 2, 0, 0, 2, 0, 2, 0, 2, 0, 2, 2, 1, 2, 0, 2, 0, 2, 2, 0, 2, 2, 1, 0, 0, 2, 2, 1, 2, 0, 0, 1, 0, 2, 2, 0, 2, 2, 2, 0, 0, 0, 2, 1, 0, 0, 0, 2, 0, 2, 0, 2, 0, 0, 2, 1, 2, 0, 2, 2, 2, 2, 0, 0, 2, 2, 0, 0, 2, 1, 2, 1, 1, 2, 1, 0, 1, 2, 0, 2, 0, 2, 0, 0, 2, 1, 2, 2, 1, 1, 0, 0, 2, 1, 1, 1, 0, 2, 0, 2, 0, 2, 2, 2, 2, 2, 0, 2, 2, 2, 0, 0, 0, 0, 2, 2, 2, 0, 2, 2, 2, 0, 2, 2, 0, 1, 0, 2, 2, 2, 2, 0, 0, 2, 2, 2, 2, 2, 2, 0, 0, 0, 2, 2, 2, 2, 0, 2, 2, 0, 2, 2, 0, 2, 2, 1, 1, 2, 0, 2, 2, 0, 1, 1, 1, 0, 1, 2, 2, 0, 2, 2, 2, 2, 0, 0, 2, 2, 0, 2, 2, 2, 2, 2, 0, 2, 1, 0, 2, 2, 0, 0, 0, 2, 2, 2, 2, 1, 2, 1, 2, 2, 0, 2, 2, 0, 2, 0, 0, 2, 0, 2, 0, 0, 0, 2, 2, 0, 0, 2, 2, 2, 2, 2, 1, 0, 2, 2, 2, 1, 0, 2, 0, 0, 2, 0, 0, 2, 0, 2, 2, 2, 0, 2, 0, 2, 2, 2, 2, 0, 2, 2, 1, 2, 2, 2, 2, 2, 2, 2, 2, 2, 2, 0, 2, 2, 2, 1, 2, 2, 2, 2, 2, 2, 2, 1, 2, 0, 2, 2, 2, 0, 2, 2, 2, 2, 2, 2, 2, 2, 2, 2, 1, 2, 0, 2, 0, 2, 0, 2, 2, 0, 0, 2, 2, 0, 2, 0, 1, 2, 1, 2, 0, 2, 2, 0, 1, 2, 0, 0, 2, 0, 2, 2, 2, 2, 2, 1, 0, 0, 1, 0, 2, 1, 2, 0, 2, 2, 2, 2, 2, 2, 2, 1, 2, 0, 0, 0, 2, 0, 0, 0, 0, 2, 2, 0, 1, 0, 2, 2, 1, 2, 0, 1, 0, 2, 1, 2, 2, 2, 2, 0, 2, 2, 2, 2, 2, 0, 2, 2, 1, 2, 0, 2, 1, 2, 2, 0, 2, 2, 2, 2, 1, 2, 2, 2, 2, 2, 0, 2, 0, 2, 0, 0, 1, 2, 2, 1, 0, 0, 1, 2, 0, 2, 2, 2, 1, 2, 1, 2, 0, 0, 0, 2, 1, 0, 0, 2, 1, 2, 0, 0, 2, 2, 2, 2, 2, 2, 2, 1, 1, 0, 0, 1, 0, 0, 2, 2, 2, 0, 0, 2, 2, 2, 0, 0, 0, 2, 2, 2, 0, 1, 0, 0, 0, 2, 2, 2, 2, 0, 0, 2, 1, 2, 2, 2, 1, 2, 0, 2, 2, 0, 2, 0, 2, 2, 2, 0, 2, 2, 2, 2, 2, 2, 2, 2, 2, 0, 2, 1, 2, 0, 2, 0, 2, 2, 1, 2, 0, 2, 0, 0, 2, 0, 1, 2, 0, 0, 2, 2, 0, 0, 2, 1, 1, 2, 2, 2, 1, 2, 2, 2, 2, 0, 2, 2, 0, 2, 0, 0, 2, 2, 0, 2, 1, 2, 1, 2, 2, 2, 2, 1, 1, 0, 2, 2, 2, 2, 0, 2, 2, 2, 2, 2, 2, 2, 2, 0, 2, 1, 1, 2, 0, 0, 2, 1, 2, 2, 0, 2, 0, 2, 2, 2, 2, 2, 0, 0, 2, 2, 0, 2, 0, 2, 2, 1, 1, 2, 2, 0, 0, 2, 0, 2, 0, 0, 0, 2, 2, 2, 2, 2, 2, 2, 2, 2, 1, 1, 2, 1, 0, 2, 2, 2, 2, 0, 2, 0, 2, 1, 0, 2, 1, 0, 0, 2, 0, 2, 0, 0, 2, 2, 2, 2, 0, 1, 0, 0, 2, 2, 0, 0, 2, 2, 2, 2, 0, 0, 2, 2, 0, 0, 2, 1, 1, 2, 2, 2, 2, 2, 0, 2, 0, 2, 0, 2, 0, 0, 2, 2, 2, 2, 2, 2, 2, 2, 0, 0, 2, 0, 0, 2, 2, 1, 2, 1, 1, 2, 1, 2, 1, 2, 1, 0, 2, 2, 2, 2, 0, 2, 2, 2, 2, 2, 2, 0, 2, 2, 1, 0, 2, 2, 1, 0, 1, 2, 0, 0, 2, 2, 2, 1, 2, 2, 0, 0, 2, 0, 2, 0, 0, 0, 2, 2, 2, 0, 2, 0, 2, 0, 0, 2, 2, 2, 0, 0, 0, 0, 2, 2, 2, 0, 2, 2, 2, 2, 2, 1, 2, 2, 2, 0, 2, 2, 2, 2, 1, 2, 2, 2, 2, 2, 2, 2, 2, 0, 0, 1, 2, 2, 0, 1, 1, 0, 2, 2, 1, 2, 0, 0, 2, 2, 1, 2, 0, 2, 2, 2, 0, 1, 0, 1, 0, 2, 2, 2, 0, 2, 0, 1, 2, 2, 1, 2, 2, 1, 2, 2, 2, 2, 2, 0, 0, 2, 2, 2, 2, 1, 2, 0, 2, 1, 2, 2, 0, 1, 2, 2, 2, 2, 0, 2, 0, 2, 1, 0, 2, 0, 0, 0, 0, 2, 2, 2, 2, 0, 2, 0, 2, 2, 2, 2, 2, 2, 1, 0, 2, 2, 2, 0, 2, 0, 2, 2, 2, 2, 0, 2, 2, 2, 2, 0, 2, 2, 0, 2, 2, 2, 2, 0, 2, 0, 0, 2, 2, 2, 0, 0, 2, 2, 2, 2, 0, 0, 0, 2, 2, 0, 2, 2, 2, 2, 2, 2, 0, 2, 2, 2, 2, 0, 2, 0, 0, 2, 2, 2, 0, 0, 0, 1, 2, 2, 0, 2, 2, 2, 2, 0, 2, 2, 2, 0, 1, 2, 1, 0, 0, 2, 0, 2, 0, 2, 2, 2, 2, 1, 2, 2, 1, 2, 2, 2, 0, 1, 2, 0, 1, 2, 2, 2, 0, 0, 2, 2, 2, 2, 0, 0, 2, 1, 1, 0, 2, 0, 2, 2, 2, 0, 0, 2, 2, 2, 2, 1, 2, 2, 2, 0, 2, 0, 0, 2, 2, 2, 1, 2, 2, 2, 2, 0, 2, 2, 1, 2, 0, 2, 2, 0, 2, 2, 0, 2, 0, 0, 2, 2, 0, 2, 2, 0, 2, 2, 0, 2, 2, 1, 2, 2, 0, 2, 2, 0, 2, 2, 2, 0, 2, 0, 2, 0, 2, 2, 2, 2, 0, 2, 2, 1, 2, 2, 2, 1, 0, 0, 1, 2, 2, 1, 2, 0, 0, 2, 1, 2, 2, 2, 0, 0, 2, 2, 2, 2, 2, 2, 1, 2, 2, 2, 0, 2, 2, 2, 2, 2, 2, 2, 0, 1, 0, 0, 1, 2, 2, 0, 1, 0, 2, 2, 0, 0, 2, 2, 2, 0, 2, 2, 0, 2, 0, 2, 2, 2, 2, 2, 2, 2, 0, 2, 0, 1, 2, 2, 2, 2, 0, 2, 2, 2, 2, 1, 0, 0, 2, 2, 1, 2, 1, 0, 2, 2, 1, 1, 2, 2, 2, 0, 2, 0, 2, 1, 0, 2, 0, 2, 2, 2, 0, 0, 1, 2, 0, 2, 2, 2, 0, 2, 2, 0, 0, 0, 2, 2, 0, 0, 2, 0, 2, 2, 1, 1, 2, 2, 2, 2, 0, 2, 2, 1, 2, 0, 2, 2, 2, 2, 2, 2, 2, 0, 0, 2, 0, 2, 0, 2, 2, 0, 1, 2, 1, 2, 2, 2, 2, 2, 2, 0, 2, 2, 2, 2, 2, 2, 2, 2, 2, 2, 2, 0, 1, 2, 2, 2, 0, 2, 2, 0, 2, 2, 2, 0, 0, 2, 2, 2, 2, 0, 2, 2, 2, 0, 0, 2, 2, 2, 0, 2, 0, 2, 0, 2, 2, 0, 2, 2, 2, 2, 1, 2, 2, 2, 1, 1, 2, 2, 2, 2, 2, 2, 2, 2, 1, 0, 2, 2, 0, 2, 0, 2, 2, 0, 2, 0, 2, 0, 1, 2, 1, 2, 0, 2, 2, 2, 1, 0, 2, 2, 2, 0, 0, 0, 0, 2, 2, 2, 2, 1, 2, 2, 2, 2, 2, 2, 2, 2, 1, 2, 2, 2, 2, 2, 2, 1, 2, 2, 2, 2, 0, 2, 2, 2, 0, 2, 2, 2, 2, 0, 0, 2, 0, 2, 0, 2, 0, 0, 0, 2, 0, 2, 0, 2, 2, 2, 0, 2, 2, 2, 2, 1, 2, 2, 0, 2, 2, 2, 2, 2, 2, 0, 2, 0, 0, 2, 2, 1, 0, 0, 2, 2, 0, 2, 1, 2, 0, 0, 1, 2, 2, 0, 2, 0, 0, 2, 0, 1, 0, 1, 2, 2, 2, 0, 2, 0, 2, 2, 0, 0, 0, 2, 2, 2, 2, 2, 2, 0, 2, 2, 0, 1, 0, 2, 2, 2, 2, 2, 1, 2, 0, 2, 2, 2, 0, 2, 0, 0, 2, 0, 2, 2, 2, 0, 0, 0, 0, 1, 2, 2, 0, 0, 0, 2, 2, 2, 1, 2, 2, 2, 2, 0, 2, 1, 0, 0, 1, 0, 2, 2, 1, 0, 2, 0, 0, 1, 2, 2, 2, 2, 1, 2, 2, 2, 2, 2, 1, 2, 0, 2, 1, 1, 0, 2, 1, 0, 0, 2, 2, 2, 0, 2, 0, 0, 2, 2, 0, 0, 2, 1, 0, 2, 2, 1, 2, 0, 2, 2, 2, 2, 0, 2, 2, 0, 2, 1, 2, 0, 2, 2, 0, 0, 0, 2, 0, 2, 2, 2, 2, 2, 1, 2, 1, 2, 0, 2, 2, 2, 0, 0, 2, 2, 0, 2, 0, 2, 2, 1, 1, 2, 2, 2, 0, 2, 2, 2, 0, 0, 2, 2, 0, 1, 0, 2, 0, 2, 2, 2, 2, 2, 2, 0, 0, 1, 2, 1, 0, 0, 2, 0, 2, 2, 1, 2, 1, 0, 1, 2, 1, 0, 0, 2, 2, 0, 0, 2, 0, 2, 0, 2, 2, 0, 2, 0, 2, 2, 0, 2, 0, 2, 2, 2, 2, 0, 2, 1, 2, 1, 0, 1, 2, 2, 2, 0, 0, 2, 2, 0, 2, 0, 2, 0, 2, 2, 2, 0, 0, 2, 2, 2, 0, 2, 0, 0, 0, 0, 2, 2, 2, 2, 2, 2, 2, 1, 0, 2, 2, 0, 1, 0, 2, 2, 2, 2, 2, 0, 2, 2, 1, 0, 0, 2, 2, 0, 2, 0, 0, 2, 2, 0, 0, 2, 1, 2, 0, 2, 2, 2, 2, 0, 2, 0, 2, 1, 2, 0, 0, 2, 2, 2, 2, 2, 2, 0, 2, 1, 0, 0, 2, 0, 0, 2, 2, 0, 2, 1, 2, 2, 0, 0, 0, 0, 0, 2, 2, 0, 0, 2, 2, 0, 2, 2, 2, 2, 2, 2, 2, 0, 2, 2, 0, 0, 2, 2, 0, 2, 2, 0, 2, 2, 2, 2, 2, 0, 2, 2, 0, 0, 2, 2, 2, 2, 1, 0, 2, 1, 0, 0, 0, 1, 2, 2, 0, 0, 2, 2, 2, 2, 2, 2, 2, 0, 2, 2, 1, 0, 2, 0, 0, 2, 2, 2, 1, 0, 0, 2, 0, 2, 1, 0, 2, 0, 2, 0, 2, 0, 0, 2, 0, 2, 1, 0, 2, 2, 2, 2, 2, 0, 2, 0, 0, 1, 2, 0, 0, 2, 0, 0, 1, 0, 2, 2, 2, 0, 0, 0, 0, 2, 0, 2, 2, 2, 2, 2, 2, 2, 2, 2, 2, 2, 0, 2, 2, 2, 2, 2, 1, 0, 2, 2, 0, 2, 2, 1, 0, 2, 2, 2, 0, 2, 0, 2, 0, 2, 2, 1, 2, 2, 2, 0, 2, 2, 2, 0, 2, 0, 2, 0, 1, 2, 0, 2, 0, 2, 2, 2, 0, 2, 2, 2, 2, 0, 0, 0, 2, 2, 0, 2, 0, 0, 0, 2, 1, 1, 2, 2, 0, 2, 2, 2, 2, 2, 2, 2, 2, 2, 2, 0, 2, 2, 2, 2, 0, 2, 2, 0, 2, 2, 0, 2, 0, 2, 2, 1, 2, 2, 2, 0, 0, 2, 2, 2, 2, 2, 2, 2, 2, 2, 0, 0, 2, 2, 0, 0, 0, 2, 0, 0, 0, 2, 0, 2, 2, 0, 2, 2, 1, 2, 2, 2, 0, 2, 2, 2, 2, 2, 0, 2, 2, 0, 2, 2, 2, 1, 2, 2, 2, 2, 2, 2, 0, 2, 0, 2, 2, 1, 1, 2, 1, 1, 2, 2, 2, 2, 0, 2, 1, 0, 2, 2, 0, 2, 2, 2, 0, 2, 2, 2, 2, 2, 1, 2, 0, 0, 0, 2, 2, 0, 2, 2, 2, 2, 0, 1, 2, 1, 1, 0, 2, 2, 2, 0, 2, 2, 2, 0, 2, 0, 1, 2, 2, 0, 2, 2, 2, 2, 2, 0, 2, 0, 0, 0, 2, 0, 0, 2, 2, 2, 2, 2, 2, 0, 2, 2, 0, 2, 2, 2, 2, 2, 2, 2, 2, 2, 2, 2, 0, 2, 2, 2, 1, 2, 1, 2, 2, 2, 2, 2, 2, 2, 2, 2, 2, 2, 2, 2, 0, 0, 2, 2, 2, 0, 2, 2, 2, 0, 2, 0, 0, 1, 2, 2, 2, 2, 0, 1, 0, 2, 2, 2, 0, 2, 2, 2, 2, 2, 2, 2, 0, 0, 2, 2, 2, 2, 2, 1, 2, 2, 0, 0, 2, 2, 2, 2, 1, 2, 2, 0, 2, 0, 0, 2, 2, 0, 1, 2, 1, 2, 2, 2, 1, 0, 2, 2, 0, 2, 0, 0, 2, 2, 0, 2, 0, 2, 2, 2, 1, 2, 2, 2, 2, 2, 2, 2, 2, 0, 1, 2, 2, 2, 0, 2, 0, 2, 2, 0, 0, 2, 2, 2, 0, 0, 2, 0, 2, 2, 0, 0, 2, 2, 2, 2, 2, 2, 2, 0, 2, 2, 1, 2, 2, 2, 0, 2, 1, 2, 0, 2, 0, 2, 2, 1, 2, 2, 2, 0, 2, 2, 0, 0, 0, 1, 0, 2, 2, 2, 2, 2, 2, 2, 0, 2, 1, 0, 0, 0, 0, 2, 0, 1, 1, 2, 0, 2, 2, 0, 0, 2, 0, 0, 1, 0, 2, 2, 0, 2, 2, 2, 2, 2, 2, 2, 0, 0, 2, 1, 2, 2, 2, 0, 2, 2, 0, 2, 2, 2, 0, 2, 2, 2, 2, 2, 0, 0, 2, 2, 2, 0, 2, 2, 2, 2, 0, 2, 2, 0, 2, 2, 0, 2, 2, 0, 2, 1, 1, 0, 2, 2, 0, 0, 0, 2, 2, 0, 2, 2, 0, 2, 0, 1, 1, 0, 2, 2, 0, 2, 2, 2, 0, 2, 0, 2, 2, 0, 2, 1, 2, 0, 2, 0, 2, 0, 2, 2, 0, 2, 2, 0, 2, 2, 2, 2, 0, 2, 2, 0, 0, 1, 2, 2, 2, 0, 2, 0, 2, 2, 2, 1, 2, 2, 0, 2, 0, 0, 2, 2, 0, 1, 2, 2, 2, 2, 2, 0, 2, 0, 2, 0, 2, 2, 0, 2, 2, 2, 2, 2, 2, 2, 0, 1, 0, 2, 0, 2, 2, 0, 0, 1, 1, 2, 2, 1, 1, 0, 0, 2, 2, 1, 2, 2, 2, 1, 0, 2, 0, 2, 2, 0, 0, 0, 0, 1, 2, 0, 2, 2, 2, 2, 2, 2, 2, 2, 2, 2, 2, 0, 0, 2, 0, 2, 0, 2, 2, 2, 2, 0, 1, 2, 2, 2, 2, 2, 2, 0, 2, 2, 0, 2, 2, 2, 0, 2, 2, 2, 1, 0, 2, 2, 2, 2, 2, 1, 1, 2, 2, 0, 1, 2, 2, 2, 2, 2, 0, 2, 2, 0, 1, 2, 2, 2, 2, 2, 2, 1, 0, 2, 2, 2, 2, 2, 1, 2, 0, 2, 2, 2, 2, 2, 2, 2, 2, 0, 2, 2, 2, 2, 2, 2, 0, 2, 2, 1, 2, 0, 0, 2, 2, 2, 2, 2, 0, 0, 2, 2, 0, 2, 2, 2, 2, 0, 1, 0, 0, 2, 0, 2, 0, 1, 0, 2, 2, 2, 0, 2, 2, 0, 2, 2, 2, 1, 0, 2, 2, 2, 2, 2, 2, 2, 0, 0, 2, 2, 2, 2, 2, 2, 0, 1, 2, 2, 0, 2, 2, 1, 0, 2, 2, 2, 2, 2, 0, 2, 0, 2, 2, 1, 1, 2, 2, 2, 0, 2, 0, 0, 2, 2, 2, 0, 2, 2, 2, 2, 2, 2, 0, 2, 2, 2, 1, 2, 0, 1, 2, 2, 2, 2, 2, 2, 2, 2, 0, 1, 1, 0, 0, 0, 2, 2, 2, 2, 0, 0, 2, 2, 0, 0, 2, 2, 2, 2, 2, 2, 2, 2, 2, 2, 1, 2, 0, 2, 2, 1, 1, 0, 2, 2, 0, 0, 2, 2, 0, 0, 0, 2, 2, 2, 2, 0, 2, 0, 2, 1, 2, 0, 2, 2, 2, 2, 2, 2, 0, 0, 0, 2, 0, 1, 0, 1, 1, 2, 2, 2, 2, 2, 2, 0, 2, 0, 0, 0, 1, 2, 2, 2, 2, 2, 0, 0, 0, 2, 2, 0, 2, 0, 2, 1, 1, 0, 2, 1, 0, 0, 1, 1, 2, 0, 2, 2, 0, 2, 2, 0, 0, 2, 2, 2, 2, 0, 1, 0, 2, 2, 2, 0, 2, 0, 0, 0, 0, 0, 0, 2, 2, 0, 1, 0, 2, 2, 2, 2, 2, 0, 2, 2, 2, 2, 0, 1, 1, 2, 2, 2, 2, 2, 1, 0, 2, 0, 2, 2, 2, 2, 2, 0, 2, 2, 1, 1, 0, 2, 2, 2, 2, 2, 0, 2, 0, 2, 0, 2, 0, 2, 2, 0, 2, 2, 2, 2, 0, 2, 2, 0, 0, 0, 0, 2, 2, 2, 2, 0, 0, 2, 2, 2, 1, 2, 0, 2, 2, 0, 0, 0, 2, 0, 0, 2, 0, 0, 2, 2, 0, 2, 2, 1, 2, 2, 1, 2, 0, 0, 0, 2, 2, 2, 2, 2, 2, 1, 0, 2, 0, 2, 0, 2, 0, 1, 2, 0, 2, 2, 2, 1, 2, 2, 0, 2, 0, 0, 0, 0, 0, 0, 2, 0, 2, 2, 2, 0, 2, 0, 2, 2, 2, 0, 0, 0, 2, 2, 2, 0, 0, 0, 0, 0, 2, 2, 0, 2, 2, 2, 2, 2, 2, 0, 2, 2, 2, 0, 2, 2, 0, 0, 2, 2, 2, 2, 1, 2, 2, 1, 2, 2, 2, 1, 0, 2, 2, 2, 2, 0, 2, 2, 2, 0, 0, 2, 0, 0, 0, 2, 0, 2, 2, 2, 0, 2, 0, 2, 2, 0, 2, 0, 2, 0, 2, 2, 1, 0, 2, 2, 2, 0, 2, 2, 2, 2, 0, 2, 0, 0, 2, 2, 2, 2, 2, 0, 0, 2, 2, 0, 0, 2, 0, 0, 0, 0, 2, 1, 2, 2, 2, 1, 0, 2, 2, 1, 2, 2, 2, 0, 0, 2, 2, 0, 2, 0, 0, 2, 2, 2, 2, 2, 2, 2, 0, 2, 0, 1, 2, 2, 0, 0, 2, 2, 2, 2, 0, 2, 2, 0, 2, 2, 2, 2, 2, 2, 0, 2, 2, 0, 2, 2, 0, 2, 1, 1, 1, 2, 0, 2, 2, 2, 0, 2, 2, 2, 0, 0, 0, 2, 2, 2, 2, 2, 2, 2, 2, 0, 2, 0, 2, 2, 2, 2, 2, 2, 0, 2, 0, 2, 2, 2, 2, 1, 2, 2, 2, 2, 0, 2, 0, 2, 0, 1, 2, 2, 0, 1, 2, 2, 1, 1, 2, 0, 0, 2, 2, 2, 2, 1, 1, 1, 2, 0, 2, 2, 2, 2, 2, 2, 2, 2, 1, 1, 2, 1, 2, 2, 2, 2, 0, 1, 2, 0, 0, 2, 2, 2, 2, 2, 2, 2, 0, 2, 2, 0, 0, 0, 0, 2, 2, 2, 0, 2, 2, 2, 0, 0, 0, 2, 2, 2, 0, 0, 2, 2, 1, 2, 2, 2, 2, 2, 0, 2, 1, 2, 2, 2, 0, 0, 0, 2, 2, 2, 2, 2, 2, 0, 0, 0, 2, 2, 0, 0, 2, 2, 2, 2, 2, 2, 2, 0, 1, 1, 2, 2, 2, 1, 0, 2, 0, 0, 2, 2, 2, 2, 2, 2, 0, 0, 2, 2, 0, 2, 2, 0, 0, 2, 2, 2, 2, 2, 2, 0, 2, 2, 1, 2, 2, 2, 2, 0, 0, 2, 0, 2, 0, 0, 2, 0, 0, 2, 2, 0, 2, 0, 2, 0, 2, 0, 2, 2, 0, 1, 2, 2, 2, 2, 2, 2, 0, 2, 0, 2, 2, 2, 0, 0, 2, 2, 1, 2, 0, 0, 1, 0, 2, 2, 2, 2, 2, 1, 2, 0, 0, 2, 0, 2, 2, 0, 2, 2, 0, 2, 2, 2, 2, 2, 2, 2, 2, 0, 2, 2, 2, 1, 0, 1, 0, 2, 2, 2, 0, 0, 2, 2, 2, 2, 2, 2, 1, 1, 2, 0, 2, 2, 0, 0, 0, 2, 1, 2, 2, 0, 0, 2, 2, 2, 0, 2, 2, 0, 2, 0, 0, 2, 2, 0, 2, 0, 0, 2, 2, 2, 0, 2, 1, 2, 0, 1, 2, 0, 0, 2, 2, 0, 0, 1, 2, 0, 2, 2, 0, 0, 2, 2, 0, 2, 2, 2, 2, 2, 0, 2, 2, 0, 0, 0, 0, 2, 2, 0, 2, 2, 2, 0, 0, 2, 2, 2, 0, 0, 1, 0, 2, 2, 2, 2, 0, 2, 2, 2, 2, 0, 2, 2, 0, 1, 2, 1, 2, 2, 2, 0, 0, 2, 2, 2, 0, 2, 2, 2, 2, 2, 2, 0, 2, 2, 2, 0, 2, 1, 2, 2, 2, 2, 2, 0, 0, 0, 2, 0, 0, 2, 2, 2, 2, 0, 0, 2, 0, 0, 1, 2, 0, 1, 0, 1, 2, 2, 2, 2, 0, 0, 1, 2, 2, 0, 0, 2, 2, 2, 2, 0, 0, 0, 0, 2, 0, 2, 2, 2, 2, 2, 2, 0, 2, 2, 2, 2, 1, 2, 1, 1, 0, 1, 2, 0, 1, 2, 2, 2, 2, 0, 2, 2, 2, 1, 0, 2, 2, 0, 2, 2, 0, 2, 2, 0, 0, 0, 2, 2, 2, 2, 0, 2, 2, 1, 0, 0, 2, 2, 2, 2, 0, 0, 2, 2, 2, 2, 2, 0, 0, 0, 2, 2, 2, 0, 0, 2, 2, 2, 2, 0, 2, 2, 2, 2, 2, 2, 2, 1, 2, 0, 0, 2, 0, 2, 2, 2, 2, 0, 2, 0, 2, 2, 2, 2, 2, 2, 2, 0, 2, 0, 2, 0, 2, 2, 2, 0, 2, 2, 2, 0, 0, 0, 0, 2, 0, 2, 0, 2, 0, 0, 0, 2, 2, 2, 2, 2, 2, 0, 2, 0, 2, 0, 2, 2, 2, 2, 2, 0, 0, 2, 0, 2, 2, 0, 2, 2, 0, 2, 2, 0, 2, 0, 2, 2, 2, 2, 0, 2, 2, 2, 1, 2, 2, 2, 1, 0, 0, 0, 0, 2, 2, 2, 2, 2, 2, 1, 2, 2, 2, 1, 0, 2, 2, 2, 2, 2, 0, 0, 2, 0, 0, 2, 0, 1, 2, 0, 2, 0, 0, 2, 0, 1, 2, 0, 2, 2, 2, 0, 2, 2, 2, 1, 2, 0, 0, 0, 1, 2, 1, 2, 2, 2, 2, 1, 2, 2, 2, 0, 0, 2, 0, 2, 0, 2, 1, 2, 0, 2, 2, 2, 0, 2, 0, 2, 2, 2, 2, 2, 2, 2, 2, 2, 2, 2, 1, 2, 1, 0, 0, 2, 2, 0, 2, 2, 2, 0, 2, 0, 2, 2, 1, 2, 0, 0, 0, 0, 0, 2, 1, 2, 1, 2, 2, 2, 2, 0, 0, 0, 2, 2, 2, 1, 2, 0, 2, 2, 0, 0, 2, 0, 2, 2, 0, 2, 2, 2, 2, 2, 0, 2, 2, 0, 0, 2, 0, 2, 0, 2, 2, 1, 2, 2, 2, 2, 2, 2, 2, 0, 0, 0, 2, 2, 0, 2, 2, 1, 2, 2, 2, 2, 2, 0, 2, 2, 2, 2, 0, 2, 2, 2, 2, 2, 2, 2, 2, 0, 0, 0, 2, 2, 0, 2, 2, 2, 0, 2, 0, 0, 2, 2, 2, 0, 0, 0, 1, 2, 2, 0, 2, 2, 0, 2, 2, 2, 2, 0, 2, 2, 2, 2, 2, 2, 2, 2, 2, 2, 2, 2, 2, 2, 0, 2, 1, 0, 0, 0, 2, 2, 0, 2, 2, 0, 1, 2, 2, 2, 0, 2, 2, 2, 2, 0, 2, 0, 2, 2, 2, 2, 2, 2, 0, 2, 2, 2, 0, 0, 0, 2, 0, 2, 0, 2, 2, 2, 1, 2, 0, 0, 0, 2, 0, 0, 2, 2, 2, 0, 0, 2, 2, 0, 2, 2, 2, 0, 2, 0, 2, 2, 2, 2, 2, 0, 2, 2, 0, 0, 2, 0, 2, 2, 2, 0, 2, 0, 0, 2, 0, 2, 2, 2, 2, 2, 2, 0, 2, 2, 2, 0, 2, 2, 2, 2, 2, 0, 0, 0, 0, 1, 2, 2, 2, 0, 0, 2, 2, 1, 2, 1, 0, 2, 2, 0, 0, 2, 2, 2, 2, 0, 0, 0, 0, 0, 2, 2, 0, 0, 0, 2, 0, 2, 2, 0, 0, 2, 0, 1, 2, 2, 2, 2, 0, 2, 0, 0, 2, 2, 0, 2, 0, 2, 2, 1, 2, 2, 1, 2, 1, 2, 2, 2, 2, 0, 2, 0, 2, 1, 0, 1, 0, 1, 0, 2, 0, 2, 2, 2, 1, 0, 2, 0, 0, 2, 2, 2, 2, 0, 2, 2, 1, 2, 2, 2, 2, 2, 0, 2, 2, 0, 2, 2, 1, 2, 0, 0, 0, 2, 0, 0, 0, 2, 2, 0, 0, 2, 2, 2, 2, 2, 1, 2, 0, 2, 2, 0, 0, 2, 2, 2, 2, 0, 2, 2, 2, 2, 2, 2, 1, 2, 2, 0, 1, 2, 2, 1, 0, 2, 2, 0, 0, 0, 0, 2, 0, 1, 2, 1, 1, 0, 2, 0, 2, 2, 1, 2, 2, 2, 0, 2, 2, 2, 0, 0, 2, 2, 2, 1, 2, 0, 0, 0, 2, 0, 0, 0, 2, 1, 1, 0, 2, 1, 0, 0, 2, 2, 2, 2, 2, 2, 0, 2, 0, 2, 2, 0, 2, 2, 2, 2, 0, 2, 0, 0, 2, 0, 2, 2, 2, 2, 2, 0, 2, 2, 2, 2, 1, 0, 2, 0, 0, 2, 2, 0, 2, 2, 2, 0, 2, 2, 2, 2, 2, 2, 2, 2, 2, 2, 0, 2, 2, 0, 2, 2, 2, 0, 2, 2, 2, 0, 2, 0, 2, 2, 2, 2, 2, 1, 1, 0, 2, 1, 0, 0, 2, 0, 2, 2, 2, 0, 0, 2, 2, 2, 2, 2, 2, 2, 2, 0, 2, 2, 2, 2, 2, 1, 0, 0, 2, 2, 2, 2, 2, 0, 1, 2, 2, 0, 0, 2, 2, 2, 2, 2, 0, 0, 2, 2, 2, 0, 2, 2, 0, 0, 2, 0, 0, 0, 0, 1, 2, 2, 2, 2, 2, 2, 0, 2, 0, 2, 2, 2, 2, 2, 2, 0, 0, 2, 2, 0, 2, 0, 0, 0, 0, 2, 1, 0, 1, 0, 0, 2, 2, 2, 2, 2, 2, 2, 2, 2, 2, 0, 0, 0, 2, 2, 2, 2, 2, 2, 0, 2, 2, 0, 2, 0, 0, 2, 2, 2, 2, 2, 2, 2, 2, 0, 2, 0, 2, 2, 2, 2, 2, 2, 2, 1, 2, 2, 1, 2, 2, 1, 2, 0, 0, 2, 2, 0, 2, 2, 1, 0, 0, 2, 0, 2, 0, 0, 0, 0, 2, 2, 1, 2, 1, 2, 0, 2, 0, 1, 0, 2, 2, 0, 0, 2, 1, 1, 0, 0, 0, 0, 2, 1, 2, 0, 2, 1, 2, 2, 2, 0, 0, 1, 2, 2, 1, 2, 2, 0, 2, 0, 2, 0, 0, 2, 2, 2, 2, 0, 2, 0, 2, 2, 2, 2, 2, 0, 2, 0, 0, 0, 2, 2, 0, 2, 2, 2, 2, 2, 2, 1, 2, 0, 2, 0, 0, 2, 1, 2, 2, 2, 2, 2, 2, 2, 2, 2, 2, 2, 2, 0, 2, 0, 0, 1, 0, 2, 0, 0, 2, 1, 2, 0, 0, 2, 2, 2, 2, 0, 2, 0, 1, 2, 2, 2, 2, 2, 2, 2, 2, 2, 0, 2, 1, 2, 2, 2, 2, 2, 2, 2, 2, 2, 2, 2, 0, 0, 1, 0, 2, 2, 2, 2, 2, 2, 1, 2, 2, 2, 0, 2, 2, 0, 2, 2, 1, 2, 1, 2, 2, 2, 0, 2, 2, 2, 2, 2, 2, 2, 0, 0, 2, 2, 2, 2, 0, 0, 2, 2, 2, 2, 0, 2, 0, 0, 2, 2, 1, 2, 0, 2, 2, 0, 2, 0, 0, 0, 0, 2, 2, 0, 1, 0, 2, 0, 2, 0, 2, 2, 0, 0, 2, 2, 0, 2, 2, 2, 0, 0, 0, 2, 2, 2, 0, 2, 0, 2, 0, 2, 1, 2, 0, 2, 2, 2, 0, 2, 2, 0, 2, 0, 2, 1, 0, 1, 0, 2, 1, 0, 0, 2, 2, 0, 0, 2, 2, 2, 0, 0, 2, 2, 0, 0, 2, 2, 2, 2, 2, 2, 2, 2, 2, 2, 2, 0, 2, 2, 0, 0, 2, 2, 0, 2, 2, 2, 2, 0, 0, 2, 0, 0, 0, 2, 2, 2, 2, 2, 2, 0, 2, 0, 2, 2, 2, 2, 0, 2, 1, 2, 2, 1, 2, 2, 0, 2, 2, 2, 2, 2, 0, 2, 2, 2, 0, 2, 2, 0, 2, 2, 0, 2, 2, 2, 2, 2, 2, 2, 0, 2, 1, 2, 0, 1, 2, 0, 0, 2, 2, 2, 2, 1, 2, 0, 2, 0, 2, 2, 2, 2, 2, 2, 0, 0, 2, 1, 2, 2, 0, 2, 2, 1, 0, 0, 2, 2, 0, 2, 0, 2, 2, 0, 2, 2, 2, 1, 2, 2, 2, 2, 2, 2, 0, 2, 1, 2, 2, 2, 2, 2, 0, 2, 2, 0, 0, 2, 0, 2, 0, 2, 1, 2, 0, 0, 0, 2, 0, 2, 1, 2, 1, 2, 2, 2, 2, 2, 2, 0, 2, 2, 2, 1, 2, 2, 0, 2, 1, 0, 0, 2, 1, 2, 2, 2, 0, 1, 2, 2, 2, 0, 2, 1, 0, 1, 2, 0, 2, 0, 2, 0, 2, 1, 0, 0, 0, 2, 2, 2, 0, 2, 2, 2, 2, 2, 0, 2, 2, 2, 2, 2, 2, 0, 0, 2, 0, 2, 0, 0, 1, 0, 0, 0, 1, 0, 1, 1, 0, 2, 0, 2, 2, 2, 2, 0, 2, 2, 0, 1, 0, 2, 2, 0, 2, 0, 1, 2, 2, 0, 0, 2, 1, 1, 2, 0, 1, 2, 0, 2, 2, 0, 0, 2, 2, 2, 2, 1, 0, 0, 2, 2, 2, 1, 2, 2, 0, 0, 2, 2, 0, 0, 2, 2, 0, 0, 0, 0, 2, 2, 0, 2, 2, 2, 2, 0, 2, 2, 2, 2, 2, 0, 2, 1, 0, 2, 2, 2, 0, 2, 0, 0, 2, 0, 2, 2, 0, 0, 2, 0, 2, 2, 2, 2, 2, 2, 0, 2, 0, 2, 2, 0, 0, 0, 0, 0, 0, 2, 0, 2, 0, 2, 2, 2, 2, 2, 2, 2, 2, 2, 0, 2, 0, 2, 2, 2, 2, 2, 2, 0, 2, 1, 2, 2, 2, 0, 1, 2, 2, 1, 2, 0, 2, 1, 2, 0, 2, 2, 2, 0, 2, 2, 0, 0, 2, 0, 0, 0, 2, 2, 2, 2, 2, 0, 0, 2, 2, 2, 1, 2, 0, 2, 1, 1, 0, 2, 2, 0, 2, 2, 2, 0, 2, 0, 2, 0, 2, 2, 2, 0, 2, 2, 0, 2, 1, 2, 0, 0, 2, 2, 2, 2, 2, 2, 2, 0, 2, 0, 2, 2, 0, 0, 2, 0, 2, 2, 2, 2, 2, 0, 0, 0, 2, 0, 2, 2, 0, 0, 1, 1, 0, 2, 2, 2, 1, 2, 2, 1, 2, 0, 2, 0, 2, 2, 2, 2, 0, 2, 2, 2, 2, 0, 1, 0, 2, 2, 0, 0, 2, 0, 0, 0, 1, 2, 2, 2, 2, 1, 2, 2, 2, 2, 2, 0, 0, 0, 2, 2, 2, 0, 2, 0, 2, 1, 0, 2, 0, 2, 0, 2, 0, 2, 2, 2, 2, 2, 0, 0, 2, 2, 2, 2, 0, 0, 2, 0, 2, 2, 0, 0, 2, 0, 2, 2, 2, 1, 1, 2, 2, 2, 2, 2, 0, 2, 0, 0, 0, 0, 0, 0, 0, 2, 2, 2, 1, 2, 2, 2, 2, 0, 0, 1, 2, 2, 2, 0, 2, 2, 2, 0, 2, 0, 0, 2, 0, 0, 2, 2, 2, 2, 0, 1, 2, 2, 2, 2, 2, 2, 2, 0, 2, 2, 0, 2, 2, 0, 2, 2, 1, 0, 2, 2, 0, 0, 2, 2, 0, 0, 0, 2, 0, 1, 0, 2, 2, 2, 0, 2, 2, 2, 2, 2, 2, 1, 1, 0, 2, 2, 2, 2, 0, 0, 1, 0, 0, 0, 2, 2, 2, 2, 0, 0, 2, 2, 2, 2, 0, 0, 2, 2, 2, 2, 2, 2, 0, 2, 2, 0, 2, 0, 2, 1, 2, 2, 2, 0, 1, 2, 0, 2, 0, 0, 2, 2, 2, 2, 1, 0, 0, 0, 2, 0, 2, 2, 2, 2, 2, 2, 2, 2, 0, 0, 2, 1, 0, 2, 2, 0, 1, 2, 2, 0, 2, 2, 0, 2, 2, 2, 1, 2, 1, 0, 2, 0, 2, 2, 2, 2, 1, 1, 2, 2, 0, 1, 2, 0, 2, 1, 2, 0, 2, 2, 2, 2, 1, 2, 1, 2, 0, 2, 0, 0, 2, 2, 2, 2, 0, 0, 2, 2, 0, 2, 0, 2, 2, 2, 0, 2, 2, 2, 2, 0, 2, 1, 0, 2, 0, 0, 2, 0, 0, 0, 0, 2, 1, 2, 2, 2, 2, 2, 2, 2, 0, 0, 0, 0, 2, 0, 2, 2, 0, 0, 2, 0, 0, 2, 1, 2, 0, 0, 0, 0, 0, 2, 2, 0, 1, 2, 2, 2, 0, 2, 0, 0, 2, 2, 2, 2, 2, 0, 2, 1, 2, 1, 2, 0, 2, 2, 0, 2, 2, 0, 2, 2, 2, 1, 2, 2, 2, 2, 2, 0, 0, 0, 0, 0, 0, 0, 0, 2, 1, 1, 2, 2, 0, 2, 2, 1, 0, 2, 2, 0, 2, 2, 2, 0, 2, 0, 2, 2, 2, 0, 0, 2, 2, 2, 0, 0, 1, 0, 2, 2, 2, 2, 1, 1, 0, 1, 2, 0, 2, 0, 2, 2, 1, 0, 0, 0, 0, 2, 2, 1, 0, 2, 1, 2, 2, 2, 0, 1, 0, 2, 0, 0, 2, 2, 2, 2, 0, 2, 0, 1, 2, 2, 1, 2, 0, 2, 2, 2, 2, 2, 0, 2, 0, 2, 2, 2, 2, 2, 2, 2, 2, 0, 2, 2, 2, 2, 0, 0, 0, 2, 2, 2, 2, 2, 0, 2, 0, 2, 2, 2, 2, 2, 2, 2, 2, 2, 0, 2, 2, 0, 2, 0, 2, 0, 0, 2, 2, 2, 0, 2, 2, 2, 2, 0, 2, 0, 2, 2, 2, 2, 2, 2, 2, 0, 0, 2, 1, 0, 2, 2, 1, 2, 0, 0, 0, 0, 2, 1, 2, 2, 2, 2, 2, 0, 0, 2, 0, 2, 2, 0, 2, 0, 1, 2, 0, 0, 2, 2, 0, 2, 2, 1, 2, 1, 2, 1, 2, 0, 0, 2, 0, 1, 0, 1, 2, 2, 2, 1, 0, 2, 2, 2, 2, 1, 2, 1, 2, 2, 2, 2, 2, 2, 2, 0, 0, 2, 2, 1, 2, 2, 2, 2, 2, 2, 2, 2, 0, 2, 2, 0, 0, 2, 2, 0, 2, 2, 1, 2, 1, 1, 2, 0, 0, 0, 2, 2, 2, 2, 2, 0, 2, 2, 2, 0, 0, 2, 2, 2, 2, 2, 2, 0, 0, 2, 0, 2, 2, 0, 0, 1, 0, 2, 2, 2, 2, 2, 2, 2, 0, 2, 0, 2, 2, 2, 2, 0, 2, 2, 2, 0, 2, 0, 2, 0, 2, 0, 2, 2, 0, 0, 2, 2, 2, 2, 2, 0, 0, 0, 2, 2, 2, 1, 0, 2, 0, 2, 2, 2, 2, 0, 0, 1, 2, 0, 2, 2, 2, 2, 2, 2, 0, 1, 2, 0, 2, 2, 2, 0, 2, 2, 0, 0, 1, 2, 2, 0, 0, 1, 2, 2, 2, 2, 2, 2, 2, 2, 0, 2, 2, 0, 0, 2, 2, 2, 2, 2, 2, 2, 2, 2, 2, 2, 0, 2, 2, 2, 2, 2, 2, 2, 0, 0, 2, 0, 2, 0, 2, 0, 0, 0, 2, 2, 2, 2, 2, 0, 2, 2, 2, 0, 2, 0, 0, 0, 2, 0, 2, 0, 2, 0, 2, 2, 0, 2, 0, 2, 2, 0, 0, 0, 2, 1, 2, 2, 2, 2, 2, 2, 2, 0, 0, 0, 2, 2, 2, 2, 0, 0, 0, 2, 2, 0, 0, 2, 0, 0, 2, 2, 1, 0, 2, 2, 0, 2, 2, 1, 2, 0, 0, 2, 2, 2, 2, 2, 2, 2, 2, 2, 2, 2, 0, 0, 2, 0, 0, 0, 0, 0, 2, 1, 0, 2, 2, 0, 2, 0, 0, 0, 2, 2, 2, 1, 0, 2, 2, 2, 0, 0, 2, 2, 0, 2, 0, 2, 2, 2, 1, 2, 0, 2, 0, 2, 2, 2, 0, 0, 0, 2, 2, 2, 0, 2, 1, 0, 2, 2, 0, 0, 2, 2, 0, 2, 2, 0, 0, 0, 2, 0, 2, 2, 2, 0, 2, 2, 2, 2, 2, 2, 1, 1, 2, 2, 2, 2, 2, 2, 2, 2, 2, 2, 2, 0, 0, 0, 2, 2, 2, 1, 2, 2, 2, 0, 0, 2, 0, 1, 0, 2, 2, 0, 2, 2, 0, 0, 2, 2, 0, 2, 0, 0, 1, 2, 0, 2, 2, 2, 2, 2, 0, 2, 1, 0, 0, 2, 2, 2, 2, 2, 0, 2, 2, 2, 0, 0, 0, 2, 2, 2, 2, 0, 0, 1, 2, 0, 2, 2, 2, 0, 2, 2, 2, 0, 2, 2, 1, 2, 2, 2, 0, 1, 2, 2, 2, 2, 2, 0, 2, 0, 0, 2, 1, 2, 0, 2, 2, 2, 2, 0, 2, 0, 2, 0, 2, 0, 2, 1, 0, 2, 2, 0, 2, 2, 2, 2, 0, 0, 1, 1, 1, 0, 2, 1, 2, 0, 2, 0, 0, 2, 2, 2, 2, 2, 2, 2, 0, 0, 2, 0, 2, 2, 2, 2, 2, 2, 1, 2, 2, 2, 2, 2, 0, 0, 1, 2, 2, 0, 0, 2, 2, 0, 2, 2, 2, 0, 0, 2, 2, 0, 2, 2, 0, 2, 2, 0, 2, 2, 2, 0, 0, 2, 2, 0, 2, 0, 0, 2, 2, 2, 0, 0, 2, 2, 1, 2, 2, 0, 0, 2, 2, 2, 2, 2, 2, 2, 2, 2, 2, 2, 2, 2, 2, 2, 0, 2, 2, 0, 2, 0, 2, 0, 0, 2, 0, 2, 0, 2, 2, 2, 0, 2, 0, 2, 0, 0, 0, 2, 0, 1, 2, 2, 2, 2, 2, 2, 2, 2, 1, 2, 2, 2, 2, 2, 0, 0, 2, 2, 2, 2, 0, 0, 2, 2, 2, 2, 1, 1, 2, 2, 2, 0, 2, 2, 2, 2, 0, 2, 2, 2, 2, 2, 0, 2, 2, 2, 1, 0, 2, 0, 0, 2, 0, 0, 0, 1, 0, 0, 2, 2, 2, 2, 2, 2, 2, 0, 2, 0, 0, 2, 0, 0, 2, 0, 2, 0, 2, 2, 2, 2, 0, 2, 0, 0, 1, 0, 0, 1, 2, 0, 2, 2, 2, 2, 2, 0, 0, 2, 2, 0, 2, 2, 0, 2, 2, 2, 2, 2, 1, 2, 1, 0, 2, 2, 0, 2, 0, 2, 2, 2, 2, 2, 0, 0, 2, 0, 1, 1, 0, 0, 1, 2, 2, 2, 2, 0, 2, 0, 2, 2, 2, 2, 2, 0, 0, 2, 2, 2, 0, 2, 0, 2, 0, 2, 2, 1, 2, 2, 2, 2, 2, 2, 0, 0, 2, 2, 2, 0, 2, 2, 0, 0, 2, 0, 2, 1, 2, 0, 0, 0, 0, 0, 2, 2, 2, 2, 2, 2, 2, 2, 2, 2, 2, 2, 2, 1, 0, 2, 2, 2, 2, 2, 2, 0, 0, 2, 2, 2, 1, 2, 2, 2, 0, 0, 0, 2, 1, 0, 0, 2, 2, 0, 2, 2, 0, 2, 2, 2, 2, 2, 2, 2, 0, 0, 0, 0, 0, 0, 0, 2, 0, 2, 2, 0, 2, 0, 0, 2, 2, 2, 2, 0, 0, 2, 2, 2, 2, 2, 0, 2, 1, 2, 2, 2, 2, 2, 0, 0, 2, 2, 2, 2, 2, 2, 2, 2, 2, 2, 2, 2, 2, 0, 2, 2, 2, 0, 2, 2, 0, 2, 2, 1, 2, 0, 2, 0, 2, 2, 2, 2, 0, 0, 2, 1, 2, 0, 2, 2, 1, 2, 2, 2, 0, 2, 2, 0, 2, 0, 2, 2, 2, 2, 0, 2, 0, 0, 2, 2, 2, 2, 2, 1, 0, 0, 2, 2, 2, 2, 2, 2, 2, 2, 0, 2, 2, 0, 0, 2, 2, 2, 0, 2, 2, 2, 2, 0, 2, 2, 0, 2, 0, 0, 1, 2, 0, 1, 0, 0, 2, 0, 2, 2, 2, 0, 2, 0, 2, 2, 0, 0, 2, 0, 0, 2, 0, 2, 0, 2, 0, 0, 2, 2, 2, 2, 2, 2, 2, 1, 0, 0, 2, 2, 1, 0, 2, 2, 2, 2, 1, 1, 2, 1, 2, 2, 2, 2, 0, 2, 2, 0, 2, 2, 2, 2, 2, 2, 2, 2, 2, 0, 2, 2, 2, 2, 0, 2, 0, 2, 0, 2, 0, 0, 2, 2, 2, 2, 1, 2, 0, 0, 0, 2, 0, 2, 2, 0, 2, 2, 0, 2, 1, 2, 2, 2, 2, 2, 2, 2, 0, 2, 2, 2, 2, 2, 2, 2, 0, 1, 2, 2, 2, 0, 2, 0, 1, 2, 0, 2, 2, 2, 1, 2, 2, 2, 0, 0, 2, 2, 0, 0, 2, 2, 2, 2, 2, 2, 2, 1, 2, 0, 2, 2, 2, 2, 2, 1, 2, 2, 2, 2, 2, 0, 1, 2, 2, 2, 2, 0, 0, 0, 0, 0, 2, 0, 1, 1, 2, 1, 0, 0, 2, 0, 0, 0, 0, 0, 2, 1, 0, 2, 2, 1, 0, 2, 2, 2, 2, 2, 2, 2, 0, 2, 0, 1, 2, 1, 2, 0, 2, 2, 2, 0, 2, 0, 2, 1, 0, 2, 0, 0, 2, 2, 2, 0, 0, 2, 1, 2, 2, 1, 0, 2, 2, 2, 2, 2, 0, 0, 2, 2, 2, 2, 2, 2, 0, 2, 2, 0, 0, 2, 2, 2, 1, 2, 1, 2, 0, 2, 2, 2, 2, 0, 2, 2, 2, 2, 2, 2, 2, 0, 2, 0, 2, 2, 2, 0, 2, 2, 2, 2, 2, 1, 0, 2, 0, 0, 0, 0, 2, 0, 2, 2, 1, 2, 2, 2, 2, 1, 1, 2, 2, 2, 2, 0, 2, 2, 0, 2, 1, 2, 0, 2, 2, 2, 1, 2, 2, 2, 0, 2, 2, 0, 0, 2, 2, 0, 2, 2, 2, 0, 0, 2, 2, 2, 2, 0, 2, 0, 2, 2, 2, 2, 1, 2, 2, 2, 2, 0, 0, 1, 0, 2, 2, 2, 2, 2, 0, 2, 0, 2, 2, 2, 0, 2, 2, 2, 2, 2, 2, 1, 2, 2, 2, 2, 2, 0, 2, 2, 0, 2, 0, 2, 2, 2, 2, 2, 2, 2, 2, 0, 2, 2, 2, 2, 0, 2, 0, 2, 0, 2, 2, 2, 2, 2, 2, 0, 1, 2, 2, 0, 2, 0, 0, 2, 0, 0, 0, 2, 2, 2, 0, 0, 0, 2, 2, 2, 2, 0, 2, 2, 2, 2, 2, 2, 2, 2, 2, 2, 0, 2, 2, 2, 2, 0, 2, 2, 0, 0, 1, 2, 2, 2, 2, 2, 2, 2, 2, 2, 1, 2, 2, 2, 0, 2, 2, 2, 0, 2, 2, 2, 0, 2, 0, 0, 0, 2, 2, 0, 0, 2, 2, 1, 0, 2, 2, 1, 2, 2, 1, 1, 2, 0, 2, 0, 2, 0, 0, 2, 2, 2, 2, 0, 2, 2, 2, 2, 1, 2, 2, 0, 2, 2, 2, 1, 2, 2, 2, 2, 2, 0, 2, 2, 2, 2, 1, 0, 2, 2, 2, 2, 2, 1, 2, 0, 2, 0, 2, 2, 0, 0, 0, 0, 2, 0, 1, 2, 2, 2, 2, 2, 2, 1, 2, 2, 2, 0, 2, 2, 2, 2, 0, 2, 2, 0, 2, 2, 2, 0, 2, 2, 2, 2, 1, 2, 2, 2, 2, 0, 2, 2, 1, 0, 2, 2, 0, 2, 0, 2, 2, 2, 2, 2, 2, 2, 2, 0, 2, 2, 2, 1, 0, 0, 2, 0, 2, 0, 2, 2, 2, 2, 2, 2, 0, 2, 2, 0, 0, 2, 2, 2, 0, 0, 2, 2, 2, 0, 0, 2, 2, 2, 0, 2, 2, 0, 2, 2, 0, 2, 2, 2, 2, 2, 2, 0, 0, 2, 2, 2, 0, 2, 0, 0, 0, 2, 2, 2, 2, 0, 0, 0, 0, 1, 2, 0, 0, 1, 2, 2, 2, 1, 2, 2, 2, 1, 0, 2, 0, 0, 2, 0, 2, 2, 0, 0, 2, 2, 2, 2, 1, 2, 2, 0, 2, 2, 2, 2, 2, 2, 0, 2, 0, 2, 2, 2, 2, 2, 1, 2, 2, 0, 2, 2, 2, 2, 0, 0, 0, 0, 0, 2, 2, 2, 0, 2, 2, 2, 2, 2, 2, 1, 2, 2, 2, 0, 2, 1, 0, 2, 2, 2, 0, 0, 2, 2, 2, 1, 2, 2, 2, 2, 2, 1, 2, 2, 0, 2, 2, 0, 2, 2, 0, 2, 2, 0, 1, 0, 0, 2, 0, 2, 2, 2, 1, 1, 0, 0, 1, 2, 2, 2, 0, 2, 2, 2, 0, 1, 2, 2, 0, 1, 0, 2, 2, 0, 2, 2, 1, 2, 2, 2, 2, 2, 1, 2, 2, 0, 2, 0, 1, 0, 2, 2, 2, 1, 0, 0, 2, 2, 0, 2, 1, 2, 0, 0, 2, 2, 2, 2, 2, 2, 1, 0, 1, 0, 2, 0, 2, 0, 0, 0, 2, 2, 2, 0, 2, 2, 2, 2, 2, 0, 2, 0, 2, 2, 2, 2, 2, 1, 0, 1, 0, 2, 2, 2, 0, 2, 0, 2, 0, 2, 2, 2, 2, 0, 2, 2, 0, 1, 2, 2, 2, 0, 2, 0, 0, 0, 2, 2, 1, 2, 2, 2, 2, 2, 2, 2, 1, 1, 2, 2, 0, 0, 2, 2, 1, 2, 0, 2, 2, 2, 2, 2, 0, 2, 2, 2, 2, 0, 2, 2, 2, 2, 2, 2, 1, 0, 2, 2, 0, 0, 2, 2, 2, 0, 2, 2, 1, 0, 0, 2, 2, 0, 0, 2, 0, 2, 2, 2, 2, 2, 2, 0, 2, 0, 2, 0, 2, 2, 2, 2, 2, 0, 2, 2, 1, 2, 0, 2, 2, 2, 0, 2, 0, 0, 0, 2, 2, 2, 2, 0, 0, 2, 2, 2, 2, 1, 0, 2, 0, 0, 2, 1, 2, 2, 2, 2, 2, 1, 0, 0, 0, 0, 2, 0, 0, 2, 2, 2, 1, 1, 2, 2, 2, 1, 1, 0, 2, 2, 2, 2, 2, 2, 2, 0, 2, 2, 2, 2, 2, 2, 0, 2, 2, 2, 2, 0, 2, 2, 2, 2, 2, 2, 2, 1, 1, 1, 0, 0, 1, 2, 2, 2, 0, 2, 2, 0, 2, 2, 2, 0, 0, 0, 2, 1, 0, 2, 0, 0, 2, 0, 2, 0, 2, 1, 2, 2, 2, 0, 2, 1, 0, 0, 2, 0, 0, 0, 0, 0, 1, 2, 0, 2, 2, 2, 2, 2, 0, 1, 2, 2, 2, 0, 2, 2, 2, 1, 2, 0, 0, 2, 1, 1, 2, 2, 2, 2, 0, 2, 2, 1, 2, 0, 1, 0, 2, 0, 0, 2, 0, 0, 0, 2, 2, 2, 0, 2, 2, 0, 1, 2, 0, 2, 2, 2, 0, 2, 0, 2, 0, 2, 0, 0, 0, 2, 2, 2, 2, 2, 2, 1, 2, 2, 2, 0, 2, 0, 2, 2, 0, 2, 2, 0, 0, 0, 2, 2, 0, 2, 2, 0, 0, 2, 2, 2, 0, 2, 2, 0, 0, 2, 2, 2, 0, 2, 2, 2, 1, 2, 2, 2, 0, 2, 0, 2, 0, 2, 2, 0, 2, 2, 0, 2, 2, 2, 2, 0, 1, 2, 1, 2, 0, 2, 2, 2, 2, 2, 2, 1, 0, 0, 0, 2, 0, 2, 2, 1, 1, 2, 0, 2, 2, 2, 0, 2, 2, 2, 2, 2, 2, 2, 2, 2, 2, 1, 2, 0, 0, 2, 2, 2, 2, 2, 2, 2, 2, 2, 0, 2, 1, 1, 2, 1, 0, 2, 0, 0, 2, 2, 0, 2, 0, 2, 0, 2, 0, 2, 2, 2, 2, 0, 2, 0, 2, 2, 1, 2, 2, 2, 2, 1, 2, 2, 1, 2, 0, 2, 2, 2, 0, 0, 2, 2, 1, 1, 0, 2, 0, 0, 0, 2, 1, 2, 2, 2, 0, 0, 0, 0, 2, 2, 0, 0, 2, 2, 2, 2, 2, 2, 0, 0, 2, 2, 2, 0, 2, 2, 2, 2, 2, 2, 2, 0, 2, 2, 2, 2, 2, 1, 2, 2, 2, 2, 2, 0, 0, 2, 1, 2, 1, 2, 0, 1, 0, 2, 2, 0, 2, 2, 2, 2, 2, 0, 2, 0, 2, 2, 2, 2, 1, 2, 2, 2, 2, 0, 0, 2, 1, 2, 2, 0, 0, 2, 2, 2, 2, 2, 2, 1, 2, 2, 0, 2, 2, 2, 0, 2, 0, 1, 2, 1, 2, 2, 1, 1, 2, 2, 2, 2, 0, 0, 2, 0, 2, 2, 0, 0, 2, 2, 2, 0, 2, 2, 1, 0, 2, 2, 0, 2, 2, 2, 2, 0, 2, 2, 2, 2, 2, 0, 2, 2, 0, 2, 2, 2, 2, 0, 2, 2, 2, 0, 2, 0, 2, 2, 0, 2, 2, 1, 2, 1, 2, 2, 2, 2, 2, 2, 2, 1, 2, 2, 2, 0, 2, 2, 1, 2, 0, 2, 2, 2, 0, 0, 2, 2, 2, 2, 2, 2, 2, 0, 2, 1, 2, 0, 0, 1, 2, 2, 2, 2, 2, 2, 2, 2, 2, 2, 0, 0, 1, 2, 0, 2, 0, 2, 2, 2, 2, 2, 2, 2, 2, 2, 2, 2, 2, 2, 2, 2, 2, 2, 0, 2, 2, 0, 2, 2, 0, 0, 0, 2, 2, 2, 0, 2, 2, 2, 0, 2, 2, 1, 0, 2, 1, 1, 2, 0, 2, 2, 2, 2, 2, 2, 2, 0, 2, 1, 2, 0, 2, 0, 0, 2, 1, 0, 2, 2, 2, 2, 2, 1, 2, 0, 0, 2, 2, 2, 2, 2, 2, 2, 2, 0, 0, 2, 2, 2, 0, 2, 2, 0, 2, 1, 2, 2, 2, 2, 2, 2, 2, 0, 2, 0, 1, 0, 1, 2, 2, 1, 2, 2, 2, 2, 2, 2, 0, 2, 2, 2, 1, 2, 2, 0, 2, 0, 2, 2, 2, 2, 2, 2, 0, 0, 2, 1, 0, 2, 2, 2, 0, 2, 0, 2, 0, 2, 2, 0, 2, 2, 2, 0, 2, 2, 0, 2, 2, 2, 2, 2, 2, 2, 2, 2, 2, 2, 2, 0, 2, 2, 2, 0, 2, 2, 0, 2, 2, 2, 2, 2, 2, 2, 2, 2, 2, 1, 2, 2, 2, 2, 2, 2, 2, 0, 1, 0, 2, 0, 0, 2, 2, 2, 2, 2, 0, 0, 2, 0, 0, 2, 2, 0, 2, 0, 2, 0, 0, 2, 0, 2, 2, 1, 1, 1, 2, 0, 2, 2, 0, 2, 1, 2, 2, 2, 0, 0, 2, 2, 0, 2, 2, 2, 0, 0, 0, 0, 2, 0, 2, 2, 2, 2, 2, 2, 2, 2, 1, 0, 2, 0, 0, 2, 2, 2, 0, 1, 1, 1, 0, 0, 0, 0, 0, 0, 2, 2, 0, 0, 2, 2, 2, 2, 2, 2, 2, 0, 2, 2, 2, 2, 2, 2, 0, 2, 0, 0, 2, 2, 0, 0, 0, 1, 2, 0, 0, 2, 2, 2, 2, 0, 2, 0, 0, 0, 1, 0, 2, 0, 2, 0, 2, 2, 0, 0, 0, 0, 0, 2, 2, 2, 0, 2, 2, 0, 2, 2, 2, 2, 0, 0, 2, 2, 1, 2, 2, 0, 2, 2, 0, 2, 2, 0, 2, 0, 0, 0, 2, 2, 2, 2, 0, 2, 0, 1, 0, 2, 2, 2, 2, 2, 0, 0, 2, 2, 2, 2, 2, 2, 0, 2, 2, 2, 0, 1, 0, 2, 2, 2, 2, 2, 2, 0, 2, 2, 0, 2, 0, 2, 0, 2, 0, 2, 0, 2, 2, 2, 1, 2, 2, 2, 0, 2, 2, 2, 2, 2, 2, 2, 2, 2, 2, 0, 0, 2, 0, 2, 2, 1, 2, 2, 2, 2, 1, 2, 2, 2, 1, 2, 2, 2, 2, 2, 2, 0, 2, 2, 0, 0, 0, 1, 2, 2, 2, 2, 2, 2, 0, 0, 0, 0, 2, 2, 0, 0, 0, 0, 2, 0, 2, 1, 0, 2, 2, 2, 2, 2, 2, 0, 0, 2, 2, 2, 2, 0, 0, 1, 2, 2, 2, 2, 2, 2, 2, 2, 2, 0, 2, 0, 2, 2, 2, 2, 2, 1, 1, 1, 2, 0, 0, 1, 2, 2, 0, 2, 2, 0, 2, 2, 2, 2, 0, 1, 0, 2, 1, 2, 2, 0, 0, 2, 2, 2, 2, 2, 2, 0, 0, 2, 0, 2, 2, 2, 2, 0, 1, 0, 2, 0, 1, 2, 1, 2, 2, 0, 2, 0, 2, 2, 0, 2, 2, 0, 0, 2, 0, 2, 2, 0, 2, 0, 2, 2, 2, 0, 2, 0, 2, 2, 0, 2, 0, 1, 0, 2, 2, 2, 0, 2, 0, 1, 2, 2, 2, 2, 0, 2, 1, 2, 2, 2, 2, 2, 2, 2, 2, 2, 2, 0, 0, 2, 1, 2, 2, 2, 2, 2, 2, 1, 0, 0, 0, 2, 2, 2, 1, 2, 0, 2, 1, 2, 0, 2, 0, 2, 2, 0, 2, 2, 2, 1, 2, 1, 2, 2, 2, 2, 2, 0, 0, 0, 0, 0, 0, 2, 2, 2, 2, 2, 2, 2, 2, 1, 2, 2, 0, 2, 0, 2, 1, 2, 0, 2, 2, 2, 1, 0, 2, 2, 2, 0, 0, 0, 2, 2, 0, 2, 0, 0, 2, 2, 0, 0, 2, 2, 2, 0, 0, 2, 0, 1, 2, 2, 2, 2, 2, 2, 2, 2, 0, 2, 2, 2, 0, 0, 0, 2, 2, 0, 2, 1, 2, 2, 0, 2, 0, 1, 2, 2, 1, 0, 2, 0, 2, 0, 2, 0, 0, 2, 2, 2, 2, 2, 2, 2, 2, 2, 2, 2, 1, 2, 1, 2, 2, 2, 0, 1, 0, 2, 2, 2, 0, 0, 2, 2, 0, 2, 2, 2, 0, 2, 2, 1, 2, 2, 0, 0, 2, 0, 0, 1, 2, 2, 2, 2, 2, 0, 2, 2, 2, 2, 2, 0, 2, 2, 2, 2, 2, 2, 2, 2, 0, 1, 0, 2, 1, 0, 2, 0, 2, 2, 2, 2, 2, 0, 2, 2, 2, 2, 1, 2, 2, 2, 2, 1, 2, 2, 2, 2, 2, 1, 0, 0, 2, 0, 2, 0, 2, 1, 2, 2, 2, 1, 2, 2, 2, 2, 2, 1, 2, 2, 2, 1, 2, 0, 0, 2, 0, 2, 0, 0, 0, 2, 2, 2, 2, 2, 0, 2, 0, 2, 1, 0, 0, 2, 1, 2, 0, 2, 2, 0, 0, 2, 2, 2, 0, 1, 0, 2, 2, 0, 2, 2, 2, 1, 2, 0, 2, 0, 0, 2, 2, 0, 2, 2, 2, 1, 0, 2, 2, 0, 2, 0, 2, 2, 1, 2, 2, 2, 2, 2, 1, 0, 2, 2, 1, 2, 2, 2, 2, 2, 0, 0, 2, 2, 0, 0, 1, 0, 0, 2, 2, 0, 0, 2, 2, 1, 2, 0, 0, 2, 0, 2, 2, 1, 2, 2, 2, 2, 2, 2, 2, 2, 2, 0, 1, 2, 2, 2, 0, 0, 2, 0, 2, 2, 2, 2, 0, 0, 2, 2, 1, 2, 2, 1, 1, 2, 2, 2, 0, 2, 2, 2, 2, 2, 0, 2, 2, 2, 2, 2, 2, 2, 0, 2, 2, 2, 1, 2, 2, 0, 2, 0, 1, 0, 2, 0, 2, 2, 2, 2, 0, 2, 1, 2, 0, 0, 2, 0, 0, 2, 1, 0, 2, 2, 0, 0, 1, 2, 2, 1, 0, 0, 2, 0, 1, 1, 2, 1, 0, 2, 0, 2, 2, 2, 2, 0, 0, 2, 0, 0, 0, 2, 0, 0, 2, 2, 0, 0, 0, 2, 0, 1, 2, 1, 2, 0, 2, 2, 2, 0, 2, 2, 2, 0, 2, 2, 0, 0, 0, 0, 2, 0, 2, 2, 1, 2, 2, 2, 2, 0, 2, 2, 0, 2, 2, 2, 2, 1, 2, 2, 2, 0, 2, 2, 2, 1, 1, 2, 0, 0, 2, 2, 2, 2, 1, 2, 2, 2, 0, 2, 0, 2, 2, 2, 2, 2, 0, 0, 0, 1, 2, 2, 0, 0, 2, 2, 2, 2, 2, 0, 0, 2, 2, 0, 2, 1, 2, 2, 2, 2, 0, 0, 2, 2, 0, 2, 0, 0, 0, 0, 0, 2, 0, 0, 2, 2, 2, 1, 0, 1, 1, 2, 2, 0, 0, 0, 2, 0, 2, 0, 0, 0, 2, 2, 2, 2, 2, 0, 0, 0, 2, 2, 2, 2, 0, 2, 0, 0, 2, 2, 2, 0, 1, 2, 2, 2, 0, 2, 2, 0, 2, 2, 2, 2, 0, 0, 0, 0, 0, 2, 0, 0, 2, 0, 1, 2, 0, 2, 1, 0, 0, 0, 2, 1, 1, 2, 2, 1, 2, 0, 2, 2, 2, 2, 0, 2, 2, 1, 1, 0, 0, 0, 1, 2, 2, 0, 2, 2, 2, 0, 0, 0, 2, 0, 0, 0, 1, 2, 0, 2, 2, 0, 2, 2, 2, 2, 2, 2, 0, 0, 2, 1, 2, 1, 0, 2, 2, 0, 2, 0, 2, 1, 2, 0, 0, 2, 2, 2, 2, 2, 0, 2, 1, 0, 2, 0, 2, 2, 2, 2, 2, 2, 2, 2, 0, 2, 2, 2, 2, 2, 2, 2, 1, 2, 2, 2, 0, 2, 0, 1, 2, 2, 0, 0, 2, 2, 2, 2, 2, 2, 2, 0, 2, 2, 2, 2, 0, 2, 0, 0, 2, 0, 1, 2, 2, 0, 2, 2, 2, 2, 2, 1, 2, 2, 0, 2, 2, 2, 0, 0, 0, 1, 2, 0, 2, 0, 2, 2, 2, 2, 2, 0, 2, 2, 2, 2, 0, 0, 2, 2, 1, 0, 0, 2, 0, 2, 0, 2, 2, 2, 2, 2, 2, 0, 1, 2, 2, 2, 0, 2, 2, 2, 2, 1, 1, 2, 1, 2, 0, 2, 0, 2, 2, 2, 2, 0, 2, 0, 0, 0, 2, 2, 2, 0, 2, 0, 2, 2, 0, 2, 0, 2, 0, 2, 2, 1, 2, 2, 2, 2, 0, 0, 0, 2, 1, 2, 2, 2, 2, 2, 2, 0, 2, 1, 2, 2, 2, 1, 2, 0, 2, 2, 2, 2, 1, 2, 2, 2, 2, 0, 2, 2, 0, 1, 2, 2, 2, 2, 2, 2, 2, 2, 2, 0, 2, 2, 2, 1, 0, 2, 0, 2, 0, 0, 0, 2, 2, 2, 2, 1, 0, 2, 2, 0, 0, 0, 0, 2, 1, 2, 2, 2, 2, 2, 2, 2, 2, 0, 2, 2, 0, 2, 2, 0, 2, 2, 1, 2, 0, 2, 0, 1, 0, 1, 0, 2, 0, 2, 2, 2, 1, 2, 0, 2, 2, 2, 2, 0, 0, 2, 2, 2, 2, 2, 2, 2, 0, 2, 2, 0, 2, 0, 2, 2, 1, 0, 2, 0, 0, 2, 2, 2, 2, 2, 0, 2, 2, 2, 2, 2, 0, 1, 2, 2, 1, 1, 2, 2, 0, 0, 1, 2, 2, 0, 1, 0, 0, 2, 2, 2, 0, 2, 0, 2, 2, 0, 2, 2, 0, 2, 2, 0, 2, 2, 2, 0, 2, 0, 2, 2, 0, 2, 2, 0, 2, 2, 2, 2, 2, 2, 0, 2, 2, 0, 0, 2, 2, 0, 0, 2, 2, 0, 0, 2, 0, 1, 2, 0, 2, 2, 2, 0, 2, 0, 2, 2, 2, 1, 1, 2, 2, 2, 2, 2, 0, 2, 2, 2, 2, 2, 2, 0, 2, 2, 0, 2, 2, 0, 0, 1, 2, 2, 2, 2, 2, 2, 2, 2, 2, 2, 0, 0, 0, 2, 2, 0, 2, 0, 1, 0, 2, 0, 2, 0, 1, 2, 2, 2, 2, 0, 2, 2, 1, 2, 2, 1, 2, 2, 2, 2, 2, 0, 2, 2, 0, 2, 0, 2, 2, 0, 0, 2, 0, 2, 2, 2, 0, 2, 2, 2, 0, 2, 2, 1, 0, 1, 2, 2, 1, 0, 2, 0, 2, 0, 2, 2, 2, 2, 2, 2, 0, 1, 2, 0, 0, 0, 2, 0, 1, 2, 2, 0, 0, 2, 2, 2, 0, 0, 2, 0, 2, 2, 2, 2, 0, 2, 0, 0, 2, 0, 1, 0, 1, 0, 2, 2, 2, 2, 2, 2, 2, 2, 0, 0, 2, 0, 2, 2, 2, 0, 2, 2, 2, 2, 0, 2, 2, 1, 0, 2, 0, 2, 2, 2, 2, 2, 2, 0, 2, 1, 1, 2, 2, 0, 2, 2, 2, 2, 2, 0, 2, 2, 2, 0, 0, 2, 2, 2, 0, 0, 2, 2, 2, 2, 2, 2, 2, 0, 0, 0, 2, 0, 0, 0, 1, 0, 0, 2, 0, 2, 2, 2, 0, 0, 2, 0, 2, 1, 0, 2, 0, 2, 0, 0, 2, 2, 0, 2, 2, 2, 2, 0, 2, 2, 1, 2, 1, 2, 2, 2, 0, 2, 0, 2, 2, 2, 2, 0, 0, 2, 1, 0, 0, 0, 2, 0, 1, 0, 0, 0, 2, 2, 2, 0, 2, 2, 2, 2, 2, 2, 0, 2, 0, 2, 0, 2, 1, 0, 0, 2, 2, 2, 2, 2, 1, 0, 2, 2, 1, 2, 2, 2, 2, 2, 2, 2, 0, 2, 0, 0, 0, 0, 2, 2, 2, 1, 2, 0, 2, 0, 0, 1, 2, 0, 2, 2, 0, 2, 2, 2, 0, 1, 0, 0, 0, 0, 1, 2, 2, 2, 1, 2, 2, 2, 2, 0, 2, 2, 2, 2, 2, 1, 2, 2, 2, 2, 2, 2, 0, 2, 0, 2, 2, 2, 2, 1, 2, 2, 0, 2, 2, 0, 0, 2, 2, 2, 2, 2, 0, 2, 0, 0, 2, 2, 2, 2, 2, 1, 1, 1, 2, 2, 2, 0, 2, 0, 0, 0, 1, 0, 2, 0, 0, 0, 2, 0, 0, 2, 2, 1, 2, 2, 0, 2, 0, 2, 2, 0, 2, 2, 0, 2, 2, 0, 2, 0, 2, 2, 0, 2, 2, 1, 2, 2, 0, 2, 0, 1, 0, 1, 0, 1, 2, 1, 2, 2, 1, 2, 2, 2, 2, 2, 2, 1, 0, 0, 0, 0, 2, 2, 2, 2, 1, 0, 0, 2, 2, 2, 2, 2, 2, 2, 2, 0, 2, 0, 0, 2, 2, 0, 1, 2, 2, 2, 2, 0, 2, 2, 0, 2, 0, 2, 2, 1, 0, 0, 2, 2, 2, 2, 2, 2, 2, 2, 2, 2, 2, 2, 2, 0, 2, 2, 2, 2, 2, 2, 0, 0, 2, 0, 2, 0, 2, 2, 2, 2, 2, 0, 2, 0, 1, 1, 0, 2, 1, 2, 0, 1, 1, 2, 2, 2, 1, 2, 2, 0, 0, 2, 0, 2, 2, 2, 2, 2, 2, 2, 0, 2, 0, 2, 2, 2, 1, 0, 2, 0, 2, 0, 1, 0, 2, 2, 2, 2, 2, 0, 0, 2, 2, 0, 2, 0, 2, 0, 0, 2, 0, 2, 2, 0, 0, 0, 0, 2, 2, 2, 2, 1, 2, 0, 0, 2, 2, 2, 2, 2, 2, 2, 2, 2, 2, 2, 2, 2, 0, 0, 2, 0, 0, 2, 0, 2, 0, 2, 2, 2, 2, 2, 0, 2, 0, 2, 0, 1, 1, 0, 2, 2, 1, 1, 2, 0, 2, 2, 2, 0, 0, 2, 2, 2, 1, 0, 1, 0, 1, 0, 2, 0, 1, 0, 2, 2, 2, 0, 0, 2, 2, 0, 2, 2, 2, 1, 2, 2, 2, 2, 2, 2, 2, 2, 0, 2, 2, 0, 2, 2, 2, 0, 2, 0, 1, 2, 0, 2, 2, 2, 0, 2, 2, 0, 2, 2, 0, 2, 2, 2, 2, 2, 1, 0, 2, 2, 2, 2, 2, 2, 1, 2, 2, 2, 1, 2, 1, 0, 2, 2, 2, 0, 2, 2, 2, 0, 2, 0, 2, 0, 2, 2, 2, 0, 0, 2, 0, 0, 2, 0, 2, 2, 0, 2, 1, 2, 2, 2, 0, 0, 2, 0, 2, 0, 0, 0, 2, 2, 0, 0, 0, 2, 0, 0, 2, 2, 0, 1, 2, 2, 1, 0, 2, 2, 0, 1, 2, 2, 2, 2, 2, 0, 2, 2, 0, 0, 2, 2, 2, 2, 0, 0, 2, 0, 2, 2, 2, 0, 0, 1, 2, 0, 1, 0, 0, 0, 0, 2, 2, 0, 2, 2, 2, 0, 0, 2, 2, 1, 2, 2, 0, 0, 0, 2, 2, 0, 0, 0, 0, 2, 0, 0, 1, 2, 2, 2, 2, 2, 2, 2, 0, 0, 2, 0, 0, 2, 0, 0, 2, 1, 0, 2, 1, 2, 2, 2, 2, 2, 2, 2, 2, 0, 2, 2, 0, 2, 2, 1, 2, 2, 2, 2, 2, 0, 2, 2, 0, 1, 2, 1, 2, 0, 2, 0, 2, 2, 0, 0, 0, 0, 1, 2, 2, 2, 1, 2, 2, 0, 2, 2, 0, 0, 2, 0, 0, 2, 1, 2, 2, 2, 2, 1, 0, 0, 2, 0, 2, 0, 0, 2, 2, 0, 2, 2, 2, 2, 0, 0, 2, 2, 0, 0, 2, 2, 2, 0, 2, 2, 0, 2, 2, 0, 2, 2, 1, 2, 2, 2, 2, 0, 2, 2, 1, 2, 2, 2, 2, 2, 0, 2, 0, 2, 0, 2, 2, 0, 0, 2, 2, 2, 2, 2, 1, 2, 0, 0, 0, 0, 2, 2, 0, 2, 1, 0, 2, 0, 0, 2, 2, 1, 1, 2, 2, 2, 2, 2, 2, 0, 0, 1, 2, 2, 1, 2, 2, 2, 0, 2, 0, 2, 2, 2, 2, 2, 0, 2, 2, 2, 0, 2, 2, 2, 1, 2, 0, 2, 0, 2, 1, 1, 0, 0, 0, 0, 2, 2, 0, 2, 2, 2, 2, 2, 0, 2, 2, 1, 2, 2, 2, 0, 2, 1, 2, 2, 2, 2, 2, 2, 2, 0, 0, 2, 0, 2, 0, 0, 2, 1, 1, 2, 2, 2, 2, 1, 0, 0, 2, 2, 1, 0, 2, 2, 1, 1, 2, 2, 0, 2, 2, 2, 2, 0, 2, 2, 2, 2, 2, 0, 1, 2, 2, 2, 2, 2, 1, 0, 1, 2, 2, 2, 2, 2, 0, 0, 1, 2, 0, 2, 0, 0, 0, 2, 2, 2, 2, 2, 0, 2, 0, 2, 2, 2, 0, 2, 0, 2, 2, 2, 2, 1, 0, 2, 0, 2, 0, 2, 0, 2, 2, 2, 1, 2, 2, 0, 0, 2, 0, 2, 0, 2, 1, 0, 2, 1, 2, 1, 2, 0, 2, 0, 0, 0, 1, 0, 2, 0, 1, 2, 2, 2, 2, 2, 2, 2, 2, 2, 1, 2, 2, 2, 2, 2, 2, 2, 2, 0, 0, 2, 0, 0, 1, 2, 2, 2, 2, 2, 0, 0, 2, 0, 0, 2, 2, 0, 0, 2, 2, 2, 0, 2, 0, 2, 0, 2, 0, 2, 2, 0, 0, 2, 0, 1, 0, 2, 0, 2, 2, 2, 2, 2, 2, 0, 0, 2, 2, 2, 0, 2, 2, 2, 1, 0, 0, 1, 2, 2, 0, 2, 0, 0, 0, 2, 1, 2, 2, 2, 0, 2, 0, 1, 2, 2, 0, 2, 2, 2, 0, 2, 2, 2, 2, 2, 2, 1, 2, 1, 2, 2, 2, 0, 2, 0, 0, 2, 2, 2, 2, 2, 2, 2, 0, 2, 0, 0, 0, 2, 0, 0, 0, 2, 2, 1, 2, 2, 2, 1, 0, 2, 0, 2, 2, 2, 1, 2, 2, 2, 2, 2, 0, 2, 2, 2, 2, 2, 2, 0, 2, 0, 2, 0, 0, 2, 1, 1, 0, 2, 2, 2, 2, 2, 0, 2, 2, 2, 1, 2, 2, 2, 2, 2, 2, 2, 2, 2, 2, 2, 2, 2, 2, 0, 2, 2, 2, 2, 2, 0, 2, 2, 1, 0, 2, 2, 2, 2, 2, 2, 2, 2, 2, 1, 0, 0, 0, 2, 1, 0, 2, 0, 2, 2, 2, 2, 0, 2, 0, 2, 2, 1, 2, 0, 2, 0, 2, 2, 0, 0, 2, 2, 2, 2, 0, 2, 2, 2, 0, 2, 0, 0, 2, 0, 1, 2, 2, 1, 0, 2, 2, 0, 2, 1, 2, 2, 2, 2, 2, 2, 2, 0, 2, 2, 2, 2, 2, 2, 0, 2, 2, 1, 0, 0, 2, 2, 1, 0, 0, 0, 2, 2, 2, 0, 0, 2, 1, 0, 2, 0, 2, 2, 0, 2, 2, 0, 2, 2, 2, 2, 0, 2, 2, 2, 0, 0, 1, 0, 0, 2, 2, 0, 2, 0, 1, 2, 2, 1, 2, 2, 2, 2, 1, 2, 1, 2, 1, 2, 0, 2, 2, 2, 2, 1, 2, 0, 2, 0, 0, 2, 2, 0, 2, 2, 0, 2, 2, 0, 2, 2, 0, 2, 0, 2, 2, 0, 0, 0, 0, 0, 0, 1, 2, 2, 0, 2, 2, 2, 2, 0, 2, 2, 0, 2, 2, 2, 2, 2, 0, 2, 0, 2, 0, 1, 2, 0, 0, 0, 2, 2, 0, 0, 1, 0, 2, 0, 2, 2, 2, 2, 2, 1, 0, 0, 2, 2, 2, 2, 0, 2, 2, 2, 2, 2, 0, 0, 2, 0, 1, 0, 2, 2, 2, 0, 2, 0, 2, 0, 2, 2, 2, 0, 2, 2, 2, 2, 2, 2, 0, 0, 2, 2, 2, 0, 2, 0, 1, 2, 0, 2, 2, 2, 2, 0, 2, 2, 2, 0, 2, 2, 2, 2, 2, 0, 2, 2, 2, 2, 0, 1, 0, 2, 2, 0, 2, 1, 2, 2, 2, 2, 2, 0, 0, 2, 0, 2, 0, 2, 0, 2, 2, 2, 2, 2, 2, 1, 2, 2, 2, 2, 2, 0, 2, 2, 2, 0, 1, 0, 2, 2, 1, 0, 2, 2, 2, 2, 1, 2, 2, 0, 2, 2, 2, 0, 2, 0, 0, 0, 1, 2, 2, 2, 2, 2, 1, 2, 2, 2, 2, 2, 0, 0, 0, 2, 2, 2, 2, 2, 0, 0, 1, 2, 2, 0, 2, 2, 1, 2, 0, 0, 1, 2, 0, 0, 0, 2, 2, 2, 2, 2, 2, 2, 0, 2, 0, 2, 0, 1, 2, 2, 2, 2, 2, 0, 2, 2, 2, 2, 2, 2, 2, 2, 0, 2, 1, 1, 1, 0, 1, 2, 2, 2, 0, 2, 1, 2, 2, 2, 0, 0, 2, 2, 0, 2, 2, 2, 1, 0, 2, 2, 2, 0, 2, 2, 2, 0, 0, 0, 2, 2, 2, 2, 2, 0, 2, 2, 2, 1, 2, 2, 2, 0, 0, 2, 1, 2, 2, 0, 0, 1, 2, 2, 2, 2, 2, 2, 0, 0, 1, 2, 2, 2, 2, 2, 0, 2, 0, 2, 0, 2, 2, 2, 2, 2, 0, 2, 0, 0, 2, 2, 2, 2, 0, 2, 2, 2, 1, 2, 2, 1, 1, 0, 0, 2, 2, 1, 2, 2, 2, 2, 2, 1, 2, 2, 1, 2, 2, 2, 2, 2, 2, 0, 2, 0, 2, 0, 2, 0, 0, 0, 0, 0, 2, 2, 1, 2, 1, 2, 2, 0, 2, 2, 2, 2, 0, 2, 2, 2, 2, 2, 2, 2, 2, 0, 2, 2, 2, 0, 2, 2, 2, 2, 2, 2, 0, 2, 2, 2, 2, 2, 0, 1, 2, 0, 2, 2, 1, 1, 1, 0, 2, 2, 2, 0, 2, 2, 2, 2, 0, 2, 0, 2, 0, 2, 0, 2, 1, 2, 1, 2, 2, 2, 2, 2, 2, 2, 1, 2, 2, 2, 2, 2, 2, 0, 2, 2, 2, 2, 2, 1, 0, 2, 2, 0, 2, 2, 0, 1, 0, 0, 0, 2, 0, 2, 2, 0, 1, 2, 1, 2, 2, 0, 2, 2, 2, 0, 2, 2, 1, 2, 0, 2, 0, 2, 2, 0, 2, 2, 2, 2, 2, 0, 0, 2, 2, 2, 0, 2, 2, 2, 0, 0, 2, 0, 2, 1, 2, 0, 0, 2, 2, 2, 0, 0, 2, 0, 2, 2, 2, 1, 0, 0, 2, 0, 2, 2, 2, 2, 2, 2, 2, 0, 2, 2, 0, 2, 1, 2, 2, 1, 2, 2, 1, 2, 2, 2, 0, 2, 0, 1, 2, 0, 0, 2, 2, 0, 2, 2, 0, 0, 2, 2, 1, 2, 2, 0, 0, 2, 2, 2, 2, 2, 2, 0, 2, 2, 0, 0, 2, 0, 2, 2, 0, 2, 2, 2, 2, 2, 2, 1, 2, 2, 2, 0, 2, 2, 2, 2, 0, 0, 2, 2, 0, 2, 0, 2, 0, 0, 0, 2, 2, 0, 2, 2, 1, 1, 2, 0, 2, 0, 0, 2, 2, 0, 2, 0, 0, 2, 2, 2, 2, 2, 1, 2, 2, 2, 2, 2, 2, 0, 2, 1, 1, 2, 2, 2, 2, 2, 2, 2, 1, 0, 2, 2, 2, 2, 2, 0, 2, 1, 2, 2, 0, 2, 2, 2, 2, 0, 2, 2, 2, 0, 1, 2, 2, 2, 0, 2, 2, 0, 2, 0, 0, 0, 2, 2, 0, 0, 2, 2, 1, 2, 1, 2, 2, 2, 2, 0, 2, 2, 1, 2, 2, 2, 2, 2, 2, 0, 2, 2, 2, 2, 2, 1, 2, 0, 2, 2, 1, 2, 0, 0, 2, 0, 2, 0, 2, 0, 2, 2, 2, 2, 2, 0, 2, 2, 2, 0, 2, 2, 0, 2, 2, 0, 2, 2, 0, 2, 0, 2, 0, 0, 1, 1, 0, 0, 0, 2, 0, 1, 2, 2, 2, 2, 0, 2, 2, 1, 2, 2, 2, 2, 2, 2, 2, 2, 0, 2, 0, 2, 2, 2, 0, 2, 2, 0, 2, 2, 2, 2, 2, 0, 2, 0, 2, 0, 2, 2, 2, 2, 2, 0, 1, 2, 0, 0, 2, 0, 0, 2, 1, 2, 2, 2, 1, 0, 2, 2, 2, 0, 0, 0, 2, 0, 2, 2, 2, 2, 2, 2, 2, 0, 0, 0, 0, 1, 0, 0, 0, 2, 2, 2, 2, 2, 2, 2, 2, 0, 2, 2, 2, 0, 2, 0, 2, 0, 2, 2, 1, 0, 2, 1, 1, 2, 2, 2, 2, 2, 2, 2, 0, 2, 0, 0, 2, 2, 2, 2, 2, 2, 0, 2, 2, 2, 0, 0, 0, 0, 2, 2, 2, 2, 0, 2, 0, 1, 2, 2, 2, 2, 2, 2, 2, 2, 2, 2, 2, 2, 2, 0, 2, 2, 2, 2, 1, 2, 2, 0, 2, 1, 2, 0, 0, 2, 2, 0, 2, 0, 2, 1, 2, 0, 2, 2, 0, 2, 0, 2, 2, 2, 0, 2, 0, 1, 2, 2, 2, 2, 2, 1, 0, 2, 2, 0, 2, 2, 2, 2, 1, 0, 2, 2, 2, 0, 2, 2, 2, 2, 2, 2, 0, 0, 2, 2, 0, 2, 2, 1, 0, 2, 2, 0, 0, 2, 1, 2, 0, 2, 0, 2, 2, 2, 2, 2, 2, 2, 0, 2, 2, 0, 2, 2, 0, 0, 0, 2, 2, 2, 2, 2, 2, 0, 0, 2, 0, 0, 2, 1, 0, 0, 2, 2, 2, 2, 2, 0, 2, 0, 2, 0, 2, 2, 0, 0, 0, 0, 2, 2, 0, 1, 2, 2, 2, 0, 2, 2, 2, 2, 2, 2, 2, 0, 0, 2, 2, 1, 0, 0, 1, 2, 0, 2, 2, 2, 2, 2, 2, 2, 2, 0, 0, 2, 0, 2, 0, 2, 2, 0, 2, 2, 0, 0, 2, 0, 2, 0, 0, 2, 0, 0, 0, 2, 2, 0, 0, 2, 0, 2, 0, 2, 0, 2, 2, 0, 2, 2, 2, 2, 2, 2, 2, 0, 2, 2, 0, 2, 2, 2, 2, 2, 2, 0, 0, 2, 0, 2, 0, 0, 2, 2, 2, 2, 0, 0, 2, 1, 2, 0, 2, 2, 2, 1, 0, 2, 2, 2, 2, 0, 1, 2, 2, 2, 2, 2, 0, 2, 2, 0, 2, 1, 2, 2, 2, 2, 2, 0, 2, 2, 2, 2, 2, 0, 2, 0, 2, 2, 0, 2, 2, 2, 2, 2, 2, 2, 0, 2, 2, 2, 0, 2, 2, 1, 0, 0, 2, 2, 2, 1, 0, 0, 2, 2, 0, 0, 0, 2, 2, 2, 2, 1, 0, 0, 0, 0, 2, 2, 2, 2, 2, 2, 2, 1, 0, 2, 2, 2, 0, 0, 2, 1, 2, 2, 2, 1, 2, 2, 2, 1, 0, 0, 2, 2, 0, 1, 2, 2, 0, 2, 2, 0, 0, 1, 2, 2, 2, 2, 2, 0, 0, 2, 0, 0, 2, 2, 2, 2, 0, 2, 2, 2, 1, 0, 2, 2, 1, 2, 2, 0, 2, 2, 0, 2, 0, 2, 1, 2, 0, 1, 2, 2, 0, 2, 2, 1, 0, 2, 2, 2, 0, 0, 0, 2, 0, 2, 0, 0, 0, 2, 2, 2, 2, 2, 1, 2, 0, 0, 0, 2, 1, 0, 0, 2, 0, 2, 2, 2, 2, 0, 0, 0, 2, 2, 2, 2, 0, 2, 0, 2, 2, 0, 2, 2, 2, 2, 2, 0, 0, 0, 2, 0, 2, 0, 2, 2, 2, 0, 2, 2, 0, 2, 2, 2, 2, 2, 2, 0, 2, 2, 2, 2, 0, 2, 0, 2, 0, 2, 2, 2, 0, 2, 0, 0, 1, 2, 2, 0, 0, 0, 2, 2, 2, 2, 0, 0, 1, 0, 2, 2, 2, 0, 0, 2, 2, 1, 2, 2, 0, 0, 2, 2, 2, 2, 2, 2, 0, 0, 2, 2, 2, 2, 0, 0, 1, 2, 2, 2, 2, 2, 2, 0, 0, 2, 2, 2, 2, 2, 2, 2, 2, 1, 2, 2, 2, 2, 0, 0, 0, 1, 0, 0, 0, 1, 0, 0, 0, 1, 0, 2, 1, 2, 0, 0, 0, 0, 2, 2, 2, 2, 0, 2, 1, 0, 0, 2, 2, 2, 2, 2, 2, 2, 2, 0, 2, 0, 2, 1, 0, 0, 2, 2, 2, 0, 0, 2, 0, 0, 0, 2, 2, 2, 2, 0, 2, 2, 2, 2, 0, 1, 2, 0, 0, 0, 2, 2, 1, 0, 0, 0, 2, 0, 2, 2, 2, 2, 2, 2, 2, 2, 2, 2, 2, 2, 0, 2, 0, 2, 0, 2, 2, 0, 2, 2, 2, 2, 2, 2, 1, 2, 0, 2, 2, 0, 2, 2, 2, 1, 0, 2, 0, 0, 0, 2, 2, 2, 2, 2, 2, 2, 2, 2, 2, 2, 2, 0, 2, 0, 0, 2, 1, 2, 0, 2, 0, 2, 1, 2, 0, 2, 0, 0, 2, 2, 2, 0, 2, 0, 2, 0, 2, 2, 2, 2, 2, 2, 2, 2, 0, 2, 2, 0, 2, 2, 2, 2, 0, 2, 2, 2, 2, 0, 2, 2, 2, 0, 0, 2, 2, 2, 1, 2, 2, 2, 2, 2, 0, 0, 2, 0, 0, 0, 0, 0, 2, 2, 2, 0, 2, 2, 0, 0, 0, 1, 2, 0, 2, 2, 1, 0, 2, 1, 0, 0, 2, 0, 2, 1, 1, 2, 2, 2, 0, 0, 1, 2, 0, 2, 2, 2, 0, 2, 0, 2, 2, 0, 0, 0, 2, 0, 2, 2, 2, 2, 0, 0, 2, 0, 2, 2, 2, 2, 1, 2, 2, 0, 1, 2, 2, 0, 2, 2, 0, 0, 0, 0, 1, 2, 0, 2, 0, 2, 2, 0, 2, 2, 2, 2, 2, 1, 2, 2, 0, 0, 0, 0, 2, 2, 2, 2, 0, 2, 1, 2, 2, 0, 0, 2, 1, 1, 0, 2, 2, 0, 1, 2, 0, 2, 0, 2, 2, 0, 1, 0, 2, 0, 1, 2, 0, 2, 2, 2, 2, 2, 1, 2, 0, 2, 1, 2, 2, 2, 2, 2, 2, 2, 2, 2, 2, 0, 0, 1, 2, 2, 2, 2, 2, 0, 2, 1, 2, 2, 2, 2, 0, 2, 2, 0, 2, 1, 0, 2, 2, 1, 0, 0, 2, 2, 0, 2, 2, 0, 2, 2, 0, 2, 0, 2, 2, 1, 2, 2, 0, 1, 2, 2, 1, 2, 2, 0, 2, 2, 2, 2, 2, 0, 0, 2, 2, 1, 2, 1, 2, 0, 2, 2, 2, 2, 2, 2, 1, 0, 0, 2, 2, 2, 2, 0, 1, 2, 2, 2, 0, 2, 2, 0, 0, 2, 2, 2, 2, 0, 0, 0, 2, 2, 2, 2, 2, 0, 2, 2, 2, 0, 0, 2, 2, 0, 2, 0, 0, 2, 0, 2, 0, 2, 2, 2, 2, 0, 2, 2, 2, 0, 2, 2, 2, 2, 0, 2, 2, 0, 0, 2, 0, 2, 1, 2, 2, 2, 2, 2, 1, 2, 2, 2, 2, 1, 2, 0, 2, 0, 1, 2, 2, 2, 1, 0, 0, 0, 2, 2, 2, 2, 2, 2, 2, 0, 2, 2, 2, 2, 1, 2, 2, 2, 0, 0, 0, 0, 2, 0, 0, 0, 2, 0, 0, 0, 2, 2, 0, 2, 2, 2, 2, 2, 0, 2, 2, 2, 2, 2, 2, 2, 2, 2, 2, 2, 2, 2, 2, 0, 2, 2, 2, 2, 0, 2, 2, 0, 0, 0, 2, 2, 0, 2, 2, 2, 0, 0, 0, 1, 2, 1, 2, 2, 0, 2, 2, 1, 2, 2, 2, 2, 0, 0, 1, 2, 2, 1, 2, 2, 2, 2, 2, 2, 2, 2, 0, 2, 0, 0, 2, 0, 0, 2, 0, 1, 2, 2, 2, 0, 2, 0, 1, 0, 2, 2, 2, 1, 2, 2, 2, 2, 2, 2, 2, 2, 2, 2, 2, 2, 1, 2, 1, 0, 1, 0, 2, 2, 1, 1, 2, 2, 1, 2, 2, 0, 2, 2, 2, 2, 0, 0, 0, 2, 2, 0, 2, 2, 2, 1, 0, 0, 0, 2, 2, 0, 2, 1, 1, 2, 2, 2, 1, 1, 2, 2, 0, 0, 2, 2, 2, 0, 1, 2, 2, 2, 0, 0, 2, 1, 0, 2, 2, 2, 2, 2, 0, 2, 2, 2, 0, 2, 0, 0, 0, 1, 2, 0, 0, 1, 1, 0, 2, 0, 2, 2, 0, 2, 2, 2, 2, 2, 0, 0, 2, 2, 0, 0, 2, 0, 0, 0, 2, 0, 2, 0, 2, 2, 2, 2, 2, 2, 0, 2, 0, 2, 0, 0, 2, 0, 0, 2, 2, 0, 1, 2, 2, 2, 2, 2, 0, 2, 2, 0, 0, 2, 2, 2, 2, 2, 2, 0, 1, 0, 2, 0, 2, 2, 2, 2, 2, 0, 2, 1, 0, 2, 1, 0, 2, 0, 2, 2, 2, 0, 2, 2, 1, 0, 2, 2, 2, 0, 2, 2, 2, 0, 0, 2, 0, 0, 1, 2, 2, 2, 0, 2, 0, 2, 0, 2, 0, 2, 2, 2, 2, 2, 2, 1, 0, 2, 0, 0, 0, 2, 2, 2, 2, 0, 2, 0, 2, 2, 0, 0, 2, 1, 0, 2, 0, 2, 2, 2, 0, 2, 2, 2, 2, 2, 2, 1, 0, 0, 2, 0, 0, 2, 2, 2, 2, 2, 0, 1, 0, 2, 2, 2, 0, 0, 1, 0, 2, 2, 2, 0, 0, 0, 0, 1, 0, 2, 1, 1, 2, 2, 2, 2, 2, 2, 2, 2, 0, 2, 0, 2, 0, 1, 2, 2, 0, 2, 2, 0, 2, 2, 0, 2, 0, 0, 2, 2, 2, 2, 2, 2, 1, 2, 2, 2, 0, 2, 2, 0, 0, 2, 1, 0, 0, 1, 2, 2, 2, 2, 1, 0, 1, 2, 2, 0, 2, 1, 0, 2, 2, 0, 0, 2, 0, 1, 1, 2, 0, 2, 2, 2, 2, 0, 2, 2, 1, 0, 2, 2, 2, 0, 2, 2, 0, 0, 2, 2, 1, 0, 2, 2, 2, 2, 2, 2, 0, 0, 2, 2, 2, 2, 2, 0, 2, 2, 1, 2, 1, 2, 0, 2, 2, 0, 2, 0, 2, 0, 2, 0, 2, 0, 2, 2, 2, 2, 1, 2, 2, 2, 2, 2, 2, 0, 2, 2, 2, 2, 2, 2, 2, 2, 2, 0, 2, 2, 2, 2, 2, 2, 2, 0, 2, 2, 2, 2, 1, 2, 2, 2, 2, 0, 0, 2, 0, 1, 0, 2, 2, 2, 0, 2, 2, 1, 2, 2, 0, 2, 2, 2, 2, 0, 0, 2, 2, 0, 0, 2, 2, 2, 2, 1, 0, 2, 2, 2, 2, 2, 2, 0, 2, 2, 2, 2, 2, 0, 0, 2, 2, 2, 2, 2, 0, 0, 2, 2, 2, 2, 2, 2, 0, 0, 0, 2, 2, 2, 0, 0, 2, 1, 0, 2, 1, 2, 2, 0, 2, 2, 2, 0, 0, 2, 2, 0, 0, 0, 1, 1, 2, 2, 2, 2, 2, 2, 2, 2, 2, 1, 2, 2, 2, 2, 2, 0, 2, 2, 2, 0, 0, 2, 1, 2, 2, 2, 0, 1, 2, 0, 2, 0, 2, 0, 0, 2, 2, 0, 2, 2, 2, 2, 2, 0, 0, 2, 0, 2, 2, 0, 2, 2, 2, 0, 0, 0, 2, 2, 2, 2, 1, 0, 2, 2, 2, 0, 0, 2, 0, 2, 2, 2, 2, 2, 2, 2, 2, 0, 0, 0, 0, 2, 2, 2, 2, 2, 0, 2, 2, 1, 0, 2, 2, 2, 2, 2, 2, 0, 2, 2, 2, 2, 2, 1, 2, 1, 2, 0, 2, 2, 2, 0, 2, 0, 2, 0, 2, 2, 2, 2, 0, 0, 2, 2, 0, 2, 1, 0, 2, 2, 0, 2, 2, 0, 2, 2, 2, 2, 0, 2, 2, 2, 0, 2, 2, 2, 2, 1, 2, 2, 2, 2, 0, 0, 0, 2, 2, 2, 2, 2, 2, 0, 2, 0, 2, 0, 2, 2, 0, 2, 2, 2, 2, 2, 2, 2, 2, 2, 2, 2, 2, 0, 2, 0, 2, 2, 0, 2, 2, 2, 2, 2, 0, 0, 0, 2, 0, 0, 0, 2, 2, 2, 2, 2, 0, 0, 0, 0, 0, 0, 2, 0, 2, 2, 2, 2, 1, 2, 2, 0, 0, 0, 2, 2, 0, 0, 2, 0, 2, 1, 1, 2, 0, 2, 2, 2, 2, 0, 2, 1, 2, 2, 0, 2, 2, 0, 0, 2, 0, 0, 2, 0, 1, 2, 0, 0, 1, 2, 2, 0, 0, 0, 0, 2, 2, 2, 2, 2, 2, 0, 2, 2, 2, 2, 0, 0, 2, 2, 2, 2, 2, 2, 2, 2, 2, 1, 1, 2, 2, 2, 2, 2, 2, 0, 2, 2, 0, 2, 1, 1, 2, 0, 2, 2, 1, 0, 2, 0, 0, 0, 2, 2, 2, 2, 2, 0, 2, 0, 2, 2, 2, 2, 2, 2, 2, 0, 0, 0, 0, 2, 1, 2, 2, 0, 1, 2, 2, 2, 0, 2, 0, 0, 2, 2, 1, 2, 2, 2, 0, 0, 2, 0, 1, 2, 0, 0, 0, 2, 2, 1, 2, 0, 1, 0, 1, 0, 2, 0, 2, 2, 2, 0, 2, 2, 1, 0, 2, 2, 0, 2, 2, 1, 0, 0, 2, 2, 2, 0, 2, 2, 2, 2, 2, 2, 2, 0, 2, 2, 0, 0, 0, 0, 2, 2, 0, 0, 0, 0, 1, 2, 2, 2, 2, 1, 1, 0, 2, 2, 2, 0, 2, 0, 1, 2, 2, 0, 2, 1, 1, 2, 0, 0, 2, 0, 2, 0, 2, 0, 0, 0, 2, 2, 2, 0, 0, 2, 0, 0, 2, 2, 1, 2, 0, 2, 0, 2, 2, 2, 0, 0, 2, 0, 2, 2, 1, 2, 2, 0, 0, 1, 2, 2, 0, 0, 2, 2, 0, 2, 2, 1, 2, 2, 2, 2, 2, 2, 0, 2, 2, 2, 1, 0, 1, 2, 2, 1, 0, 2, 0, 2, 2, 0, 0, 2, 1, 2, 2, 0, 2, 2, 2, 0, 1, 0, 2, 0, 2, 0, 2, 0, 0, 0, 0, 2, 2, 2, 0, 0, 2, 2, 2, 2, 2, 1, 1, 2, 2, 0, 2, 0, 2, 0, 0, 2, 0, 2, 1, 2, 1, 1, 1, 2, 2, 2, 0, 2, 1, 1, 2, 0, 0, 2, 2, 2, 2, 2, 2, 0, 1, 2, 2, 0, 0, 0, 2, 2, 0, 2, 0, 2, 2, 2, 2, 0, 1, 2, 2, 0, 2, 2, 2, 0, 0, 2, 0, 0, 0, 2, 1, 2, 0, 0, 2, 2, 2, 0, 0, 2, 0, 0, 2, 2, 2, 0, 1, 2, 0, 0, 2, 2, 2, 2, 2, 0, 0, 2, 0, 0, 2, 2, 2, 2, 2, 2, 2, 0, 1, 0, 0, 2, 2, 2, 2, 2, 0, 2, 2, 0, 2, 0, 1, 2, 2, 1, 2, 0, 0, 2, 2, 1, 2, 2, 1, 2, 1, 0, 2, 2, 2, 0, 0, 2, 2, 0, 0, 2, 0, 2, 2, 2, 0, 2, 0, 0, 0, 2, 2, 2, 0, 2, 2, 2, 2, 2, 1, 0, 2, 2, 2, 2, 0, 2, 0, 2, 0, 0, 0, 1, 0, 2, 0, 1, 0, 2, 2, 2, 2, 2, 2, 2, 2, 2, 2, 2, 0, 2, 2, 0, 2, 2, 2, 0, 2, 0, 2, 1, 2, 2, 2, 0, 2, 2, 2, 2, 2, 0, 0, 0, 2, 0, 2, 0, 2, 0, 2, 2, 0, 2, 2, 0, 0, 2, 0, 0, 1, 2, 1, 0, 0, 0, 2, 0, 2, 1, 2, 2, 0, 0, 2, 2, 2, 0, 2, 0, 0, 0, 1, 2, 2, 2, 2, 0, 2, 2, 2, 2, 0, 0, 2, 1, 2, 2, 2, 0, 0, 2, 0, 2, 2, 0, 0, 2, 2, 0, 2, 1, 0, 1, 0, 0, 0, 2, 0, 0, 2, 2, 2, 2, 0, 0, 0, 0, 0, 0, 0, 2, 1, 2, 2, 0, 0, 2, 2, 1, 2, 2, 0, 0, 2, 0, 2, 2, 2, 2, 0, 0, 2, 1, 2, 2, 2, 2, 2, 2, 2, 2, 0, 0, 2, 1, 2, 2, 2, 0, 2, 2, 1, 2, 2, 0, 2, 2, 0, 2, 2, 0, 2, 2, 2, 0, 2, 2, 0, 2, 0, 0, 2, 2, 2, 2, 2, 2, 0, 0, 2, 0, 0, 2, 2, 2, 2, 2, 2, 2, 2, 2, 0, 2, 1, 2, 1, 2, 1, 2, 2, 2, 2, 1, 2, 0, 0, 0, 2, 0, 1, 2, 2, 1, 2, 1, 2, 0, 0, 2, 2, 2, 2, 2, 2, 2, 2, 1, 1, 2, 2, 1, 2, 0, 0, 0, 0, 2, 0, 2, 0, 2, 2, 0, 0, 0, 2, 2, 1, 0, 2, 0, 0, 2, 2, 0, 0, 2, 0, 2, 2, 2, 2, 1, 2, 1, 1, 2, 0, 0, 2, 1, 1, 2, 2, 0, 0, 2, 2, 2, 2, 2, 0, 1, 2, 0, 2, 2, 0, 2, 0, 1, 2, 2, 2, 2, 2, 0, 1, 0, 2, 0, 0, 2, 0, 2, 2, 0, 1, 0, 2, 2, 2, 2, 0, 2, 0, 2, 2, 2, 0, 2, 2, 0, 1, 2, 0, 1, 2, 1, 2, 2, 2, 2, 2, 0, 2, 2, 2, 2, 2, 2, 2, 2, 2, 0, 0, 2, 2, 2, 2, 1, 2, 2, 2, 2, 2, 0, 0, 2, 2, 0, 2, 2, 2, 2, 0, 2, 0, 2, 2, 0, 0, 2, 1, 0, 0, 0, 2, 2, 0, 0, 2, 0, 0, 2, 2, 0, 2, 2, 2, 0, 1, 2, 2, 2, 2, 1, 2, 1, 2, 0, 2, 2, 2, 2, 0, 0, 2, 2, 0, 2, 2, 2, 2, 1, 0, 2, 2, 2, 0, 0, 0, 2, 0, 2, 1, 2, 2, 2, 0, 2, 2, 2, 0, 2, 0, 0, 2, 2, 0, 2, 2, 2, 2, 2, 2, 0, 2, 1, 2, 0, 2, 0, 2, 2, 2, 1, 2, 2, 2, 2, 2, 0, 0, 2, 2, 2, 1, 2, 2, 2, 2, 1, 2, 2, 0, 0, 0, 2, 0, 2, 2, 1, 2, 2, 0, 2, 0, 2, 2, 2, 2, 2, 2, 2, 2, 0, 2, 2, 2, 2, 0, 1, 0, 2, 2, 2, 2, 0, 2, 0, 2, 2, 2, 0, 0, 0, 2, 1, 2, 2, 2, 0, 0, 2, 2, 2, 2, 2, 0, 2, 2, 0, 2, 0, 0, 2, 0, 2, 0, 1, 2, 0, 2, 2, 2, 0, 2, 2, 2, 0, 0, 2, 0, 0, 2, 2, 0, 2, 2, 2, 2, 2, 2, 2, 1, 2, 0, 2, 2, 0, 2, 0, 0, 2, 0, 0, 0, 0, 2, 2, 2, 0, 0, 2, 0, 2, 2, 2, 2, 0, 2, 2, 2, 2, 2, 2, 2, 2, 0, 0, 0, 0, 2, 1, 1, 0, 2, 2, 0, 1, 2, 0, 0, 2, 1, 2, 0, 0, 1, 0, 2, 2, 1, 0, 2, 0, 2, 0, 0, 2, 2, 1, 2, 0, 2, 0, 2, 2, 2, 1, 0, 2, 0, 0, 2, 2, 2, 2, 2, 2, 0, 2, 0, 0, 0, 2, 2, 2, 2, 2, 2, 0, 0, 0, 2, 2, 2, 2, 0, 2, 2, 2, 2, 2, 2, 2, 0, 1, 2, 2, 2, 2, 2, 0, 1, 1, 2, 0, 2, 2, 1, 2, 2, 2, 2, 2, 1, 2, 0, 2, 2, 1, 2, 2, 0, 2, 2, 2, 0, 2, 0, 0, 0, 2, 2, 2, 2, 0, 2, 2, 0, 2, 2, 0, 2, 2, 2, 2, 0, 2, 0, 1, 0, 2, 2, 1, 1, 0, 2, 2, 0, 2, 2, 0, 2, 0, 2, 2, 0, 0, 2, 1, 0, 2, 2, 2, 0, 2, 0, 2, 1, 0, 0, 0, 2, 2, 0, 0, 2, 2, 0, 1, 0, 0, 2, 1, 2, 2, 1, 2, 2, 2, 2, 0, 2, 2, 0, 2, 2, 2, 2, 2, 0, 2, 2, 1, 2, 0, 2, 2, 2, 0, 2, 2, 2, 2, 2, 0, 2, 1, 0, 2, 2, 2, 2, 2, 2, 2, 2, 0, 0, 2, 2, 2, 2, 1, 0, 0, 0, 0, 2, 0, 2, 2, 2, 0, 2, 0, 0, 0, 0, 2, 0, 1, 0, 0, 2, 0, 0, 2, 0, 2, 0, 2, 0, 1, 0, 2, 2, 2, 2, 2, 2, 2, 2, 0, 0, 1, 0, 0, 2, 0, 0, 0, 0, 2, 2, 2, 0, 0, 2, 0, 2, 2, 2, 1, 0, 0, 0, 0, 2, 1, 2, 2, 2, 1, 0, 2, 0, 2, 2, 2, 2, 0, 2, 2, 2, 2, 2, 0, 2, 2, 2, 2, 2, 2, 2, 2, 2, 0, 0, 1, 0, 2, 0, 2, 1, 0, 2, 1, 2, 1, 2, 2, 2, 0, 0, 2, 2, 1, 0, 1, 2, 1, 0, 0, 2, 0, 1, 0, 2, 0, 0, 1, 1, 0, 2, 2, 2, 2, 2, 2, 2, 2, 2, 2, 0, 2, 2, 0, 2, 2, 2, 0, 0, 2, 2, 2, 2, 2, 2, 2, 1, 0, 2, 1, 2, 2, 2, 1, 2, 2, 2, 2, 2, 0, 0, 2, 1, 0, 2, 2, 2, 0, 2, 2, 0, 0, 0, 2, 2, 0, 0, 0, 2, 2, 0, 2, 2, 2, 2, 2, 0, 2, 2, 2, 2, 2, 2, 2, 2, 0, 1, 2, 2, 2, 2, 2, 1, 2, 2, 1, 0, 2, 1, 2, 0, 2, 2, 2, 2, 2, 2, 2, 2, 0, 0, 0, 2, 0, 2, 0, 2, 0, 0, 2, 2, 2, 2, 2, 2, 2, 2, 0, 1, 0, 0, 1, 2, 0, 2, 2, 0, 2, 2, 0, 2, 0, 0, 0, 2, 2, 2, 0, 0, 2, 0, 1, 0, 2, 0, 0, 2, 0, 2, 2, 2, 2, 2, 2, 0, 0, 2, 2, 0, 2, 1, 2, 2, 2, 2, 1, 0, 2, 2, 2, 2, 0, 2, 2, 2, 1, 2, 2, 2, 2, 0, 0, 2, 0, 0, 2, 2, 0, 0, 2, 0, 2, 1, 2, 2, 2, 0, 2, 1, 0, 0, 2, 2, 2, 0, 0, 2, 0, 0, 0, 1, 2, 2, 2, 2, 2, 0, 1, 2, 2, 2, 2, 0, 0, 2, 2, 1, 2, 2, 2, 0, 2, 0, 1, 0, 0, 2, 2, 0, 2, 1, 2, 1, 2, 2, 2, 1, 0, 2, 2, 0, 0, 2, 2, 0, 2, 1, 2, 2, 2, 0, 0, 0, 0, 2, 2, 0, 0, 0, 0, 2, 0, 1, 1, 2, 0, 0, 2, 0, 2, 2, 2, 0, 2, 2, 2, 1, 1, 2, 2, 2, 0, 2, 0, 2, 0, 2, 2, 0, 2, 2, 0, 2, 1, 0, 2, 0, 2, 2, 0, 2, 2, 2, 0, 2, 2, 2, 2, 2, 2, 2, 0, 0, 0, 2, 2, 2, 1, 0, 2, 1, 0, 2, 2, 0, 2, 0, 0, 1, 2, 0, 0, 0, 2, 2, 1, 2, 0, 0, 2, 1, 2, 0, 2, 2, 2, 0, 2, 1, 2, 2, 2, 0, 0, 2, 2, 1, 0, 2, 0, 2, 2, 2, 0, 2, 2, 2, 0, 2, 0, 2, 0, 1, 2, 0, 2, 2, 2, 2, 2, 2, 2, 1, 2, 2, 0, 0, 2, 2, 2, 1, 2, 0, 2, 0, 2, 0, 2, 2, 2, 2, 2, 0, 2, 2, 2, 0, 0, 1, 2, 2, 2, 0, 0, 1, 2, 2, 0, 2, 2, 2, 1, 2, 0, 2, 2, 1, 2, 2, 2, 2, 2, 0, 2, 0, 2, 2, 2, 1, 0, 2, 2, 2, 2, 2, 2, 1, 1, 2, 2, 0, 2, 2, 0, 2, 1, 0, 2, 2, 2, 0, 0, 2, 2, 2, 0, 2, 2, 0, 2, 0, 0, 2, 1, 0, 2, 2, 0, 2, 0, 2, 0, 2, 2, 2, 2, 1, 2, 2, 2, 0, 0, 2, 2, 0, 1, 1, 2, 2, 2, 0, 1, 0, 1, 2, 0, 2, 2, 2, 0, 2, 2, 2, 2, 0, 0, 0, 0, 2, 2, 0, 2, 1, 2, 0, 2, 2, 1, 2, 1, 2, 0, 2, 2, 2, 2, 0, 0, 2, 0, 2, 1, 2, 0, 2, 0, 0, 2, 2, 2, 2, 1, 0, 2, 2, 2, 2, 2, 2, 2, 2, 2, 2, 2, 1, 0, 2, 2, 2, 2, 2, 2, 2, 2, 2, 0, 0, 2, 0, 2, 2, 2, 0, 2, 2, 0, 2, 0, 2, 2, 2, 2, 2, 2, 2, 2, 0, 0, 2, 2, 2, 2, 0, 0, 2, 2, 2, 2, 2, 2, 2, 0, 2, 0, 2, 1, 0, 0, 2, 2, 2, 0, 0, 0, 2, 2, 2, 2, 0, 2, 2, 0, 2, 1, 1, 0, 2, 0, 2, 0, 2, 1, 1, 2, 2, 1, 2, 0, 0, 0, 0, 2, 2, 2, 2, 2, 2, 2, 2, 2, 2, 0, 2, 1, 0, 1, 2, 2, 2, 0, 2, 0, 0, 2, 2, 0, 1, 2, 2, 0, 2, 2, 2, 2, 0, 0, 0, 0, 2, 0, 2, 2, 2, 1, 2, 2, 2, 2, 0, 2, 2, 2, 0, 2, 2, 2, 2, 0, 2, 2, 2, 2, 2, 2, 0, 0, 0, 2, 1, 0, 0, 2, 2, 0, 2, 2, 2, 1, 1, 2, 2, 2, 2, 0, 2, 2, 0, 2, 2, 1, 0, 0, 2, 0, 0, 2, 2, 2, 1, 2, 2, 0, 0, 2, 2, 2, 2, 2, 2, 0, 2, 0, 0, 2, 0, 2, 2, 2, 0, 2, 0, 2, 0, 2, 2, 0, 2, 2, 2, 2, 2, 2, 0, 2, 1, 2, 2, 2, 0, 2, 2, 0, 0, 0, 0, 2, 2, 2, 2, 2, 0, 2, 0, 0, 2, 1, 2, 2, 2, 2, 2, 0, 1, 0, 2, 2, 2, 0, 2, 2, 2, 2, 2, 2, 1, 2, 2, 0, 2, 2, 0, 0, 2, 2, 2, 2, 1, 2, 2, 0, 0, 1, 0, 2, 2, 2, 0, 2, 2, 0, 1, 0, 0, 2, 2, 1, 2, 2, 2, 0, 2, 2, 2, 1, 2, 1, 2, 0, 2, 0, 2, 2, 2, 2, 0, 0, 2, 0, 0, 2, 0, 2, 2, 0, 0, 2, 2, 2, 2, 0, 2, 2, 2, 2, 2, 2, 2, 0, 2, 1, 2, 2, 0, 1, 0, 2, 2, 2, 2, 2, 1, 2, 2, 0, 2, 0, 0, 2, 2, 1, 2, 0, 2, 2, 1, 0, 0, 2, 2, 2, 0, 2, 0, 2, 2, 0, 0, 0, 2, 2, 2, 2, 0, 0, 2, 2, 0, 0, 2, 2, 2, 0, 2, 0, 2, 2, 1, 0, 0, 0, 2, 2, 0, 2, 1, 2, 2, 2, 2, 0, 0, 2, 1, 2, 2, 2, 2, 2, 2, 2, 0, 1, 2, 2, 2, 2, 2, 2, 2, 0, 2, 2, 0, 2, 2, 0, 2, 0, 1, 2, 2, 0, 2, 2, 1, 2, 2, 2, 0, 2, 2, 2, 0, 0, 2, 2, 0, 2, 2, 2, 2, 2, 0, 2, 2, 0, 2, 2, 2, 0, 2, 0, 2, 1, 2, 2, 2, 1, 2, 2, 0, 2, 2, 2, 2, 0, 2, 0, 2, 2, 2, 2, 2, 0, 0, 2, 0, 2, 0, 2, 0, 2, 2, 2, 0, 2, 2, 0, 2, 0, 2, 0, 2, 2, 2, 0, 1, 2, 0, 0, 0, 2, 2, 1, 2, 1, 2, 1, 2, 1, 2, 2, 2, 2, 2, 2, 0, 0, 2, 2, 2, 0, 2, 2, 1, 2, 0, 2, 0, 2, 2, 2, 2, 0, 0, 2, 0, 0, 2, 0, 0, 2, 0, 2, 2, 2, 2, 1, 0, 2, 2, 2, 2, 2, 2, 2, 2, 2, 0, 2, 0, 2, 2, 0, 2, 2, 2, 2, 2, 2, 2, 2, 0, 0, 2, 0, 1, 2, 2, 0, 2, 2, 1, 2, 2, 0, 2, 2, 0, 2, 2, 0, 0, 2, 1, 2, 1, 2, 0, 0, 2, 2, 1, 0, 2, 0, 2, 0, 0, 0, 2, 2, 1, 2, 0, 2, 2, 0, 0, 2, 0, 2, 0, 0, 2, 0, 2, 0, 2, 2, 2, 0, 2, 2, 0, 2, 2, 1, 2, 0, 0, 2, 2, 1, 0, 2, 0, 0, 0, 0, 0, 0, 2, 0, 0, 0, 1, 2, 2, 0, 2, 2, 0, 2, 2, 2, 2, 2, 0, 2, 2, 2, 2, 0, 2, 0, 2, 0, 2, 0, 2, 0, 2, 2, 0, 2, 2, 0, 2, 2, 1, 0, 2, 2, 2, 2, 0, 2, 0, 2, 1, 0, 0, 2, 2, 2, 0, 2, 2, 2, 2, 2, 2, 1, 2, 2, 2, 2, 2, 0, 2, 2, 2, 0, 2, 1, 2, 2, 2, 2, 2, 0, 2, 2, 2, 0, 0, 2, 0, 1, 1, 0, 2, 2, 0, 2, 2, 0, 2, 0, 0, 2, 2, 2, 2, 0, 2, 1, 0, 2, 2, 1, 2, 2, 0, 0, 2, 2, 2, 0, 0, 2, 2, 2, 2, 2, 0, 0, 2, 1, 2, 2, 1, 2, 0, 2, 2, 2, 0, 0, 0, 2, 0, 0, 2, 1, 2, 0, 2, 2, 0, 2, 2, 0, 2, 0, 0, 1, 2, 2, 0, 2, 1, 0, 2, 1, 1, 0, 0, 0, 2, 0, 2, 2, 2, 0, 2, 2, 2, 0, 0, 2, 0, 2, 0, 2, 2, 2, 0, 2, 2, 0, 2, 2, 1, 2, 2, 2, 2, 2, 2, 2, 2, 0, 0, 2, 0, 2, 0, 2, 2, 2, 0, 0, 2, 2, 0, 2, 2, 2, 2, 2, 0, 0, 0, 2, 2, 1, 2, 2, 2, 2, 2, 2, 0, 0, 0, 2, 0, 2, 0, 0, 0, 2, 2, 2, 1, 2, 1, 0, 2, 2, 0, 0, 2, 0, 2, 2, 1, 1, 2, 2, 2, 2, 2, 2, 2, 2, 1, 2, 0, 2, 0, 2, 0, 1, 1, 2, 0, 2, 2, 1, 2, 2, 2, 2, 2, 2, 2, 2, 2, 2, 2, 2, 1, 1, 0, 1, 2, 2, 0, 2, 2, 2, 0, 2, 1, 2, 2, 2, 2, 0, 2, 2, 2, 2, 2, 1, 0, 2, 2, 0, 0, 2, 0, 0, 0, 0, 2, 2, 2, 2, 2, 0, 2, 2, 2, 2, 2, 2, 0, 2, 2, 0, 0, 0, 0, 2, 0, 0, 0, 2, 0, 2, 2, 2, 2, 0, 2, 0, 1, 2, 2, 2, 2, 1, 2, 2, 0, 2, 2, 1, 0, 1, 2, 2, 2, 2, 0, 2, 0, 2, 2, 2, 2, 2, 1, 2, 2, 0, 2, 2, 2, 0, 1, 2, 2, 2, 1, 2, 0, 1, 2, 2, 2, 2, 0, 2, 2, 2, 0, 0, 0, 2, 0, 2, 2, 0, 2, 2, 0, 2, 2, 2, 2, 2, 1, 2, 0, 2, 0, 2, 2, 2, 2, 0, 2, 2, 0, 0, 2, 2, 2, 2, 0, 2, 2, 2, 2, 0, 2, 2, 2, 2, 2, 0, 2, 0, 0, 0, 2, 2, 2, 0, 2, 0, 2, 0, 2, 2, 1, 0, 1, 0, 2, 2, 2, 0, 2, 2, 0, 2, 2, 0, 0, 0, 2, 0, 1, 2, 0, 1, 1, 2, 0, 0, 1, 0, 2, 0, 1, 2, 2, 0, 2, 1, 2, 0, 2, 0, 1, 2, 2, 2, 2, 0, 2, 2, 0, 2, 1, 0, 0, 2, 2, 2, 2, 0, 0, 1, 2, 2, 2, 2, 2, 1, 2, 2, 2, 2, 1, 2, 2, 1, 0, 2, 2, 2, 2, 0, 0, 0, 2, 2, 2, 2, 2, 0, 2, 0, 0, 1, 2, 0, 0, 2, 1, 2, 2, 2, 2, 2, 0, 2, 2, 0, 2, 2, 0, 0, 1, 2, 0, 2, 0, 2, 2, 2, 0, 2, 2, 2, 0, 0, 0, 2, 2, 2, 2, 0, 1, 2, 2, 2, 0, 2, 2, 2, 2, 2, 2, 2, 2, 2, 2, 0, 2, 2, 0, 2, 0, 2, 2, 2, 2, 0, 0, 2, 2, 0, 0, 2, 0, 2, 0, 2, 0, 0, 0, 2, 2, 2, 2, 0, 2, 2, 0, 2, 2, 2, 2, 2, 2, 2, 2, 1, 0, 2, 2, 1, 2, 2, 0, 2, 0, 2, 2, 1, 2, 2, 0, 0, 0, 2, 1, 2, 0, 2, 1, 2, 2, 2, 0, 2, 0, 2, 2, 2, 1, 2, 2, 2, 2, 2, 2, 0, 0, 2, 2, 2, 2, 0, 2, 2, 2, 0, 2, 2, 2, 2, 0, 1, 0, 2, 0, 2, 2, 2, 0, 2, 2, 0, 0, 0, 2, 2, 0, 0, 0, 2, 2, 2, 2, 2, 2, 2, 0, 1, 2, 2, 0, 2, 2, 2, 1, 1, 2, 0, 0, 0, 2, 2, 2, 2, 2, 2, 0, 2, 0, 2, 2, 2, 2, 2, 2, 0, 2, 2, 0, 2, 2, 2, 0, 2, 2, 2, 2, 0, 2, 2, 2, 2, 2, 0, 0, 0, 0, 2, 0, 2, 0, 2, 2, 2, 2, 2, 0, 1, 1, 2, 0, 0, 2, 0, 2, 0, 1, 2, 0, 0, 2, 1, 2, 2, 0, 2, 0, 0, 0, 0, 1, 2, 2, 0, 0, 2, 2, 2, 2, 2, 2, 2, 0, 2, 2, 2, 2, 2, 0, 2, 2, 0, 1, 2, 0, 2, 2, 2, 2, 0, 0, 2, 0, 0, 0, 2, 0, 0, 0, 2, 1, 2, 0, 0, 2, 1, 2, 2, 2, 0, 2, 2, 0, 1, 2, 2, 2, 2, 2, 0, 2, 0, 2, 0, 2, 0, 2, 2, 2, 2, 2, 2, 2, 0, 0, 2, 2, 2, 0, 2, 0, 0, 0, 2, 0, 1, 2, 2, 2, 0, 0, 2, 0, 2, 2, 2, 2, 2, 2, 2, 0, 0, 0, 1, 0, 2, 2, 0, 2, 0, 2, 0, 2, 2, 2, 0, 0, 1, 2, 1, 0, 2, 2, 0, 2, 0, 2, 0, 2, 0, 2, 0, 2, 2, 2, 2, 2, 0, 2, 0, 2, 0, 2, 0, 2, 2, 2, 0, 2, 2, 2, 2, 0, 2, 2, 2, 2, 2, 2, 0, 1, 2, 2, 0, 0, 0, 2, 0, 2, 2, 2, 2, 2, 2, 0, 2, 0, 1, 2, 2, 2, 2, 2, 0, 2, 0, 0, 1, 2, 2, 0, 2, 0, 0, 2, 0, 0, 2, 2, 0, 0, 0, 2, 2, 2, 2, 1, 2, 2, 2, 2, 2, 2, 2, 2, 1, 2, 2, 2, 0, 0, 2, 2, 0, 2, 2, 2, 0, 0, 2, 2, 0, 0, 2, 2, 2, 2, 0, 2, 0, 0, 2, 2, 0, 0, 2, 2, 2, 0, 1, 2, 2, 2, 0, 2, 0, 2, 0, 2, 1, 2, 0, 0, 2, 2, 0, 2, 2, 0, 0, 2, 2, 2, 1, 2, 2, 2, 0, 0, 2, 2, 2, 2, 1, 2, 0, 1, 2, 2, 2, 2, 0, 0, 2, 2, 2, 2, 0, 2, 2, 1, 0, 0, 0, 2, 2, 1, 2, 2, 2, 2, 1, 2, 2, 2, 0, 0, 2, 2, 0, 2, 2, 2, 2, 1, 2, 2, 1, 2, 0, 2, 2, 0, 2, 2, 2, 0, 2, 2, 0, 2, 2, 2, 2, 2, 0, 2, 2, 2, 0, 2, 2, 2, 0, 2, 2, 2, 2, 0, 2, 2, 2, 2, 0, 0, 0, 2, 0, 0, 0, 0, 2, 2, 0, 2, 0, 2, 0, 2, 2, 2, 2, 2, 2, 0, 2, 2, 2, 2, 2, 2, 0, 0, 0, 2, 2, 2, 0, 2, 2, 2, 2, 1, 2, 2, 2, 2, 2, 0, 2, 0, 0, 2, 2, 0, 2, 0, 2, 2, 2, 2, 0, 0, 1, 2, 0, 0, 2, 2, 2, 2, 0, 1, 2, 2, 1, 2, 0, 0, 2, 2, 0, 1, 2, 2, 0, 2, 2, 2, 2, 1, 2, 1, 2, 2, 2, 2, 2, 2, 2, 2, 0, 2, 2, 0, 2, 2, 0, 2, 1, 2, 1, 0, 2, 2, 0, 0, 0, 2, 2, 2, 0, 0, 0, 2, 2, 0, 2, 2, 2, 0, 2, 0, 0, 2, 2, 2, 0, 0, 2, 2, 0, 2, 1, 2, 0, 2, 0, 2, 2, 2, 2, 1, 2, 0, 0, 2, 0, 0, 2, 0, 0, 2, 2, 2, 2, 2, 0, 1, 1, 0, 0, 2, 2, 2, 0, 0, 0, 2, 2, 2, 1, 0, 2, 2, 2, 2, 2, 0, 0, 2, 2, 2, 2, 2, 0, 0, 2, 2, 0, 2, 2, 0, 2, 2, 2, 2, 0, 2, 2, 0, 0, 0, 0, 1, 2, 2, 0, 2, 2, 2, 2, 2, 2, 2, 2, 1, 1, 2, 0, 1, 2, 2, 1, 2, 2, 0, 0, 2, 2, 0, 2, 2, 2, 0, 2, 2, 2, 2, 2, 0, 0, 2, 2, 0, 2, 2, 2, 2, 2, 2, 2, 2, 2, 2, 2, 2, 2, 0, 2, 2, 0, 2, 2, 2, 0, 1, 1, 0, 2, 0, 0, 2, 1, 2, 1, 2, 0, 0, 2, 2, 2, 2, 2, 2, 2, 1, 2, 1, 2, 1, 0, 1, 2, 2, 2, 2, 2, 2, 0, 0, 0, 2, 2, 0, 2, 0, 0, 1, 2, 2, 2, 2, 2, 2, 2, 2, 0, 2, 2, 2, 0, 2, 2, 2, 0, 0, 2, 2, 2, 2, 2, 0, 2, 2, 2, 0, 2, 2, 0, 2, 1, 2, 2, 0, 2, 2, 1, 0, 2, 0, 2, 2, 2, 0, 2, 2, 2, 0, 2, 2, 2, 2, 0, 0, 2, 0, 2, 0, 2, 2, 2, 0, 2, 2, 2, 2, 1, 2, 2, 2, 0, 0, 2, 2, 0, 2, 2, 0, 2, 0, 2, 2, 2, 1, 2, 0, 1, 2, 1, 2, 0, 2, 2, 2, 1, 2, 0, 0, 2, 0, 2, 2, 0, 2, 2, 2, 0, 2, 2, 0, 2, 2, 2, 2, 2, 0, 2, 2, 2, 0, 0, 2, 2, 0, 2, 0, 2, 2, 2, 2, 0, 0, 0, 0, 0, 1, 2, 2, 2, 1, 2, 2, 0, 0, 2, 0, 2, 2, 2, 2, 2, 2, 2, 2, 2, 0, 1, 2, 2, 2, 0, 2, 2, 2, 2, 2, 2, 2, 0, 0, 0, 2, 0, 2, 2, 2, 2, 1, 0, 2, 2, 2, 2, 2, 2, 2, 2, 2, 0, 2, 2, 2, 0, 0, 1, 2, 0, 0, 0, 2, 0, 2, 2, 2, 0, 0, 2, 2, 2, 2, 2, 1, 0, 2, 0, 2, 0, 0, 0, 2, 2, 2, 0, 2, 2, 2, 2, 2, 2, 2, 0, 0, 2, 0, 0, 0, 2, 2, 2, 1, 0, 2, 2, 2, 2, 2, 0, 2, 0, 2, 2, 2, 1, 0, 0, 2, 2, 0, 2, 2, 2, 2, 2, 2, 0, 2, 2, 2, 2, 0, 0, 2, 2, 2, 2, 0, 2, 2, 2, 2, 0, 2, 0, 1, 1, 2, 0, 2, 1, 2, 2, 2, 2, 2, 2, 2, 2, 2, 2, 2, 2, 2, 0, 0, 2, 2, 2, 2, 0, 2, 2, 2, 0, 2, 2, 0, 1, 0, 2, 0, 1, 2, 2, 0, 2, 0, 2, 2, 2, 0, 2, 2, 2, 0, 2, 2, 2, 0, 2, 0, 2, 1, 2, 2, 2, 2, 0, 1, 2, 0, 0, 2, 0, 0, 2, 1, 1, 2, 2, 0, 0, 0, 2, 2, 2, 2, 2, 0, 0, 2, 2, 2, 2, 2, 0, 0, 2, 0, 1, 2, 2, 2, 2, 2, 2, 2, 2, 0, 2, 0, 2, 2, 2, 2, 0, 2, 2, 2, 0, 2, 2, 2, 2, 0, 0, 2, 0, 0, 2, 2, 2, 2, 0, 2, 2, 2, 0, 2, 2, 2, 2, 0, 1, 0, 1, 2, 2, 2, 2, 2, 0, 0, 2, 2, 2, 2, 1, 2, 0, 2, 2, 0, 2, 2, 2, 2, 2, 0, 0, 2, 2, 0, 1, 0, 0, 2, 0, 1, 0, 0, 1, 2, 2, 1, 2, 0, 2, 0, 2, 2, 2, 1, 2, 0, 2, 2, 2, 0, 0, 2, 0, 0, 2, 0, 2, 1, 2, 2, 1, 0, 2, 2, 2, 0, 0, 2, 2, 1, 1, 1, 0, 2, 2, 2, 1, 2, 2, 0, 2, 0, 2, 0, 2, 2, 0, 2, 2, 0, 2, 2, 2, 2, 2, 2, 2, 0, 0, 2, 2, 1, 1, 2, 2, 2, 2, 0, 0, 0, 2, 0, 2, 2, 1, 2, 1, 2, 2, 2, 0, 0, 2, 2, 2, 0, 2, 2, 2, 2, 2, 0, 2, 0, 0, 0, 0, 2, 2, 2, 0, 0, 0, 2, 2, 2, 2, 2, 2, 2, 2, 0, 2, 0, 2, 2, 0, 1, 2, 2, 2, 2, 2, 2, 2, 2, 2, 2, 1, 0, 2, 0, 2, 2, 2, 2, 2, 1, 2, 0, 2, 2, 2, 0, 1, 2, 2, 2, 2, 0, 2, 2, 1, 0, 0, 2, 2, 2, 2, 2, 0, 2, 2, 2, 2, 0, 2, 2, 2, 2, 2, 2, 2, 2, 1, 0, 2, 2, 0, 2, 2, 0, 2, 2, 0, 0, 0, 2, 2, 1, 2, 2, 0, 2, 2, 2, 0, 2, 2, 0, 0, 1, 2, 2, 2, 2, 2, 2, 0, 0, 2, 2, 2, 2, 2, 2, 0, 2, 2, 1, 2, 0, 0, 0, 1, 2, 2, 2, 2, 2, 2, 0, 2, 0, 2, 1, 0, 0, 2, 2, 2, 2, 2, 1, 2, 2, 1, 2, 2, 2, 0, 2, 2, 2, 2, 1, 0, 2, 2, 2, 0, 2, 2, 2, 0, 0, 2, 2, 2, 2, 2, 2, 1, 0, 1, 2, 2, 2, 2, 2, 2, 2, 2, 2, 0, 0, 0, 0, 2, 2, 0, 0, 1, 2, 2, 0, 0, 0, 2, 2, 0, 0, 1, 2, 0, 2, 2, 0, 0, 2, 2, 0, 2, 2, 2, 2, 2, 0, 0, 0, 2, 0, 2, 2, 2, 1, 2, 2, 2, 2, 2, 2, 0, 1, 0, 2, 0, 2, 0, 0, 0, 0, 2, 0, 2, 2, 2, 0, 2, 2, 2, 0, 2, 0, 2, 2, 0, 2, 2, 0, 2, 2, 1, 2, 2, 2, 0, 2, 2, 0, 2, 2, 1, 2, 2, 2, 2, 0, 0, 2, 0, 2, 0, 1, 0, 0, 2, 0, 2, 2, 2, 0, 2, 2, 2, 2, 2, 1, 1, 0, 1, 2, 2, 2, 1, 2, 2, 0, 2, 2, 2, 0, 2, 2, 1, 2, 2, 2, 0, 2, 2, 2, 0, 2, 2, 1, 2, 2, 1, 2, 0, 2, 2, 0, 2, 2, 2, 0, 0, 2, 2, 2, 0, 2, 0, 0, 2, 2, 2, 0, 2, 2, 0, 2, 0, 0, 2, 2, 0, 0, 2, 2, 2, 1, 2, 0, 2, 2, 2, 0, 2, 1, 0, 2, 0, 2, 2, 2, 2, 0, 2, 1, 2, 2, 2, 2, 2, 2, 2, 2, 1, 0, 2, 1, 2, 2, 2, 2, 2, 2, 2, 2, 2, 2, 2, 2, 2, 2, 2, 2, 2, 2, 1, 2, 2, 0, 0, 2, 2, 2, 2, 2, 0, 2, 0, 2, 0, 0, 2, 2, 2, 1, 0, 1, 1, 2, 2, 2, 1, 2, 2, 2, 2, 0, 2, 2, 0, 2, 0, 2, 0, 2, 0, 2, 2, 2, 2, 2, 2, 2, 2, 0, 1, 1, 0, 2, 2, 2, 0, 2, 2, 2, 2, 2, 2, 2, 2, 2, 2, 1, 2, 2, 0, 2, 1, 2, 2, 2, 0, 0, 2, 1, 1, 2, 0, 2, 0, 2, 0, 0, 2, 1, 1, 2, 2, 2, 0, 2, 0, 1, 2, 2, 2, 2, 2, 0, 0, 2, 1, 2, 0, 2, 0, 0, 2, 2, 2, 0, 1, 2, 1, 2, 2, 1, 2, 2, 2, 2, 2, 2, 0, 0, 2, 2, 0, 2, 2, 2, 2, 2, 2, 0, 2, 2, 2, 2, 2, 1, 0, 0, 2, 0, 2, 1, 2, 2, 2, 2, 2, 1, 2, 2, 0, 0, 2, 2, 2, 0, 2, 2, 0, 0, 2, 0, 2, 0, 1, 2, 2, 0, 2, 2, 0, 1, 2, 2, 2, 2, 2, 0, 0, 2, 2, 2, 2, 2, 2, 2, 0, 0, 2, 2, 2, 2, 2, 2, 2, 0, 0, 1, 2, 0, 2, 2, 0, 2, 0, 2, 0, 2, 0, 0, 2, 2, 0, 2, 2, 2, 1, 0, 0, 1, 0, 0, 0, 2, 0, 2, 0, 0, 0, 2, 2, 2, 2, 0, 0, 2, 2, 0, 2, 2, 2, 0, 2, 2, 0, 1, 2, 2, 0, 2, 2, 0, 0, 2, 2, 2, 2, 2, 0, 2, 0, 2, 2, 2, 2, 0, 0, 2, 2, 2, 0, 2, 2, 0, 2, 2, 2, 1, 2, 2, 0, 2, 2, 2, 0, 2, 2, 2, 2, 0, 2, 2, 2, 0, 2, 0, 0, 2, 2, 2, 0, 2, 2, 2, 2, 0, 2, 0, 2, 0, 2, 2, 2, 0, 1, 0, 2, 0, 2, 2, 0, 2, 0, 2, 0, 2, 1, 0, 2, 0, 2, 2, 2, 0, 0, 2, 2, 2, 2, 0, 0, 0, 2, 0, 2, 0, 2, 2, 2, 2, 2, 1, 1, 0, 0, 2, 2, 2, 1, 0, 2, 0, 0, 0, 0, 1, 0, 2, 2, 0, 2, 0, 2, 2, 2, 0, 2, 2, 2, 0, 0, 0, 2, 2, 2, 2, 2, 2, 2, 2, 2, 2, 2, 2, 2, 2, 2, 0, 2, 2, 2, 2, 2, 2, 2, 1, 2, 0, 2, 2, 0, 2, 2, 2, 0, 2, 2, 0, 0, 2, 2, 0, 0, 1, 2, 2, 2, 1, 2, 2, 2, 2, 2, 2, 0, 2, 2, 2, 2, 2, 2, 2, 1, 2, 2, 2, 2, 2, 0, 0, 0, 0, 1, 0, 0, 2, 0, 2, 2, 0, 2, 2, 1, 2, 2, 2, 2, 0, 0, 2, 2, 1, 0, 0, 2, 2, 2, 2, 2, 2, 2, 2, 2, 0, 2, 2, 2, 2, 0, 2, 0, 0, 2, 0, 2, 2, 0, 0, 2, 1, 2, 2, 2, 0, 2, 0, 0, 0, 1, 0, 2, 1, 2, 0, 0, 2, 2, 2, 0, 0, 2, 0, 2, 2, 2, 0, 2, 0, 2, 0, 2, 0, 2, 1, 0, 2, 0, 2, 2, 2, 1, 0, 2, 2, 2, 2, 1, 0, 2, 2, 0, 2, 0, 2, 0, 2, 2, 2, 2, 2, 2, 2, 2, 0, 1, 2, 2, 1, 2, 2, 0, 2, 2, 0, 0, 2, 2, 2, 2, 2, 2, 2, 0, 2, 2, 2, 0, 2, 2, 2, 2, 2, 2, 0, 0, 2, 2, 2, 2, 1, 2, 0, 2, 0, 2, 0, 0, 2, 1, 2, 2, 2, 2, 2, 1, 0, 2, 2, 0, 2, 0, 2, 2, 0, 0, 0, 2, 2, 0, 0, 2, 2, 2, 2, 2, 2, 0, 2, 2, 2, 2, 0, 2, 2, 1, 2, 2, 2, 0, 2, 2, 2, 2, 0, 2, 2, 2, 2, 0, 2, 2, 0, 0, 2, 2, 2, 1, 0, 0, 2, 0, 2, 2, 0, 0, 2, 2, 2, 2, 2, 2, 2, 0, 2, 0, 2, 0, 0, 2, 2, 0, 2, 2, 2, 2, 2, 2, 0, 2, 2, 0, 2, 2, 0, 2, 2, 2, 0, 0, 2, 0, 2, 1, 2, 0, 1, 0, 2, 2, 0, 2, 0, 2, 2, 2, 2, 2, 2, 2, 2, 0, 2, 2, 2, 2, 2, 2, 2, 2, 1, 2, 2, 2, 0, 2, 2, 2, 2, 2, 2, 1, 0, 2, 2, 2, 2, 2, 2, 2, 2, 2, 2, 2, 0, 0, 0, 1, 2, 2, 0, 2, 0, 0, 0, 0, 2, 0, 2, 1, 2, 2, 2, 0, 2, 0, 2, 0, 2, 1, 0, 0, 2, 2, 2, 2, 2, 2, 0, 2, 2, 2, 2, 2, 2, 0, 2, 2, 2, 0, 1, 0, 2, 1, 2, 2, 2, 0, 0, 2, 2, 2, 2, 2, 1, 2, 2, 2, 2, 0, 2, 2, 2, 2, 2, 2, 2, 2, 0, 2, 2, 2, 0, 2, 2, 2, 2, 0, 2, 0, 2, 2, 0, 2, 1, 0, 2, 0, 2, 2, 2, 2, 0, 0, 2, 0, 1, 2, 2, 0, 2, 2, 1, 0, 0, 0, 1, 2, 2, 2, 2, 0, 0, 0, 0, 1, 2, 2, 2, 2, 0, 2, 2, 2, 1, 2, 0, 2, 2, 2, 2, 2, 0, 2, 2, 0, 2, 2, 2, 0, 0, 0, 2, 2, 0, 2, 0, 2, 0, 0, 2, 2, 2, 0, 2, 2, 2, 2, 2, 1, 2, 2, 0, 2, 0, 2, 2, 2, 2, 0, 2, 2, 2, 0, 0, 0, 0, 1, 1, 0, 0, 0, 0, 0, 2, 1, 2, 2, 2, 2, 0, 2, 0, 1, 2, 2, 1, 0, 2, 2, 1, 0, 2, 0, 2, 2, 0, 2, 2, 0, 2, 2, 2, 0, 2, 2, 2, 2, 2, 0, 2, 0, 2, 0, 0, 2, 0, 2, 1, 2, 2, 2, 1, 2, 2, 0, 2, 2, 2, 2, 2, 2, 0, 2, 0, 1, 0, 0, 0, 2, 1, 2, 0, 0, 0, 0, 2, 2, 0, 2, 0, 2, 2, 0, 2, 2, 2, 0, 0, 0, 0, 2, 0, 2, 2, 2, 2, 0, 2, 0, 2, 2, 2, 0, 2, 0, 2, 0, 2, 2, 2, 0, 2, 2, 1, 2, 2, 0, 2, 1, 2, 2, 2, 2, 2, 2, 1, 2, 2, 0, 2, 0, 2, 1, 0, 0, 2, 2, 0, 0, 2, 2, 0, 0, 2, 2, 0, 1, 2, 0, 2, 2, 0, 2, 0, 2, 0, 2, 0, 2, 0, 0, 2, 0, 2, 2, 2, 2, 0, 2, 2, 1, 2, 2, 1, 0, 2, 0, 0, 0, 0, 2, 0, 2, 1, 2, 2, 2, 0, 2, 2, 2, 2, 2, 0, 0, 0, 2, 2, 0, 2, 2, 2, 2, 2, 0, 0, 1, 2, 2, 0, 2, 0, 1, 1, 2, 1, 0, 2, 2, 0, 2, 2, 0, 1, 1, 2, 2, 1, 2, 2, 2, 2, 0, 2, 2, 2, 1, 2, 2, 0, 2, 2, 0, 2, 2, 1, 0, 2, 1, 2, 1, 2, 2, 2, 2, 2, 2, 0, 2, 2, 0, 2, 0, 0, 2, 2, 2, 2, 2, 2, 0, 2, 0, 1, 2, 2, 2, 2, 2, 2, 2, 2, 2, 0, 2, 0, 0, 2, 0, 2, 2, 2, 2, 2, 2, 2, 2, 2, 2, 2, 2, 0, 0, 2, 1, 2, 2, 2, 0, 1, 2, 2, 2, 2, 2, 2, 2, 2, 0, 0, 1, 0, 2, 2, 0, 0, 1, 2, 2, 0, 0, 2, 0, 2, 2, 0, 2, 0, 2, 2, 2, 2, 2, 1, 2, 2, 1, 2, 2, 2, 2, 0, 0, 2, 0, 2, 2, 1, 2, 1, 2, 0, 2, 2, 2, 2, 0, 2, 2, 2, 2, 0, 2, 2, 2, 2, 2, 1, 0, 0, 0, 2, 2, 2, 0, 0, 2, 2, 0, 2, 2, 2, 2, 2, 0, 2, 1, 2, 2, 2, 0, 2, 0, 2, 2, 1, 2, 2, 0, 1, 1, 0, 0, 2, 2, 2, 1, 2, 2, 0, 0, 0, 2, 2, 2, 0, 2, 2, 0, 2, 1, 2, 2, 0, 2, 2, 2, 2, 2, 2, 1, 2, 2, 2, 2, 2, 2, 2, 2, 2, 2, 0, 2, 2, 0, 0, 1, 2, 2, 0, 2, 2, 0, 0, 2, 2, 2, 2, 2, 1, 2, 2, 0, 2, 0, 2, 0, 2, 2, 2, 2, 2, 2, 2, 2, 0, 0, 2, 0, 2, 0, 1, 0, 2, 2, 2, 2, 2, 2, 0, 2, 0, 2, 2, 2, 0, 2, 0, 2, 2, 2, 0, 0, 1, 0, 2, 0, 0, 2, 0, 0, 0, 2, 0, 0, 2, 2, 2, 2, 2, 0, 2, 0, 2, 2, 2, 2, 1, 2, 2, 2, 2, 2, 0, 0, 2, 0, 2, 0, 2, 2, 2, 2, 2, 2, 2, 1, 0, 2, 2, 2, 2, 2, 2, 0, 0, 2, 2, 2, 2, 0, 2, 1, 2, 2, 2, 0, 2, 0, 2, 2, 2, 0, 2, 0, 0, 1, 2, 0, 0, 1, 1, 0, 2, 1, 2, 0, 2, 1, 2, 2, 2, 2, 0, 0, 2, 2, 2, 2, 2, 2, 2, 2, 0, 2, 2, 2, 2, 1, 2, 2, 0, 0, 0, 0, 2, 2, 1, 0, 2, 0, 0, 2, 0, 0, 0, 2, 2, 2, 2, 2, 0, 2, 0, 0, 0, 0, 0, 2, 2, 1, 0, 2, 2, 2, 1, 0, 2, 1, 2, 2, 2, 2, 2, 2, 2, 2, 0, 2, 1, 2, 0, 2, 0, 0, 2, 0, 0, 2, 2, 2, 0, 2, 2, 1, 0, 2, 2, 1, 2, 2, 2, 0, 1, 0, 2, 2, 0, 0, 1, 2, 2, 2, 0, 1, 0, 0, 2, 2, 0, 2, 0, 2, 0, 2, 2, 2, 0, 2, 2, 2, 2, 0, 2, 0, 0, 0, 2, 2, 1, 0, 2, 2, 2, 0, 2, 2, 2, 2, 0, 0, 0, 2, 2, 0, 1, 0, 0, 2, 1, 2, 0, 1, 0, 2, 0, 2, 0, 0, 2, 0, 2, 0, 0, 2, 0, 0, 1, 2, 2, 0, 2, 0, 0, 0, 0, 0, 0, 2, 2, 0, 2, 2, 0, 2, 1, 2, 0, 0, 2, 2, 0, 2, 2, 2, 2, 2, 2, 0, 2, 0, 0, 1, 2, 0, 1, 2, 2, 2, 0, 2, 0, 2, 0, 2, 2, 2, 2, 1, 2, 2, 2, 2, 0, 0, 2, 1, 2, 0, 1, 2, 2, 0, 0, 1, 2, 2, 1, 0, 1, 2, 2, 2, 1, 2, 0, 0, 0, 2, 0, 2, 1, 2, 2, 0, 2, 2, 2, 2, 0, 0, 1, 0, 0, 1, 2, 0, 0, 2, 0, 0, 0, 1, 2, 0, 2, 2, 0, 2, 2, 2, 2, 2, 2, 2, 2, 2, 1, 0, 2, 2, 2, 2, 2, 2, 0, 2, 2, 2, 2, 2, 2, 2, 2, 2, 2, 2, 2, 2, 2, 0, 0, 1, 2, 2, 2, 2, 2, 2, 2, 0, 2, 0, 2, 0, 2, 2, 0, 0, 2, 2, 2, 2, 2, 1, 2, 2, 2, 0, 2, 2, 2, 2, 0, 0, 2, 2, 0, 2, 2, 2, 2, 2, 1, 2, 2, 2, 2, 2, 2, 0, 2, 2, 2, 2, 0, 2, 0, 0, 0, 0, 0, 2, 2, 0, 0, 0, 1, 2, 0, 2, 2, 2, 2, 2, 2, 0, 2, 1, 2, 2, 2, 0, 2, 2, 0, 0, 2, 2, 0, 1, 2, 0, 0, 0, 0, 0, 2, 0, 2, 0, 0, 1, 0, 0, 2, 1, 0, 0, 2, 2, 2, 2, 2, 2, 2, 2, 2, 0, 2, 0, 2, 2, 2, 0, 2, 2, 0, 2, 2, 2, 0, 0, 2, 2, 2, 2, 2, 2, 2, 2, 0, 2, 2, 1, 2, 2, 0, 0, 2, 0, 0, 0, 2, 2, 0, 0, 0, 0, 2, 2, 2, 2, 2, 2, 0, 2, 2, 0, 0, 2, 2, 0, 0, 2, 2, 2, 2, 0, 2, 0, 2, 2, 2, 2, 2, 2, 1, 2, 0, 0, 2, 2, 2, 2, 2, 0, 1, 0, 2, 2, 0, 2, 2, 2, 2, 1, 2, 1, 2, 2, 0, 0, 2, 0, 0, 1, 1, 2, 0, 2, 2, 2, 1, 1, 2, 2, 2, 0, 1, 1, 0, 0, 0, 2, 1, 2, 2, 1, 0, 2, 2, 2, 2, 2, 0, 2, 2, 2, 2, 0, 0, 2, 2, 0, 0, 0, 0, 2, 2, 0, 1, 2, 2, 1, 2, 2, 0, 0, 2, 1, 2, 2, 2, 0, 2, 2, 0, 2, 0, 0, 2, 0, 2, 2, 1, 0, 2, 2, 0, 2, 2, 0, 0, 2, 2, 2, 2, 2, 2, 2, 2, 0, 2, 2, 2, 2, 2, 2, 0, 2, 0, 0, 1, 2, 0, 2, 2, 0, 1, 2, 2, 2, 2, 2, 2, 2, 2, 2, 1, 2, 0, 2, 2, 2, 1, 2, 0, 2, 2, 0, 0, 2, 2, 2, 0, 0, 2, 0, 2, 2, 2, 2, 1, 0, 2, 2, 0, 0, 2, 0, 2, 2, 2, 2, 2, 2, 0, 2, 0, 2, 1, 2, 0, 2, 2, 2, 2, 2, 0, 1, 2, 2, 2, 0, 2, 1, 2, 0, 2, 2, 2, 2, 0, 0, 2, 2, 2, 1, 2, 2, 0, 1, 2, 2, 0, 2, 2, 2, 1, 2, 2, 2, 2, 1, 0, 2, 2, 2, 1, 2, 2, 2, 2, 2, 1, 2, 0, 0, 2, 0, 2, 0, 1, 0, 2, 0, 0, 2, 0, 2, 0, 1, 2, 2, 0, 0, 1, 2, 0, 1, 0, 0, 0, 2, 0, 0, 0, 2, 0, 1, 0, 2, 0, 2, 0, 2, 0, 2, 2, 0, 2, 2, 2, 2, 2, 2, 2, 2, 0, 2, 0, 0, 0, 2, 2, 0, 2, 2, 1, 0, 0, 2, 0, 2, 2, 2, 2, 2, 0, 0, 2, 2, 0, 0, 2, 2, 2, 2, 2, 1, 0, 2, 0, 2, 2, 2, 2, 0, 0, 2, 2, 2, 0, 2, 2, 2, 0, 2, 1, 0, 2, 2, 2, 2, 2, 0, 2, 0, 2, 2, 2, 0, 2, 0, 2, 2, 1, 0, 0, 1, 0, 2, 0, 2, 0, 2, 2, 2, 0, 0, 0, 0, 2, 0, 2, 0, 2, 0, 2, 0, 2, 2, 0, 0, 2, 0, 2, 2, 2, 0, 1, 2, 2, 0, 0, 2, 2, 2, 2, 0, 0, 2, 2, 2, 0, 2, 2, 1, 2, 2, 1, 2, 2, 2, 2, 2, 0, 0, 1, 0, 2, 2, 0, 2, 0, 0, 2, 0, 0, 2, 0, 0, 2, 0, 2, 2, 2, 2, 0, 2, 0, 0, 0, 0, 0, 2, 2, 0, 0, 2, 2, 2, 2, 2, 2, 0, 1, 2, 2, 2, 0, 0, 1, 0, 1, 0, 2, 0, 0, 0, 0, 0, 2, 0, 2, 0, 1, 2, 2, 1, 0, 2, 2, 0, 0, 0, 2, 2, 0, 1, 2, 2, 2, 2, 0, 2, 2, 2, 2, 2, 2, 1, 2, 1, 2, 2, 2, 2, 2, 2, 2, 2, 1, 2, 2, 0, 0, 2, 2, 2, 2, 0, 2, 2, 0, 0, 2, 2, 2, 1, 2, 0, 2, 2, 2, 2, 0, 1, 2, 2, 2, 2, 2, 0, 2, 2, 1, 0, 2, 0, 2, 2, 1, 2, 2, 2, 0, 2, 2, 2, 1, 2, 2, 2, 2, 0, 1, 2, 2, 2, 0, 2, 2, 0, 0, 2, 1, 0, 2, 2, 2, 0, 2, 2, 2, 2, 0, 0, 2, 2, 1, 2, 0, 2, 2, 2, 2, 2, 2, 2, 1, 2, 2, 2, 2, 0, 2, 2, 2, 0, 0, 2, 2, 2, 0, 1, 0, 0, 2, 1, 2, 2, 0, 2, 2, 2, 2, 2, 2, 2, 2, 2, 2, 0, 0, 2, 0, 2, 2, 0, 2, 2, 2, 2, 2, 0, 2, 2, 2, 2, 2, 1, 2, 0, 2, 2, 2, 2, 2, 0, 0, 2, 2, 1, 1, 0, 2, 0, 1, 2, 2, 2, 0, 2, 0, 1, 2, 2, 1, 2, 2, 0, 2, 1, 2, 2, 2, 0, 2, 0, 0, 0, 2, 2, 2, 0, 2, 0, 2, 2, 2, 0, 2, 2, 2, 1, 2, 2, 0, 1, 2, 0, 0, 2, 2, 2, 2, 2, 0, 2, 2, 2, 0, 0, 0, 1, 0, 2, 0, 0, 0, 2, 2, 2, 0, 2, 2, 2, 2, 2, 2, 2, 2, 2, 2, 2, 2, 0, 2, 2, 2, 2, 1, 0, 2, 1, 2, 2, 2, 2, 2, 2, 2, 2, 0, 2, 2, 1, 2, 2, 2, 1, 0, 0, 0, 1, 0, 0, 1, 2, 2, 2, 0, 2, 2, 2, 2, 2, 2, 0, 2, 2, 0, 2, 2, 2, 2, 0, 0, 0, 0, 2, 2, 0, 2, 2, 0, 2, 0, 2, 2, 2, 2, 2, 1, 1, 2, 0, 2, 2, 0, 0, 0, 2, 0, 1, 2, 0, 0, 2, 2, 2, 0, 2, 2, 2, 2, 0, 2, 0, 2, 2, 0, 2, 2, 0, 0, 2, 2, 2, 1, 2, 0, 2, 2, 0, 0, 2, 2, 0, 2, 2, 0, 0, 0, 1, 0, 2, 2, 0, 0, 2, 2, 2, 1, 0, 2, 0, 2, 0, 2, 2, 2, 2, 2, 2, 0, 2, 2, 0, 2, 2, 0, 2, 2, 2, 2, 2, 0, 1, 2, 2, 2, 0, 1, 2, 2, 2, 2, 2, 2, 1, 2, 2, 2, 2, 2, 2, 0, 1, 2, 2, 0, 2, 2, 2, 0, 2, 0, 0, 2, 2, 0, 2, 0, 2, 0, 2, 2, 2, 2, 2, 2, 0, 2, 2, 2, 2, 2, 2, 2, 2, 2, 0, 2, 0, 2, 0, 2, 0, 2, 2, 2, 0, 2, 0, 2, 2, 1, 2, 0, 2, 2, 1, 0, 2, 2, 2, 0, 2, 2, 2, 1, 2, 2, 1, 2, 2, 2, 2, 0, 0, 2, 2, 0, 0, 2, 0, 2, 2, 0, 1, 0, 2, 2, 0, 2, 2, 0, 2, 2, 2, 0, 2, 0, 0, 0, 2, 2, 2, 2, 2, 1, 2, 1, 2, 2, 0, 1, 0, 2, 2, 2, 2, 0, 0, 0, 0, 0, 1, 2, 2, 2, 2, 2, 2, 2, 2, 2, 2, 2, 2, 0, 2, 0, 2, 1, 1, 0, 2, 0, 2, 2, 2, 0, 0, 2, 0, 2, 2, 0, 1, 0, 1, 0, 2, 0, 1, 0, 2, 2, 2, 1, 2, 2, 2, 2, 2, 2, 2, 2, 0, 0, 2, 2, 0, 0, 0, 2, 2, 2, 0, 2, 2, 2, 1, 2, 2, 2, 2, 2, 2, 0, 0, 0, 0, 0, 0, 2, 0, 0, 1, 0, 2, 2, 2, 2, 0, 2, 2, 0, 1, 1, 2, 2, 2, 2, 2, 2, 2, 2, 0, 1, 2, 0, 2, 2, 2, 2, 1, 0, 0, 0, 0, 0, 2, 0, 2, 2, 2, 2, 2, 1, 0, 2, 2, 2, 2, 1, 2, 0, 2, 2, 2, 2, 2, 2, 0, 0, 2, 0, 0, 1, 0, 2, 2, 2, 2, 2, 2, 2, 2, 2, 0, 2, 2, 2, 0, 0, 2, 2, 2, 2, 2, 2, 2, 2, 0, 2, 2, 2, 2, 2, 1, 2, 0, 2, 2, 2, 2, 2, 2, 2, 0, 2, 0, 2, 1, 2, 2, 2, 2, 2, 2, 0, 2, 2, 1, 2, 2, 2, 0, 0, 0, 2, 2, 2, 2, 2, 2, 2, 2, 2, 0, 2, 2, 2, 2, 2, 0, 2, 0, 2, 2, 2, 2, 1, 2, 0, 0, 1, 2, 2, 2, 2, 0, 2, 2, 2, 0, 2, 2, 2, 2, 0, 2, 0, 2, 2, 2, 0, 0, 2, 0, 0, 2, 2, 2, 0, 2, 2, 0, 1, 0, 2, 0, 0, 2, 2, 2, 0, 2, 0, 2, 1, 0, 2, 2, 2, 2, 0, 2, 2, 2, 2, 2, 2, 2, 2, 0, 2, 1, 2, 0, 2, 2, 0, 2, 2, 2, 2, 2, 1, 0, 2, 0, 2, 2, 1, 0, 0, 2, 2, 2, 2, 2, 2, 2, 2, 2, 2, 0, 1, 2, 2, 0, 2, 0, 0, 2, 0, 2, 2, 0, 2, 0, 1, 2, 1, 2, 0, 0, 2, 0, 1, 1, 2, 0, 1, 2, 2, 0, 2, 2, 2, 2, 2, 2, 2, 0, 2, 2, 0, 0, 2, 2, 0, 2, 2, 2, 2, 2, 0, 2, 2, 2, 2, 0, 0, 2, 2, 2, 0, 2, 0, 2, 0, 0, 2, 2, 2, 2, 2, 2, 2, 1, 1, 0, 1, 2, 0, 2, 2, 2, 2, 2, 2, 2, 2, 2, 0, 2, 0, 0, 1, 0, 2, 0, 0, 2, 2, 1, 0, 2, 1, 2, 2, 0, 0, 2, 0, 2, 0, 2, 0, 2, 0, 2, 0, 2, 2, 2, 0, 0, 0, 1, 2, 2, 0, 0, 0, 2, 0, 2, 0, 2, 2, 0, 2, 2, 2, 1, 2, 0, 2, 0, 0, 2, 2, 0, 2, 2, 2, 2, 2, 2, 0, 2, 2, 2, 0, 1, 2, 2, 2, 2, 2, 0, 1, 0, 1, 2, 1, 0, 2, 0, 0, 2, 0, 2, 0, 2, 2, 1, 0, 2, 0, 2, 0, 1, 2, 2, 2, 2, 2, 0, 2, 0, 2, 2, 2, 1, 0, 2, 1, 0, 2, 2, 2, 2, 2, 2, 2, 2, 2, 2, 0, 2, 2, 2, 1, 2, 2, 2, 2, 2, 2, 2, 2, 2, 0, 2, 2, 2, 2, 0, 1, 1, 2, 1, 2, 0, 2, 1, 0, 0, 2, 2, 2, 0, 2, 0, 0, 1, 2, 2, 2, 2, 2, 2, 2, 2, 2, 0, 2, 0, 0, 2, 0, 2, 2, 2, 0, 2, 0, 0, 2, 0, 0, 2, 2, 2, 2, 2, 2, 0, 0, 2, 1, 2, 2, 1, 2, 2, 2, 2, 1, 2, 0, 1, 2, 2, 1, 2, 2, 2, 2, 2, 2, 2, 2, 2, 0, 2, 2, 2, 2, 0, 2, 2, 0, 2, 2, 2, 2, 2, 2, 2, 2, 1, 0, 0, 2, 1, 2, 0, 0, 2, 0, 0, 2, 2, 0, 2, 1, 2, 0, 2, 0, 2, 1, 2, 2, 0, 2, 2, 2, 2, 2, 2, 2, 0, 0, 2, 2, 0, 2, 2, 2, 2, 2, 2, 0, 2, 2, 0, 0, 2, 2, 2, 2, 2, 2, 2, 0, 0, 2, 0, 0, 2, 2, 2, 2, 1, 2, 2, 2, 1, 0, 0, 1, 2, 1, 2, 0, 0, 2, 2, 2, 0, 2, 2, 2, 1, 2, 0, 2, 1, 2, 1, 2, 2, 2, 2, 2, 2, 0, 2, 2, 2, 2, 2, 2, 2, 2, 2, 2, 2, 0, 0, 0, 2, 0, 0, 0, 2, 2, 0, 0, 1, 1, 0, 2, 2, 2, 2, 1, 2, 2, 0, 2, 2, 0, 2, 2, 0, 2, 2, 2, 2, 1, 2, 0, 0, 0, 0, 2, 2, 0, 0, 2, 2, 0, 2, 1, 2, 2, 2, 0, 2, 2, 2, 2, 2, 0, 2, 1, 0, 0, 2, 0, 2, 2, 2, 0, 0, 2, 0, 2, 2, 0, 2, 2, 0, 2, 2, 2, 2, 0, 0, 2, 2, 0, 2, 2, 0, 0, 0, 1, 0, 2, 0, 2, 2, 2, 2, 0, 2, 0, 1, 2, 2, 0, 0, 0, 2, 2, 2, 1, 0, 2, 0, 2, 0, 0, 2, 2, 2, 2, 2, 2, 2, 0, 2, 2, 2, 2, 0, 2, 2, 2, 2, 0, 2, 0, 2, 1, 2, 2, 0, 2, 2, 2, 2, 0, 2, 2, 2, 2, 2, 1, 2, 0, 2, 2, 2, 2, 0, 0, 0, 1, 2, 2, 2, 2, 2, 0, 2, 1, 2, 0, 2, 2, 2, 2, 2, 2, 0, 2, 0, 2, 2, 0, 0, 1, 2, 2, 2, 2, 2, 0, 2, 2, 0, 0, 2, 2, 2, 0, 0, 0, 2, 0, 0, 2, 0, 2, 0, 2, 0, 2, 0, 2, 2, 2, 2, 2, 2, 2, 1, 2, 2, 0, 2, 0, 2, 0, 1, 2, 0, 2, 2, 2, 0, 2, 2, 2, 1, 0, 2, 2, 1, 2, 2, 2, 2, 2, 2, 2, 2, 0, 0, 2, 2, 2, 0, 0, 0, 2, 0, 0, 2, 0, 2, 2, 2, 2, 2, 2, 2, 2, 0, 0, 2, 2, 2, 2, 2, 0, 1, 0, 0, 2, 2, 2, 0, 2, 0, 0, 0, 0, 0, 2, 0, 2, 0, 0, 0, 2, 2, 2, 2, 0, 1, 2, 2, 2, 2, 2, 2, 1, 2, 2, 2, 0, 2, 2, 0, 1, 2, 2, 2, 0, 2, 2, 1, 0, 2, 2, 2, 2, 0, 2, 0, 0, 2, 2, 0, 2, 0, 2, 2, 0, 0, 2, 0, 2, 2, 2, 0, 1, 2, 2, 0, 2, 2, 0, 1, 0, 2, 2, 1, 2, 2, 2, 1, 2, 2, 2, 0, 1, 2, 2, 0, 2, 0, 2, 1, 1, 0, 2, 1, 2, 0, 2, 2, 2, 2, 0, 2, 1, 1, 2, 1, 2, 2, 2, 2, 0, 0, 2, 1, 0, 2, 0, 2, 0, 0, 0, 0, 0, 2, 2, 2, 2, 2, 1, 2, 2, 2, 2, 2, 1, 0, 2, 1, 0, 2, 2, 2, 2, 0, 0, 2, 0, 2, 0, 0, 2, 0, 0, 0, 2, 2, 0, 1, 0, 2, 2, 2, 2, 2, 2, 2, 2, 2, 0, 0, 0, 1, 2, 2, 0, 2, 0, 2, 2, 1, 2, 0, 0, 1, 2, 2, 2, 2, 0, 2, 2, 2, 2, 2, 2, 0, 0, 2, 1, 2, 2, 2, 2, 0, 2, 0, 0, 2, 0, 2, 2, 2, 2, 0, 2, 0, 0, 2, 0, 2, 2, 2, 2, 0, 0, 2, 2, 2, 0, 2, 0, 2, 2, 0, 0, 1, 0, 2, 0, 2, 2, 2, 2, 2, 0, 2, 2, 0, 2, 2, 0, 1, 2, 0, 2, 0, 2, 2, 2, 2, 0, 1, 2, 0, 2, 1, 2, 0, 2, 0, 2, 2, 2, 2, 2, 2, 2, 0, 2, 0, 2, 1, 2, 0, 0, 0, 2, 2, 0, 2, 0, 2, 0, 2, 2, 2, 2, 1, 0, 2, 2, 0, 2, 2, 2, 0, 0, 2, 0, 2, 2, 2, 2, 0, 2, 2, 2, 2, 2, 2, 2, 0, 2, 0, 1, 2, 0, 0, 2, 2, 2, 2, 2, 2, 2, 2, 0, 0, 0, 0, 2, 0, 0, 2, 0, 2, 2, 1, 2, 2, 2, 0, 2, 2, 1, 2, 2, 1, 2, 2, 2, 0, 0, 0, 2, 0, 2, 0, 1, 2, 0, 2, 2, 0, 2, 2, 0, 2, 1, 0, 1, 2, 1, 0, 2, 2, 1, 2, 2, 0, 1, 2, 0, 2, 0, 0, 2, 2, 2, 1, 2, 2, 2, 0, 2, 0, 2, 0, 2, 2, 2, 1, 2, 2, 2, 1, 2, 2, 1, 0, 2, 2, 2, 2, 0, 0, 2, 2, 2, 2, 2, 0, 0, 2, 2, 2, 2, 0, 2, 0, 0, 2, 2, 0, 2, 2, 2, 2, 2, 1, 2, 0, 0, 2, 2, 2, 0, 2, 2, 2, 2, 2, 2, 2, 2, 2, 0, 2, 0, 2, 0, 0, 0, 2, 2, 0, 0, 2, 0, 2, 0, 2, 2, 2, 2, 2, 0, 0, 2, 2, 2, 2, 2, 2, 0, 2, 2, 0, 2, 0, 2, 1, 2, 2, 2, 2, 2, 2, 0, 2, 2, 0, 1, 2, 2, 2, 2, 0, 1, 0, 2, 0, 2, 0, 2, 0, 0, 2, 2, 1, 0, 0, 0, 2, 2, 2, 0, 2, 1, 0, 2, 0, 1, 2, 2, 0, 2, 0, 0, 2, 0, 2, 2, 1, 2, 2, 1, 2, 2, 0, 2, 0, 2, 2, 2, 0, 1, 1, 2, 2, 2, 0, 2, 2, 2, 2, 0, 2, 2, 0, 2, 2, 0, 2, 0, 2, 2, 2, 1, 2, 0, 0, 2, 0, 2, 1, 2, 2, 2, 2, 0, 2, 0, 2, 0, 2, 2, 2, 2, 1, 2, 0, 0, 0, 2, 2, 1, 2, 2, 0, 2, 2, 2, 2, 2, 2, 2, 2, 0, 2, 0, 2, 2, 0, 0, 1, 2, 2, 2, 0, 2, 2, 0, 2, 2, 2, 2, 2, 2, 2, 2, 1, 0, 0, 2, 0, 2, 2, 2, 2, 2, 0, 0, 1, 0, 2, 2, 0, 0, 1, 0, 1, 2, 2, 2, 2, 0, 2, 0, 2, 0, 2, 2, 1, 0, 2, 2, 2, 2, 1, 0, 1, 2, 2, 2, 2, 1, 2, 2, 2, 2, 2, 0, 0, 2, 2, 2, 2, 2, 2, 1, 2, 2, 2, 2, 0, 2, 2, 2, 2, 2, 1, 2, 0, 2, 0, 0, 2, 2, 0, 0, 2, 2, 0, 2, 2, 2, 0, 0, 1, 2, 2, 2, 2, 2, 2, 1, 2, 2, 1, 2, 2, 2, 1, 1, 0, 2, 1, 2, 0, 2, 0, 2, 2, 2, 2, 0, 0, 2, 2, 0, 0, 2, 0, 0, 2, 2, 0, 0, 2, 2, 2, 0, 0, 1, 2, 0, 1, 2, 2, 2, 0, 2, 2, 2, 0, 2, 2, 0, 0, 0, 1, 2, 2, 2, 2, 2, 2, 2, 2, 2, 0, 2, 0, 0, 2, 1, 2, 2, 0, 2, 0, 0, 2, 2, 2, 2, 0, 2, 2, 0, 2, 0, 2, 2, 1, 0, 2, 0, 2, 2, 2, 2, 1, 0, 2, 1, 2, 2, 0, 1, 2, 2, 0, 0, 2, 2, 2, 1, 0, 2, 2, 0, 0, 2, 0, 2, 0, 2, 0, 2, 0, 2, 2, 2, 2, 0, 2, 2, 2, 2, 0, 2, 2, 2, 2, 1, 2, 0, 2, 2, 2, 2, 2, 2, 0, 0, 2, 2, 2, 2, 2, 2, 2, 2, 2, 0, 2, 2, 2, 2, 2, 2, 0, 2, 0, 1, 1, 0, 0, 0, 2, 2, 0, 2, 0, 2, 0, 0, 2, 1, 2, 0, 2, 1, 2, 2, 2, 2, 1, 0, 0, 2, 2, 2, 2, 0, 0, 2, 1, 2, 2, 2, 2, 1, 1, 0, 2, 2, 0, 2, 0, 2, 0, 2, 0, 2, 2, 2, 2, 0, 2, 2, 2, 0, 0, 2, 2, 2, 0, 0, 2, 0, 2, 2, 0, 2, 2, 2, 2, 1, 2, 0, 0, 2, 0, 0, 2, 2, 1, 2, 2, 1, 2, 2, 0, 2, 0, 2, 2, 2, 2, 0, 1, 1, 2, 1, 0, 2, 2, 2, 1, 2, 0, 0, 0, 2, 0, 1, 0, 2, 2, 2, 2, 2, 0, 0, 1, 2, 2, 1, 2, 2, 2, 2, 1, 2, 2, 0, 0, 2, 2, 1, 2, 2, 2, 2, 0, 2, 2, 2, 0, 2, 2, 0, 2, 1, 2, 0, 2, 2, 2, 2, 2, 2, 0, 0, 0, 0, 2, 2, 0, 2, 2, 2, 1, 2, 2, 0, 2, 2, 0, 2, 2, 2, 0, 2, 2, 0, 2, 2, 1, 2, 2, 2, 0, 0, 0, 2, 2, 2, 0, 0, 0, 2, 1, 2, 0, 2, 0, 2, 2, 2, 2, 2, 2, 0, 2, 2, 2, 2, 2, 0, 2, 2, 2, 0, 2, 2, 0, 2, 2, 0, 1, 2, 1, 0, 2, 0, 1, 2, 2, 2, 2, 2, 2, 2, 1, 0, 2, 2, 1, 2, 0, 2, 0, 2, 0, 0, 2, 2, 2, 0, 2, 2, 2, 0, 0, 2, 0, 2, 2, 1, 0, 2, 2, 2, 2, 2, 2, 0, 0, 0, 0, 0, 0, 2, 2, 0, 2, 2, 2, 0, 0, 0, 2, 2, 2, 0, 2, 2, 2, 2, 0, 2, 0, 0, 0, 2, 0, 2, 2, 2, 2, 0, 1, 0, 0, 2, 2, 2, 1, 2, 0, 2, 1, 2, 0, 0, 2, 2, 0, 2, 0, 0, 0, 0, 0, 2, 1, 0, 2, 2, 1, 2, 2, 2, 2, 2, 1, 0, 1, 2, 0, 2, 2, 2, 2, 0, 2, 0, 0, 0, 2, 2, 2, 2, 1, 2, 0, 0, 2, 2, 1, 2, 2, 2, 2, 2, 2, 2, 1, 2, 0, 2, 2, 0, 2, 0, 0, 0, 2, 2, 2, 0, 2, 2, 2, 2, 0, 2, 2, 2, 2, 2, 2, 2, 0, 2, 0, 1, 2, 2, 0, 0, 0, 0, 2, 0, 0, 0, 0, 2, 2, 0, 2, 2, 2, 1, 0, 0, 2, 2, 0, 2, 2, 1, 2, 2, 2, 2, 0, 2, 2, 2, 0, 0, 0, 2, 2, 0, 2, 0, 0, 2, 2, 2, 2, 1, 2, 0, 2, 2, 2, 0, 2, 0, 2, 2, 0, 1, 0, 1, 1, 2, 1, 0, 2, 0, 2, 2, 0, 2, 2, 2, 2, 1, 1, 0, 2, 0, 2, 2, 0, 0, 2, 2, 0, 2, 1, 0, 2, 2, 0, 2, 0, 2, 0, 0, 0, 2, 2, 2, 2, 2, 0, 0, 2, 2, 0, 0, 2, 2, 2, 0, 0, 2, 2, 2, 2, 1, 2, 0, 1, 0, 0, 2, 2, 2, 2, 2, 2, 2, 2, 0, 2, 2, 2, 2, 2, 0, 2, 0, 0, 2, 0, 2, 2, 0, 2, 2, 1, 1, 1, 2, 2, 2, 0, 0, 2, 0, 0, 2, 0, 2, 2, 2, 1, 2, 0, 2, 2, 0, 0, 1, 2, 2, 2, 2, 1, 0, 2, 2, 2, 2, 0, 0, 0, 2, 2, 2, 2, 1, 2, 2, 1, 2, 2, 2, 0, 2, 2, 0, 2, 2, 2, 2, 1, 0, 2, 0, 2, 0, 0, 0, 2, 0, 0, 0, 2, 0, 0, 0, 0, 1, 2, 2, 2, 2, 2, 0, 0, 0, 0, 2, 1, 0, 2, 0, 2, 0, 2, 2, 2, 2, 0, 2, 0, 0, 2, 0, 2, 2, 0, 0, 1, 1, 0, 0, 2, 2, 2, 0, 2, 2, 2, 0, 2, 2, 2, 2, 2, 2, 2, 2, 0, 2, 2, 2, 2, 0, 2, 2, 2, 0, 2, 0, 2, 2, 0, 2, 0, 2, 1, 2, 2, 2, 2, 0, 0, 0, 2, 2, 0, 0, 2, 2, 2, 0, 2, 2, 2, 0, 2, 2, 2, 2, 2, 2, 2, 1, 1, 2, 0, 2, 2, 0, 2, 2, 0, 2, 2, 0, 1, 2, 2, 0, 1, 2, 0, 2, 2, 2, 1, 0, 1, 2, 2, 0, 2, 0, 2, 0, 2, 2, 0, 2, 2, 2, 2, 2, 0, 2, 2, 2, 2, 2, 1, 2, 0, 0, 0, 2, 0, 0, 1, 0, 2, 2, 0, 1, 2, 2, 2, 2, 2, 1, 2, 0, 0, 0, 0, 2, 1, 2, 2, 0, 0, 0, 1, 2, 2, 2, 2, 0, 2, 0, 1, 2, 0, 1, 0, 2, 2, 2, 2, 2, 0, 0, 1, 2, 0, 2, 2, 0, 2, 2, 0, 2, 2, 0, 0, 2, 2, 2, 2, 2, 2, 1, 2, 2, 2, 2, 0, 1, 2, 0, 2, 2, 0, 2, 1, 0, 0, 0, 1, 2, 0, 0, 0, 2, 2, 0, 0, 2, 0, 2, 2, 0, 2, 1, 2, 2, 2, 2, 0, 2, 2, 2, 2, 0, 2, 2, 2, 0, 2, 2, 0, 0, 0, 0, 0, 2, 0, 2, 0, 1, 2, 0, 0, 0, 2, 2, 0, 1, 2, 2, 0, 2, 0, 0, 0, 0, 0, 0, 0, 0, 1, 0, 0, 2, 2, 2, 2, 2, 2, 2, 2, 2, 2, 2, 2, 2, 0, 1, 2, 1, 2, 2, 2, 2, 2, 0, 2, 0, 2, 0, 0, 2, 1, 2, 0, 0, 2, 2, 2, 0, 2, 2, 2, 2, 2, 2, 2, 2, 2, 2, 2, 0, 1, 2, 0, 2, 0, 0, 1, 2, 2, 0, 2, 2, 2, 2, 0, 2, 2, 2, 0, 0, 0, 2, 2, 2, 2, 2, 2, 0, 0, 1, 0, 0, 0, 1, 0, 2, 2, 1, 1, 0, 2, 2, 0, 0, 2, 2, 2, 2, 2, 0, 0, 2, 0, 2, 0, 1, 0, 2, 2, 2, 2, 2, 1, 2, 0, 2, 1, 2, 2, 2, 1, 2, 2, 0, 0, 2, 0, 2, 0, 2, 0, 2, 0, 0, 2, 2, 0, 2, 0, 2, 0, 2, 2, 2, 0, 2, 2, 2, 2, 2, 0, 1, 0, 2, 2, 2, 2, 2, 2, 2, 1, 0, 2, 2, 2, 0, 2, 2, 2, 0, 0, 2, 0, 2, 0, 1, 0, 2, 2, 1, 2, 0, 2, 2, 2, 2, 0, 2, 2, 0, 2, 2, 0, 2, 1, 0, 2, 0, 2, 2, 2, 1, 1, 1, 0, 2, 1, 2, 2, 2, 1, 2, 2, 0, 0, 2, 2, 2, 2, 1, 2, 2, 2, 2, 2, 2, 0, 2, 0, 2, 2, 2, 2, 2, 0, 2, 0, 2, 2, 2, 0, 2, 0, 1, 2, 1, 0, 2, 2, 0, 0, 2, 2, 0, 2, 2, 2, 1, 2, 2, 2, 2, 0, 2, 2, 2, 2, 0, 0, 0, 0, 0, 2, 2, 0, 0, 2, 2, 2, 2, 2, 2, 2, 2, 2, 0, 2, 2, 2, 2, 0, 2, 2, 2, 0, 2, 0, 2, 2, 2, 2, 0, 2, 2, 2, 2, 0, 2, 2, 2, 1, 0, 0, 2, 2, 2, 2, 2, 1, 2, 2, 2, 2, 1, 2, 1, 0, 2, 2, 1, 0, 2, 2, 0, 2, 2, 2, 2, 0, 2, 2, 1, 0, 0, 2, 0, 2, 2, 0, 2, 2, 0, 2, 0, 0, 0, 0, 2, 2, 0, 0, 2, 0, 2, 2, 2, 2, 1, 2, 2, 2, 1, 0, 0, 0, 2, 0, 2, 0, 1, 2, 2, 2, 2, 2, 1, 2, 2, 0, 2, 2, 2, 2, 0, 0, 2, 2, 0, 2, 2, 2, 2, 2, 2, 0, 2, 0, 0, 2, 0, 0, 2, 2, 2, 2, 1, 2, 2, 2, 0, 2, 0, 2, 2, 0, 2, 0, 2, 2, 0, 2, 2, 0, 2, 0, 2, 0, 2, 2, 1, 0, 2, 2, 2, 2, 0, 2, 2, 0, 2, 2, 0, 0, 2, 2, 2, 1, 0, 2, 2, 2, 2, 0, 2, 0, 0, 2, 2, 0, 2, 2, 2, 2, 0, 0, 2, 2, 2, 2, 2, 2, 0, 2, 2, 2, 1, 0, 2, 1, 2, 2, 2, 2, 2, 2, 2, 0, 1, 2, 0, 2, 2, 2, 0, 0, 2, 0, 2, 0, 0, 2, 0, 0, 2, 2, 2, 2, 0, 2, 1, 0, 2, 2, 2, 0, 2, 2, 0, 2, 2, 2, 2, 0, 2, 2, 2, 2, 0, 2, 0, 2, 0, 2, 0, 2, 0, 0, 0, 2, 0, 2, 2, 2, 1, 1, 2, 2, 0, 0, 1, 2, 2, 2, 2, 2, 2, 2, 2, 1, 2, 0, 2, 2, 2, 2, 2, 2, 2, 2, 0, 2, 2, 2, 2, 0, 2, 2, 2, 2, 2, 2, 2, 0, 1, 2, 2, 2, 0, 2, 0, 0, 0, 0, 2, 0, 0, 1, 2, 0, 0, 2, 0, 0, 2, 2, 2, 1, 2, 2, 2, 2, 2, 2, 1, 2, 1, 0, 2, 0, 0, 1, 2, 2, 2, 2, 2, 1, 0, 2, 2, 2, 0, 2, 2, 2, 2, 2, 1, 2, 2, 2, 0, 0, 2, 0, 2, 2, 2, 0, 2, 2, 2, 0, 0, 2, 2, 2, 2, 2, 1, 0, 0, 2, 2, 2, 0, 2, 0, 0, 2, 0, 0, 2, 2, 0, 2, 1, 0, 2, 0, 0, 1, 2, 0, 0, 0, 0, 2, 0, 1, 2, 2, 2, 2, 0, 2, 2, 2, 0, 2, 1, 2, 1, 2, 1, 2, 2, 2, 0, 0, 2, 1, 0, 2, 2, 2, 0, 2, 0, 2, 2, 2, 2, 2, 2, 0, 0, 2, 0, 2, 2, 2, 0, 2, 2, 2, 0, 2, 2, 0, 2, 0, 0, 2, 0, 2, 0, 2, 2, 0, 2, 0, 2, 2, 0, 2, 2, 2, 2, 2, 0, 2, 0, 2, 2, 0, 2, 0, 2, 2, 2, 0, 0, 2, 2, 0, 2, 0, 0, 0, 2, 2, 2, 0, 1, 2, 0, 2, 2, 0, 1, 2, 2, 2, 2, 2, 0, 0, 2, 2, 2, 2, 1, 0, 2, 2, 2, 2, 0, 0, 2, 2, 2, 2, 2, 2, 0, 2, 2, 2, 0, 2, 2, 2, 2, 2, 2, 2, 2, 2, 2, 2, 2, 0, 2, 2, 1, 0, 2, 2, 2, 2, 2, 0, 2, 2, 2, 2, 2, 2, 0, 0, 2, 2, 2, 1, 2, 0, 2, 0, 2, 1, 0, 2, 2, 1, 2, 2, 0, 0, 0, 2, 1, 0, 2, 0, 2, 1, 0, 2, 1, 2, 2, 0, 2, 0, 2, 2, 2, 0, 0, 2, 2, 2, 0, 0, 2, 0, 1, 0, 2, 0, 2, 0, 0, 2, 0, 2, 2, 2, 0, 2, 2, 2, 2, 1, 2, 2, 2, 0, 2, 2, 1, 0, 0, 2, 1, 2, 2, 2, 2, 2, 0, 0, 0, 2, 2, 0, 2, 1, 2, 2, 0, 0, 0, 0, 1, 1, 2, 2, 1, 2, 2, 0, 2, 2, 1, 2, 2, 0, 2, 2, 2, 2, 0, 2, 1, 2, 0, 1, 1, 2, 0, 2, 1, 0, 2, 2, 2, 1, 2, 2, 2, 2, 0, 2, 0, 2, 2, 0, 0, 2, 1, 0, 0, 2, 2, 0, 1, 1, 0, 1, 2, 2, 2, 0, 2, 0, 2, 2, 2, 0, 2, 0, 2, 2, 2, 0, 0, 2, 0, 1, 2, 0, 0, 2, 2, 1, 2, 0, 2, 2, 0, 0, 2, 1, 2, 0, 2, 0, 2, 0, 1, 2, 0, 0, 2, 1, 0, 2, 0, 2, 2, 0, 2, 0, 0, 2, 0, 2, 0, 0, 2, 2, 0, 0, 2, 2, 2, 2, 2, 2, 1, 2, 2, 0, 2, 2, 2, 2, 0, 0, 2, 1, 2, 2, 2, 2, 0, 0, 2, 2, 2, 2, 2, 2, 2, 2, 2, 0, 1, 0, 0, 2, 0, 0, 2, 2, 2, 2, 0, 2, 0, 2, 0, 0, 2, 2, 2, 0, 2, 2, 2, 0, 1, 2, 1, 2, 2, 2, 2, 2, 2, 2, 2, 0, 2, 2, 2, 2, 2, 0, 2, 2, 0, 2, 2, 2, 2, 2, 0, 0, 2, 2, 2, 2, 2, 2, 2, 2, 2, 2, 2, 2, 0, 2, 0, 2, 0, 0, 2, 2, 2, 0, 2, 2, 2, 2, 2, 2, 0, 2, 2, 2, 2, 0, 0, 2, 2, 0, 2, 0, 1, 2, 2, 0, 0, 0, 2, 0, 2, 2, 0, 2, 1, 0, 2, 2, 2, 2, 2, 2, 2, 2, 2, 2, 1, 2, 0, 1, 2, 2, 0, 2, 2, 0, 0, 2, 0, 2, 0, 2, 2, 0, 2, 2, 1, 2, 2, 0, 2, 2, 0, 0, 2, 2, 0, 2, 2, 1, 2, 2, 2, 2, 2, 2, 2, 2, 1, 2, 1, 0, 0, 2, 1, 2, 0, 2, 2, 2, 2, 0, 2, 2, 1, 2, 2, 0, 0, 2, 2, 2, 2, 2, 2, 2, 0, 2, 2, 1, 2, 0, 2, 0, 2, 2, 0, 2, 1, 0, 1, 2, 2, 2, 2, 2, 0, 1, 2, 2, 2, 2, 1, 2, 2, 0, 2, 2, 1, 1, 1, 2, 2, 2, 1, 2, 2, 1, 0, 2, 2, 2, 1, 2, 2, 2, 2, 2, 2, 2, 2, 0, 2, 2, 2, 2, 2, 2, 2, 0, 2, 2, 1, 0, 2, 0, 0, 2, 2, 2, 0, 0, 1, 2, 0, 2, 2, 2, 2, 2, 2, 0, 0, 0, 0, 2, 0, 2, 2, 2, 0, 2, 2, 0, 0, 0, 2, 2, 2, 2, 2, 2, 2, 1, 2, 2, 0, 0, 2, 0, 0, 0, 0, 0, 2, 0, 2, 2, 0, 2, 2, 1, 0, 0, 2, 2, 2, 2, 0, 0, 0, 2, 1, 0, 2, 0, 2, 2, 2, 2, 2, 0, 2, 2, 2, 0, 2, 2, 0, 2, 0, 2, 0, 1, 2, 2, 2, 1, 2, 2, 2, 0, 0, 0, 2, 2, 2, 2, 0, 2, 0, 2, 2, 2, 2, 2, 2, 1, 2, 0, 2, 2, 2, 1, 2, 2, 2, 0, 0, 2, 0, 2, 2, 0, 0, 2, 2, 2, 2, 2, 0, 2, 2, 2, 1, 2, 1, 2, 0, 0, 2, 2, 2, 2, 2, 0, 1, 0, 2, 2, 0, 0, 2, 2, 0, 0, 2, 2, 2, 0, 0, 2, 2, 2, 2, 2, 0, 0, 2, 2, 1, 0, 2, 0, 2, 0, 2, 2, 0, 2, 2, 0, 0, 0, 2, 0, 0, 2, 2, 2, 2, 0, 2, 2, 2, 1, 2, 2, 0, 2, 0, 1, 0, 2, 2, 0, 0, 0, 0, 2, 0, 2, 2, 1, 2, 2, 0, 2, 2, 0, 2, 0, 2, 2, 2, 2, 2, 2, 1, 2, 2, 1, 2, 2, 2, 2, 0, 0, 0, 0, 0, 2, 0, 2, 2, 1, 1, 2, 2, 2, 2, 0, 2, 1, 2, 0, 2, 1, 2, 2, 2, 2, 2, 2, 2, 2, 2, 2, 2, 2, 2, 2, 2, 0, 2, 2, 1, 2, 0, 0, 0, 2, 2, 2, 2, 0, 2, 2, 2, 2, 0, 0, 0, 2, 2, 0, 0, 2, 2, 0, 2, 1, 2, 2, 2, 0, 2, 2, 2, 2, 2, 2, 0, 0, 0, 2, 0, 2, 0, 2, 0, 0, 0, 2, 0, 2, 0, 0, 2, 2, 2, 0, 0, 1, 2, 2, 2, 0, 2, 2, 2, 1, 2, 0, 1, 2, 2, 2, 2, 0, 2, 1, 2, 2, 0, 0, 0, 2, 0, 0, 2, 0, 2, 0, 0, 2, 0, 1, 0, 0, 2, 2, 2, 2, 0, 2, 1, 2, 2, 0, 2, 2, 2, 0, 0, 2, 0, 0, 2, 2, 0, 0, 1, 2, 0, 2, 2, 2, 0, 2, 2, 0, 2, 2, 2, 2, 0, 0, 2, 2, 0, 0, 1, 0, 2, 2, 2, 2, 2, 0, 2, 0, 0, 2, 2, 2, 0, 2, 2, 1, 0, 2, 2, 2, 0, 0, 2, 2, 2, 2, 2, 0, 1, 2, 2, 2, 0, 2, 2, 1, 2, 1, 0, 2, 2, 2, 0, 2, 2, 2, 0, 0, 0, 2, 2, 1, 0, 0, 0, 0, 1, 2, 0, 2, 2, 2, 2, 0, 2, 2, 2, 2, 0, 2, 2, 0, 2, 2, 2, 2, 2, 0, 2, 2, 2, 2, 1, 2, 1, 2, 2, 2, 2, 0, 1, 1, 0, 2, 1, 2, 2, 0, 2, 1, 2, 0, 0, 0, 2, 2, 0, 2, 2, 2, 2, 1, 0, 0, 0, 2, 2, 2, 2, 0, 2, 2, 2, 2, 2, 2, 2, 0, 2, 2, 0, 1, 2, 2, 0, 2, 2, 0, 2, 0, 0, 2, 2, 2, 2, 2, 0, 2, 1, 2, 2, 2, 2, 2, 2, 1, 2, 2, 2, 1, 0, 2, 1, 2, 2, 2, 1, 2, 0, 0, 2, 1, 2, 2, 2, 0, 2, 2, 2, 2, 2, 0, 2, 2, 2, 0, 0, 0, 0, 1, 2, 2, 2, 2, 1, 2, 2, 2, 0, 0, 2, 0, 1, 2, 2, 2, 1, 2, 2, 0, 2, 2, 2, 2, 2, 2, 2, 2, 2, 2, 0, 2, 0, 0, 2, 2, 0, 1, 2, 0, 2, 1, 2, 2, 1, 2, 2, 0, 2, 0, 2, 0, 2, 2, 0, 2, 1, 2, 2, 0, 0, 2, 0, 2, 2, 0, 0, 2, 2, 2, 2, 2, 2, 0, 2, 0, 0, 2, 2, 2, 2, 0, 0, 2, 0, 2, 0, 2, 2, 0, 0, 0, 2, 2, 2, 0, 0, 1, 2, 2, 1, 2, 2, 0, 1, 2, 1, 2, 2, 2, 0, 0, 2, 2, 0, 2, 1, 0, 2, 0, 2, 0, 2, 0, 1, 0, 0, 0, 2, 0, 2, 2, 2, 1, 2, 2, 2, 0, 0, 2, 0, 2, 2, 0, 2, 2, 2, 0, 0, 2, 1, 2, 2, 0, 2, 0, 2, 0, 2, 2, 0, 0, 0, 2, 2, 0, 2, 2, 1, 1, 2, 2, 2, 0, 2, 2, 2, 2, 2, 2, 0, 0, 2, 1, 2, 0, 2, 2, 2, 2, 0, 2, 2, 2, 0, 0, 2, 2, 0, 2, 2, 2, 0, 0, 2, 0, 0, 2, 0, 0, 0, 2, 2, 2, 0, 0, 2, 0, 0, 0, 2, 1, 1, 0, 1, 2, 0, 0, 0, 2, 2, 0, 0, 2, 0, 2, 2, 0, 0, 0, 0, 2, 2, 2, 2, 2, 2, 2, 2, 2, 2, 1, 2, 0, 2, 2, 2, 2, 2, 2, 2, 2, 0, 0, 2, 2, 1, 2, 1, 2, 1, 0, 2, 0, 2, 2, 2, 1, 0, 2, 2, 2, 2, 2, 0, 1, 0, 2, 2, 1, 2, 2, 0, 2, 2, 1, 2, 2, 2, 2, 2, 2, 0, 2, 1, 0, 0, 0, 0, 2, 2, 0, 2, 2, 0, 2, 0, 2, 2, 1, 2, 2, 2, 0, 2, 2, 2, 0, 0, 2, 2, 0, 2, 2, 2, 0, 0, 0, 2, 2, 2, 0, 2, 2, 2, 2, 0, 2, 2, 2, 2, 2, 1, 0, 2, 2, 2, 2, 2, 2, 2, 0, 1, 0, 2, 0, 2, 2, 0, 2, 2, 0, 0, 0, 2, 2, 2, 2, 2, 2, 2, 2, 2, 2, 2, 2, 1, 1, 0, 0, 2, 0, 2, 2, 1, 2, 0, 2, 2, 2, 0, 0, 0, 0, 2, 1, 0, 2, 0, 2, 0, 2, 2, 0, 2, 2, 0, 2, 0, 1, 0, 2, 2, 0, 2, 2, 1, 2, 2, 2, 2, 0, 2, 2, 2, 0, 1, 2, 2, 0, 2, 1, 2, 2, 2, 1, 0, 2, 0, 0, 1, 0, 2, 2, 0, 2, 0, 2, 0, 2, 0, 2, 2, 0, 0, 2, 2, 2, 2, 0, 2, 2, 2, 0, 0, 2, 2, 0, 2, 2, 2, 2, 0, 2, 2, 2, 2, 0, 2, 0, 2, 2, 2, 2, 2, 2, 2, 2, 0, 2, 2, 2, 2, 0, 2, 2, 0, 2, 2, 1, 0, 2, 1, 1, 2, 0, 0, 2, 2, 1, 2, 2, 0, 2, 0, 1, 2, 0, 0, 2, 1, 2, 2, 0, 0, 2, 0, 2, 2, 1, 2, 2, 2, 2, 2, 2, 2, 2, 0, 0, 2, 2, 2, 0, 2, 2, 2, 0, 2, 2, 0, 2, 2, 2, 0, 0, 0, 2, 0, 2, 0, 2, 2, 2, 0, 2, 0, 2, 0, 0, 1, 2, 2, 0, 2, 0, 1, 2, 0, 2, 2, 2, 2, 0, 0, 2, 2, 2, 2, 2, 0, 1, 2, 2, 2, 0, 2, 2, 2, 0, 0, 2, 2, 0, 2, 2, 1, 0, 2, 2, 2, 2, 0, 2, 2, 0, 1, 2, 2, 2, 0, 0, 0, 2, 2, 2, 0, 2, 2, 0, 0, 2, 2, 2, 2, 2, 2, 2, 2, 2, 2, 2, 0, 2, 2, 0, 2, 2, 2, 2, 0, 0, 0, 1, 0, 2, 0, 0, 0, 2, 2, 2, 0, 2, 2, 2, 2, 1, 2, 2, 2, 2, 0, 2, 0, 2, 2, 1, 2, 0, 2, 2, 2, 0, 2, 0, 2, 2, 1, 2, 2, 2, 2, 2, 2, 0, 2, 2, 0, 2, 2, 2, 0, 1, 2, 2, 2, 0, 0, 1, 0, 0, 2, 2, 0, 2, 2, 2, 2, 2, 0, 2, 2, 0, 0, 2, 2, 0, 2, 2, 2, 2, 2, 2, 2, 2, 2, 0, 2, 0, 0, 0, 2, 2, 2, 2, 1, 1, 0, 0, 2, 1, 2, 2, 0, 1, 2, 2, 1, 2, 2, 0, 2, 2, 2, 0, 0, 2, 1, 0, 2, 0, 1, 2, 0, 2, 0, 2, 0, 2, 2, 2, 0, 0, 2, 0, 0, 2, 2, 2, 2, 2, 2, 1, 2, 0, 2, 0, 0, 2, 2, 2, 0, 1, 0, 2, 0, 1, 2, 2, 2, 0, 2, 2, 2, 2, 0, 0, 1, 2, 2, 2, 2, 1, 0, 1, 0, 2, 0, 2, 0, 2, 2, 0, 2, 2, 0, 2, 2, 0, 0, 2, 0, 0, 0, 1, 0, 2, 0, 0, 2, 2, 0, 2, 0, 2, 2, 2, 1, 0, 0, 2, 0, 0, 0, 2, 2, 2, 2, 2, 0, 0, 2, 1, 2, 0, 1, 2, 2, 2, 1, 0, 2, 0, 2, 1, 2, 2, 2, 2, 0, 2, 0, 1, 0, 0, 2, 2, 1, 2, 2, 2, 2, 2, 2, 2, 0, 2, 0, 2, 2, 1, 0, 2, 2, 2, 2, 0, 2, 2, 2, 0, 2, 2, 2, 2, 2, 0, 2, 2, 0, 0, 0, 2, 2, 0, 2, 0, 2, 2, 0, 0, 0, 0, 2, 2, 0, 0, 2, 2, 0, 1, 2, 2, 2, 0, 0, 2, 2, 2, 2, 0, 2, 2, 2, 2, 2, 0, 0, 0, 2, 2, 2, 2, 2, 0, 2, 2, 2, 2, 2, 2, 2, 2, 2, 0, 0, 2, 2, 1, 2, 2, 0, 2, 2, 2, 0, 0, 0, 2, 2, 2, 2, 0, 1, 2, 2, 2, 2, 1, 2, 2, 2, 2, 0, 0, 0, 2, 2, 2, 2, 2, 2, 2, 0, 2, 1, 0, 1, 2, 2, 2, 1, 0, 2, 0, 2, 2, 2, 2, 2, 2, 1, 2, 0, 2, 2, 2, 2, 2, 1, 2, 1, 2, 2, 2, 0, 2, 2, 2, 2, 0, 2, 2, 0, 2, 2, 2, 2, 2, 0, 2, 0, 2, 0, 0, 2, 2, 1, 0, 2, 0, 0, 1, 2, 0, 1, 2, 1, 1, 2, 2, 2, 1, 0, 1, 2, 2, 2, 2, 2, 0, 2, 0, 2, 1, 2, 2, 2, 0, 2, 2, 0, 2, 2, 2, 0, 2, 1, 2, 2, 0, 2, 2, 2, 2, 2, 0, 2, 0, 2, 0, 0, 2, 2, 2, 2, 2, 2, 0, 2, 0, 0, 1, 2, 2, 2, 2, 2, 0, 1, 2, 2, 2, 0, 0, 0, 0, 2, 0, 0, 2, 2, 2, 2, 2, 0, 2, 2, 2, 2, 0, 2, 2, 2, 2, 2, 2, 2, 1, 2, 0, 1, 0, 0, 2, 0, 0, 2, 2, 0, 2, 0, 2, 0, 0, 1, 2, 2, 2, 1, 2, 0, 2, 2, 0, 1, 2, 0, 2, 2, 2, 2, 2, 2, 2, 1, 2, 0, 2, 0, 2, 2, 0, 1, 2, 1, 2, 2, 0, 2, 0, 2, 2, 2, 1, 2, 2, 0, 2, 0, 0, 0, 2, 0, 0, 2, 0, 2, 2, 0, 2, 2, 2, 1, 2, 2, 0, 0, 2, 2, 2, 2, 1, 1, 2, 2, 2, 2, 2, 2, 2, 2, 2, 0, 2, 0, 2, 2, 2, 2, 2, 0, 0, 2, 0, 2, 2, 0, 2, 2, 2, 2, 0, 2, 2, 2, 0, 2, 2, 2, 2, 0, 2, 2, 2, 2, 1, 2, 2, 2, 0, 2, 0, 1, 2, 2, 2, 2, 2, 0, 0, 0, 2, 2, 2, 1, 2, 1, 2, 2, 2, 0, 0, 2, 2, 2, 2, 2, 2, 2, 1, 1, 0, 0, 0, 2, 2, 2, 2, 2, 0, 0, 2, 1, 0, 1, 0, 2, 2, 2, 1, 1, 2, 2, 1, 0, 2, 1, 2, 0, 2, 0, 2, 0, 0, 2, 2, 0, 2, 1, 2, 2, 0, 2, 2, 2, 0, 0, 2, 2, 2, 0, 2, 2, 2, 0, 2, 1, 0, 2, 2, 0, 0, 2, 2, 1, 0, 2, 2, 2, 0, 2, 2, 2, 2, 2, 2, 2, 2, 0, 2, 1, 2, 2, 0, 2, 2, 2, 0, 2, 2, 2, 2, 2, 2, 0, 2, 2, 2, 2, 0, 2, 2, 2, 0, 0, 0, 0, 0, 2, 0, 0, 0, 2, 0, 2, 2, 2, 2, 2, 2, 0, 0, 2, 1, 2, 2, 0, 2, 2, 2, 2, 2, 0, 2, 2, 2, 2, 0, 2, 1, 2, 2, 2, 2, 2, 2, 0, 0, 2, 2, 2, 2, 0, 0, 2, 2, 2, 2, 0, 2, 2, 1, 2, 1, 2, 2, 1, 2, 2, 0, 2, 1, 0, 2, 2, 1, 2, 0, 2, 2, 2, 0, 2, 0, 0, 2, 2, 2, 2, 2, 0, 2, 2, 2, 2, 2, 0, 2, 2, 0, 0, 2, 2, 0, 2, 2, 0, 2, 2, 2, 2, 2, 2, 2, 1, 2, 0, 2, 0, 1, 2, 0, 0, 2, 2, 2, 2, 2, 2, 2, 2, 2, 2, 0, 1, 1, 2, 0, 2, 2, 2, 2, 2, 2, 2, 0, 1, 0, 2, 2, 2, 2, 0, 2, 0, 2, 0, 2, 2, 0, 2, 2, 2, 2, 2, 2, 2, 2, 0, 2, 0, 2, 2, 0, 0, 2, 2, 2, 2, 0, 2, 2, 2, 2, 2, 0, 2, 0, 2, 2, 2, 0, 2, 0, 2, 1, 2, 2, 2, 2, 1, 2, 2, 0, 0, 2, 2, 0, 2, 0, 0, 2, 0, 0, 2, 2, 2, 2, 0, 2, 1, 0, 0, 1, 0, 0, 2, 1, 2, 0, 2, 2, 2, 0, 0, 2, 2, 0, 2, 1, 2, 0, 2, 0, 2, 2, 2, 0, 0, 2, 2, 0, 0, 2, 0, 0, 2, 1, 0, 2, 2, 2, 2, 2, 2, 2, 2, 0, 0, 0, 2, 2, 2, 0, 2, 2, 2, 2, 2, 2, 2, 2, 2, 2, 0, 0, 2, 2, 2, 1, 0, 0, 0, 2, 2, 2, 0, 2, 2, 2, 2, 2, 2, 2, 2, 2, 0, 0, 2, 0, 0, 2, 2, 1, 2, 2, 0, 0, 2, 2, 2, 2, 2, 0, 2, 2, 2, 2, 2, 0, 0, 2, 2, 0, 0, 2, 0, 1, 1, 0, 2, 0, 2, 2, 2, 0, 2, 2, 2, 0, 2, 2, 2, 2, 2, 2, 2, 2, 1, 0, 0, 2, 2, 2, 2, 0, 2, 2, 0, 0, 2, 2, 0, 0, 0, 0, 2, 2, 0, 2, 2, 0, 2, 2, 2, 0, 2, 2, 2, 2, 2, 2, 2, 0, 1, 2, 2, 2, 2, 2, 2, 0, 0, 1, 2, 2, 2, 2, 0, 2, 2, 2, 2, 0, 2, 0, 2, 2, 2, 1, 2, 2, 2, 2, 0, 1, 2, 2, 2, 2, 0, 0, 2, 2, 0, 0, 0, 2, 2, 2, 2, 2, 2, 2, 2, 2, 2, 0, 1, 0, 0, 2, 0, 0, 2, 2, 2, 2, 1, 1, 2, 2, 0, 0, 2, 2, 2, 2, 2, 0, 2, 2, 0, 2, 2, 2, 2, 2, 1, 0, 2, 2, 2, 0, 2, 2, 0, 2, 2, 2, 0, 0, 2, 2, 0, 2, 2, 2, 0, 2, 2, 2, 0, 2, 2, 2, 2, 0, 1, 0, 0, 2, 2, 0, 0, 0, 0, 1, 0, 2, 0, 0, 0, 2, 2, 2, 0, 0, 2, 1, 1, 2, 2, 2, 0, 2, 0, 0, 2, 2, 2, 2, 2, 2, 0, 1, 2, 2, 2, 0, 2, 2, 1, 2, 0, 0, 0, 0, 2, 2, 2, 2, 0, 0, 2, 0, 2, 2, 2, 1, 2, 0, 2, 1, 0, 2, 2, 2, 2, 2, 1, 2, 2, 0, 0, 2, 2, 2, 0, 0, 2, 2, 2, 2, 0, 2, 2, 2, 2, 2, 0, 2, 2, 0, 2, 2, 2, 2, 0, 2, 2, 0, 0, 1, 0, 2, 0, 0, 2, 2, 2, 0, 2, 1, 2, 2, 0, 1, 0, 0, 2, 0, 2, 0, 2, 0, 2, 0, 2, 2, 0, 0, 0, 2, 2, 2, 2, 2, 1, 0, 0, 2, 2, 2, 0, 2, 0, 2, 0, 0, 0, 2, 2, 2, 2, 0, 2, 0, 2, 0, 0, 2, 0, 0, 0, 2, 0, 2, 0, 1, 2, 2, 2, 2, 2, 2, 2, 2, 1, 0, 0, 2, 2, 0, 2, 2, 1, 2, 0, 0, 2, 0, 2, 2, 2, 2, 2, 0, 0, 2, 2, 2, 2, 2, 0, 2, 0, 2, 2, 0, 2, 2, 2, 0, 0, 0, 2, 2, 2, 0, 2, 2, 1, 2, 2, 1, 2, 2, 2, 1, 0, 1, 2, 0, 2, 0, 2, 2, 2, 2, 2, 2, 2, 2, 1, 0, 2, 2, 2, 2, 2, 2, 2, 2, 2, 2, 2, 2, 2, 2, 2, 0, 0, 2, 2, 2, 2, 0, 2, 2, 0, 2, 2, 2, 0, 2, 2, 2, 0, 2, 2, 0, 1, 2, 1, 2, 0, 2, 2, 2, 2, 2, 2, 0, 0, 2, 0, 2, 2, 2, 2, 2, 2, 0, 0, 2, 2, 0, 1, 0, 2, 0, 0, 2, 2, 2, 2, 2, 2, 2, 0, 0, 2, 2, 2, 2, 2, 2, 0, 2, 2, 2, 2, 0, 2, 2, 2, 0, 2, 2, 2, 2, 2, 2, 2, 1, 2, 2, 0, 2, 1, 2, 0, 2, 2, 2, 1, 2, 2, 0, 0, 2, 2, 0, 0, 2, 1, 0, 0, 2, 1, 2, 2, 2, 2, 2, 0, 2, 0, 2, 1, 1, 2, 0, 2, 2, 2, 2, 2, 2, 1, 2, 2, 1, 2, 1, 2, 2, 2, 2, 2, 2, 2, 2, 2, 0, 2, 2, 0, 2, 0, 2, 2, 0, 2, 1, 1, 1, 0, 2, 0, 2, 2, 2, 2, 2, 0, 2, 0, 1, 0, 2, 2, 2, 0, 1, 0, 2, 0, 2, 2, 1, 1, 2, 1, 0, 2, 0, 2, 2, 2, 0, 1, 2, 2, 2, 2, 2, 2, 1, 0, 0, 2, 2, 2, 2, 0, 2, 0, 2, 2, 0, 2, 2, 0, 0, 2, 2, 2, 2, 2, 2, 2, 0, 2, 2, 0, 0, 2, 1, 2, 0, 2, 0, 2, 2, 2, 0, 0, 2, 2, 2, 2, 0, 2, 0, 2, 2, 2, 2, 0, 2, 2, 2, 0, 2, 2, 0, 2, 0, 2, 1, 2, 2, 2, 2, 2, 0, 1, 0, 2, 0, 2, 0, 0, 2, 0, 2, 2, 0, 0, 2, 2, 0, 2, 0, 2, 1, 2, 1, 2, 1, 2, 2, 2, 2, 0, 1, 2, 2, 2, 2, 2, 2, 2, 2, 0, 2, 2, 0, 1, 2, 2, 0, 2, 0, 2, 2, 2, 0, 0, 1, 1, 1, 2, 0, 2, 2, 2, 2, 2, 0, 1, 1, 0, 2, 2, 1, 2, 0, 0, 0, 2, 0, 1, 2, 2, 2, 0, 2, 2, 2, 2, 2, 0, 1, 2, 2, 2, 2, 2, 2, 2, 2, 2, 1, 2, 0, 1, 2, 0, 2, 2, 2, 2, 2, 2, 2, 0, 0, 2, 1, 2, 1, 0, 2, 0, 1, 0, 2, 0, 2, 2, 2, 0, 2, 1, 2, 2, 2, 2, 0, 0, 2, 2, 2, 2, 2, 2, 2, 2, 2, 0, 2, 1, 2, 2, 0, 2, 0, 2, 0, 2, 2, 1, 2, 2, 2, 2, 2, 2, 2, 2, 2, 2, 0, 0, 0, 2, 0, 2, 0, 2, 0, 0, 2, 1, 2, 2, 2, 1, 2, 2, 2, 2, 1, 0, 0, 2, 0, 2, 2, 2, 1, 2, 1, 1, 0, 1, 2, 2, 0, 2, 2, 2, 0, 0, 2, 2, 2, 2, 2, 2, 0, 2, 0, 2, 0, 2, 2, 2, 2, 0, 0, 1, 2, 2, 0, 0, 2, 2, 2, 0, 2, 0, 2, 2, 0, 2, 2, 1, 2, 0, 2, 2, 0, 2, 2, 2, 2, 2, 0, 2, 1, 0, 1, 1, 2, 1, 2, 1, 2, 0, 2, 1, 2, 2, 2, 2, 2, 0, 2, 2, 2, 0, 2, 2, 0, 2, 2, 2, 2, 0, 1, 0, 2, 0, 2, 2, 2, 2, 2, 0, 2, 0, 2, 2, 0, 2, 0, 0, 2, 2, 2, 2, 2, 2, 2, 1, 0, 2, 1, 1, 2, 0, 1, 0, 2, 1, 2, 2, 2, 0, 2, 0, 2, 2, 1, 2, 2, 2, 2, 0, 2, 0, 2, 0, 2, 2, 2, 2, 2, 1, 0, 0, 2, 0, 2, 2, 2, 0, 2, 2, 2, 0, 2, 0, 0, 2, 2, 2, 0, 2, 1, 0, 2, 1, 0, 2, 1, 0, 2, 0, 2, 0, 0, 0, 2, 2, 0, 2, 2, 2, 2, 2, 2, 2, 0, 2, 2, 2, 2, 2, 2, 2, 2, 2, 2, 2, 0, 2, 2, 2, 0, 2, 1, 2, 2, 2, 2, 2, 2, 2, 2, 2, 2, 0, 2, 2, 2, 2, 1, 2, 2, 2, 2, 2, 0, 1, 2, 2, 2, 2, 2, 0, 2, 1, 0, 2, 0, 1, 0, 2, 2, 0, 2, 2, 2, 2, 1, 2, 2, 2, 2, 0, 2, 2, 2, 2, 2, 2, 2, 2, 0, 1, 2, 0, 2, 2, 2, 2, 2, 2, 2, 1, 2, 0, 0, 0, 0, 2, 0, 0, 2, 2, 0, 0, 2, 0, 2, 1, 2, 0, 2, 2, 2, 0, 2, 0, 1, 2, 2, 0, 0, 1, 0, 0, 2, 2, 0, 2, 2, 2, 0, 2, 2, 1, 2, 2, 0, 0, 0, 1, 2, 0, 2, 0, 2, 2, 0, 2, 1, 2, 0, 0, 0, 2, 2, 0, 0, 2, 2, 0, 0, 2, 2, 0, 2, 2, 2, 2, 0, 2, 2, 2, 0, 2, 2, 2, 0, 0, 0, 2, 2, 2, 0, 0, 2, 1, 2, 2, 2, 2, 2, 0, 2, 2, 2, 2, 0, 0, 2, 0, 2, 1, 2, 2, 2, 2, 0, 1, 0, 2, 1, 0, 0, 0, 1, 2, 2, 0, 2, 2, 2, 0, 0, 0, 2, 2, 0, 0, 2, 0, 2, 0, 0, 0, 2, 2, 2, 0, 2, 2, 2, 1, 0, 2, 2, 0, 2, 2, 2, 0, 0, 0, 0, 2, 2, 2, 2, 0, 0, 0, 0, 0, 0, 0, 0, 0, 2, 0, 2, 0, 2, 2, 1, 2, 0, 2, 0, 0, 0, 0, 2, 2, 2, 0, 2, 0, 1, 2, 2, 0, 2, 1, 0, 0, 0, 2, 0, 2, 2, 0, 2, 2, 2, 2, 2, 2, 2, 0, 2, 2, 2, 0, 1, 2, 0, 2, 0, 2, 0, 2, 2, 0, 2, 2, 2, 2, 2, 2, 2, 2, 2, 0, 2, 2, 2, 2, 2, 2, 0, 2, 2, 0, 2, 0, 2, 2, 2, 2, 2, 0, 2, 2, 2, 0, 2, 2, 2, 2, 0, 2, 2, 2, 2, 2, 1, 2, 2, 2, 2, 2, 2, 0, 2, 2, 0, 2, 0, 0, 0, 0, 1, 1, 0, 0, 2, 2, 2, 2, 2, 2, 2, 2, 2, 2, 2, 2, 2, 0, 2, 2, 0, 2, 2, 2, 2, 2, 0, 1, 1, 1, 2, 2, 2, 2, 2, 0, 2, 2, 2, 2, 0, 1, 1, 0, 2, 2, 2, 0, 2, 0, 2, 2, 2, 0, 2, 0, 2, 2, 2, 2, 2, 2, 2, 2, 2, 2, 2, 2, 1, 0, 2, 2, 2, 0, 2, 2, 1, 1, 0, 1, 0, 2, 0, 1, 2, 2, 2, 1, 2, 0, 0, 1, 2, 0, 1, 2, 2, 2, 1, 2, 1, 2, 2, 0, 0, 2, 0, 1, 1, 2, 2, 0, 2, 2, 1, 2, 0, 2, 2, 2, 2, 0, 2, 2, 2, 0, 2, 2, 2, 2, 0, 0, 0, 2, 2, 2, 0, 2, 2, 0, 2, 2, 0, 1, 2, 0, 0, 2, 0, 0, 0, 2, 2, 0, 1, 2, 2, 0, 2, 0, 0, 2, 2, 0, 0, 1, 2, 2, 2, 2, 2, 2, 1, 2, 2, 2, 2, 0, 2, 2, 2, 0, 0, 2, 0, 2, 0, 1, 0, 2, 0, 2, 2, 0, 0, 2, 0, 0, 2, 2, 0, 2, 1, 2, 2, 2, 0, 0, 0, 0, 0, 0, 2, 2, 0, 2, 2, 2, 2, 0, 2, 2, 2, 2, 1, 0, 0, 0, 1, 0, 0, 2, 2, 0, 1, 2, 0, 0, 2, 2, 2, 2, 0, 1, 1, 0, 0, 0, 2, 2, 2, 2, 0, 0, 0, 0, 2, 0, 2, 0, 2, 2, 1, 0, 2, 0, 2, 2, 2, 0, 2, 2, 2, 2, 1, 2, 2, 0, 2, 2, 2, 0, 2, 0, 2, 2, 2, 2, 2, 2, 2, 2, 2, 2, 2, 2, 2, 0, 2, 0, 2, 2, 2, 2, 2, 0, 2, 2, 0, 0, 0, 0, 2, 0, 1, 2, 0, 0, 2, 0, 2, 0, 2, 2, 0, 2, 0, 0, 2, 2, 1, 1, 0, 2, 2, 2, 0, 2, 2, 2, 0, 2, 2, 2, 2, 2, 2, 2, 2, 1, 2, 2, 2, 2, 2, 2, 0, 0, 2, 2, 2, 0, 2, 0, 1, 0, 2, 2, 2, 0, 0, 2, 0, 2, 2, 2, 0, 2, 2, 0, 2, 2, 2, 0, 0, 2, 2, 0, 2, 0, 0, 2, 0, 2, 2, 2, 2, 2, 0, 0, 2, 2, 0, 2, 0, 2, 1, 2, 0, 2, 2, 2, 0, 2, 2, 2, 2, 2, 2, 2, 0, 0, 2, 2, 0, 1, 2, 1, 0, 1, 2, 2, 0, 0, 2, 0, 2, 1, 0, 2, 2, 2, 0, 2, 0, 0, 0, 2, 2, 0, 0, 2, 2, 2, 2, 2, 0, 2, 2, 0, 2, 2, 1, 2, 2, 2, 2, 2, 2, 0, 0, 2, 0, 2, 2, 0, 2, 2, 2, 0, 0, 0, 2, 2, 2, 2, 2, 0, 2, 2, 0, 1, 2, 2, 0, 2, 2, 1, 2, 2, 2, 0, 2, 0, 0, 1, 2, 0, 2, 2, 2, 2, 2, 2, 2, 2, 0, 2, 2, 0, 2, 2, 2, 2, 2, 2, 0, 2, 2, 2, 1, 2, 1, 0, 0, 2, 1, 2, 2, 1, 2, 2, 1, 2, 2, 2, 0, 1, 1, 2, 2, 1, 1, 2, 2, 2, 0, 1, 1, 2, 2, 2, 2, 0, 2, 2, 2, 2, 0, 0, 1, 1, 1, 1, 2, 2, 0, 1, 0, 0, 1, 2, 2, 2, 2, 0, 0, 0, 0, 2, 0, 2, 2, 0, 2, 2, 2, 2, 2, 1, 2, 2, 2, 0, 2, 0, 2, 0, 1, 1, 1, 1, 2, 2, 0, 2, 1, 2, 2, 2, 2, 0, 1, 1, 0, 2, 2, 2, 2, 0, 1, 2, 2, 0, 2, 0, 2, 2, 2, 2, 2, 2, 0, 0, 2, 2, 2, 2, 2, 2, 2, 0, 0, 2, 2, 0, 2, 2, 2, 2, 1, 1, 2, 0, 1, 0, 0, 0, 0, 2, 2, 0, 2, 0, 2, 2, 1, 2, 1, 2, 2, 2, 0, 1, 2, 2, 2, 2, 0, 2, 0, 0, 1, 1, 0, 0, 1, 2, 2, 2, 0, 2, 0, 2, 2, 2, 2, 1, 2, 2, 0, 2, 1, 2, 2, 1, 2, 0, 1, 2, 2, 0, 1, 2, 2, 2, 2, 2, 2, 0, 2, 2, 2, 2, 2, 2, 2, 2, 0, 2, 2, 0, 1, 2, 0, 2, 0, 2, 0, 0, 0, 1, 0, 2, 2, 0, 2, 2, 2, 2, 2, 1, 0, 2, 0, 2, 2, 2, 0, 1, 2, 2, 2, 0, 2, 2, 2, 1, 2, 2, 2, 0, 2, 2, 0, 2, 2, 2, 1, 2, 2, 2, 0, 2, 2, 2, 0, 2, 1, 2, 2, 0, 2, 2, 1, 2, 0, 2, 0, 2, 1, 2, 0, 0, 0, 2, 0, 0, 2, 2, 0, 0, 2, 1, 2, 1, 0, 0, 2, 0, 2, 2, 2, 0, 1, 2, 2, 2, 2, 0, 0, 1, 2, 2, 2, 2, 1, 2, 2, 2, 2, 2, 2, 2, 0, 2, 2, 1, 2, 2, 2, 2, 2, 2, 2, 2, 2, 0, 1, 2, 0, 2, 2, 2, 2, 2, 2, 2, 2, 2, 2, 0, 0, 2, 1, 2, 2, 2, 2, 2, 2, 2, 2, 2, 2, 2, 2, 2, 0, 2, 0, 2, 2, 2, 2, 0, 2, 0, 0, 2, 0, 2, 1, 2, 0, 2, 2, 0, 2, 0, 0, 2, 1, 0, 2, 0, 1, 2, 2, 2, 2, 0, 2, 0, 2, 2, 2, 2, 2, 2, 2, 2, 2, 2, 2, 2, 2, 2, 2, 2, 1, 0, 2, 2, 2, 2, 0, 0, 0, 0, 2, 2, 2, 0, 0, 0, 2, 1, 0, 2, 0, 2, 2, 2, 2, 2, 2, 2, 0, 2, 2, 2, 2, 2, 2, 0, 2, 2, 2, 0, 2, 2, 0, 0, 2, 2, 0, 0, 0, 2, 0, 0, 0, 0, 1, 2, 2, 0, 2, 2, 2, 2, 2, 2, 1, 0, 0, 2, 0, 2, 0, 1, 2, 2, 2, 2, 2, 2, 2, 2, 2, 2, 0, 2, 2, 2, 2, 2, 0, 2, 0, 2, 2, 2, 2, 0, 2, 2, 2, 2, 0, 2, 2, 0, 2, 2, 2, 0, 2, 2, 2, 2, 2, 2, 2, 2, 1, 2, 2, 2, 1, 2, 0, 2, 0, 2, 0, 0, 2, 2, 2, 2, 1, 0, 0, 2, 2, 2, 0, 2, 2, 0, 2, 2, 0, 2, 0, 2, 1, 0, 0, 2, 0, 2, 0, 2, 2, 2, 0, 2, 2, 1, 0, 2, 2, 0, 2, 0, 2, 0, 2, 2, 0, 2, 1, 2, 0, 2, 0, 2, 2, 2, 2, 2, 2, 0, 0, 0, 0, 2, 0, 2, 2, 0, 2, 0, 2, 2, 0, 2, 0, 2, 2, 2, 2, 2, 2, 2, 2, 2, 2, 2, 2, 2, 0, 0, 2, 2, 0, 0, 0, 2, 2, 0, 2, 2, 2, 2, 2, 0, 2, 2, 2, 2, 2, 0, 1, 0, 0, 2, 2, 2, 2, 2, 2, 2, 0, 2, 2, 0, 0, 2, 2, 0, 2, 0, 2, 0, 0, 0, 2, 2, 0, 1, 0, 2, 2, 2, 0, 2, 2, 2, 2, 2, 1, 2, 2, 0, 2, 0, 0, 0, 2, 0, 0, 1, 1, 2, 2, 2, 2, 0, 2, 1, 0, 2, 1, 0, 2, 2, 0, 0, 2, 2, 2, 2, 2, 0, 0, 2, 2, 1, 2, 2, 2, 2, 2, 2, 2, 2, 2, 2, 0, 2, 2, 0, 2, 2, 0, 0, 0, 0, 2, 2, 0, 2, 2, 2, 1, 2, 0, 0, 2, 2, 0, 2, 2, 0, 2, 2, 0, 2, 2, 0, 2, 2, 0, 2, 1, 0, 2, 2, 2, 2, 2, 2, 0, 2, 2, 1, 2, 0, 1, 2, 2, 2, 2, 2, 0, 2, 2, 2, 0, 0, 2, 0, 2, 2, 1, 2, 2, 0, 0, 1, 0, 0, 2, 2, 0, 2, 2, 1, 2, 2, 2, 2, 2, 2, 2, 2, 2, 2, 2, 0, 2, 2, 0, 0, 0, 2, 2, 0, 1, 0, 0, 2, 2, 2, 2, 2, 0, 2, 2, 0, 0, 2, 0, 2, 1, 0, 2, 1, 2, 1, 2, 1, 0, 2, 0, 2, 2, 2, 0, 1, 0, 1, 2, 2, 2, 1, 2, 0, 2, 2, 2, 2, 0, 0, 2, 2, 2, 2, 1, 1, 0, 0, 2, 1, 0, 2, 2, 0, 0, 2, 2, 0, 2, 1, 0, 0, 2, 2, 0, 2, 1, 0, 2, 1, 2, 0, 2, 0, 2, 0, 2, 2, 0, 1, 0, 0, 2, 0, 2, 2, 2, 0, 1, 2, 1, 2, 0, 2, 2, 0, 2, 2, 1, 2, 2, 0, 2, 0, 2, 0, 2, 1, 0, 2, 2, 2, 2, 2, 2, 2, 2, 2, 1, 0, 2, 2, 0, 2, 2, 2, 0, 2, 2, 0, 0, 1, 0, 2, 0, 2, 1, 2, 2, 2, 2, 2, 1, 2, 0, 2, 2, 0, 0, 2, 2, 2, 2, 0, 2, 1, 2, 1, 0, 0, 2, 0, 2, 2, 0, 2, 2, 2, 0, 0, 2, 0, 1, 0, 1, 2, 2, 0, 0, 2, 0, 1, 2, 2, 2, 2, 2, 0, 2, 2, 2, 2, 2, 0, 0, 2, 0, 2, 2, 2, 2, 2, 2, 1, 2, 2, 0, 2, 2, 2, 2, 2, 2, 2, 2, 0, 2, 0, 0, 1, 2, 2, 2, 1, 0, 0, 2, 2, 2, 2, 0, 0, 2, 2, 1, 2, 0, 2, 2, 0, 2, 0, 0, 0, 0, 2, 2, 0, 0, 2, 2, 2, 2, 2, 2, 2, 0, 2, 0, 2, 2, 2, 2, 2, 0, 2, 0, 2, 0, 2, 0, 2, 0, 2, 2, 2, 2, 0, 2, 2, 1, 2, 2, 0, 1, 2, 2, 2, 1, 2, 2, 2, 2, 1, 2, 0, 2, 1, 2, 0, 1, 2, 2, 1, 0, 0, 0, 2, 2, 1, 2, 2, 0, 0, 2, 2, 1, 2, 1, 2, 1, 2, 2, 1, 2, 2, 0, 2, 1, 2, 1, 2, 2, 2, 2, 2, 2, 2, 2, 1, 2, 2, 2, 2, 0, 1, 2, 0, 0, 2, 1, 1, 0, 2, 2, 2, 2, 2, 2, 0, 2, 2, 0, 2, 2, 1, 2, 0, 2, 0, 0, 2, 0, 2, 2, 0, 2, 2, 0, 2, 0, 2, 2, 1, 2, 2, 2, 2, 2, 1, 2, 2, 2, 2, 2, 0, 0, 2, 1, 0, 2, 2, 2, 0, 1, 0, 2, 2, 0, 0, 1, 0, 0, 2, 2, 0, 0, 2, 1, 1, 2, 2, 2, 0, 0, 0, 2, 2, 0, 2, 1, 2, 2, 2, 0, 2, 0, 0, 0, 2, 1, 2, 2, 2, 0, 0, 1, 0, 0, 2, 0, 2, 2, 2, 0, 1, 1, 2, 0, 2, 0, 2, 0, 0, 0, 2, 0, 0, 2, 2, 2, 0, 2, 0, 2, 0, 1, 2, 0, 2, 2, 1, 2, 1, 2, 2, 2, 2, 2, 2, 2, 0, 2, 0, 0, 2, 2, 2, 2, 2, 2, 0, 2, 2, 2, 2, 0, 2, 2, 0, 2, 0, 2, 2, 2, 2, 0, 2, 2, 2, 0, 0, 2, 1, 2, 2, 2, 2, 0, 1, 1, 1, 2, 0, 2, 1, 2, 2, 2, 1, 0, 2, 0, 2, 2, 2, 2, 2, 0, 0, 2, 2, 0, 0, 2, 2, 0, 0, 2, 2, 1, 0, 2, 2, 2, 2, 2, 2, 2, 2, 2, 2, 2, 2, 2, 0, 2, 2, 2, 2, 0, 0, 2, 0, 2, 0, 2, 2, 2, 0, 2, 2, 2, 2, 2, 0, 0, 2, 0, 2, 1, 0, 0, 1, 2, 2, 2, 0, 2, 2, 2, 0, 0, 2, 0, 1, 2, 2, 2, 0, 2, 0, 0, 2, 2, 0, 2, 0, 0, 0, 2, 2, 0, 1, 1, 2, 1, 2, 2, 1, 0, 1, 0, 0, 2, 0, 2, 2, 0, 2, 1, 2, 0, 0, 0, 2, 0, 2, 1, 2, 0, 2, 1, 2, 2, 2, 2, 0, 2, 0, 2, 2, 2, 2, 2, 2, 2, 2, 2, 0, 2, 2, 2, 2, 2, 0, 2, 2, 0, 2, 0, 2, 0, 2, 0, 2, 2, 2, 2, 2, 2, 2, 2, 2, 2, 2, 2, 0, 1, 2, 0, 2, 0, 0, 2, 1, 0, 2, 0, 0, 2, 2, 2, 2, 2, 0, 0, 2, 0, 2, 1, 2, 2, 2, 2, 2, 2, 2, 0, 0, 0, 2, 2, 2, 2, 0, 2, 0, 2, 2, 0, 0, 2, 2, 2, 2, 2, 1, 0, 2, 0, 0, 1, 2, 2, 1, 0, 2, 2, 2, 2, 2, 0, 2, 2, 2, 0, 1, 0, 2, 2, 2, 2, 2, 2, 2, 2, 2, 2, 2, 2, 2, 2, 2, 1, 2, 0, 2, 0, 0, 2, 0, 1, 0, 2, 2, 0, 2, 2, 0, 2, 2, 0, 0, 2, 2, 0, 0, 0, 2, 2, 2, 1, 1, 2, 2, 2, 0, 2, 1, 2, 2, 2, 2, 0, 0, 2, 2, 0, 0, 2, 0, 2, 2, 2, 0, 2, 2, 2, 0, 2, 0, 2, 0, 2, 2, 2, 0, 2, 2, 2, 2, 2, 2, 2, 2, 0, 0, 0, 0, 2, 2, 2, 2, 2, 2, 1, 2, 2, 0, 2, 0, 0, 0, 2, 2, 0, 2, 1, 2, 2, 2, 0, 1, 2, 2, 2, 0, 2, 2, 2, 1, 0, 2, 2, 2, 1, 1, 1, 0, 0, 2, 0, 2, 2, 0, 2, 2, 2, 0, 2, 2, 2, 1, 1, 2, 2, 2, 2, 2, 0, 2, 2, 0, 2, 2, 1, 0, 2, 2, 0, 2, 0, 2, 1, 1, 0, 1, 2, 0, 2, 2, 1, 1, 2, 2, 1, 2, 0, 2, 2, 2, 2, 2, 2, 2, 2, 2, 2, 2, 2, 2, 0, 2, 0, 2, 0, 0, 2, 0, 0, 0, 0, 2, 2, 0, 2, 2, 2, 0, 0, 0, 2, 2, 2, 0, 0, 2, 0, 1, 0, 0, 2, 2, 2, 2, 2, 1, 2, 0, 2, 2, 2, 0, 2, 2, 0, 0, 0, 0, 2, 1, 0, 2, 2, 2, 2, 2, 2, 2, 0, 0, 2, 2, 2, 2, 2, 0, 2, 1, 0, 0, 0, 0, 2, 2, 2, 2, 0, 0, 2, 0, 2, 0, 2, 2, 0, 0, 1, 2, 2, 2, 2, 1, 0, 2, 2, 0, 2, 2, 2, 0, 0, 2, 2, 0, 2, 0, 2, 0, 0, 2, 2, 2, 2, 0, 2, 2, 2, 1, 0, 2, 0, 2, 2, 2, 2, 2, 2, 2, 2, 2, 0, 2, 2, 2, 0, 2, 2, 0, 2, 0, 0, 2, 2, 0, 2, 2, 2, 2, 0, 1, 0, 2, 0, 2, 0, 2, 1, 0, 2, 2, 2, 0, 1, 2, 2, 2, 2, 2, 2, 2, 2, 2, 0, 1, 2, 0, 2, 0, 1, 0, 2, 2, 1, 0, 1, 2, 0, 1, 2, 2, 2, 1, 0, 2, 2, 0, 0, 0, 2, 2, 2, 2, 2, 2, 2, 0, 0, 2, 2, 0, 2, 2, 2, 0, 0, 2, 2, 0, 2, 1, 2, 0, 0, 0, 2, 0, 2, 1, 2, 2, 2, 2, 1, 0, 1, 0, 2, 2, 0, 0, 2, 0, 0, 0, 2, 0, 2, 0, 2, 2, 2, 0, 0, 0, 0, 2, 0, 2, 0, 2, 0, 2, 2, 1, 2, 2, 2, 0, 2, 2, 2, 2, 0, 2, 1, 1, 2, 2, 0, 2, 2, 2, 0, 2, 0, 2, 2, 2, 2, 0, 0, 2, 1, 0, 0, 2, 2, 0, 2, 2, 2, 2, 1, 2, 2, 2, 0, 2, 2, 2, 0, 0, 2, 1, 0, 2, 2, 2, 2, 2, 2, 0, 0, 0, 2, 2, 2, 2, 2, 0, 0, 2, 2, 2, 0, 2, 0, 0, 2, 2, 0, 0, 2, 2, 0, 0, 2, 0, 0, 0, 2, 2, 2, 2, 2, 2, 2, 2, 0, 0, 2, 2, 2, 2, 0, 2, 2, 2, 2, 2, 0, 2, 0, 2, 2, 2, 2, 0, 2, 0, 0, 2, 2, 2, 2, 2, 1, 0, 0, 2, 0, 0, 0, 2, 0, 2, 2, 2, 2, 2, 2, 2, 2, 2, 2, 0, 2, 2, 0, 2, 2, 2, 2, 0, 2, 2, 0, 2, 2, 2, 2, 0, 0, 2, 0, 1, 1, 2, 2, 1, 0, 1, 2, 2, 1, 2, 2, 1, 2, 2, 0, 2, 2, 2, 1, 1, 2, 0, 2, 2, 0, 0, 2, 2, 2, 1, 2, 0, 0, 1, 2, 0, 0, 0, 2, 0, 2, 2, 2, 0, 0, 0, 2, 2, 0, 2, 2, 0, 2, 1, 2, 0, 2, 0, 2, 1, 2, 2, 2, 2, 2, 2, 2, 2, 2, 2, 2, 2, 2, 2, 2, 2, 2, 2, 2, 0, 0, 0, 2, 0, 0, 2, 2, 2, 2, 2, 1, 0, 2, 0, 2, 2, 2, 2, 1, 2, 2, 2, 0, 0, 0, 2, 0, 2, 2, 2, 2, 1, 0, 2, 1, 2, 2, 2, 2, 2, 1, 1, 2, 0, 2, 0, 2, 0, 2, 2, 0, 2, 2, 2, 2, 2, 2, 2, 2, 2, 2, 1, 2, 0, 2, 2, 0, 2, 2, 2, 1, 0, 2, 2, 1, 2, 2, 0, 0, 2, 2, 2, 0, 2, 1, 2, 2, 2, 2, 2, 1, 2, 1, 2, 2, 0, 0, 2, 0, 2, 2, 2, 2, 0, 2, 1, 2, 0, 2, 0, 2, 2, 2, 2, 2, 2, 0, 0, 0, 2, 2, 2, 0, 0, 2, 2, 0, 0, 1, 0, 0, 1, 2, 0, 2, 0, 2, 2, 2, 2, 2, 2, 0, 0, 0, 0, 0, 2, 1, 0, 2, 2, 0, 1, 1, 1, 2, 0, 2, 0, 2, 2, 2, 0, 0, 2, 2, 0, 2, 2, 2, 0, 2, 0, 1, 1, 0, 2, 2, 0, 0, 0, 0, 2, 2, 0, 2, 2, 0, 0, 2, 1, 0, 2, 0, 0, 1, 0, 0, 2, 0, 2, 2, 2, 2, 2, 2, 1, 2, 0, 1, 2, 2, 2, 0, 2, 2, 2, 0, 2, 0, 2, 2, 2, 2, 2, 2, 2, 0, 0, 0, 0, 2, 2, 2, 0, 2, 2, 2, 0, 2, 2, 0, 2, 0, 2, 2, 0, 2, 0, 1, 2, 2, 2, 0, 2, 2, 2, 2, 2, 2, 2, 2, 2, 0, 2, 2, 2, 1, 1, 0, 2, 2, 1, 2, 2, 2, 0, 0, 2, 2, 0, 1, 0, 0, 2, 2, 2, 2, 2, 0, 2, 2, 2, 2, 2, 2, 0, 0, 1, 2, 2, 0, 0, 0, 2, 2, 2, 2, 2, 2, 2, 0, 0, 2, 2, 2, 2, 2, 0, 2, 2, 2, 2, 2, 2, 0, 2, 2, 2, 2, 2, 0, 2, 2, 2, 2, 2, 2, 0, 2, 2, 1, 2, 2, 0, 0, 2, 0, 0, 2, 2, 2, 2, 2, 0, 2, 0, 2, 0, 2, 2, 2, 2, 0, 2, 2, 0, 0, 0, 0, 1, 2, 0, 2, 0, 0, 2, 2, 1, 2, 2, 2, 2, 2, 2, 0, 0, 2, 2, 0, 0, 1, 2, 0, 2, 1, 0, 2, 2, 2, 2, 0, 2, 0, 1, 2, 0, 2, 0, 2, 2, 2, 2, 0, 0, 2, 2, 2, 2, 2, 0, 1, 2, 0, 1, 0, 0, 2, 0, 2, 2, 2, 2, 0, 0, 2, 2, 2, 2, 0, 2, 2, 0, 2, 0, 0, 2, 2, 2, 0, 1, 0, 2, 2, 2, 2, 2, 0, 2, 2, 2, 2, 0, 0, 0, 2, 2, 0, 0, 2, 2, 2, 2, 2, 0, 2, 1, 0, 2, 1, 2, 0, 2, 2, 0, 0, 2, 0, 0, 0, 0, 0, 2, 2, 2, 2, 2, 2, 0, 2, 1, 2, 2, 0, 2, 2, 2, 0, 2, 2, 1, 2, 2, 2, 2, 2, 0, 2, 0, 2, 2, 1, 2, 0, 2, 2, 2, 0, 0, 2, 0, 2, 0, 0, 2, 2, 0, 2, 2, 2, 1, 2, 2, 2, 2, 2, 2, 2, 2, 2, 0, 2, 2, 2, 0, 0, 2, 2, 2, 0, 2, 0, 2, 2, 2, 0, 0, 2, 0, 0, 2, 2, 2, 2, 0, 2, 0, 2, 2, 2, 0, 1, 1, 0, 2, 1, 2, 2, 1, 2, 2, 2, 2, 0, 2, 1, 2, 2, 1, 2, 2, 2, 2, 2, 2, 2, 2, 2, 1, 0, 2, 2, 2, 0, 2, 0, 2, 0, 0, 2, 2, 1, 1, 2, 2, 2, 2, 1, 2, 2, 2, 2, 2, 0, 2, 2, 2, 2, 1, 2, 0, 2, 0, 2, 2, 2, 2, 0, 2, 1, 2, 2, 0, 2, 0, 1, 2, 0, 1, 0, 0, 2, 2, 0, 2, 2, 0, 1, 2, 0, 0, 2, 0, 2, 0, 2, 0, 0, 1, 2, 2, 2, 2, 1, 1, 2, 1, 2, 2, 2, 0, 0, 2, 2, 2, 0, 0, 0, 2, 2, 0, 2, 0, 2, 0, 2, 2, 2, 0, 0, 2, 0, 0, 0, 2, 0, 2, 1, 2, 2, 2, 0, 2, 2, 2, 1, 0, 0, 0, 2, 0, 0, 0, 0, 2, 2, 2, 0, 2, 1, 1, 2, 1, 2, 2, 1, 1, 2, 2, 0, 0, 2, 2, 2, 0, 0, 0, 2, 2, 2, 2, 0, 0, 2, 2, 2, 1, 2, 2, 0, 0, 1, 0, 0, 1, 2, 2, 0, 2, 0, 0, 2, 2, 2, 2, 0, 0, 0, 2, 2, 2, 2, 2, 1, 2, 1, 0, 2, 0, 1, 2, 2, 2, 2, 0, 2, 2, 2, 2, 2, 1, 0, 0, 1, 0, 2, 0, 2, 0, 2, 0, 2, 1, 2, 0, 1, 2, 2, 1, 2, 2, 2, 2, 0, 0, 0, 0, 1, 1, 0, 2, 2, 1, 2, 2, 2, 2, 2, 0, 0, 2, 2, 0, 2, 0, 0, 2, 0, 2, 0, 2, 0, 2, 2, 2, 2, 2, 0, 2, 2, 0, 0, 2, 2, 2, 2, 0, 2, 2, 2, 0, 2, 0, 2, 2, 0, 2, 2, 0, 2, 2, 0, 2, 2, 2, 2, 1, 2, 0, 2, 2, 2, 2, 1, 2, 0, 0, 2, 1, 2, 1, 0, 1, 1, 2, 1, 1, 2, 0, 2, 2, 1, 0, 2, 2, 1, 2, 2, 2, 2, 0, 2, 2, 2, 2, 2, 2, 2, 2, 2, 0, 2, 2, 2, 0, 2, 2, 2, 0, 2, 0, 2, 2, 2, 2, 2, 2, 2, 2, 2, 2, 2, 2, 2, 0, 2, 2, 0, 2, 2, 2, 2, 2, 2, 2, 1, 0, 0, 2, 0, 2, 2, 0, 0, 2, 0, 2, 2, 2, 2, 2, 2, 2, 2, 2, 0, 2, 0, 2, 2, 2, 2, 2, 2, 0, 2, 0, 0, 2, 0, 2, 2, 1, 2, 0, 2, 2, 1, 2, 2, 1, 2, 2, 2, 1, 0, 2, 2, 0, 2, 2, 2, 2, 0, 2, 2, 2, 2, 0, 2, 2, 2, 2, 0, 2, 0, 2, 2, 0, 1, 2, 2, 2, 2, 0, 0, 2, 2, 0, 2, 2, 2, 2, 2, 0, 2, 0, 2, 2, 2, 2, 2, 0, 0, 0, 2, 2, 0, 2, 1, 0, 2, 2, 2, 1, 2, 2, 2, 0, 2, 2, 0, 0, 0, 2, 0, 2, 0, 0, 0, 2, 2, 1, 0, 0, 2, 2, 0, 2, 0, 2, 2, 0, 0, 2, 2, 2, 2, 2, 2, 0, 0, 1, 2, 0, 0, 2, 1, 0, 2, 2, 2, 2, 2, 2, 2, 2, 0, 2, 2, 1, 2, 0, 2, 2, 0, 2, 2, 0, 0, 0, 0, 2, 2, 2, 2, 0, 2, 2, 2, 0, 1, 1, 2, 2, 2, 2, 1, 2, 0, 2, 2, 1, 2, 0, 0, 2, 2, 2, 2, 1, 2, 2, 2, 2, 2, 1, 2, 2, 2, 2, 2, 2, 2, 2, 2, 1, 1, 2, 2, 2, 2, 0, 2, 0, 2, 2, 2, 2, 1, 0, 2, 1, 0, 1, 0, 2, 0, 2, 2, 2, 2, 2, 2, 2, 0, 2, 2, 2, 2, 2, 2, 0, 2, 0, 2, 2, 0, 2, 0, 2, 2, 2, 2, 2, 2, 2, 2, 2, 2, 2, 2, 2, 0, 2, 2, 1, 2, 0, 0, 0, 2, 2, 2, 2, 0, 1, 2, 2, 2, 0, 1, 0, 2, 2, 2, 2, 2, 1, 2, 1, 0, 1, 0, 0, 1, 2, 2, 0, 2, 0, 2, 0, 2, 2, 0, 0, 2, 0, 0, 2, 2, 2, 0, 0, 2, 2, 0, 0, 2, 1, 2, 2, 0, 0, 2, 2, 2, 2, 2, 0, 0, 2, 2, 2, 2, 2, 0, 2, 2, 0, 2, 2, 2, 2, 0, 0, 2, 2, 1, 0, 2, 2, 1, 0, 2, 2, 0, 2, 2, 0, 0, 0, 2, 2, 0, 0, 2, 2, 2, 0, 2, 2, 0, 0, 2, 0, 1, 0, 2, 2, 1, 2, 1, 2, 2, 0, 2, 0, 2, 0, 2, 2, 2, 0, 2, 2, 0, 2, 0, 0, 2, 2, 2, 0, 2, 1, 2, 2, 2, 2, 0, 0, 2, 2, 2, 2, 0, 2, 1, 2, 2, 2, 2, 1, 2, 0, 2, 2, 0, 2, 1, 0, 2, 2, 1, 2, 2, 2, 2, 2, 2, 2, 1, 0, 2, 0, 0, 2, 2, 2, 0, 2, 0, 2, 1, 0, 2, 2, 0, 2, 2, 1, 0, 0, 0, 2, 2, 2, 2, 2, 0, 2, 2, 1, 2, 2, 2, 0, 2, 2, 1, 0, 0, 2, 0, 1, 2, 0, 2, 0, 0, 0, 2, 2, 2, 2, 0, 2, 2, 2, 2, 2, 2, 0, 2, 2, 2, 2, 2, 2, 0, 2, 2, 2, 2, 0, 2, 1, 2, 0, 0, 2, 2, 2, 0, 2, 0, 0, 0, 2, 2, 2, 2, 2, 2, 2, 2, 2, 2, 0, 1, 0, 2, 2, 0, 2, 2, 2, 2, 0, 2, 2, 2, 1, 2, 0, 2, 0, 0, 1, 0, 0, 2, 0, 2, 0, 0, 2, 2, 2, 2, 2, 0, 2, 0, 0, 2, 0, 0, 0, 1, 1, 2, 2, 2, 2, 2, 0, 2, 2, 2, 2, 0, 2, 2, 2, 2, 2, 0, 2, 1, 2, 0, 0, 2, 2, 0, 2, 2, 2, 2, 2, 2, 1, 0, 2, 0, 0, 2, 2, 2, 2, 0, 2, 2, 2, 1, 1, 2, 2, 2, 2, 2, 2, 0, 0, 2, 0, 2, 1, 0, 0, 2, 0, 1, 2, 2, 0, 0, 2, 1, 2, 2, 1, 1, 2, 1, 1, 2, 2, 2, 2, 2, 2, 1, 1, 2, 2, 2, 2, 0, 0, 2, 2, 0, 1, 1, 2, 0, 2, 2, 2, 2, 2, 0, 2, 0, 2, 0, 0, 0, 2, 0, 2, 0, 2, 1, 0, 2, 2, 1, 0, 2, 0, 1, 2, 0, 2, 2, 0, 2, 0, 0, 0, 2, 1, 0, 2, 2, 1, 2, 2, 1, 0, 2, 2, 2, 2, 2, 2, 2, 2, 2, 2, 2, 2, 2, 2, 2, 2, 2, 0, 2, 2, 2, 0, 0, 2, 2, 2, 1, 2, 2, 1, 2, 0, 1, 2, 0, 2, 2, 2, 1, 2, 2, 0, 2, 1, 2, 2, 0, 2, 2, 2, 2, 2, 1, 0, 2, 2, 2, 0, 0, 2, 2, 0, 0, 0, 0, 2, 1, 0, 0, 0, 0, 2, 2, 0, 1, 0, 0, 2, 2, 2, 2, 0, 2, 2, 0, 0, 1, 0, 0, 0, 0, 2, 2, 2, 0, 1, 2, 2, 2, 2, 2, 2, 2, 2, 1, 0, 2, 2, 2, 0, 2, 2, 2, 0, 0, 2, 2, 2, 2, 0, 2, 1, 2, 1, 0, 0, 2, 0, 0, 2, 2, 0, 0, 0, 2, 0, 0, 0, 2, 2, 2, 2, 0, 2, 2, 2, 1, 2, 0, 1, 1, 0, 2, 2, 2, 2, 0, 2, 2, 2, 2, 0, 2, 2, 0, 2, 2, 2, 0, 2, 0, 2, 0, 1, 2, 2, 0, 0, 1, 2, 2, 0, 2, 2, 2, 2, 2, 2, 2, 2, 2, 2, 2, 2, 0, 2, 2, 2, 0, 0, 2, 0, 1, 1, 2, 1, 2, 0, 2, 2, 2, 0, 2, 2, 2, 2, 0, 1, 0, 2, 2, 2, 0, 2, 2, 2, 0, 1, 2, 1, 2, 1, 2, 2, 2, 2, 1, 0, 0, 2, 0, 2, 2, 2, 2, 2, 2, 1, 2, 2, 0, 1, 2, 2, 2, 2, 2, 2, 2, 2, 2, 2, 0, 0, 2, 0, 2, 0, 1, 2, 0, 0, 0, 2, 0, 2, 2, 2, 0, 2, 2, 2, 0, 2, 1, 2, 1, 0, 0, 2, 2, 2, 2, 0, 0, 2, 0, 0, 2, 0, 2, 2, 1, 0, 0, 0, 1, 2, 1, 1, 2, 0, 2, 1, 2, 2, 2, 2, 2, 2, 0, 0, 2, 0, 2, 2, 2, 1, 0, 0, 1, 2, 2, 2, 0, 0, 2, 2, 2, 0, 0, 2, 2, 2, 1, 0, 2, 0, 2, 2, 0, 0, 2, 2, 0, 2, 0, 0, 0, 2, 0, 2, 2, 2, 0, 2, 2, 2, 2, 2, 2, 2, 1, 0, 0, 2, 0, 2, 2, 0, 2, 2, 2, 2, 2, 2, 2, 0, 0, 2, 2, 2, 0, 2, 1, 0, 0, 2, 2, 2, 2, 1, 2, 2, 2, 0, 2, 2, 0, 0, 2, 0, 2, 2, 2, 0, 0, 0, 2, 0, 1, 0, 0, 0, 2, 0, 2, 2, 2, 2, 0, 2, 2, 2, 0, 2, 0, 2, 2, 2, 0, 2, 2, 2, 1, 0, 2, 2, 2, 1, 2, 0, 2, 2, 0, 0, 0, 0, 2, 2, 2, 2, 2, 1, 2, 2, 2, 2, 2, 2, 2, 1, 0, 0, 2, 2, 2, 2, 2, 0, 2, 2, 2, 2, 2, 0, 0, 0, 2, 2, 2, 2, 2, 0, 2, 0, 0, 2, 2, 2, 2, 0, 2, 2, 2, 2, 2, 1, 1, 1, 2, 1, 2, 2, 2, 0, 2, 2, 2, 2, 1, 2, 2, 1, 2, 2, 2, 2, 2, 2, 0, 1, 2, 2, 1, 0, 2, 2, 0, 0, 2, 0, 2, 2, 2, 2, 0, 0, 0, 0, 2, 1, 0, 2, 0, 1, 2, 2, 2, 2, 2, 1, 0, 2, 0, 2, 2, 2, 2, 0, 2, 0, 2, 0, 2, 2, 0, 2, 2, 2, 2, 0, 0, 2, 2, 2, 2, 1, 0, 2, 0, 2, 2, 0, 2, 2, 0, 1, 2, 2, 0, 2, 0, 2, 2, 2, 2, 2, 0, 2, 0, 2, 2, 2, 2, 2, 2, 2, 2, 2, 0, 2, 2, 2, 0, 1, 2, 1, 2, 0, 2, 0, 1, 2, 0, 0, 1, 2, 2, 2, 0, 0, 0, 2, 2, 2, 2, 0, 0, 2, 2, 0, 0, 1, 0, 2, 2, 2, 1, 2, 0, 2, 0, 2, 2, 2, 2, 2, 2, 2, 0, 1, 1, 2, 0, 2, 2, 2, 2, 2, 0, 2, 2, 0, 2, 0, 2, 2, 2, 0, 0, 2, 2, 0, 0, 2, 0, 2, 2, 2, 1, 2, 2, 2, 2, 2, 2, 2, 1, 2, 2, 2, 2, 1, 2, 2, 2, 0, 0, 2, 2, 2, 2, 0, 2, 2, 0, 2, 0, 0, 0, 0, 0, 0, 1, 2, 1, 2, 2, 0, 0, 2, 2, 2, 0, 0, 2, 0, 2, 2, 0, 0, 2, 2, 2, 2, 2, 1, 0, 2, 2, 0, 0, 2, 1, 2, 2, 2, 0, 2, 2, 2, 2, 2, 2, 2, 1, 0, 0, 2, 0, 2, 2, 2, 2, 2, 0, 0, 2, 2, 0, 0, 2, 2, 2, 1, 1, 2, 2, 2, 2, 0, 0, 2, 0, 0, 0, 2, 0, 0, 0, 2, 2, 0, 2, 2, 2, 2, 2, 2, 0, 2, 2, 2, 2, 2, 2, 2, 0, 2, 2, 2, 0, 2, 1, 2, 2, 0, 2, 2, 2, 2, 2, 0, 2, 0, 0, 2, 0, 2, 2, 1, 2, 2, 2, 2, 2, 2, 0, 2, 0, 2, 2, 2, 0, 0, 1, 0, 2, 2, 2, 1, 2, 0, 2, 2, 2, 2, 1, 0, 2, 2, 1, 0, 2, 1, 2, 2, 2, 2, 2, 2, 2, 2, 2, 2, 2, 0, 2, 2, 2, 2, 2, 2, 2, 2, 2, 0, 0, 2, 2, 0, 0, 2, 2, 2, 2, 0, 2, 1, 2, 1, 0, 2, 0, 2, 2, 2, 0, 0, 2, 0, 2, 2, 2, 0, 1, 0, 1, 2, 0, 2, 1, 2, 0, 0, 0, 0, 0, 2, 2, 0, 0, 0, 2, 0, 1, 2, 2, 0, 0, 0, 0, 2, 2, 2, 0, 2, 2, 0, 2, 0, 2, 2, 0, 2, 2, 1, 2, 0, 1, 2, 0, 1, 2, 2, 2, 2, 0, 2, 0, 2, 2, 1, 0, 0, 2, 2, 1, 2, 2, 2, 2, 2, 2, 2, 0, 1, 0, 1, 2, 2, 0, 2, 2, 1, 2, 2, 2, 1, 2, 2, 0, 0, 2, 2, 2, 0, 0, 1, 2, 2, 0, 0, 0, 2, 1, 0, 2, 1, 2, 0, 2, 0, 0, 2, 2, 2, 2, 2, 2, 0, 1, 2, 2, 0, 2, 2, 2, 1, 2, 1, 2, 0, 2, 2, 0, 1, 2, 2, 2, 2, 0, 2, 1, 2, 2, 2, 2, 2, 0, 2, 0, 0, 0, 2, 2, 2, 0, 2, 0, 2, 2, 0, 2, 2, 2, 0, 2, 1, 2, 2, 2, 2, 0, 1, 0, 2, 2, 2, 2, 2, 0, 2, 2, 0, 2, 2, 2, 2, 2, 1, 1, 2, 2, 2, 2, 0, 1, 0, 0, 0, 2, 2, 0, 1, 2, 0, 2, 2, 2, 2, 2, 2, 2, 0, 1, 2, 2, 2, 2, 0, 2, 0, 1, 2, 0, 0, 0, 0, 2, 2, 2, 2, 1, 1, 2, 0, 0, 0, 2, 0, 2, 2, 1, 1, 0, 0, 2, 2, 2, 2, 0, 2, 2, 2, 0, 2, 0, 2, 2, 2, 0, 0, 0, 0, 2, 0, 2, 2, 2, 1, 0, 2, 2, 2, 0, 2, 0, 0, 2, 0, 2, 2, 2, 2, 2, 0, 0, 2, 0, 0, 2, 2, 0, 2, 2, 2, 2, 2, 2, 2, 2, 2, 2, 0, 0, 2, 2, 0, 2, 2, 2, 0, 2, 0, 0, 2, 2, 0, 2, 2, 2, 0, 0, 2, 0, 2, 2, 1, 1, 0, 2, 2, 2, 2, 2, 2, 0, 0, 0, 1, 2, 0, 2, 2, 2, 2, 0, 1, 1, 0, 2, 2, 0, 2, 1, 2, 2, 2, 2, 2, 0, 2, 2, 1, 2, 2, 2, 0, 2, 2, 2, 2, 0, 0, 2, 2, 1, 2, 1, 2, 2, 2, 0, 2, 2, 2, 2, 2, 0, 2, 1, 0, 2, 2, 2, 0, 0, 0, 1, 2, 2, 2, 2, 2, 1, 0, 2, 2, 2, 2, 2, 2, 0, 0, 2, 2, 2, 2, 2, 2, 2, 2, 0, 0, 0, 2, 2, 0, 0, 0, 1, 2, 2, 0, 0, 0, 2, 2, 2, 2, 2, 0, 1, 2, 0, 0, 1, 0, 2, 2, 0, 1, 2, 1, 0, 2, 2, 0, 0, 0, 1, 1, 2, 2, 2, 2, 2, 2, 2, 2, 1, 2, 0, 2, 2, 2, 0, 0, 1, 2, 0, 0, 0, 0, 0, 2, 0, 0, 0, 2, 2, 2, 2, 2, 2, 2, 2, 2, 0, 2, 0, 2, 0, 2, 2, 0, 2, 2, 2, 2, 2, 2, 2, 2, 2, 2, 2, 1, 2, 2, 0, 2, 2, 0, 2, 2, 2, 2, 1, 1, 2, 2, 2, 2, 1, 0, 2, 0, 2, 2, 0, 2, 2, 0, 2, 2, 2, 2, 0, 2, 2, 2, 0, 1, 2, 2, 0, 2, 2, 2, 2, 2, 0, 2, 2, 0, 0, 1, 0, 0, 1, 2, 2, 0, 0, 2, 0, 2, 1, 2, 2, 2, 2, 1, 2, 0, 0, 2, 2, 2, 2, 2, 2, 0, 2, 2, 2, 2, 2, 2, 2, 0, 2, 2, 0, 1, 2, 2, 2, 0, 2, 1, 2, 2, 0, 2, 2, 0, 1, 2, 1, 2, 2, 2, 2, 0, 2, 0, 0, 2, 2, 0, 2, 0, 2, 2, 0, 2, 2, 0, 0, 2, 2, 2, 0, 2, 2, 0, 2, 0, 2, 2, 0, 0, 0, 2, 2, 0, 2, 0, 0, 2, 1, 2, 2, 2, 2, 2, 2, 2, 1, 2, 2, 0, 2, 1, 0, 1, 2, 2, 0, 2, 2, 0, 2, 2, 2, 0, 2, 2, 2, 2, 2, 2, 2, 2, 2, 0, 1, 0, 2, 1, 2, 1, 2, 2, 0, 2, 1, 2, 2, 0, 0, 2, 0, 1, 1, 2, 2, 1, 0, 2, 2, 1, 2, 0, 2, 2, 2, 0, 0, 2, 2, 2, 2, 2, 1, 2, 2, 2, 1, 2, 0, 0, 0, 2, 0, 2, 1, 2, 0, 2, 1, 2, 1, 2, 2, 2, 0, 2, 2, 2, 0, 0, 2, 0, 0, 1, 0, 2, 0, 2, 2, 0, 1, 2, 2, 1, 1, 1, 0, 2, 2, 2, 2, 0, 2, 0, 0, 0, 2, 2, 2, 2, 2, 2, 0, 2, 2, 2, 1, 1, 0, 2, 2, 0, 0, 2, 1, 0, 2, 2, 2, 2, 1, 0, 0, 2, 0, 2, 2, 1, 2, 0, 2, 2, 1, 0, 2, 2, 2, 2, 2, 2, 2, 2, 2, 1, 0, 2, 1, 2, 2, 2, 2, 2, 0, 2, 1, 2, 2, 0, 0, 2, 2, 1, 0, 0, 0, 2, 0, 2, 0, 2, 2, 2, 2, 0, 2, 2, 2, 2, 0, 0, 2, 0, 2, 2, 0, 0, 2, 0, 1, 2, 2, 2, 2, 2, 2, 2, 0, 2, 0, 0, 2, 0, 2, 2, 0, 2, 2, 2, 0, 2, 2, 0, 0, 0, 2, 0, 2, 2, 2, 2, 0, 2, 2, 2, 2, 2, 2, 2, 2, 0, 2, 2, 1, 2, 1, 2, 2, 1, 0, 0, 2, 2, 2, 2, 1, 2, 2, 2, 2, 0, 2, 2, 2, 2, 0, 2, 0, 2, 0, 2, 2, 0, 2, 2, 2, 2, 2, 2, 2, 2, 2, 0, 0, 2, 2, 0, 2, 0, 2, 0, 2, 2, 1, 1, 0, 0, 0, 2, 2, 0, 2, 2, 2, 2, 2, 0, 2, 2, 0, 2, 2, 0, 1, 0, 0, 0, 2, 2, 2, 2, 2, 0, 0, 0, 2, 1, 0, 2, 2, 2, 2, 2, 0, 0, 0, 2, 2, 2, 2, 2, 0, 0, 0, 2, 2, 0, 2, 1, 2, 1, 2, 2, 2, 2, 2, 2, 0, 0, 2, 2, 2, 0, 2, 2, 0, 2, 2, 2, 2, 2, 0, 2, 1, 2, 2, 2, 0, 2, 1, 2, 0, 0, 2, 2, 2, 2, 2, 2, 2, 2, 2, 1, 2, 0, 2, 2, 2, 2, 2, 0, 2, 2, 2, 0, 0, 0, 1, 2, 2, 2, 2, 2, 1, 2, 0, 0, 1, 2, 2, 2, 1, 2, 0, 0, 2, 2, 2, 1, 2, 0, 2, 0, 2, 1, 2, 2, 0, 2, 2, 0, 0, 0, 2, 0, 0, 2, 2, 1, 0, 0, 2, 2, 2, 0, 2, 0, 0, 0, 0, 2, 2, 2, 2, 2, 2, 2, 2, 2, 0, 2, 2, 0, 0, 0, 0, 0, 1, 0, 2, 2, 2, 1, 0, 2, 2, 2, 2, 2, 2, 0, 2, 2, 0, 1, 2, 2, 1, 2, 0, 2, 0, 2, 2, 2, 2, 0, 0, 2, 0, 0, 1, 2, 2, 2, 2, 2, 2, 2, 1, 2, 2, 2, 2, 2, 2, 0, 2, 2, 2, 2, 2, 0, 2, 1, 2, 2, 2, 2, 0, 2, 2, 2, 2, 2, 2, 2, 2, 2, 2, 2, 2, 0, 2, 2, 2, 2, 0, 2, 2, 2, 2, 2, 0, 2, 2, 2, 2, 2, 2, 2, 2, 2, 2, 2, 2, 2, 2, 2, 0, 2, 0, 0, 2, 0, 2, 2, 0, 2, 2, 2, 2, 2, 0, 2, 2, 0, 2, 2, 0, 2, 1, 2, 2, 2, 0, 2, 2, 2, 2, 2, 0, 1, 0, 0, 0, 0, 2, 2, 0, 2, 1, 2, 2, 2, 2, 0, 2, 0, 1, 2, 2, 2, 2, 2, 2, 0, 2, 0, 2, 2, 1, 2, 2, 0, 2, 2, 2, 2, 2, 1, 1, 2, 2, 2, 0, 2, 0, 2, 1, 0, 2, 0, 0, 0, 0, 2, 2, 2, 2, 0, 2, 0, 0, 0, 1, 0, 2, 2, 1, 2, 2, 2, 2, 2, 1, 2, 2, 2, 2, 0, 2, 2, 2, 2, 2, 2, 0, 0, 2, 2, 2, 2, 2, 1, 2, 0, 2, 0, 2, 0, 0, 2, 2, 2, 2, 2, 2, 0, 2, 2, 2, 2, 2, 2, 2, 0, 2, 2, 2, 0, 0, 0, 0, 0, 2, 2, 2, 0, 0, 0, 2, 2, 0, 2, 0, 2, 1, 2, 2, 2, 2, 2, 2, 2, 0, 0, 2, 1, 0, 2, 2, 2, 2, 2, 2, 2, 0, 0, 2, 2, 0, 0, 1, 1, 0, 2, 0, 1, 2, 2, 1, 2, 0, 0, 2, 0, 2, 2, 0, 2, 1, 0, 2, 2, 2, 2, 1, 2, 2, 0, 2, 0, 2, 2, 0, 2, 2, 2, 2, 1, 1, 1, 2, 1, 2, 2, 2, 2, 2, 2, 0, 2, 1, 2, 2, 0, 0, 2, 2, 2, 0, 0, 2, 2, 2, 0, 2, 2, 1, 0, 1, 2, 2, 0, 1, 1, 0, 2, 2, 0, 0, 2, 2, 2, 1, 0, 0, 2, 2, 2, 2, 2, 2, 0, 0, 2, 2, 2, 2, 2, 2, 1, 2, 1, 2, 2, 2, 2, 0, 1, 2, 2, 2, 2, 0, 2, 2, 2, 2, 2, 0, 2, 2, 0, 2, 2, 0, 0, 1, 2, 2, 2, 0, 2, 2, 2, 2, 1, 0, 0, 0, 2, 1, 0, 2, 2, 2, 0, 2, 2, 0, 2, 2, 2, 2, 2, 2, 2, 2, 2, 2, 0, 0, 0, 0, 2, 0, 2, 2, 0, 0, 0, 0, 2, 2, 0, 2, 0, 2, 0, 2, 2, 0, 2, 2, 0, 0, 0, 2, 2, 1, 2, 1, 2, 2, 2, 2, 2, 0, 2, 2, 0, 2, 0, 2, 2, 1, 2, 2, 2, 0, 1, 2, 2, 2, 1, 2, 2, 0, 2, 0, 2, 2, 2, 2, 2, 2, 2, 2, 0, 2, 1, 2, 2, 2, 0, 2, 0, 0, 2, 2, 2, 2, 0, 2, 1, 2, 0, 2, 1, 0, 0, 0, 0, 2, 0, 2, 2, 0, 0, 2, 2, 0, 2, 2, 0, 0, 2, 0, 0, 0, 0, 2, 2, 0, 0, 0, 0, 2, 0, 2, 2, 2, 0, 2, 2, 2, 2, 2, 0, 0, 0, 2, 2, 0, 2, 2, 2, 2, 2, 0, 0, 2, 2, 2, 2, 0, 2, 1, 2, 0, 0, 2, 1, 0, 1, 0, 2, 2, 2, 2, 1, 2, 2, 0, 2, 2, 2, 2, 2, 0, 1, 1, 1, 0, 2, 2, 2, 0, 0, 0, 0, 0, 0, 2, 2, 2, 0, 2, 0, 2, 2, 2, 2, 0, 2, 2, 0, 2, 2, 1, 2, 2, 0, 2, 1, 2, 0, 2, 2, 2, 2, 0, 2, 0, 2, 2, 0, 2, 0, 2, 0, 2, 0, 2, 1, 0, 0, 2, 2, 2, 2, 2, 2, 2, 2, 1, 2, 2, 2, 2, 1, 2, 0, 2, 2, 2, 2, 2, 2, 2, 0, 2, 1, 0, 0, 2, 2, 2, 2, 2, 2, 2, 0, 1, 0, 2, 2, 2, 2, 0, 0, 2, 2, 0, 0, 2, 2, 2, 0, 2, 0, 0, 2, 0, 2, 1, 2, 1, 2, 2, 2, 0, 2, 2, 2, 0, 0, 2, 0, 2, 2, 0, 2, 2, 2, 2, 2, 2, 0, 2, 0, 1, 2, 2, 2, 0, 0, 2, 1, 2, 0, 1, 2, 2, 2, 2, 2, 2, 2, 2, 2, 0, 0, 1, 0, 1, 2, 0, 2, 2, 0, 0, 2, 1, 0, 0, 2, 2, 1, 1, 2, 1, 2, 0, 2, 2, 0, 2, 1, 2, 2, 0, 0, 2, 2, 2, 1, 2, 2, 0, 2, 0, 0, 2, 0, 2, 2, 0, 0, 0, 0, 2, 2, 2, 2, 0, 0, 0, 2, 0, 0, 2, 2, 2, 2, 2, 2, 2, 0, 2, 2, 0, 0, 1, 2, 2, 2, 0, 2, 0, 0, 1, 0, 0, 0, 2, 2, 2, 0, 0, 2, 2, 2, 2, 2, 2, 1, 2, 2, 0, 2, 1, 0, 0, 2, 1, 2, 2, 2, 0, 0, 2, 2, 2, 1, 2, 0, 0, 2, 0, 2, 0, 2, 1, 2, 2, 2, 2, 2, 2, 0, 0, 0, 2, 2, 2, 0, 0, 0, 1, 2, 0, 2, 0, 2, 2, 2, 2, 2, 2, 2, 2, 0, 2, 2, 2, 2, 2, 2, 2, 2, 2, 1, 2, 0, 2, 0, 2, 2, 2, 2, 2, 2, 2, 2, 0, 0, 2, 0, 2, 2, 2, 2, 2, 2, 0, 0, 2, 2, 2, 1, 2, 2, 0, 2, 2, 2, 2, 2, 2, 2, 2, 2, 0, 0, 2, 2, 0, 2, 2, 2, 0, 2, 2, 0, 0, 2, 0, 2, 1, 2, 0, 2, 2, 2, 2, 0, 1, 2, 2, 2, 2, 0, 2, 2, 2, 2, 0, 0, 0, 2, 2, 0, 1, 1, 0, 2, 2, 0, 2, 2, 2, 2, 1, 0, 0, 2, 2, 2, 0, 2, 2, 0, 2, 2, 2, 1, 2, 2, 0, 2, 2, 2, 2, 2, 0, 2, 2, 2, 2, 0, 1, 2, 2, 0, 2, 2, 2, 0, 2, 2, 0, 1, 1, 2, 0, 0, 2, 0, 2, 2, 2, 2, 1, 2, 2, 1, 0, 0, 0, 2, 0, 1, 0, 1, 0, 2, 2, 2, 0, 1, 0, 2, 2, 0, 2, 0, 2, 2, 2, 2, 2, 2, 2, 0, 1, 1, 2, 0, 1, 2, 2, 2, 2, 2, 0, 1, 2, 0, 0, 0, 2, 2, 1, 1, 1, 0, 2, 2, 1, 2, 0, 0, 2, 0, 2, 2, 0, 2, 2, 0, 1, 0, 0, 0, 0, 0, 2, 2, 0, 2, 1, 2, 2, 2, 2, 2, 2, 2, 2, 2, 2, 2, 2, 2, 2, 2, 0, 2, 0, 0, 1, 1, 2, 2, 0, 2, 2, 2, 2, 1, 1, 2, 0, 2, 0, 2, 0, 2, 2, 1, 2, 0, 2, 0, 2, 2, 2, 0, 0, 0, 2, 0, 0, 0, 0, 2, 0, 1, 2, 0, 2, 2, 0, 0, 2, 2, 2, 2, 2, 0, 2, 0, 2, 1, 2, 2, 0, 1, 0, 2, 2, 0, 0, 2, 2, 2, 1, 2, 0, 0, 2, 2, 2, 0, 2, 0, 2, 0, 2, 2, 1, 2, 2, 0, 2, 0, 1, 2, 2, 1, 0, 0, 2, 2, 2, 2, 1, 2, 2, 2, 0, 2, 2, 2, 2, 2, 2, 0, 1, 2, 2, 0, 2, 2, 2, 2, 2, 2, 0, 2, 2, 0, 2, 2, 1, 0, 2, 0, 2, 2, 2, 0, 0, 2, 2, 0, 2, 2, 0, 0, 2, 2, 0, 0, 2, 2, 2, 1, 2, 1, 2, 0, 0, 2, 2, 2, 2, 0, 1, 0, 2, 2, 0, 0, 2, 1, 2, 0, 2, 0, 2, 2, 2, 2, 0, 2, 1, 0, 2, 0, 0, 0, 2, 1, 2, 2, 2, 0, 2, 2, 2, 2, 2, 2, 2, 2, 2, 0, 0, 2, 2, 2, 0, 0, 0, 0, 2, 2, 0, 0, 2, 2, 2, 2, 0, 2, 2, 2, 2, 2, 2, 2, 2, 2, 2, 2, 0, 0, 2, 2, 1, 0, 1, 0, 2, 0, 2, 1, 2, 2, 0, 0, 2, 2, 2, 2, 2, 1, 2, 2, 2, 0, 2, 2, 0, 1, 0, 2, 2, 2, 2, 2, 0, 2, 2, 2, 0, 0, 0, 0, 0, 0, 0, 0, 0, 2, 2, 2, 2, 0, 1, 0, 2, 0, 2, 2, 2, 2, 0, 2, 2, 2, 2, 0, 0, 2, 0, 2, 2, 0, 1, 0, 2, 2, 2, 0, 0, 2, 2, 2, 2, 2, 2, 1, 0, 2, 2, 2, 2, 2, 2, 2, 2, 2, 2, 2, 2, 0, 0, 2, 2, 1, 2, 1, 0, 0, 2, 2, 2, 2, 0, 2, 2, 2, 2, 2, 0, 2, 0, 1, 2, 0, 2, 0, 2, 0, 2, 1, 2, 2, 2, 0, 0, 1, 0, 0, 2, 2, 0, 2, 0, 0, 1, 0, 2, 2, 2, 1, 1, 2, 2, 2, 2, 2, 0, 2, 2, 0, 0, 2, 2, 2, 0, 0, 2, 2, 2, 2, 2, 2, 0, 0, 2, 2, 2, 2, 2, 2, 0, 0, 2, 2, 2, 2, 0, 2, 2, 2, 2, 1, 0, 2, 2, 2, 2, 2, 2, 1, 1, 1, 2, 2, 2, 0, 0, 0, 2, 2, 2, 0, 2, 0, 2, 2, 1, 2, 2, 1, 2, 0, 0, 2, 2, 2, 2, 1, 1, 2, 2, 2, 0, 2, 2, 0, 0, 2, 2, 0, 2, 2, 0, 2, 2, 0, 0, 2, 2, 2, 2, 2, 2, 1, 0, 2, 2, 2, 2, 1, 2, 2, 2, 0, 2, 2, 0, 2, 2, 2, 0, 0, 0, 2, 0, 0, 2, 0, 2, 2, 2, 2, 0, 2, 2, 2, 2, 2, 0, 2, 0, 2, 0, 2, 0, 2, 2, 2, 1, 2, 0, 2, 2, 2, 0, 2, 0, 0, 2, 0, 2, 2, 2, 0, 2, 2, 0, 1, 2, 0, 2, 2, 2, 2, 0, 1, 2, 0, 2, 1, 1, 2, 0, 2, 2, 2, 2, 2, 2, 0, 2, 2, 1, 2, 0, 2, 1, 2, 2, 2, 2, 2, 1, 0, 2, 2, 0, 2, 2, 2, 2, 2, 0, 2, 1, 0, 2, 2, 2, 0, 0, 2, 0, 0, 2, 2, 2, 0, 2, 0, 2, 2, 0, 2, 2, 0, 2, 2, 0, 2, 2, 2, 2, 2, 2, 1, 2, 0, 2, 2, 2, 2, 0, 2, 0, 0, 0, 2, 2, 2, 1, 2, 2, 0, 2, 0, 1, 2, 2, 2, 2, 0, 2, 2, 2, 0, 2, 0, 2, 2, 2, 2, 2, 2, 0, 2, 1, 2, 2, 0, 0, 2, 0, 2, 2, 0, 1, 2, 2, 2, 0, 2, 0, 0, 0, 0, 1, 1, 0, 2, 1, 0, 2, 2, 1, 2, 2, 2, 2, 2, 1, 2, 0, 0, 0, 2, 0, 0, 0, 2, 2, 0, 2, 2, 2, 2, 2, 0, 0, 2, 2, 2, 0, 0, 0, 0, 2, 1, 2, 0, 2, 2, 1, 2, 2, 0, 2, 0, 2, 2, 2, 2, 2, 1, 1, 2, 2, 0, 2, 2, 0, 2, 2, 1, 2, 0, 2, 2, 0, 0, 0, 2, 0, 2, 0, 0, 0, 0, 0, 2, 0, 0, 2, 2, 2, 2, 0, 2, 2, 2, 2, 2, 2, 2, 2, 2, 2, 0, 2, 2, 2, 2, 2, 0, 2, 1, 2, 0, 2, 2, 2, 2, 0, 2, 0, 0, 0, 2, 0, 2, 2, 0, 0, 1, 2, 2, 2, 2, 2, 2, 2, 0, 2, 0, 1, 2, 0, 2, 2, 0, 2, 2, 2, 2, 2, 1, 0, 1, 1, 0, 2, 0, 0, 2, 2, 2, 2, 2, 1, 0, 0, 1, 2, 2, 2, 2, 2, 0, 0, 2, 2, 2, 2, 2, 2, 0, 2, 1, 0, 2, 1, 2, 2, 2, 2, 2, 2, 0, 2, 1, 2, 0, 2, 2, 2, 2, 0, 2, 0, 0, 2, 2, 0, 2, 2, 2, 2, 0, 2, 2, 0, 2, 0, 1, 2, 2, 2, 2, 2, 0, 2, 2, 0, 2, 2, 2, 2, 2, 2, 1, 1, 2, 2, 0, 2, 0, 0, 0, 2, 2, 2, 2, 1, 0, 2, 2, 2, 2, 2, 2, 0, 0, 0, 2, 2, 2, 2, 0, 2, 2, 2, 1, 2, 2, 2, 2, 2, 2, 2, 2, 2, 2, 2, 2, 2, 1, 2, 2, 2, 0, 2, 2, 2, 2, 0, 2, 0, 2, 2, 2, 2, 0, 2, 0, 1, 2, 2, 2, 2, 2, 2, 2, 2, 0, 2, 2, 2, 1, 0, 2, 1, 2, 2, 2, 2, 2, 0, 0, 1, 0, 2, 0, 2, 0, 1, 2, 2, 0, 2, 1, 2, 0, 2, 2, 0, 2, 2, 1, 1, 0, 2, 2, 0, 1, 2, 1, 0, 2, 2, 2, 1, 0, 0, 2, 2, 2, 2, 2, 2, 0, 2, 0, 1, 1, 0, 1, 2, 2, 2, 2, 1, 2, 0, 0, 2, 2, 2, 0, 1, 0, 2, 2, 0, 2, 2, 1, 2, 2, 2, 0, 0, 2, 0, 1, 2, 2, 0, 0, 0, 0, 0, 2, 2, 2, 2, 2, 2, 2, 2, 2, 2, 2, 2, 2, 1, 0, 2, 0, 2, 1, 2, 2, 0, 2, 2, 0, 2, 0, 2, 0, 0, 0, 0, 2, 2, 2, 2, 0, 2, 0, 0, 2, 2, 0, 2, 2, 2, 0, 2, 2, 0, 0, 2, 2, 0, 0, 2, 0, 2, 2, 0, 2, 1, 1, 2, 1, 2, 2, 2, 2, 0, 2, 2, 2, 2, 2, 2, 2, 2, 0, 2, 2, 2, 2, 2, 2, 2, 0, 1, 0, 2, 2, 2, 2, 0, 2, 2, 1, 0, 0, 0, 0, 1, 0, 2, 2, 0, 0, 2, 2, 2, 0, 2, 2, 0, 0, 2, 0, 2, 2, 1, 2, 2, 2, 0, 2, 2, 2, 0, 2, 2, 2, 2, 1, 0, 2, 2, 1, 0, 0, 0, 2, 0, 2, 2, 2, 0, 0, 0, 2, 0, 0, 2, 2, 0, 0, 2, 2, 0, 2, 1, 2, 0, 0, 2, 0, 0, 2, 0, 0, 0, 0, 2, 2, 2, 0, 2, 2, 2, 1, 0, 2, 2, 2, 0, 0, 0, 0, 1, 2, 0, 0, 2, 2, 0, 2, 2, 2, 2, 2, 0, 2, 2, 0, 0, 2, 0, 2, 0, 0, 2, 2, 0, 2, 2, 2, 2, 2, 0, 2, 2, 2, 2, 0, 2, 2, 2, 0, 2, 2, 2, 2, 2, 0, 2, 0, 0, 0, 0, 0, 0, 0, 0, 0, 2, 0, 2, 2, 2, 0, 2, 2, 2, 2, 1, 2, 2, 0, 2, 2, 2, 2, 2, 2, 2, 2, 1, 2, 2, 2, 2, 2, 1, 0, 2, 2, 2, 0, 2, 0, 0, 2, 0, 0, 2, 1, 2, 0, 2, 2, 2, 0, 0, 2, 2, 0, 2, 2, 2, 2, 2, 2, 2, 2, 2, 2, 2, 1, 2, 0, 2, 2, 2, 2, 2, 2, 2, 2, 2, 2, 2, 2, 0, 0, 1, 0, 2, 0, 2, 0, 2, 0, 0, 1, 0, 0, 2, 0, 2, 0, 0, 2, 0, 0, 2, 0, 2, 2, 2, 1, 2, 2, 0, 0, 2, 1, 2, 2, 0, 2, 2, 0, 0, 0, 0, 2, 2, 1, 0, 0, 2, 2, 2, 2, 0, 2, 2, 0, 1, 0, 0, 2, 2, 2, 2, 2, 2, 2, 2, 0, 1, 2, 0, 2, 2, 0, 0, 2, 2, 0, 2, 0, 2, 2, 0, 0, 2, 2, 2, 2, 1, 2, 2, 0, 2, 2, 2, 0, 2, 2, 0, 2, 0, 2, 2, 2, 2, 2, 2, 0, 2, 2, 0, 0, 2, 2, 0, 2, 2, 0, 1, 0, 2, 0, 2, 2, 0, 0, 2, 0, 0, 2, 2, 2, 0, 2, 2, 2, 0, 2, 0, 0, 1, 2, 0, 2, 2, 2, 2, 2, 2, 2, 2, 0, 0, 2, 2, 0, 0, 2, 2, 1, 1, 2, 2, 2, 0, 0, 2, 0, 2, 0, 2, 0, 1, 0, 2, 0, 1, 2, 0, 2, 2, 2, 0, 2, 2, 2, 2, 0, 0, 0, 2, 0, 2, 0, 2, 2, 0, 0, 2, 2, 0, 1, 2, 0, 2, 2, 2, 2, 2, 2, 2, 2, 2, 0, 2, 2, 0, 2, 0, 2, 2, 0, 2, 0, 2, 0, 2, 1, 2, 0, 2, 1, 2, 0, 2, 0, 1, 2, 0, 2, 0, 2, 0, 2, 1, 2, 2, 0, 0, 2, 2, 2, 0, 0, 2, 0, 0, 2, 0, 2, 2, 0, 2, 2, 2, 0, 2, 0, 2, 2, 0, 2, 0, 0, 0, 0, 2, 0, 0, 0, 0, 2, 2, 2, 2, 2, 2, 2, 2, 2, 2, 2, 0, 2, 1, 2, 2, 2, 0, 2, 2, 2, 2, 2, 2, 2, 2, 0, 2, 0, 2, 2, 2, 2, 2, 0, 2, 2, 2, 2, 2, 1, 0, 2, 0, 2, 1, 2, 0, 2, 2, 2, 0, 2, 2, 0, 0, 1, 2, 2, 0, 1, 2, 0, 2, 0, 1, 2, 0, 2, 1, 0, 0, 2, 2, 2, 2, 2, 0, 0, 2, 2, 0, 0, 2, 2, 1, 2, 2, 0, 2, 2, 2, 2, 2, 0, 0, 2, 2, 0, 1, 0, 2, 2, 2, 2, 2, 2, 0, 2, 2, 2, 0, 2, 2, 0, 1, 1, 1, 2, 2, 0, 0, 2, 2, 2, 1, 2, 2, 2, 2, 2, 2, 0, 2, 2, 0, 1, 2, 2, 2, 2, 2, 2, 1, 2, 1, 2, 0, 0, 1, 2, 0, 0, 2, 2, 2, 0, 2, 2, 0, 2, 2, 1, 2, 0, 1, 0, 2, 2, 2, 2, 2, 0, 2, 2, 1, 2, 0, 2, 1, 2, 2, 2, 2, 2, 2, 2, 2, 2, 2, 0, 2, 2, 2, 2, 2, 1, 0, 2, 0, 2, 0, 0, 2, 0, 2, 1, 2, 0, 2, 2, 0, 0, 1, 2, 0, 2, 2, 0, 0, 0, 2, 1, 2, 0, 0, 0, 0, 2, 2, 2, 2, 0, 0, 2, 2, 0, 1, 2, 2, 1, 2, 2, 2, 2, 2, 2, 0, 1, 0, 1, 2, 2, 2, 2, 0, 2, 0, 2, 0, 0, 2, 2, 2, 0, 0, 0, 2, 0, 0, 0, 0, 0, 2, 0, 2, 0, 2, 2, 2, 2, 2, 2, 0, 2, 2, 2, 2, 0, 2, 1, 1, 2, 0, 2, 2, 2, 0, 2, 0, 2, 2, 0, 0, 2, 2, 0, 2, 2, 2, 0, 2, 2, 2, 2, 0, 2, 2, 2, 2, 2, 2, 2, 2, 0, 2, 2, 0, 2, 2, 2, 0, 2, 2, 1, 2, 2, 2, 2, 2, 0, 2, 0, 2, 2, 0, 2, 2, 0, 1, 0, 2, 0, 2, 0, 0, 1, 0, 2, 2, 2, 2, 0, 2, 2, 0, 1, 0, 2, 2, 1, 2, 2, 2, 2, 0, 0, 0, 0, 2, 0, 2, 0, 2, 2, 0, 0, 2, 0, 2, 2, 0, 0, 0, 0, 2, 2, 2, 2, 2, 2, 2, 0, 2, 2, 2, 2, 2, 2, 0, 2, 0, 0, 2, 0, 0, 0, 0, 2, 2, 0, 2, 1, 2, 2, 2, 0, 0, 2, 2, 2, 0, 0, 2, 2, 1, 2, 2, 2, 2, 0, 2, 2, 2, 2, 2, 2, 2, 2, 1, 0, 1, 2, 2, 2, 2, 2, 2, 0, 2, 2, 2, 2, 2, 2, 2, 0, 2, 2, 2, 2, 0, 2, 0, 2, 2, 1, 0, 0, 2, 2, 2, 2, 0, 2, 0, 2, 2, 0, 1, 2, 0, 2, 0, 2, 1, 2, 0, 0, 2, 2, 0, 2, 2, 1, 2, 2, 0, 2, 0, 0, 2, 1, 2, 0, 0, 2, 2, 2, 2, 0, 2, 2, 2, 1, 1, 0, 2, 2, 2, 2, 2, 0, 2, 1, 0, 2, 2, 2, 2, 2, 2, 0, 1, 2, 2, 1, 2, 0, 0, 0, 0, 2, 2, 0, 2, 0, 0, 2, 0, 2, 2, 2, 0, 0, 0, 2, 0, 0, 2, 2, 0, 2, 2, 2, 2, 2, 0, 2, 2, 2, 2, 2, 2, 2, 2, 2, 2, 0, 2, 0, 2, 2, 2, 0, 2, 1, 2, 0, 0, 1, 0, 0, 0, 2, 2, 2, 1, 0, 2, 0, 2, 0, 2, 0, 0, 2, 0, 0, 0, 0, 2, 2, 2, 0, 0, 2, 2, 0, 2, 2, 2, 2, 2, 0, 0, 2, 0, 1, 2, 0, 0, 2, 0, 2, 2, 0, 2, 0, 0, 2, 2, 0, 2, 2, 2, 2, 0, 2, 2, 1, 2, 2, 2, 2, 2, 2, 0, 2, 0, 0, 2, 0, 2, 2, 0, 0, 2, 0, 0, 2, 2, 1, 0, 2, 0, 0, 2, 2, 2, 0, 1, 0, 2, 2, 2, 0, 1, 2, 2, 2, 0, 1, 1, 2, 1, 0, 2, 2, 2, 2, 0, 0, 2, 2, 1, 2, 2, 2, 0, 2, 0, 0, 2, 0, 2, 0, 2, 1, 2, 0, 0, 2, 2, 2, 2, 2, 2, 1, 2, 2, 0, 0, 1, 2, 0, 0, 2, 2, 2, 2, 0, 1, 2, 2, 0, 1, 2, 0, 2, 1, 2, 2, 1, 2, 2, 2, 2, 2, 2, 2, 2, 2, 2, 2, 0, 2, 2, 2, 0, 2, 2, 0, 2, 0, 0, 2, 2, 2, 1, 2, 2, 2, 2, 2, 1, 2, 2, 0, 0, 2, 2, 1, 0, 0, 2, 0, 2, 0, 2, 0, 2, 0, 2, 2, 2, 2, 0, 0, 2, 2, 2, 0, 2, 2, 0, 2, 1, 2, 2, 2, 1, 0, 0, 0, 2, 2, 2, 1, 2, 0, 2, 2, 0, 2, 2, 2, 0, 0, 1, 0, 2, 2, 0, 2, 0, 2, 0, 2, 1, 2, 2, 2, 2, 1, 0, 0, 2, 2, 0, 2, 2, 1, 0, 2, 2, 0, 2, 1, 2, 0, 2, 0, 2, 2, 0, 2, 1, 2, 0, 1, 2, 0, 2, 0, 0, 1, 2, 0, 2, 2, 2, 2, 2, 2, 0, 2, 0, 1, 2, 1, 2, 0, 2, 2, 2, 2, 0, 0, 0, 2, 2, 2, 2, 2, 2, 2, 2, 2, 0, 0, 2, 2, 2, 2, 2, 2, 0, 1, 0, 2, 2, 0, 0, 2, 2, 2, 0, 2, 1, 2, 0, 2, 2, 1, 2, 0, 1, 2, 2, 2, 2, 2, 2, 2, 2, 2, 0, 2, 2, 2, 2, 2, 2, 2, 0, 2, 2, 2, 2, 2, 0, 2, 0, 1, 0, 0, 2, 2, 2, 0, 0, 0, 0, 2, 0, 2, 2, 1, 2, 2, 0, 0, 2, 2, 2, 0, 2, 2, 2, 2, 2, 2, 1, 2, 2, 2, 0, 1, 0, 1, 0, 0, 0, 2, 1, 2, 1, 2, 2, 2, 2, 2, 0, 2, 0, 2, 2, 2, 2, 2, 2, 0, 0, 2, 2, 1, 0, 2, 0, 2, 2, 2, 0, 0, 2, 0, 2, 2, 0, 0, 0, 2, 2, 2, 2, 2, 2, 0, 2, 1, 0, 1, 2, 0, 0, 0, 2, 0, 2, 2, 1, 2, 2, 2, 2, 1, 2, 1, 2, 2, 0, 2, 0, 1, 2, 2, 2, 2, 2, 2, 2, 0, 2, 2, 2, 0, 2, 0, 1, 2, 2, 0, 0, 1, 2, 2, 1, 2, 2, 2, 2, 0, 0, 1, 2, 2, 2, 0, 2, 2, 2, 2, 2, 0, 2, 2, 2, 2, 2, 2, 0, 2, 2, 2, 2, 2, 2, 2, 0, 2, 0, 2, 0, 0, 0, 0, 0, 2, 2, 0, 2, 2, 0, 0, 2, 2, 2, 0, 0, 2, 2, 2, 2, 2, 2, 2, 0, 1, 2, 2, 1, 0, 0, 2, 2, 2, 2, 0, 2, 0, 2, 2, 2, 0, 2, 2, 2, 0, 2, 2, 2, 0, 2, 2, 2, 0, 2, 2, 2, 0, 2, 2, 0, 2, 0, 0, 2, 2, 2, 0, 2, 2, 0, 0, 2, 2, 2, 2, 0, 2, 2, 2, 1, 1, 2, 2, 2, 2, 0, 1, 2, 1, 0, 2, 2, 2, 2, 2, 2, 0, 2, 0, 2, 2, 0, 2, 2, 2, 0, 2, 2, 2, 2, 2, 2, 0, 0, 2, 0, 2, 2, 2, 0, 2, 0, 0, 2, 1, 0, 0, 2, 2, 0, 2, 2, 0, 2, 0, 2, 0, 2, 0, 2, 0, 0, 2, 2, 2, 2, 2, 2, 0, 2, 2, 1, 2, 2, 2, 2, 2, 0, 2, 0, 2, 2, 2, 2, 2, 2, 1, 2, 2, 2, 2, 2, 0, 0, 0, 0, 2, 2, 2, 1, 2, 2, 2, 2, 0, 0, 0, 0, 0, 0, 0, 1, 1, 0, 2, 0, 2, 2, 2, 0, 0, 0, 2, 0, 2, 2, 2, 1, 2, 2, 0, 2, 2, 2, 0, 0, 2, 2, 0, 0, 0, 0, 0, 2, 0, 0, 2, 2, 2, 0, 2, 0, 1, 2, 0, 0, 2, 2, 2, 1, 0, 1, 0, 2, 2, 2, 2, 2, 2, 0, 1, 2, 1, 2, 0, 1, 0, 2, 2, 2, 0, 2, 0, 1, 2, 2, 2, 2, 2, 0, 2, 2, 0, 2, 2, 0, 1, 2, 2, 2, 0, 2, 2, 0, 2, 0, 2, 0, 2, 2, 2, 0, 2, 2, 2, 1, 2, 0, 2, 2, 2, 2, 2, 0, 0, 0, 1, 0, 2, 2, 0, 2, 2, 0, 2, 2, 2, 2, 0, 2, 2, 1, 2, 0, 0, 2, 2, 2, 2, 2, 2, 1, 2, 2, 0, 0, 0, 1, 2, 0, 1, 0, 0, 1, 2, 2, 0, 2, 0, 2, 2, 2, 2, 2, 0, 1, 2, 2, 0, 2, 0, 2, 0, 0, 2, 0, 2, 0, 2, 1, 0, 0, 2, 0, 2, 0, 2, 2, 0, 2, 2, 0, 2, 2, 2, 1, 2, 2, 2, 0, 2, 1, 2, 2, 0, 2, 2, 2, 2, 0, 1, 1, 1, 2, 2, 2, 2, 2, 2, 2, 0, 0, 2, 2, 2, 2, 2, 2, 2, 2, 2, 0, 2, 1, 2, 2, 2, 0, 2, 2, 2, 2, 2, 2, 2, 2, 0, 2, 2, 0, 0, 2, 1, 1, 2, 2, 2, 0, 0, 2, 1, 2, 2, 2, 2, 2, 2, 0, 1, 1, 1, 1, 0, 2, 2, 2, 2, 0, 0, 0, 0, 0, 1, 0, 2, 0, 0, 1, 0, 0, 0, 2, 2, 2, 2, 2, 2, 0, 2, 0, 2, 1, 2, 2, 0, 2, 2, 0, 0, 2, 0, 2, 2, 2, 2, 2, 0, 2, 2, 2, 0, 2, 2, 1, 2, 0, 1, 2, 2, 2, 2, 2, 2, 2, 0, 1, 0, 2, 0, 0, 2, 2, 0, 2, 0, 2, 0, 0, 2, 2, 0, 2, 2, 2, 0, 2, 2, 2, 2, 2, 2, 2, 2, 1, 1, 2, 2, 2, 2, 2, 0, 2, 2, 2, 2, 2, 0, 2, 2, 2, 2, 1, 0, 0, 2, 2, 2, 2, 0, 2, 2, 0, 2, 2, 1, 0, 1, 1, 2, 2, 2, 2, 2, 2, 2, 2, 0, 1, 2, 0, 0, 1, 2, 2, 2, 0, 0, 0, 2, 0, 2, 0, 1, 0, 2, 2, 2, 0, 2, 2, 2, 2, 2, 0, 2, 2, 2, 2, 2, 0, 0, 2, 2, 1, 2, 0, 0, 2, 1, 2, 2, 0, 1, 0, 1, 0, 2, 1, 2, 2, 0, 0, 2, 2, 2, 2, 2, 2, 2, 2, 2, 0, 1, 2, 2, 2, 2, 2, 0, 0, 2, 0, 1, 2, 2, 0, 0, 0, 2, 2, 1, 0, 2, 2, 2, 2, 2, 2, 0, 0, 0, 2, 2, 0, 2, 0, 2, 2, 2, 1, 0, 0, 2, 0, 2, 0, 2, 2, 0, 0, 2, 2, 0, 2, 0, 1, 0, 2, 1, 2, 2, 1, 2, 0, 0, 0, 2, 2, 1, 0, 0, 0, 2, 2, 2, 2, 2, 2, 2, 0, 2, 0, 1, 0, 1, 0, 2, 0, 2, 0, 0, 0, 2, 1, 2, 0, 2, 2, 2, 2, 2, 2, 2, 1, 2, 2, 2, 2, 0, 2, 2, 0, 0, 2, 0, 0, 0, 1, 2, 2, 2, 0, 1, 2, 2, 1, 0, 2, 2, 2, 2, 2, 2, 0, 0, 2, 0, 2, 2, 2, 2, 0, 2, 2, 0, 1, 0, 1, 0, 2, 2, 2, 2, 2, 0, 2, 2, 0, 2, 2, 2, 0, 0, 1, 0, 0, 2, 1, 2, 0, 0, 0, 1, 2, 1, 2, 2, 0, 2, 0, 0, 2, 2, 2, 2, 2, 2, 2, 2, 0, 0, 2, 2, 2, 2, 2, 1, 0, 0, 2, 0, 0, 2, 2, 2, 2, 2, 0, 2, 2, 0, 1, 0, 2, 2, 2, 1, 2, 0, 2, 0, 2, 2, 1, 2, 2, 0, 2, 0, 2, 2, 2, 2, 1, 2, 2, 2, 2, 1, 2, 2, 2, 2, 2, 2, 2, 0, 0, 2, 2, 2, 2, 0, 2, 2, 2, 0, 0, 2, 1, 0, 2, 0, 2, 2, 0, 0, 2, 0, 2, 0, 0, 1, 2, 2, 2, 2, 2, 0, 2, 2, 2, 2, 0, 0, 0, 2, 2, 2, 1, 2, 0, 0, 2, 2, 0, 2, 2, 2, 2, 0, 1, 2, 2, 2, 2, 0, 2, 0, 0, 2, 2, 2, 0, 0, 0, 2, 2, 0, 2, 0, 2, 2, 1, 0, 0, 2, 2, 0, 2, 2, 0, 2, 2, 2, 2, 2, 2, 2, 2, 2, 2, 2, 2, 2, 1, 2, 2, 2, 0, 2, 2, 2, 0, 2, 2, 2, 2, 2, 2, 0, 2, 2, 0, 2, 2, 0, 2, 1, 1, 2, 1, 2, 2, 0, 2, 2, 0, 2, 2, 0, 2, 1, 0, 0, 2, 0, 2, 2, 2, 0, 2, 0, 1, 0, 2, 2, 0, 0, 2, 2, 2, 2, 2, 0, 2, 2, 2, 0, 0, 0, 2, 0, 2, 1, 2, 2, 0, 0, 2, 1, 0, 1, 2, 2, 2, 2, 2, 2, 2, 1, 0, 0, 0, 2, 2, 2, 2, 2, 2, 2, 2, 2, 1, 1, 2, 0, 0, 1, 2, 0, 2, 2, 2, 2, 0, 2, 2, 0, 0, 2, 1, 0, 2, 0, 0, 2, 1, 2, 0, 2, 0, 2, 2, 2, 2, 0, 2, 2, 0, 2, 2, 0, 0, 1, 2, 2, 0, 2, 0, 2, 2, 0, 2, 2, 2, 2, 0, 2, 0, 2, 2, 2, 2, 0, 2, 2, 0, 0, 0, 2, 2, 0, 1, 0, 0, 0, 2, 2, 0, 0, 0, 2, 2, 2, 2, 2, 1, 2, 2, 2, 0, 2, 2, 0, 2, 1, 2, 0, 0, 0, 2, 2, 2, 2, 2, 2, 2, 0, 2, 0, 2, 2, 1, 1, 2, 2, 2, 0, 2, 0, 0, 2, 0, 2, 2, 2, 0, 0, 0, 2, 2, 2, 2, 2, 2, 2, 0, 2, 0, 2, 2, 2, 1, 2, 0, 2, 2, 2, 1, 2, 0, 2, 2, 2, 0, 2, 2, 2, 0, 2, 2, 2, 0, 1, 2, 2, 1, 2, 1, 0, 2, 2, 0, 2, 2, 2, 0, 2, 0, 0, 2, 2, 2, 0, 0, 0, 0, 2, 2, 2, 2, 0, 2, 0, 0, 2, 2, 2, 2, 2, 2, 0, 0, 2, 1, 2, 0, 2, 2, 0, 0, 0, 0, 2, 0, 0, 0, 0, 2, 0, 0, 2, 2, 2, 2, 2, 1, 0, 2, 1, 1, 0, 2, 2, 2, 2, 2, 2, 2, 0, 2, 2, 2, 0, 2, 2, 2, 0, 2, 2, 0, 1, 2, 0, 1, 2, 0, 2, 2, 2, 2, 2, 0, 2, 2, 1, 0, 2, 2, 2, 2, 0, 2, 2, 2, 2, 2, 2, 0, 2, 0, 2, 0, 2, 2, 2, 2, 2, 2, 2, 0, 2, 2, 2, 0, 0, 0, 1, 2, 2, 0, 2, 2, 1, 2, 2, 2, 2, 2, 0, 2, 2, 2, 0, 2, 2, 0, 2, 2, 2, 2, 2, 2, 2, 2, 2, 2, 0, 2, 2, 2, 2, 0, 0, 2, 1, 0, 1, 2, 2, 2, 1, 0, 2, 2, 2, 2, 2, 1, 0, 2, 2, 2, 2, 0, 1, 2, 2, 2, 2, 2, 0, 2, 2, 2, 2, 2, 2, 2, 2, 2, 2, 0, 2, 2, 0, 2, 0, 2, 2, 0, 2, 2, 2, 2, 2, 2, 2, 2, 0, 0, 2, 2, 0, 2, 0, 1, 2, 1, 2, 1, 2, 2, 2, 2, 2, 0, 0, 2, 2, 2, 0, 0, 2, 0, 2, 2, 0, 0, 2, 2, 2, 0, 0, 0, 2, 2, 2, 0, 2, 2, 2, 2, 2, 0, 2, 2, 2, 2, 0, 2, 2, 2, 2, 2, 2, 0, 2, 0, 0, 0, 1, 0, 2, 2, 2, 2, 0, 2, 0, 2, 0, 0, 2, 0, 2, 0, 2, 2, 0, 1, 2, 2, 1, 0, 0, 0, 1, 2, 0, 2, 2, 2, 0, 2, 0, 2, 0, 0, 2, 0, 0, 2, 2, 2, 2, 2, 1, 2, 2, 2, 0, 2, 2, 0, 2, 2, 1, 0, 2, 2, 2, 0, 2, 0, 2, 2, 1, 2, 2, 2, 2, 0, 2, 0, 2, 2, 2, 0, 1, 0, 1, 2, 0, 0, 2, 0, 2, 2, 2, 2, 2, 1, 0, 0, 2, 0, 2, 0, 0, 2, 2, 0, 1, 0, 0, 0, 2, 2, 2, 2, 2, 2, 2, 2, 0, 2, 1, 2, 2, 0, 0, 2, 2, 2, 0, 2, 0, 0, 2, 0, 0, 2, 2, 0, 2, 0, 0, 0, 2, 2, 2, 2, 2, 2, 2, 0, 2, 2, 2, 2, 2, 2, 2, 2, 2, 1, 0, 2, 2, 2, 2, 0, 2, 0, 2, 0, 2, 2, 2, 2, 0, 2, 2, 0, 0, 2, 2, 2, 2, 0, 0, 0, 2, 2, 2, 2, 0, 0, 2, 2, 0, 2, 2, 0, 0, 2, 1, 2, 0, 0, 2, 2, 2, 2, 0, 0, 1, 1, 1, 1, 2, 1, 1, 0, 2, 0, 2, 0, 0, 0, 1, 2, 0, 2, 0, 0, 2, 2, 2, 2, 2, 2, 0, 0, 2, 2, 2, 0, 0, 2, 2, 2, 2, 0, 2, 1, 0, 0, 2, 1, 2, 0, 1, 2, 2, 0, 0, 2, 2, 2, 0, 2, 2, 2, 2, 0, 2, 0, 2, 2, 2, 2, 2, 1, 0, 2, 2, 1, 2, 0, 2, 2, 0, 0, 0, 2, 1, 2, 2, 2, 2, 1, 2, 2, 2, 0, 2, 2, 2, 2, 2, 0, 0, 2, 2, 2, 2, 1, 2, 0, 2, 2, 2, 2, 2, 0, 1, 2, 0, 2, 0, 0, 2, 2, 0, 2, 0, 2, 0, 2, 0, 0, 2, 2, 1, 2, 2, 0, 2, 0, 0, 2, 0, 0, 0, 2, 2, 0, 0, 0, 2, 2, 0, 2, 0, 2, 2, 2, 0, 0, 0, 2, 2, 2, 2, 2, 2, 2, 0, 2, 0, 0, 0, 2, 2, 0, 2, 0, 1, 1, 2, 1, 2, 2, 2, 0, 2, 0, 2, 0, 1, 0, 1, 2, 2, 2, 0, 0, 0, 2, 1, 0, 2, 2, 0, 0, 2, 2, 0, 2, 2, 0, 2, 2, 2, 0, 2, 2, 2, 0, 0, 2, 0, 2, 2, 1, 0, 2, 0, 2, 2, 0, 1, 0, 2, 2, 2, 2, 2, 2, 2, 2, 2, 0, 2, 2, 0, 2, 2, 1, 2, 2, 2, 0, 2, 1, 2, 1, 2, 1, 2, 0, 0, 2, 2, 0, 2, 0, 0, 1, 0, 2, 2, 2, 0, 0, 2, 2, 2, 2, 2, 0, 0, 0, 0, 2, 2, 2, 2, 2, 2, 2, 2, 2, 1, 2, 2, 2, 2, 2, 2, 0, 2, 2, 2, 0, 2, 0, 2, 0, 2, 2, 0, 2, 2, 2, 0, 0, 0, 2, 0, 0, 1, 2, 2, 1, 2, 2, 2, 2, 2, 2, 0, 0, 2, 2, 1, 2, 2, 1, 2, 2, 2, 2, 2, 0, 2, 2, 2, 0, 2, 0, 0, 0, 0, 0, 0, 0, 1, 0, 2, 2, 2, 2, 2, 2, 1, 0, 2, 2, 0, 0, 2, 2, 2, 2, 2, 1, 2, 2, 2, 2, 0, 2, 2, 0, 0, 2, 0, 2, 2, 2, 2, 2, 2, 2, 2, 1, 2, 2, 1, 2, 2, 0, 1, 2, 2, 2, 2, 2, 2, 2, 2, 2, 2, 2, 2, 0, 2, 2, 1, 0, 2, 2, 2, 0, 2, 2, 0, 0, 2, 2, 2, 0, 2, 2, 0, 2, 0, 2, 2, 0, 2, 0, 1, 0, 0, 0, 2, 2, 2, 2, 2, 2, 2, 0, 2, 2, 0, 0, 2, 2, 2, 2, 2, 2, 2, 1, 2, 2, 2, 0, 2, 2, 2, 2, 2, 2, 0, 2, 2, 0, 0, 0, 2, 2, 0, 2, 2, 0, 2, 0, 2, 2, 2, 0, 2, 2, 2, 2, 2, 2, 1, 2, 2, 2, 1, 2, 0, 2, 2, 0, 1, 1, 2, 2, 2, 2, 1, 2, 2, 2, 2, 2, 0, 2, 2, 0, 2, 2, 2, 2, 0, 1, 2, 2, 2, 2, 0, 2, 0, 2, 2, 0, 2, 2, 2, 2, 2, 2, 2, 2, 0, 0, 2, 2, 2, 0, 2, 0, 2, 0, 2, 2, 2, 2, 2, 1, 0, 1, 0, 2, 2, 0, 2, 2, 2, 0, 2, 2, 1, 2, 2, 0, 2, 2, 0, 0, 0, 1, 2, 2, 0, 0, 0, 2, 1, 0, 2, 2, 0, 2, 0, 0, 0, 0, 1, 2, 0, 2, 2, 2, 2, 2, 2, 2, 2, 2, 0, 0, 2, 0, 2, 2, 2, 2, 2, 2, 2, 0, 2, 0, 0, 2, 2, 2, 2, 2, 2, 2, 2, 0, 2, 2, 2, 0, 2, 2, 2, 0, 1, 2, 2, 0, 0, 0, 2, 0, 2, 2, 0, 2, 2, 2, 2, 2, 2, 2, 2, 1, 1, 2, 2, 1, 2, 2, 0, 2, 2, 0, 1, 0, 2, 2, 1, 2, 0, 0, 2, 2, 2, 0, 2, 2, 1, 2, 2, 2, 2, 0, 0, 2, 2, 0, 2, 2, 2, 2, 2, 2, 2, 2, 2, 0, 0, 1, 1, 0, 0, 2, 0, 1, 2, 2, 1, 0, 0, 2, 0, 2, 2, 2, 2, 0, 2, 0, 2, 1, 2, 2, 0, 0, 2, 2, 1, 2, 2, 0, 2, 0, 0, 2, 0, 2, 2, 2, 1, 2, 2, 2, 0, 2, 0, 0, 1, 2, 2, 0, 2, 0, 2, 2, 0, 2, 2, 1, 1, 2, 2, 2, 2, 2, 2, 0, 0, 2, 0, 2, 1, 0, 0, 2, 0, 1, 0, 0, 2, 2, 2, 2, 2, 2, 0, 2, 2, 2, 1, 2, 2, 2, 0, 2, 2, 2, 1, 2, 0, 2, 0, 0, 2, 0, 2, 0, 2, 1, 0, 2, 2, 2, 2, 2, 2, 0, 2, 1, 0, 2, 0, 2, 2, 2, 1, 0, 2, 2, 2, 0, 0, 2, 2, 2, 2, 2, 0, 1, 2, 2, 2, 0, 2, 0, 2, 0, 2, 2, 1, 0, 2, 2, 0, 2, 2, 2, 2, 2, 0, 2, 0, 2, 0, 2, 2, 2, 2, 2, 2, 0, 2, 0, 2, 2, 2, 0, 1, 0, 2, 0, 0, 2, 2, 2, 1, 2, 2, 0, 0, 2, 0, 2, 2, 2, 2, 0, 1, 2, 0, 0, 2, 2, 1, 2, 2, 2, 1, 0, 0, 2, 0, 2, 2, 2, 0, 0, 2, 2, 2, 2, 0, 2, 2, 2, 2, 2, 1, 2, 2, 0, 1, 1, 2, 2, 0, 2, 0, 2, 2, 2, 0, 2, 2, 2, 2, 2, 2, 0, 2, 2, 2, 2, 2, 2, 0, 0, 2, 2, 1, 0, 0, 1, 1, 2, 1, 0, 0, 2, 2, 2, 0, 2, 2, 2, 2, 2, 2, 2, 1, 0, 2, 0, 2, 0, 2, 1, 1, 0, 2, 2, 0, 2, 1, 2, 1, 2, 0, 0, 2, 1, 0, 1, 0, 0, 2, 2, 2, 2, 2, 2, 2, 2, 2, 2, 2, 2, 0, 2, 2, 2, 0, 2, 2, 2, 2, 1, 2, 2, 1, 1, 2, 1, 2, 2, 0, 2, 1, 2, 2, 2, 2, 2, 1, 2, 0, 2, 0, 2, 2, 2, 2, 0, 0, 2, 2, 2, 2, 2, 2, 2, 2, 0, 0, 2, 0, 2, 2, 1, 2, 2, 2, 1, 0, 0, 2, 0, 2, 0, 0, 2, 0, 2, 2, 1, 2, 2, 2, 2, 2, 0, 2, 0, 0, 2, 0, 2, 2, 2, 0, 2, 0, 2, 0, 2, 1, 2, 2, 0, 2, 2, 2, 2, 1, 2, 2, 0, 0, 2, 2, 2, 0, 2, 2, 2, 0, 2, 1, 0, 2, 1, 2, 0, 1, 0, 0, 2, 2, 2, 2, 2, 2, 2, 2, 2, 0, 2, 2, 2, 2, 2, 0, 2, 1, 2, 0, 1, 2, 2, 2, 2, 0, 0, 2, 1, 1, 0, 0, 2, 2, 2, 0, 2, 0, 2, 0, 0, 2, 2, 0, 2, 2, 0, 2, 2, 2, 0, 2, 0, 0, 2, 0, 0, 2, 2, 0, 2, 2, 0, 2, 0, 0, 0, 0, 2, 0, 2, 0, 2, 0, 1, 0, 0, 0, 2, 2, 1, 2, 2, 2, 2, 2, 2, 2, 1, 2, 2, 0, 2, 0, 1, 2, 0, 2, 0, 2, 2, 2, 2, 2, 2, 2, 2, 2, 0, 2, 2, 0, 2, 2, 2, 1, 2, 2, 0, 2, 2, 2, 2, 2, 2, 2, 2, 2, 0, 0, 2, 2, 2, 0, 2, 2, 1, 1, 2, 1, 2, 1, 2, 0, 0, 1, 2, 1, 0, 0, 0, 0, 0, 2, 2, 0, 2, 2, 2, 2, 1, 2, 1, 0, 2, 2, 1, 2, 2, 2, 2, 0, 2, 2, 2, 2, 2, 0, 2, 2, 2, 2, 1, 2, 2, 2, 2, 2, 2, 0, 0, 2, 0, 0, 2, 0, 2, 2, 0, 0, 2, 2, 0, 0, 1, 2, 2, 0, 0, 2, 0, 2, 2, 2, 2, 2, 2, 2, 1, 2, 2, 2, 0, 0, 2, 0, 2, 2, 2, 0, 2, 0, 0, 0, 2, 2, 1, 0, 2, 2, 2, 2, 0, 1, 0, 1, 2, 1, 2, 1, 2, 2, 0, 2, 2, 2, 2, 2, 2, 0, 2, 0, 0, 1, 2, 2, 2, 1, 2, 2, 2, 0, 2, 2, 2, 2, 1, 2, 2, 1, 2, 2, 2, 2, 0, 2, 0, 2, 0, 2, 2, 1, 2, 1, 2, 2, 0, 2, 2, 1, 0, 1, 2, 2, 0, 2, 2, 0, 2, 2, 2, 2, 2, 2, 2, 2, 0, 0, 2, 0, 2, 2, 2, 1, 2, 2, 0, 1, 2, 2, 1, 0, 1, 0, 2, 2, 0, 2, 1, 0, 2, 1, 0, 2, 2, 2, 2, 2, 2, 2, 2, 1, 0, 2, 2, 2, 2, 2, 2, 2, 2, 0, 0, 2, 0, 0, 2, 2, 2, 2, 2, 2, 2, 0, 0, 2, 2, 0, 2, 0, 2, 2, 2, 2, 2, 0, 1, 2, 1, 2, 0, 2, 1, 2, 2, 2, 2, 2, 2, 0, 2, 0, 0, 2, 1, 0, 2, 2, 2, 2, 1, 2, 0, 0, 2, 0, 0, 2, 2, 2, 0, 2, 0, 0, 2, 0, 1, 1, 2, 2, 2, 2, 2, 0, 2, 2, 0, 2, 2, 0, 2, 2, 2, 2, 2, 1, 2, 1, 2, 0, 2, 2, 2, 2, 2, 2, 2, 0, 0, 0, 0, 0, 2, 0, 2, 1, 2, 2, 2, 1, 1, 0, 2, 2, 2, 2, 0, 2, 2, 0, 2, 2, 2, 2, 2, 2, 2, 0, 0, 0, 2, 2, 0, 2, 0, 2, 0, 0, 2, 2, 2, 1, 2, 1, 0, 0, 2, 2, 2, 2, 2, 0, 0, 0, 1, 0, 2, 0, 0, 2, 1, 2, 2, 2, 1, 2, 0, 2, 0, 0, 2, 0, 0, 2, 0, 2, 2, 2, 0, 2, 0, 0, 0, 2, 0, 2, 0, 2, 0, 2, 2, 2, 2, 0, 2, 1, 2, 0, 2, 0, 2, 0, 2, 2, 0, 2, 2, 0, 0, 2, 2, 2, 0, 0, 2, 2, 2, 2, 2, 2, 0, 1, 2, 2, 1, 0, 0, 1, 2, 2, 0, 2, 2, 0, 2, 2, 2, 2, 2, 0, 2, 2, 0, 0, 2, 2, 2, 0, 2, 0, 0, 2, 2, 2, 2, 2, 0, 0, 0, 0, 2, 2, 0, 0, 0, 2, 2, 0, 1, 2, 0, 2, 2, 0, 2, 1, 1, 0, 0, 0, 2, 1, 2, 0, 2, 0, 2, 0, 2, 2, 2, 2, 2, 2, 2, 2, 0, 1, 2, 0, 1, 2, 0, 0, 2, 0, 2, 0, 2, 2, 0, 2, 2, 2, 0, 2, 2, 2, 0, 2, 2, 2, 2, 2, 2, 0, 2, 2, 2, 0, 2, 2, 0, 2, 2, 2, 2, 2, 2, 2, 2, 2, 2, 2, 0, 2, 0, 0, 2, 0, 2, 2, 2, 0, 0, 2, 2, 2, 0, 0, 2, 0, 2, 2, 0, 2, 1, 0, 2, 2, 0, 1, 2, 2, 2, 2, 1, 2, 2, 2, 2, 2, 0, 0, 0, 2, 2, 0, 2, 2, 2, 2, 2, 0, 2, 2, 0, 0, 2, 2, 2, 1, 0, 2, 2, 1, 2, 2, 2, 1, 2, 2, 2, 2, 2, 2, 0, 2, 2, 2, 0, 2, 1, 0, 2, 2, 2, 0, 2, 2, 2, 0, 2, 1, 2, 0, 2, 0, 2, 2, 2, 2, 0, 0, 2, 2, 1, 2, 0, 2, 0, 0, 2, 2, 2, 2, 1, 0, 0, 2, 0, 0, 0, 2, 2, 0, 0, 2, 2, 2, 0, 2, 2, 2, 2, 2, 0, 0, 2, 2, 0, 2, 2, 1, 2, 2, 0, 2, 0, 0, 2, 1, 2, 1, 2, 2, 2, 2, 0, 2, 0, 2, 0, 2, 2, 2, 2, 0, 2, 2, 2, 2, 2, 2, 1, 2, 2, 1, 2, 2, 2, 2, 0, 2, 2, 2, 2, 0, 2, 0, 2, 2, 2, 2, 1, 2, 0, 0, 1, 1, 2, 0, 1, 0, 0, 2, 0, 0, 0, 0, 2, 1, 2, 0, 0, 2, 2, 2, 2, 2, 0, 2, 2, 2, 0, 2, 1, 2, 2, 2, 2, 2, 2, 2, 0, 0, 0, 2, 2, 0, 0, 0, 2, 2, 0, 2, 2, 2, 1, 2, 1, 2, 2, 2, 2, 2, 1, 2, 2, 2, 2, 0, 2, 2, 2, 2, 2, 2, 2, 2, 2, 1, 0, 2, 0, 2, 2, 0, 0, 2, 2, 2, 2, 2, 0, 0, 2, 2, 0, 1, 1, 2, 0, 2, 2, 2, 2, 2, 2, 2, 1, 1, 0, 0, 2, 2, 2, 2, 0, 2, 2, 2, 0, 2, 0, 2, 0, 0, 2, 2, 2, 2, 0, 2, 1, 2, 1, 2, 2, 2, 0, 2, 2, 2, 2, 0, 2, 0, 2, 2, 2, 0, 0, 2, 0, 1, 2, 2, 2, 1, 2, 2, 2, 1, 2, 1, 2, 1, 1, 0, 2, 0, 2, 2, 2, 0, 2, 0, 2, 1, 2, 2, 2, 2, 2, 0, 2, 2, 2, 0, 0, 2, 2, 2, 2, 0, 2, 2, 0, 2, 1, 2, 2, 2, 2, 2, 2, 2, 2, 2, 0, 0, 2, 2, 2, 2, 2, 2, 0, 2, 2, 0, 2, 0, 0, 0, 0, 2, 2, 0, 0, 0, 0, 2, 2, 0, 0, 2, 0, 2, 2, 2, 0, 2, 0, 0, 2, 2, 2, 1, 2, 0, 2, 2, 2, 2, 2, 0, 2, 2, 0, 0, 0, 1, 0, 2, 2, 2, 2, 2, 2, 2, 2, 2, 2, 2, 0, 2, 1, 2, 2, 2, 2, 2, 0, 2, 0, 2, 2, 2, 2, 1, 2, 2, 0, 1, 2, 2, 2, 2, 2, 1, 0, 2, 2, 2, 2, 0, 2, 2, 2, 0, 1, 2, 1, 0, 2, 0, 0, 2, 0, 2, 2, 1, 2, 2, 0, 2, 2, 1, 0, 2, 0, 2, 0, 2, 2, 0, 2, 1, 0, 2, 2, 2, 2, 0, 0, 2, 0, 2, 0, 0, 1, 2, 2, 2, 0, 2, 2, 0, 0, 0, 0, 2, 0, 2, 0, 2, 0, 1, 2, 2, 0, 2, 2, 2, 2, 0, 2, 0, 0, 2, 0, 2, 0, 0, 0, 2, 2, 2, 2, 2, 2, 0, 2, 0, 0, 2, 1, 2, 2, 2, 2, 2, 0, 2, 2, 2, 2, 2, 1, 2, 0, 2, 0, 1, 2, 2, 0, 2, 2, 2, 2, 1, 0, 0, 2, 2, 1, 2, 2, 0, 2, 2, 0, 2, 0, 2, 1, 0, 2, 0, 0, 1, 2, 2, 2, 1, 2, 2, 0, 2, 2, 0, 2, 2, 2, 2, 2, 0, 0, 2, 2, 2, 2, 2, 2, 2, 0, 1, 0, 2, 0, 0, 2, 2, 2, 2, 2, 2, 2, 0, 2, 2, 0, 2, 2, 1, 2, 2, 2, 0, 0, 0, 2, 1, 2, 2, 2, 2, 2, 2, 2, 2, 1, 2, 2, 1, 0, 1, 0, 2, 2, 2, 2, 0, 2, 0, 2, 2, 0, 1, 2, 2, 0, 2, 0, 2, 0, 2, 2, 0, 2, 2, 2, 2, 2, 0, 2, 0, 2, 1, 0, 0, 2, 2, 0, 2, 2, 2, 2, 2, 2, 2, 2, 2, 2, 2, 2, 0, 2, 2, 2, 2, 0, 2, 0, 2, 1, 0, 2, 2, 0, 0, 2, 0, 0, 2, 2, 0, 2, 2, 0, 2, 0, 2, 2, 2, 0, 0, 2, 1, 2, 0, 2, 2, 0, 2, 0, 2, 2, 2, 1, 2, 2, 0, 0, 2, 2, 2, 1, 2, 0, 0, 0, 2, 2, 1, 2, 2, 0, 2, 0, 2, 2, 2, 2, 2, 2, 1, 2, 0, 2, 0, 2, 2, 2, 2, 0, 2, 2, 2, 0, 2, 0, 2, 0, 0, 2, 2, 0, 0, 0, 0, 2, 0, 2, 2, 2, 1, 2, 0, 2, 0, 0, 2, 0, 2, 0, 2, 2, 2, 2, 2, 0, 0, 1, 0, 2, 2, 0, 0, 0, 0, 2, 2, 2, 1, 0, 2, 2, 2, 2, 2, 2, 2, 0, 0, 2, 2, 2, 0, 1, 2, 0, 2, 2, 2, 2, 0, 0, 2, 2, 2, 1, 0, 0, 2, 2, 0, 2, 1, 2, 2, 2, 2, 0, 2, 2, 1, 2, 0, 0, 0, 2, 2, 2, 0, 2, 2, 0, 2, 1, 2, 2, 0, 2, 0, 1, 2, 0, 0, 0, 0, 2, 2, 2, 0, 2, 2, 2, 0, 0, 2, 2, 2, 2, 1, 2, 2, 1, 2, 2, 2, 1, 0, 2, 2, 0, 2, 2, 2, 2, 2, 2, 2, 2, 0, 1, 2, 2, 0, 0, 1, 2, 2, 2, 0, 2, 0, 0, 0, 0, 2, 2, 1, 2, 1, 2, 2, 2, 2, 2, 0, 2, 2, 2, 2, 0, 2, 2, 2, 2, 0, 2, 0, 2, 2, 2, 0, 0, 0, 0, 2, 2, 2, 1, 2, 2, 2, 0, 0, 2, 1, 2, 2, 0, 0, 0, 2, 0, 2, 0, 0, 2, 1, 2, 2, 0, 0, 2, 0, 0, 0, 2, 2, 2, 0, 0, 2, 0, 0, 0, 2, 2, 2, 1, 2, 2, 2, 2, 2, 2, 0, 0, 0, 0, 1, 2, 2, 1, 1, 0, 0, 2, 2, 2, 0, 2, 1, 0, 2, 2, 0, 0, 2, 0, 2, 2, 0, 0, 2, 2, 2, 2, 0, 2, 2, 0, 2, 2, 0, 0, 2, 2, 0, 0, 2, 2, 2, 2, 2, 2, 2, 2, 0, 2, 2, 0, 2, 0, 0, 2, 2, 2, 2, 0, 1, 2, 2, 2, 2, 2, 2, 2, 0, 2, 2, 2, 0, 2, 2, 2, 1, 0, 2, 2, 2, 0, 2, 2, 0, 2, 2, 0, 2, 0, 2, 1, 2, 2, 2, 0, 0, 0, 2, 2, 2, 0, 0, 2, 2, 2, 2, 2, 2, 2, 0, 2, 1, 2, 2, 0, 2, 2, 2, 0, 2, 1, 2, 0, 1, 2, 2, 2, 0, 0, 2, 2, 2, 2, 1, 1, 0, 2, 2, 2, 2, 1, 1, 2, 2, 2, 0, 2, 0, 2, 2, 2, 2, 0, 2, 2, 2, 0, 0, 0, 2, 2, 2, 2, 2, 2, 1, 0, 2, 2, 0, 2, 0, 0, 2, 2, 0, 0, 0, 2, 2, 1, 1, 2, 2, 2, 2, 2, 2, 2, 2, 2, 2, 2, 0, 0, 1, 2, 2, 2, 2, 2, 2, 2, 2, 2, 0, 2, 1, 2, 2, 2, 2, 2, 2, 0, 0, 0, 2, 2, 2, 0, 2, 0, 2, 2, 2, 2, 1, 2, 2, 1, 2, 2, 2, 2, 0, 0, 2, 1, 0, 2, 2, 0, 0, 0, 2, 0, 1, 2, 1, 2, 0, 2, 0, 2, 1, 0, 2, 2, 0, 2, 2, 2, 2, 0, 0, 2, 2, 2, 2, 2, 1, 2, 2, 0, 2, 0, 2, 2, 2, 0, 0, 2, 0, 0, 2, 0, 1, 1, 2, 2, 2, 2, 0, 2, 2, 2, 2, 0, 2, 2, 2, 1, 1, 2, 2, 2, 2, 2, 0, 2, 2, 2, 2, 2, 0, 2, 2, 1, 2, 0, 2, 2, 0, 0, 0, 2, 2, 2, 2, 2, 1, 1, 1, 2, 2, 0, 2, 2, 2, 2, 0, 0, 0, 2, 2, 2, 2, 0, 0, 2, 1, 2, 2, 2, 0, 2, 2, 2, 2, 0, 2, 1, 2, 2, 2, 0, 0, 2, 0, 2, 1, 2, 2, 2, 2, 2, 2, 0, 2, 2, 0, 0, 0, 1, 0, 2, 2, 2, 2, 2, 2, 2, 2, 2, 1, 2, 2, 0, 1, 2, 2, 0, 2, 2, 2, 2, 1, 0, 0, 0, 2, 2, 2, 2, 0, 0, 0, 2, 2, 2, 2, 2, 0, 2, 2, 0, 2, 1, 2, 1, 0, 0, 0, 0, 2, 2, 2, 2, 2, 2, 2, 2, 2, 2, 2, 0, 2, 2, 0, 0, 0, 1, 2, 2, 2, 1, 1, 2, 1, 0, 0, 2, 1, 1, 2, 2, 2, 2, 2, 2, 2, 2, 0, 2, 0, 2, 2, 2, 2, 2, 0, 2, 2, 2, 1, 2, 0, 1, 0, 2, 2, 0, 0, 0, 2, 2, 1, 2, 0, 0, 0, 2, 2, 2, 2, 2, 2, 0, 2, 0, 2, 2, 0, 2, 0, 0, 2, 0, 2, 0, 2, 0, 0, 2, 2, 2, 2, 2, 2, 2, 0, 0, 2, 0, 2, 2, 0, 2, 2, 2, 0, 1, 2, 0, 2, 2, 0, 2, 0, 0, 0, 0, 0, 1, 2, 0, 2, 2, 1, 2, 2, 0, 2, 2, 2, 2, 2, 2, 1, 2, 2, 2, 2, 0, 2, 0, 0, 2, 0, 2, 0, 2, 2, 2, 2, 0, 0, 2, 0, 2, 2, 0, 2, 2, 2, 2, 2, 2, 2, 2, 0, 2, 0, 2, 0, 2, 0, 2, 0, 2, 2, 2, 0, 0, 2, 2, 2, 2, 1, 0, 2, 0, 1, 1, 2, 2, 0, 2, 1, 2, 2, 1, 0, 2, 2, 2, 2, 2, 2, 0, 0, 2, 2, 2, 2, 0, 2, 2, 2, 2, 2, 2, 1, 0, 1, 0, 2, 2, 0, 2, 2, 2, 0, 2, 2, 2, 2, 2, 2, 1, 0, 0, 2, 0, 2, 2, 2, 2, 0, 2, 2, 2, 0, 2, 2, 0, 0, 2, 2, 2, 2, 2, 0, 2, 2, 2, 2, 2, 0, 0, 1, 1, 1, 2, 2, 2, 2, 1, 0, 2, 2, 0, 2, 2, 2, 0, 2, 2, 2, 2, 2, 1, 1, 2, 0, 2, 2, 2, 0, 2, 0, 2, 0, 1, 2, 0, 0, 2, 0, 2, 2, 0, 0, 2, 0, 0, 0, 0, 0, 0, 0, 2, 0, 1, 0, 0, 2, 0, 2, 0, 2, 0, 2, 2, 2, 0, 1, 0, 2, 2, 0, 0, 0, 2, 0, 2, 2, 2, 2, 2, 0, 2, 0, 2, 2, 0, 1, 2, 2, 2, 0, 2, 2, 0, 0, 0, 2, 2, 0, 2, 2, 2, 2, 2, 2, 0, 0, 0, 0, 2, 2, 2, 2, 0, 2, 2, 2, 2, 0, 2, 2, 2, 0, 0, 0, 0, 2, 2, 2, 0, 2, 2, 0, 2, 0, 0, 0, 0, 2, 2, 2, 0, 2, 2, 2, 1, 2, 2, 2, 0, 2, 2, 0, 1, 2, 0, 2, 2, 2, 2, 2, 2, 2, 2, 2, 2, 2, 0, 2, 2, 0, 2, 1, 0, 0, 2, 2, 2, 2, 0, 2, 0, 2, 2, 2, 2, 2, 2, 2, 2, 2, 0, 2, 2, 2, 2, 2, 0, 2, 0, 0, 0, 2, 2, 2, 0, 2, 2, 2, 0, 0, 0, 0, 2, 2, 2, 2, 0, 2, 0, 0, 2, 2, 2, 0, 0, 0, 0, 0, 0, 2, 0, 2, 2, 1, 2, 0, 2, 2, 2, 0, 2, 2, 0, 0, 2, 0, 2, 2, 0, 0, 2, 2, 2, 2, 2, 0, 0, 0, 2, 0, 2, 0, 0, 2, 2, 0, 0, 0, 0, 2, 2, 1, 2, 1, 2, 0, 0, 2, 0, 0, 2, 0, 0, 0, 0, 0, 2, 0, 2, 2, 2, 2, 0, 2, 1, 2, 2, 2, 0, 2, 2, 2, 2, 1, 0, 0, 2, 0, 1, 0, 0, 2, 1, 2, 2, 2, 2, 0, 2, 1, 2, 2, 0, 2, 2, 0, 2, 0, 2, 2, 0, 0, 2, 1, 0, 2, 2, 2, 2, 0, 2, 1, 2, 2, 1, 0, 2, 0, 2, 2, 0, 2, 2, 2, 0, 0, 2, 0, 0, 2, 2, 2, 2, 1, 0, 2, 0, 0, 0, 0, 2, 2, 2, 2, 2, 2, 2, 0, 2, 2, 2, 2, 0, 0, 2, 2, 0, 0, 0, 0, 0, 2, 2, 0, 2, 2, 0, 2, 2, 2, 2, 1, 2, 2, 2, 2, 0, 2, 2, 0, 2, 2, 0, 2, 2, 2, 0, 0, 0, 1, 2, 2, 2, 2, 0, 0, 1, 2, 2, 2, 2, 0, 2, 2, 1, 2, 0, 0, 0, 2, 0, 2, 1, 2, 2, 0, 0, 0, 0, 2, 2, 2, 2, 2, 0, 0, 2, 2, 0, 2, 0, 2, 1, 2, 2, 2, 0, 2, 1, 2, 0, 2, 2, 0, 0, 2, 2, 0, 0, 2, 0, 2, 2, 0, 0, 2, 2, 2, 0, 0, 0, 2, 2, 0, 0, 2, 2, 2, 0, 0, 2, 2, 0, 2, 2, 0, 1, 0, 2, 1, 0, 0, 2, 2, 0, 0, 1, 2, 2, 0, 0, 2, 1, 2, 0, 0, 0, 0, 2, 0, 1, 2, 1, 2, 1, 2, 2, 1, 2, 0, 2, 0, 2, 2, 2, 1, 0, 2, 2, 2, 2, 2, 2, 2, 2, 2, 0, 0, 0, 1, 2, 0, 2, 2, 0, 0, 0, 0, 2, 2, 2, 2, 2, 2, 2, 1, 2, 2, 1, 0, 0, 2, 1, 2, 2, 2, 2, 2, 0, 2, 2, 1, 1, 2, 2, 2, 0, 2, 2, 2, 2, 2, 2, 2, 1, 0, 2, 2, 0, 2, 2, 2, 2, 2, 2, 2, 0, 2, 0, 0, 2, 2, 2, 2, 0, 1, 2, 2, 2, 0, 2, 0, 1, 2, 2, 2, 2, 2, 2, 1, 2, 0, 0, 2, 2, 2, 0, 2, 2, 2, 2, 2, 0, 0, 2, 2, 2, 2, 0, 2, 0, 0, 2, 0, 2, 0, 2, 2, 2, 0, 2, 2, 0, 0, 2, 2, 2, 2, 2, 0, 2, 0, 2, 2, 0, 2, 0, 2, 2, 0, 0, 2, 2, 0, 2, 0, 2, 2, 2, 0, 0, 2, 0, 2, 2, 1, 0, 2, 0, 2, 2, 0, 2, 2, 0, 0, 2, 0, 0, 2, 2, 2, 0, 0, 0, 2, 2, 2, 2, 2, 2, 2, 2, 2, 2, 1, 0, 0, 0, 2, 2, 2, 2, 2, 2, 0, 2, 2, 2, 0, 2, 2, 2, 0, 2, 0, 2, 2, 0, 0, 2, 0, 0, 2, 2, 2, 1, 2, 2, 1, 0, 2, 2, 0, 0, 1, 2, 0, 2, 0, 2, 0, 2, 2, 0, 0, 2, 0, 0, 0, 0, 2, 2, 2, 0, 2, 2, 2, 2, 0, 2, 2, 2, 2, 0, 2, 2, 2, 2, 2, 2, 2, 1, 2, 1, 0, 0, 2, 2, 2, 2, 2, 2, 0, 2, 1, 2, 2, 0, 0, 2, 0, 2, 2, 0, 2, 2, 2, 2, 0, 2, 1, 2, 2, 2, 0, 2, 2, 0, 0, 2, 2, 0, 2, 0, 2, 2, 2, 2, 2, 2, 2, 0, 2, 2, 2, 2, 1, 2, 2, 0, 2, 2, 2, 0, 2, 0, 2, 2, 0, 0, 0, 1, 2, 2, 2, 1, 1, 1, 2, 2, 2, 2, 2, 1, 1, 2, 2, 2, 2, 2, 0, 2, 0, 2, 2, 2, 0, 2, 2, 0, 2, 2, 2, 1, 2, 2, 0, 1, 2, 0, 2, 2, 0, 2, 2, 0, 0, 2, 2, 2, 0, 0, 1, 0, 2, 0, 0, 2, 0, 2, 0, 0, 2, 2, 0, 2, 2, 2, 2, 0, 1, 0, 2, 2, 2, 2, 0, 0, 2, 0, 0, 2, 2, 1, 2, 2, 0, 0, 2, 2, 2, 2, 2, 2, 2, 0, 2, 2, 2, 2, 0, 1, 2, 2, 2, 1, 0, 0, 1, 0, 2, 1, 2, 2, 0, 0, 2, 2, 2, 2, 0, 2, 0, 2, 2, 0, 0, 2, 2, 0, 2, 0, 0, 0, 2, 2, 2, 0, 0, 2, 1, 2, 2, 2, 1, 0, 2, 2, 0, 2, 2, 2, 2, 2, 0, 2, 2, 0, 0, 1, 2, 0, 0, 2, 2, 1, 2, 0, 2, 0, 2, 0, 0, 1, 0, 2, 1, 2, 2, 0, 0, 0, 2, 0, 2, 0, 2, 2, 0, 0, 0, 0, 0, 0, 0, 0, 0, 2, 0, 1, 1, 2, 2, 0, 2, 2, 1, 2, 2, 2, 0, 2, 2, 2, 2, 0, 2, 0, 0, 2, 2, 0, 2, 1, 0, 1, 2, 2, 2, 2, 0, 2, 2, 2, 0, 0, 2, 1, 2, 2, 1, 0, 0, 1, 2, 1, 2, 2, 0, 2, 2, 0, 0, 0, 1, 2, 2, 0, 2, 2, 1, 0, 0, 0, 2, 2, 2, 2, 0, 0, 1, 2, 2, 0, 1, 2, 2, 2, 0, 2, 2, 0, 0, 0, 1, 0, 1, 0, 2, 0, 0, 2, 2, 1, 2, 2, 2, 1, 2, 2, 0, 2, 0, 2, 0, 2, 0, 1, 2, 0, 1, 2, 2, 2, 2, 2, 0, 0, 2, 0, 2, 2, 0, 2, 0, 2, 0, 2, 2, 0, 2, 2, 2, 2, 2, 2, 2, 2, 0, 0, 0, 0, 1, 2, 2, 2, 1, 2, 2, 1, 2, 2, 0, 2, 2, 2, 2, 0, 2, 2, 2, 1, 0, 0, 0, 2, 0, 0, 2, 2, 2, 0, 2, 2, 2, 0, 2, 2, 0, 0, 1, 0, 0, 2, 2, 2, 2, 2, 2, 0, 2, 0, 0, 2, 2, 2, 0, 2, 0, 2, 2, 1, 2, 2, 0, 0, 0, 0, 0, 2, 0, 2, 0, 1, 0, 2, 0, 0, 2, 0, 2, 0, 2, 2, 2, 2, 1, 2, 0, 2, 2, 2, 0, 2, 2, 2, 2, 0, 2, 2, 0, 1, 2, 0, 2, 2, 2, 2, 0, 0, 0, 2, 2, 0, 0, 1, 2, 1, 2, 0, 2, 2, 2, 0, 2, 2, 2, 0, 2, 0, 2, 2, 1, 0, 2, 2, 2, 2, 2, 2, 0, 2, 2, 0, 2, 2, 2, 0, 0, 0, 2, 2, 1, 2, 0, 0, 2, 0, 2, 2, 0, 0, 0, 2, 0, 1, 0, 2, 2, 2, 0, 2, 2, 2, 2, 1, 2, 2, 0, 2, 2, 1, 2, 2, 2, 0, 0, 2, 0, 0, 0, 0, 1, 0, 1, 2, 2, 2, 0, 0, 2, 2, 2, 2, 0, 2, 0, 2, 0, 2, 2, 0, 0, 0, 2, 0, 0, 2, 2, 2, 0, 2, 1, 0, 2, 2, 2, 2, 2, 0, 2, 1, 1, 2, 2, 0, 2, 0, 1, 1, 2, 2, 2, 1, 0, 2, 0, 0, 0, 2, 0, 2, 2, 0, 0, 0, 2, 2, 0, 2, 2, 2, 0, 1, 2, 2, 2, 0, 1, 2, 0, 0, 2, 0, 2, 2, 0, 2, 2, 2, 2, 1, 2, 0, 0, 2, 2, 2, 0, 2, 0, 1, 2, 2, 2, 2, 2, 1, 0, 2, 0, 1, 0, 2, 2, 2, 2, 0, 0, 1, 2, 1, 2, 1, 2, 2, 2, 2, 2, 0, 2, 2, 0, 2, 2, 2, 2, 0, 2, 2, 2, 0, 2, 2, 0, 0, 2, 2, 2, 1, 2, 2, 0, 2, 2, 0, 2, 2, 2, 2, 0, 2, 2, 2, 2, 1, 2, 0, 2, 0, 2, 2, 0, 2, 2, 0, 2, 2, 0, 2, 0, 2, 1, 0, 2, 2, 2, 0, 0, 2, 0, 2, 0, 2, 0, 2, 1, 2, 2, 2, 2, 2, 2, 2, 2, 1, 0, 1, 0, 2, 0, 2, 0, 0, 2, 2, 2, 0, 2, 2, 0, 2, 1, 0, 2, 0, 2, 2, 2, 2, 2, 2, 2, 0, 2, 2, 0, 2, 2, 0, 2, 2, 2, 0, 0, 0, 2, 2, 2, 2, 1, 2, 0, 0, 2, 2, 2, 2, 2, 2, 2, 2, 2, 2, 2, 0, 1, 0, 0, 0, 0, 1, 2, 0, 2, 2, 2, 2, 2, 2, 0, 0, 0, 2, 2, 2, 1, 2, 2, 2, 0, 2, 2, 1, 2, 1, 0, 2, 1, 2, 2, 1, 1, 2, 2, 0, 2, 2, 2, 0, 2, 2, 0, 1, 2, 2, 2, 0, 1, 2, 0, 2, 0, 0, 2, 2, 2, 0, 2, 0, 0, 2, 0, 2, 2, 2, 1, 2, 2, 1, 0, 0, 2, 2, 0, 2, 1, 2, 0, 2, 1, 0, 2, 1, 0, 2, 0, 0, 2, 2, 2, 1, 2, 0, 2, 2, 2, 2, 0, 0, 2, 0, 0, 2, 2, 0, 1, 2, 2, 2, 0, 2, 0, 1, 2, 0, 2, 2, 0, 2, 1, 2, 2, 2, 2, 2, 2, 2, 0, 2, 2, 2, 2, 2, 2, 0, 2, 2, 2, 2, 2, 2, 0, 2, 2, 0, 2, 2, 2, 0, 0, 2, 2, 2, 2, 2, 2, 0, 2, 0, 2, 0, 0, 2, 2, 1, 2, 2, 2, 2, 2, 1, 2, 0, 2, 1, 2, 2, 0, 2, 2, 2, 1, 0, 2, 0, 1, 0, 2, 2, 2, 2, 2, 2, 2, 0, 0, 1, 2, 0, 0, 2, 1, 2, 0, 1, 2, 1, 2, 2, 1, 2, 0, 0, 2, 2, 2, 0, 0, 2, 2, 0, 2, 0, 2, 2, 2, 2, 2, 2, 0, 0, 0, 0, 0, 2, 2, 2, 2, 0, 2, 2, 2, 2, 2, 2, 2, 0, 2, 0, 2, 0, 2, 0, 2, 1, 0, 0, 2, 0, 0, 2, 0, 0, 0, 2, 0, 0, 2, 2, 2, 2, 2, 2, 0, 2, 1, 0, 0, 2, 0, 1, 0, 2, 0, 0, 2, 2, 2, 2, 2, 0, 2, 2, 0, 0, 0, 2, 0, 0, 2, 0, 2, 2, 2, 2, 0, 2, 0, 2, 0, 1, 2, 2, 1, 0, 2, 2, 2, 2, 2, 2, 2, 2, 2, 1, 1, 2, 2, 2, 0, 2, 2, 2, 0, 1, 2, 2, 0, 0, 0, 2, 2, 2, 2, 2, 2, 2, 2, 2, 2, 2, 2, 0, 0, 0, 2, 2, 2, 0, 2, 2, 0, 2, 2, 0, 2, 2, 2, 2, 2, 2, 1, 2, 2, 0, 0, 1, 0, 2, 2, 2, 1, 1, 2, 1, 1, 0, 2, 1, 2, 2, 2, 2, 2, 2, 0, 2, 2, 0, 0, 1, 2, 2, 1, 1, 0, 1, 0, 2, 1, 2, 0, 2, 2, 2, 2, 0, 0, 0, 2, 2, 2, 2, 0, 1, 2, 0, 2, 2, 2, 1, 1, 2, 2, 0, 0, 0, 0, 1, 0, 2, 2, 2, 0, 0, 2, 0, 0, 2, 2, 2, 2, 2, 0, 2, 2, 1, 0, 0, 2, 2, 1, 2, 2, 1, 0, 2, 2, 2, 2, 2, 2, 0, 0, 2, 2, 2, 2, 1, 2, 2, 0, 2, 1, 0, 0, 2, 0, 2, 1, 2, 2, 0, 2, 0, 0, 2, 0, 2, 2, 2, 2, 0, 1, 2, 2, 1, 2, 2, 2, 2, 1, 2, 2, 0, 0, 0, 2, 0, 1, 2, 0, 2, 2, 2, 2, 2, 0, 0, 2, 0, 1, 2, 2, 0, 0, 0, 2, 2, 2, 0, 0, 0, 0, 0, 2, 2, 2, 2, 2, 0, 0, 0, 0, 0, 2, 1, 0, 2, 2, 2, 2, 2, 1, 2, 2, 2, 2, 2, 0, 2, 2, 2, 2, 2, 1, 2, 2, 0, 0, 2, 2, 2, 2, 2, 0, 0, 2, 0, 0, 2, 0, 2, 2, 1, 0, 2, 1, 0, 0, 0, 2, 0, 0, 1, 0, 2, 2, 1, 1, 2, 2, 2, 2, 2, 0, 2, 2, 0, 0, 2, 1, 2, 2, 0, 2, 2, 2, 0, 2, 2, 1, 2, 2, 1, 2, 0, 0, 0, 0, 0, 2, 2, 2, 2, 2, 2, 2, 2, 0, 0, 2, 1, 0, 2, 2, 2, 0, 0, 0, 2, 0, 0, 1, 2, 0, 0, 2, 1, 2, 2, 1, 2, 2, 2, 2, 2, 0, 0, 2, 2, 2, 2, 2, 0, 2, 2, 2, 2, 2, 2, 2, 0, 2, 2, 2, 2, 2, 2, 2, 1, 1, 0, 2, 2, 0, 2, 2, 0, 2, 2, 0, 0, 2, 2, 2, 0, 2, 2, 2, 1, 2, 2, 2, 2, 0, 1, 2, 2, 2, 2, 2, 2, 2, 2, 0, 0, 0, 2, 2, 2, 0, 0, 2, 2, 2, 0, 2, 2, 2, 0, 0, 2, 2, 0, 0, 0, 2, 2, 2, 2, 2, 2, 2, 2, 2, 0, 2, 2, 0, 2, 0, 0, 2, 2, 1, 2, 2, 2, 2, 0, 2, 2, 2, 0, 1, 0, 0, 0, 2, 2, 2, 2, 2, 2, 0, 2, 2, 2, 2, 0, 1, 2, 1, 1, 2, 2, 0, 0, 0, 2, 2, 2, 2, 2, 2, 2, 2, 2, 1, 0, 0, 0, 0, 2, 2, 2, 0, 0, 2, 2, 0, 1, 2, 0, 2, 2, 2, 2, 0, 2, 0, 2, 1, 2, 2, 0, 0, 0, 0, 0, 0, 2, 1, 2, 0, 2, 2, 0, 2, 2, 2, 1, 2, 0, 0, 0, 0, 0, 0, 2, 2, 0, 2, 2, 1, 1, 2, 0, 0, 2, 2, 2, 2, 1, 0, 2, 0, 2, 0, 0, 2, 1, 2, 0, 2, 1, 1, 2, 2, 2, 2, 0, 0, 1, 0, 2, 2, 2, 0, 2, 2, 0, 2, 2, 2, 2, 2, 2, 2, 2, 2, 0, 0, 0, 2, 1, 0, 0, 0, 2, 2, 0, 2, 1, 1, 2, 2, 0, 2, 0, 0, 2, 0, 2, 2, 2, 0, 2, 2, 1, 1, 1, 1, 2, 2, 2, 2, 2, 2, 2, 0, 2, 0, 2, 2, 0, 2, 2, 2, 0, 2, 0, 2, 1, 2, 2, 1, 0, 2, 0, 2, 0, 1, 2, 2, 1, 2, 2, 2, 2, 0, 1, 2, 2, 1, 2, 1, 2, 2, 1, 2, 2, 0, 2, 2, 2, 2, 2, 0, 2, 0, 0, 2, 2, 2, 2, 2, 2, 1, 0, 1, 0, 2, 2, 2, 2, 1, 0, 2, 2, 0, 2, 0, 2, 2, 1, 0, 2, 0, 1, 2, 2, 2, 2, 2, 2, 0, 1, 2, 0, 1, 2, 2, 2, 2, 2, 2, 1, 2, 0, 0, 2, 2, 2, 2, 0, 2, 1, 2, 0, 0, 0, 1, 0, 2, 2, 2, 0, 2, 2, 2, 1, 2, 0, 2, 1, 2, 2, 0, 2, 0, 2, 0, 2, 2, 2, 0, 2, 2, 2, 0, 0, 2, 2, 1, 2, 2, 2, 1, 2, 2, 2, 2, 2, 2, 2, 2, 2, 2, 0, 2, 2, 2, 2, 2, 2, 2, 2, 2, 2, 2, 2, 2, 2, 2, 2, 2, 2, 1, 2, 1, 0, 0, 1, 0, 0, 2, 2, 0, 2, 2, 0, 2, 2, 0, 0, 2, 2, 0, 2, 0, 0, 2, 0, 2, 1, 2, 2, 2, 2, 2, 2, 2, 2, 2, 2, 2, 0, 2, 0, 2, 0, 2, 2, 2, 2, 2, 2, 2, 0, 2, 0, 2, 2, 2, 2, 0, 0, 0, 2, 2, 0, 2, 2, 2, 2, 1, 2, 2, 0, 2, 2, 2, 2, 0, 2, 1, 0, 2, 2, 0, 2, 2, 2, 1, 1, 0, 2, 0, 2, 2, 0, 2, 2, 2, 2, 2, 2, 2, 2, 2, 1, 1, 2, 2, 2, 2, 1, 1, 0, 2, 2, 1, 2, 0, 0, 0, 0, 2, 0, 2, 1, 0, 2, 2, 2, 2, 2, 0, 1, 1, 0, 2, 2, 2, 0, 1, 0, 0, 2, 2, 0, 0, 2, 0, 1, 2, 2, 2, 2, 2, 2, 0, 2, 2, 0, 0, 2, 0, 2, 2, 2, 2, 2, 1, 2, 2, 2, 0, 2, 1, 0, 1, 0, 0, 2, 2, 0, 2, 0, 2, 2, 0, 0, 2, 0, 1, 2, 2, 2, 2, 0, 1, 2, 0, 0, 2, 2, 2, 0, 0, 1, 0, 2, 2, 0, 2, 1, 2, 0, 2, 2, 0, 2, 0, 2, 2, 2, 0, 2, 2, 2, 2, 1, 2, 2, 2, 0, 2, 2, 2, 2, 1, 0, 2, 2, 2, 2, 0, 2, 0, 0, 0, 2, 2, 0, 2, 0, 0, 2, 2, 1, 0, 1, 2, 0, 2, 2, 1, 0, 2, 1, 2, 0, 2, 0, 2, 0, 0, 2, 0, 2, 0, 1, 0, 2, 1, 2, 2, 2, 1, 2, 2, 2, 2, 2, 1, 2, 0, 1, 0, 2, 0, 2, 2, 0, 0, 2, 0, 1, 2, 2, 2, 0, 1, 1, 1, 2, 2, 2, 0, 0, 2, 0, 0, 2, 1, 2, 0, 0, 2, 0, 2, 2, 0, 1, 2, 2, 0, 1, 1, 0, 2, 2, 2, 0, 2, 2, 2, 2, 2, 2, 0, 2, 2, 0, 2, 2, 2, 2, 2, 2, 0, 2, 2, 2, 2, 0, 2, 0, 2, 0, 2, 2, 2, 2, 2, 2, 2, 2, 0, 2, 2, 2, 0, 2, 1, 2, 2, 2, 2, 2, 0, 2, 0, 2, 2, 0, 2, 2, 2, 2, 2, 2, 2, 2, 2, 2, 0, 0, 0, 2, 2, 0, 2, 0, 0, 2, 2, 2, 0, 0, 0, 2, 2, 0, 2, 0, 2, 2, 0, 2, 2, 0, 2, 2, 2, 2, 2, 2, 0, 0, 2, 2, 2, 0, 0, 2, 1, 2, 2, 2, 2, 2, 1, 2, 2, 0, 2, 2, 1, 0, 0, 0, 0, 0, 2, 2, 2, 0, 2, 0, 2, 2, 2, 2, 0, 2, 0, 2, 2, 0, 1, 2, 2, 0, 2, 2, 1, 0, 2, 2, 2, 2, 0, 0, 2, 1, 2, 1, 1, 2, 2, 2, 0, 0, 2, 0, 2, 0, 2, 0, 2, 0, 2, 2, 0, 2, 0, 2, 2, 0, 0, 2, 1, 2, 2, 0, 2, 0, 2, 0, 2, 0, 0, 2, 0, 1, 0, 2, 2, 2, 2, 2, 1, 0, 2, 2, 0, 0, 0, 1, 2, 2, 2, 2, 0, 0, 2, 2, 2, 0, 0, 2, 2, 2, 0, 2, 2, 2, 0, 2, 0, 2, 0, 1, 0, 2, 2, 0, 2, 0, 2, 0, 2, 2, 1, 2, 2, 2, 1, 2, 2, 0, 0, 0, 2, 2, 2, 2, 2, 0, 1, 0, 0, 2, 2, 1, 1, 2, 0, 2, 0, 2, 2, 2, 2, 2, 0, 2, 0, 0, 2, 2, 0, 1, 2, 0, 0, 2, 2, 0, 2, 0, 0, 1, 2, 0, 0, 0, 2, 2, 0, 2, 2, 2, 2, 0, 2, 2, 0, 2, 2, 0, 1, 0, 0, 2, 2, 0, 0, 2, 2, 0, 2, 2, 2, 2, 0, 2, 2, 2, 0, 2, 0, 0, 0, 1, 2, 0, 2, 0, 2, 2, 0, 2, 2, 2, 2, 1, 0, 2, 0, 1, 2, 2, 2, 2, 2, 2, 2, 2, 0, 2, 2, 2, 2, 2, 2, 0, 2, 2, 0, 2, 0, 2, 2, 2, 0, 1, 0, 2, 2, 2, 1, 2, 2, 2, 2, 2, 2, 2, 2, 2, 2, 2, 2, 2, 2, 2, 2, 0, 2, 2, 2, 2, 0, 2, 2, 1, 2, 0, 2, 2, 0, 2, 2, 0, 2, 1, 2, 2, 2, 0, 2, 1, 2, 0, 0, 2, 2, 2, 1, 2, 2, 2, 2, 2, 0, 0, 0, 2, 0, 2, 2, 0, 2, 2, 2, 2, 2, 2, 0, 0, 2, 1, 2, 2, 0, 0, 2, 2, 2, 2, 2, 2, 2, 2, 2, 2, 0, 2, 0, 0, 0, 2, 0, 0, 0, 2, 2, 2, 2, 2, 2, 2, 0, 0, 0, 2, 2, 0, 2, 0, 2, 1, 2, 2, 2, 2, 2, 2, 0, 0, 2, 2, 2, 2, 2, 2, 1, 0, 2, 2, 1, 1, 1, 2, 2, 2, 2, 2, 2, 0, 2, 2, 2, 2, 2, 2, 0, 2, 2, 0, 2, 0, 0, 2, 2, 1, 2, 2, 2, 1, 0, 2, 2, 2, 2, 0, 2, 0, 2, 0, 2, 2, 2, 0, 2, 0, 2, 2, 2, 2, 2, 0, 2, 0, 0, 2, 0, 0, 2, 2, 2, 2, 2, 2, 2, 2, 2, 2, 2, 0, 2, 2, 2, 1, 0, 2, 2, 0, 0, 2, 0, 2, 0, 0, 2, 2, 0, 0, 2, 0, 2, 0, 2, 2, 2, 2, 0, 2, 0, 0, 2, 2, 2, 2, 2, 0, 1, 0, 2, 2, 2, 0, 2, 2, 2, 2, 2, 2, 2, 2, 2, 2, 2, 2, 0, 0, 0, 2, 2, 2, 2, 2, 1, 2, 2, 2, 0, 1, 0, 0, 2, 2, 2, 0, 0, 2, 2, 1, 2, 2, 2, 2, 2, 0, 0, 2, 0, 2, 0, 2, 0, 2, 0, 0, 0, 2, 2, 0, 2, 2, 2, 0, 2, 2, 2, 0, 2, 2, 0, 2, 2, 2, 0, 2, 2, 0, 2, 2, 0, 0, 2, 0, 2, 1, 2, 0, 0, 2, 2, 2, 2, 2, 1, 0, 2, 0, 2, 2, 1, 2, 0, 2, 0, 0, 2, 2, 2, 2, 2, 2, 2, 0, 2, 2, 2, 2, 0, 1, 2, 2, 0, 2, 2, 0, 2, 2, 2, 2, 2, 2, 2, 1, 2, 2, 2, 2, 0, 2, 0, 2, 2, 2, 0, 2, 0, 2, 2, 0, 0, 2, 2, 0, 0, 2, 2, 2, 2, 2, 2, 0, 1, 0, 2, 0, 2, 2, 2, 2, 2, 2, 2, 2, 2, 2, 0, 0, 2, 2, 2, 1, 2, 2, 0, 2, 2, 2, 2, 2, 0, 2, 2, 2, 0, 1, 2, 1, 2, 2, 0, 2, 2, 2, 2, 0, 1, 2, 2, 2, 0, 0, 0, 2, 2, 0, 0, 2, 0, 2, 0, 2, 0, 0, 1, 2, 0, 2, 1, 2, 0, 2, 2, 1, 2, 2, 1, 0, 1, 2, 2, 2, 0, 2, 2, 2, 0, 0, 2, 2, 2, 2, 1, 2, 0, 1, 2, 2, 2, 0, 2, 2, 2, 0, 0, 2, 2, 2, 0, 1, 2, 0, 1, 2, 2, 2, 0, 0, 2, 2, 2, 1, 0, 2, 2, 2, 2, 0, 0, 0, 2, 0, 2, 2, 2, 0, 2, 2, 0, 0, 2, 2, 0, 2, 2, 1, 2, 2, 0, 2, 0, 2, 2, 1, 2, 2, 2, 0, 1, 2, 2, 0, 2, 2, 2, 2, 2, 2, 2, 2, 0, 2, 2, 1, 0, 2, 0, 2, 2, 1, 2, 1, 2, 0, 0, 2, 2, 2, 2, 0, 2, 2, 2, 0, 2, 2, 2, 2, 0, 0, 0, 0, 2, 0, 0, 0, 0, 2, 2, 2, 2, 2, 0, 2, 0, 2, 2, 2, 0, 2, 2, 2, 2, 0, 0, 2, 0, 2, 2, 2, 2, 2, 0, 0, 0, 0, 2, 2, 2, 1, 2, 0, 2, 2, 2, 0, 1, 2, 2, 0, 2, 0, 2, 0, 1, 2, 0, 0, 2, 0, 0, 0, 2, 0, 2, 2, 0, 0, 2, 0, 2, 2, 2, 2, 0, 0, 2, 0, 2, 0, 0, 0, 0, 2, 2, 2, 2, 2, 2, 0, 2, 0, 0, 2, 0, 2, 2, 2, 2, 2, 2, 2, 0, 0, 2, 0, 0, 2, 2, 2, 0, 2, 1, 2, 2, 2, 2, 2, 1, 2, 2, 0, 2, 0, 0, 2, 2, 0, 0, 0, 1, 0, 0, 2, 2, 0, 2, 0, 2, 2, 2, 2, 2, 0, 2, 1, 2, 2, 0, 2, 2, 2, 0, 0, 0, 2, 2, 2, 0, 2, 2, 2, 0, 2, 2, 2, 2, 0, 2, 1, 2, 2, 0, 0, 2, 0, 2, 1, 2, 2, 2, 2, 2, 2, 2, 0, 0, 2, 2, 2, 2, 2, 0, 2, 2, 0, 0, 2, 0, 2, 2, 0, 2, 1, 2, 0, 2, 2, 2, 2, 2, 2, 2, 0, 2, 2, 2, 0, 2, 2, 2, 2, 0, 0, 2, 2, 2, 2, 2, 2, 2, 2, 2, 0, 2, 0, 0, 2, 2, 2, 2, 2, 0, 2, 2, 2, 0, 0, 1, 1, 2, 0, 2, 2, 0, 0, 0, 0, 2, 2, 2, 1, 0, 2, 2, 2, 2, 2, 2, 0, 2, 0, 0, 2, 0, 1, 2, 2, 0, 0, 2, 0, 1, 2, 2, 2, 0, 2, 0, 2, 2, 2, 2, 2, 0, 0, 0, 0, 1, 2, 0, 0, 0, 2, 2, 2, 0, 2, 0, 0, 0, 2, 2, 2, 2, 0, 0, 2, 1, 0, 2, 2, 2, 0, 2, 0, 1, 2, 2, 2, 0, 2, 2, 2, 2, 2, 2, 2, 2, 0, 2, 2, 2, 0, 2, 2, 0, 0, 2, 2, 2, 1, 0, 2, 0, 0, 2, 2, 0, 2, 2, 2, 2, 2, 2, 2, 2, 0, 2, 2, 0, 0, 1, 0, 2, 0, 2, 2, 0, 2, 0, 0, 0, 2, 2, 2, 2, 2, 2, 0, 2, 1, 0, 0, 2, 2, 2, 2, 2, 2, 0, 2, 0, 0, 0, 0, 2, 0, 1, 2, 2, 2, 2, 0, 2, 0, 2, 2, 2, 0, 0, 2, 2, 2, 2, 2, 2, 2, 2, 1, 2, 2, 2, 2, 0, 0, 2, 2, 2, 2, 2, 2, 2, 2, 0, 2, 1, 2, 2, 2, 0, 2, 1, 0, 2, 2, 2, 2, 0, 2, 2, 2, 0, 2, 2, 2, 0, 2, 0, 2, 0, 0, 2, 0, 2, 0, 2, 2, 0, 2, 2, 2, 0, 0, 2, 2, 2, 0, 2, 0, 2, 1, 1, 2, 2, 2, 2, 0, 2, 2, 2, 0, 2, 2, 2, 0, 2, 2, 1, 2, 2, 2, 2, 0, 2, 2, 2, 2, 2, 2, 2, 2, 2, 2, 2, 1, 2, 2, 2, 2, 1, 0, 2, 0, 0, 2, 2, 2, 1, 2, 2, 0, 2, 0, 2, 2, 0, 2, 2, 2, 1, 2, 0, 2, 1, 0, 0, 2, 2, 2, 2, 2, 1, 2, 2, 2, 1, 2, 2, 0, 1, 2, 2, 0, 1, 2, 0, 2, 2, 0, 2, 2, 2, 1, 2, 1, 0, 2, 0, 0, 2, 2, 0, 0, 2, 2, 2, 2, 0, 2, 2, 2, 0, 0, 2, 2, 2, 2, 2, 2, 2, 2, 0, 2, 0, 2, 2, 0, 0, 2, 2, 0, 0, 0, 0, 0, 2, 2, 0, 2, 2, 2, 2, 0, 2, 0, 2, 0, 1, 1, 2, 2, 2, 0, 2, 0, 2, 2, 2, 0, 2, 0, 2, 2, 2, 0, 2, 2, 1, 2, 0, 0, 2, 2, 0, 2, 2, 0, 2, 2, 2, 2, 0, 2, 2, 2, 0, 2, 2, 0, 0, 2, 0, 0, 0, 1, 2, 2, 2, 0, 1, 2, 2, 2, 0, 1, 0, 0, 2, 2, 1, 2, 2, 0, 2, 2, 0, 0, 0, 2, 0, 0, 0, 0, 2, 2, 2, 2, 2, 2, 2, 2, 0, 0, 2, 2, 2, 2, 2, 0, 0, 2, 2, 2, 0, 2, 1, 2, 2, 2, 0, 0, 2, 0, 0, 0, 2, 1, 2, 0, 2, 0, 0, 2, 0, 2, 2, 2, 2, 2, 0, 2, 2, 2, 2, 0, 0, 2, 2, 2, 1, 0, 2, 2, 2, 1, 2, 2, 2, 2, 0, 0, 2, 2, 0, 2, 0, 0, 2, 2, 2, 2, 2, 0, 2, 2, 2, 2, 2, 2, 2, 2, 2, 2, 1, 2, 0, 2, 2, 2, 2, 0, 2, 2, 2, 1, 2, 0, 1, 0, 2, 0, 0, 0, 2, 0, 0, 2, 2, 1, 0, 2, 2, 1, 0, 2, 0, 0, 2, 0, 1, 0, 1, 0, 0, 2, 0, 2, 2, 2, 1, 0, 0, 2, 0, 1, 0, 2, 2, 2, 0, 2, 2, 2, 2, 2, 2, 1, 0, 0, 2, 2, 2, 2, 1, 2, 0, 2, 2, 1, 2, 2, 0, 2, 2, 2, 0, 2, 0, 0, 0, 0, 2, 1, 2, 0, 2, 2, 2, 2, 2, 2, 0, 2, 1, 2, 0, 2, 2, 2, 2, 0, 0, 0, 0, 0, 2, 2, 1, 2, 2, 1, 2, 2, 2, 2, 2, 2, 2, 0, 2, 2, 2, 1, 2, 2, 2, 0, 0, 2, 1, 2, 0, 2, 2, 0, 2, 2, 2, 2, 2, 2, 2, 2, 2, 0, 0, 0, 2, 0, 2, 2, 0, 2, 2, 2, 1, 0, 2, 0, 2, 2, 0, 2, 0, 0, 1, 2, 2, 2, 2, 2, 2, 0, 0, 2, 2, 0, 2, 2, 2, 0, 2, 0, 0, 2, 0, 0, 2, 0, 2, 2, 0, 2, 2, 2, 2, 2, 0, 0, 2, 2, 2, 0, 2, 2, 1, 1, 0, 0, 2, 2, 2, 2, 0, 2, 0, 2, 2, 2, 0, 2, 0, 2, 0, 2, 2, 2, 2, 0, 2, 2, 2, 0, 2, 2, 2, 2, 2, 2, 2, 2, 2, 2, 0, 0, 2, 2, 2, 2, 2, 2, 1, 1, 1, 0, 2, 2, 1, 0, 0, 2, 0, 0, 0, 2, 0, 2, 2, 2, 2, 2, 0, 2, 2, 1, 2, 2, 0, 2, 2, 1, 2, 2, 2, 2, 1, 2, 2, 2, 2, 2, 2, 1, 2, 1, 0, 2, 2, 2, 2, 1, 2, 2, 0, 0, 2, 2, 0, 2, 2, 2, 2, 2, 2, 0, 1, 2, 0, 2, 1, 2, 0, 0, 2, 0, 2, 2, 2, 2, 2, 2, 2, 1, 2, 0, 2, 0, 1, 2, 2, 0, 0, 0, 0, 0, 0, 2, 2, 0, 2, 2, 0, 2, 2, 2, 0, 0, 0, 1, 0, 0, 0, 1, 0, 2, 2, 2, 2, 1, 2, 2, 2, 0, 2, 2, 2, 0, 1, 0, 1, 1, 0, 2, 2, 2, 2, 2, 2, 1, 2, 0, 2, 2, 0, 2, 2, 2, 2, 0, 2, 1, 0, 0, 0, 0, 2, 1, 1, 2, 2, 0, 0, 2, 2, 1, 1, 2, 0, 2, 1, 2, 2, 2, 2, 2, 0, 2, 2, 0, 2, 2, 0, 2, 2, 2, 2, 2, 0, 0, 2, 0, 2, 2, 0, 2, 1, 0, 2, 0, 2, 1, 0, 0, 2, 2, 0, 1, 0, 0, 2, 0, 2, 0, 2, 2, 0, 2, 1, 2, 2, 2, 2, 0, 2, 0, 1, 0, 2, 0, 2, 0, 2, 0, 2, 0, 0, 2, 2, 0, 1, 2, 2, 2, 2, 2, 2, 1, 2, 2, 2, 2, 2, 2, 2, 2, 2, 0, 2, 0, 2, 2, 2, 2, 1, 2, 2, 2, 2, 2, 2, 2, 2, 2, 0, 2, 2, 2, 2, 1, 0, 2, 2, 0, 2, 2, 2, 1, 2, 2, 2, 2, 2, 0, 2, 2, 2, 2, 2, 2, 0, 2, 2, 0, 2, 0, 0, 2, 0, 2, 2, 2, 2, 2, 1, 0, 2, 2, 0, 2, 2, 0, 2, 2, 2, 0, 2, 0, 0, 2, 2, 2, 2, 0, 2, 2, 0, 2, 2, 2, 2, 2, 2, 2, 1, 0, 0, 2, 0, 0, 0, 0, 2, 2, 0, 0, 2, 2, 2, 2, 0, 2, 2, 0, 2, 2, 1, 0, 0, 2, 0, 2, 0, 2, 1, 2, 0, 0, 1, 0, 2, 2, 2, 2, 0, 2, 0, 2, 2, 2, 0, 2, 0, 0, 2, 2, 1, 0, 2, 0, 2, 0, 2, 0, 2, 2, 2, 2, 0, 2, 0, 2, 2, 0, 2, 0, 2, 0, 2, 2, 2, 0, 0, 0, 0, 2, 0, 1, 2, 2, 2, 1, 1, 2, 1, 2, 2, 1, 1, 2, 2, 2, 0, 2, 1, 2, 2, 2, 2, 2, 1, 2, 0, 2, 2, 0, 2, 0, 2, 2, 0, 1, 2, 2, 1, 2, 0, 2, 2, 0, 2, 2, 0, 2, 2, 2, 2, 1, 0, 2, 0, 0, 0, 0, 2, 2, 2, 0, 0, 2, 2, 0, 2, 2, 2, 1, 2, 2, 2, 2, 2, 0, 0, 2, 1, 2, 0, 2, 2, 2, 2, 2, 2, 0, 2, 2, 2, 2, 0, 0, 0, 2, 2, 0, 0, 2, 1, 2, 1, 2, 2, 2, 2, 2, 2, 0, 2, 1, 2, 2, 1, 2, 2, 1, 2, 0, 0, 2, 2, 2, 0, 2, 2, 2, 2, 2, 2, 2, 1, 2, 0, 2, 0, 0, 0, 1, 0, 2, 0, 1, 2, 0, 0, 2, 2, 2, 1, 2, 2, 2, 2, 1, 2, 0, 2, 0, 1, 1, 0, 2, 0, 0, 0, 2, 2, 0, 0, 0, 2, 2, 2, 0, 2, 0, 0, 2, 2, 2, 2, 0, 0, 2, 2, 0, 2, 2, 2, 2, 1, 1, 0, 0, 2, 0, 0, 0, 2, 2, 2, 2, 0, 2, 2, 2, 0, 1, 0, 0, 0, 1, 0, 0, 2, 1, 0, 2, 2, 2, 0, 0, 2, 2, 2, 2, 2, 2, 2, 2, 2, 2, 2, 0, 2, 2, 1, 0, 0, 2, 0, 2, 2, 2, 0, 2, 0, 2, 2, 0, 2, 0, 2, 0, 0, 0, 2, 2, 2, 0, 0, 2, 0, 0, 0, 2, 0, 2, 0, 2, 2, 2, 2, 0, 2, 2, 0, 2, 2, 2, 0, 0, 2, 2, 2, 2, 0, 1, 2, 2, 2, 2, 0, 2, 2, 1, 1, 2, 0, 2, 1, 0, 2, 0, 2, 2, 1, 1, 0, 0, 2, 2, 2, 1, 2, 2, 2, 0, 2, 0, 2, 2, 2, 2, 0, 0, 2, 0, 0, 0, 2, 0, 0, 2, 2, 2, 2, 2, 2, 2, 1, 0, 2, 0, 2, 0, 1, 2, 2, 0, 1, 2, 2, 2, 2, 2, 2, 0, 2, 2, 0, 1, 2, 0, 0, 2, 2, 2, 2, 2, 2, 2, 2, 0, 1, 2, 2, 2, 2, 2, 2, 0, 2, 2, 0, 1, 2, 2, 2, 2, 2, 2, 2, 0, 2, 0, 2, 0, 2, 0, 2, 2, 2, 2, 2, 0, 2, 2, 2, 0, 1, 0, 2, 0, 2, 0, 2, 2, 0, 2, 2, 0, 2, 0, 1, 2, 0, 2, 2, 2, 2, 2, 2, 2, 2, 2, 2, 2, 0, 2, 2, 1, 0, 0, 2, 2, 0, 2, 2, 2, 1, 2, 2, 1, 0, 2, 2, 0, 2, 2, 2, 0, 1, 0, 2, 2, 2, 2, 2, 0, 0, 0, 0, 2, 2, 1, 2, 0, 2, 2, 2, 2, 1, 2, 0, 2, 2, 0, 2, 2, 0, 2, 1, 1, 2, 2, 1, 2, 2, 1, 0, 2, 0, 2, 1, 2, 0, 1, 0, 1, 0, 0, 0, 1, 0, 2, 2, 0, 2, 0, 2, 0, 0, 2, 2, 1, 1, 2, 2, 2, 0, 2, 0, 2, 2, 0, 0, 0, 2, 0, 2, 2, 2, 2, 2, 0, 0, 2, 0, 2, 0, 2, 2, 2, 0, 2, 2, 2, 2, 1, 0, 2, 2, 0, 2, 0, 0, 0, 2, 1, 0, 2, 2, 2, 1, 1, 1, 2, 2, 2, 2, 2, 0, 2, 2, 2, 1, 2, 0, 2, 0, 0, 2, 0, 2, 2, 2, 2, 0, 2, 2, 0, 2, 1, 2, 2, 0, 0, 2, 2, 2, 2, 0, 2, 2, 2, 0, 2, 0, 0, 2, 2, 2, 0, 2, 0, 1, 0, 1, 0, 0, 2, 0, 2, 0, 2, 2, 2, 0, 0, 2, 2, 0, 0, 0, 2, 1, 0, 0, 2, 0, 2, 2, 0, 2, 2, 2, 0, 1, 2, 0, 1, 0, 2, 2, 2, 0, 2, 0, 2, 0, 0, 2, 2, 2, 2, 2, 2, 2, 1, 2, 2, 0, 2, 2, 2, 2, 2, 0, 0, 0, 2, 2, 0, 1, 2, 2, 0, 2, 0, 2, 2, 0, 0, 2, 2, 0, 2, 2, 2, 1, 2, 2, 2, 2, 1, 2, 2, 2, 1, 2, 2, 2, 2, 2, 2, 2, 2, 2, 1, 2, 2, 2, 0, 1, 0, 2, 2, 0, 2, 2, 0, 0, 2, 2, 2, 1, 2, 2, 1, 2, 1, 2, 2, 2, 2, 2, 2, 2, 2, 1, 2, 2, 2, 0, 0, 0, 0, 0, 2, 2, 2, 2, 2, 2, 0, 2, 2, 2, 0, 0, 0, 2, 2, 2, 2, 1, 1, 2, 2, 2, 2, 2, 2, 0, 2, 0, 2, 2, 1, 1, 0, 2, 2, 2, 2, 0, 0, 2, 2, 2, 0, 0, 0, 2, 2, 2, 2, 2, 1, 0, 2, 2, 0, 0, 2, 2, 1, 2, 1, 2, 2, 0, 2, 2, 2, 0, 1, 1, 2, 0, 2, 2, 0, 0, 2, 0, 2, 0, 2, 0, 2, 1, 2, 0, 2, 0, 2, 0, 0, 2, 2, 2, 0, 2, 2, 0, 2, 2, 2, 1, 2, 2, 0, 2, 0, 2, 2, 2, 2, 0, 2, 2, 0, 2, 2, 2, 0, 0, 0, 0, 0, 1, 1, 2, 2, 2, 1, 2, 2, 2, 2, 2, 2, 2, 2, 1, 2, 0, 2, 2, 2, 2, 0, 0, 2, 2, 2, 0, 2, 2, 2, 0, 2, 2, 2, 0, 2, 0, 1, 2, 2, 2, 2, 2, 1, 2, 2, 2, 2, 2, 0, 1, 2, 2, 0, 2, 2, 2, 2, 0, 2, 1, 2, 2, 0, 2, 2, 2, 0, 2, 0, 0, 2, 2, 2, 0, 2, 2, 0, 2, 2, 0, 2, 0, 0, 0, 2, 1, 0, 0, 2, 2, 2, 2, 0, 0, 1, 2, 2, 2, 2, 1, 2, 2, 0, 2, 2, 2, 2, 0, 0, 2, 2, 2, 2, 2, 0, 2, 2, 2, 2, 2, 2, 2, 0, 2, 2, 2, 1, 1, 2, 2, 2, 2, 2, 0, 0, 2, 2, 2, 2, 2, 0, 0, 0, 2, 2, 2, 2, 2, 0, 2, 2, 1, 0, 0, 2, 2, 2, 2, 2, 2, 0, 2, 0, 2, 2, 2, 2, 2, 0, 2, 0, 2, 2, 0, 2, 0, 2, 0, 0, 2, 0, 2, 2, 0, 2, 2, 0, 2, 2, 1, 2, 0, 2, 2, 2, 2, 2, 1, 0, 0, 2, 2, 0, 2, 0, 2, 2, 0, 2, 2, 2, 1, 1, 0, 2, 2, 2, 2, 0, 0, 0, 2, 2, 1, 2, 0, 2, 0, 2, 0, 2, 2, 0, 0, 0, 2, 2, 2, 0, 2, 2, 0, 2, 2, 2, 2, 2, 1, 2, 2, 0, 1, 2, 2, 0, 0, 0, 0, 0, 0, 2, 0, 2, 0, 2, 2, 0, 0, 2, 2, 2, 2, 0, 2, 2, 2, 2, 2, 0, 2, 2, 2, 2, 2, 0, 2, 0, 0, 2, 0, 2, 0, 0, 0, 0, 2, 2, 2, 2, 0, 2, 2, 2, 2, 0, 2, 0, 0, 2, 2, 0, 2, 0, 2, 0, 1, 0, 2, 2, 2, 2, 2, 2, 2, 1, 0, 1, 2, 0, 2, 0, 2, 2, 2, 2, 0, 0, 2, 1, 2, 2, 2, 2, 2, 2, 2, 2, 0, 2, 0, 2, 0, 0, 2, 1, 2, 2, 2, 0, 0, 2, 2, 2, 2, 2, 0, 0, 2, 2, 2, 2, 1, 0, 2, 2, 2, 1, 2, 2, 2, 2, 2, 1, 0, 0, 2, 2, 2, 2, 0, 2, 0, 2, 2, 2, 2, 2, 2, 0, 1, 0, 0, 2, 2, 1, 0, 2, 0, 2, 0, 2, 2, 0, 0, 1, 2, 2, 2, 0, 0, 2, 2, 2, 0, 2, 2, 2, 1, 0, 2, 2, 0, 1, 2, 0, 0, 0, 2, 1, 2, 0, 2, 1, 2, 2, 2, 2, 2, 2, 2, 1, 2, 2, 1, 2, 0, 2, 1, 2, 1, 2, 0, 0, 2, 0, 2, 0, 2, 1, 1, 0, 0, 2, 2, 1, 0, 2, 2, 2, 2, 0, 2, 0, 2, 2, 1, 2, 2, 0, 2, 1, 2, 2, 0, 0, 0, 0, 2, 2, 0, 1, 1, 2, 2, 2, 2, 2, 0, 2, 2, 0, 2, 2, 0, 2, 2, 2, 2, 0, 2, 1, 0, 2, 2, 2, 2, 2, 0, 1, 0, 2, 0, 0, 0, 0, 2, 2, 0, 2, 0, 0, 0, 2, 1, 0, 2, 1, 2, 0, 2, 0, 2, 2, 2, 2, 2, 2, 2, 2, 2, 2, 2, 2, 0, 2, 0, 0, 0, 0, 0, 0, 2, 2, 2, 2, 1, 2, 0, 2, 0, 0, 2, 2, 2, 2, 0, 0, 2, 0, 1, 2, 2, 0, 2, 0, 2, 2, 0, 2, 1, 0, 2, 2, 2, 2, 2, 2, 1, 2, 2, 2, 2, 1, 0, 0, 0, 0, 0, 0, 0, 2, 1, 2, 2, 0, 2, 2, 0, 2, 0, 2, 2, 0, 1, 2, 1, 2, 2, 0, 0, 2, 0, 2, 2, 0, 2, 2, 2, 0, 0, 2, 1, 2, 0, 2, 2, 2, 2, 2, 2, 0, 2, 2, 0, 2, 1, 2, 2, 2, 0, 0, 0, 2, 2, 2, 2, 0, 2, 0, 2, 2, 2, 2, 0, 0, 2, 2, 2, 2, 0, 0, 2, 2, 2, 1, 1, 2, 0, 2, 0, 2, 1, 2, 2, 2, 2, 0, 0, 2, 2, 2, 2, 0, 2, 2, 2, 0, 2, 0, 2, 2, 2, 2, 2, 0, 2, 0, 0, 2, 2, 2, 0, 2, 2, 0, 0, 2, 0, 2, 2, 2, 2, 2, 0, 2, 2, 2, 0, 2, 2, 0, 0, 0, 2, 0, 1, 2, 2, 2, 0, 1, 0, 2, 0, 2, 0, 2, 0, 2, 0, 2, 2, 2, 2, 2, 2, 2, 0, 2, 0, 1, 2, 0, 2, 0, 2, 2, 2, 0, 2, 2, 0, 2, 0, 0, 2, 2, 2, 2, 2, 1, 2, 2, 2, 2, 0, 1, 2, 2, 1, 2, 2, 0, 2, 1, 2, 2, 0, 2, 0, 2, 2, 2, 2, 2, 0, 2, 2, 0, 2, 0, 0, 2, 0, 2, 2, 2, 2, 2, 2, 2, 2, 1, 2, 2, 2, 0, 2, 0, 0, 0, 2, 2, 2, 2, 1, 0, 1, 1, 2, 2, 2, 1, 2, 2, 2, 0, 0, 2, 0, 2, 2, 0, 0, 0, 2, 2, 2, 0, 2, 2, 2, 2, 0, 2, 2, 2, 0, 2, 1, 2, 2, 2, 2, 1, 0, 2, 0, 0, 2, 1, 2, 2, 2, 0, 2, 2, 0, 0, 2, 0, 0, 0, 2, 0, 1, 2, 2, 2, 2, 1, 2, 0, 1, 2, 1, 0, 0, 0, 0, 2, 2, 0, 2, 2, 2, 0, 2, 2, 0, 1, 2, 2, 2, 2, 2, 0, 2, 2, 2, 0, 2, 2, 0, 0, 0, 0, 2, 2, 2, 2, 2, 2, 2, 0, 2, 2, 2, 0, 2, 2, 2, 2, 2, 0, 1, 2, 2, 2, 2, 0, 2, 0, 1, 1, 2, 0, 0, 0, 2, 0, 1, 0, 2, 2, 2, 2, 0, 2, 2, 2, 0, 2, 2, 2, 2, 2, 2, 0, 0, 2, 2, 2, 2, 0, 2, 1, 0, 0, 0, 2, 0, 2, 2, 0, 2, 2, 0, 2, 2, 2, 0, 2, 2, 2, 2, 0, 2, 0, 2, 0, 2, 2, 2, 0, 2, 2, 0, 2, 2, 2, 0, 2, 2, 2, 2, 2, 2, 2, 2, 2, 2, 2, 2, 2, 1, 2, 2, 2, 2, 2, 2, 2, 2, 2, 0, 1, 1, 2, 2, 0, 2, 2, 0, 2, 0, 0, 2, 0, 2, 2, 2, 0, 1, 0, 2, 0, 2, 0, 2, 0, 2, 2, 0, 2, 0, 1, 2, 0, 1, 0, 0, 2, 0, 2, 2, 2, 2, 0, 2, 0, 2, 2, 0, 1, 2, 2, 2, 0, 2, 0, 2, 0, 2, 2, 2, 0, 0, 2, 1, 0, 1, 2, 2, 0, 2, 0, 2, 2, 0, 2, 0, 2, 1, 2, 2, 2, 2, 0, 1, 2, 2, 0, 2, 2, 2, 2, 2, 2, 2, 2, 0, 0, 2, 2, 0, 2, 0, 2, 0, 2, 2, 2, 2, 2, 0, 1, 0, 2, 0, 2, 1, 2, 0, 2, 2, 0, 0, 2, 2, 0, 0, 1, 2, 2, 2, 2, 2, 0, 0, 2, 2, 0, 0, 1, 2, 2, 2, 2, 2, 2, 2, 0, 2, 0, 0, 0, 2, 2, 2, 0, 0, 2, 2, 2, 2, 0, 2, 2, 2, 1, 0, 2, 2, 2, 0, 1, 2, 2, 2, 0, 1, 2, 2, 0, 0, 2, 2, 0, 2, 2, 2, 2, 2, 0, 2, 2, 0, 0, 2, 2, 1, 0, 1, 1, 2, 2, 2, 2, 2, 2, 0, 0, 2, 0, 1, 2, 0, 0, 2, 2, 2, 0, 0, 2, 0, 2, 0, 2, 0, 2, 1, 0, 0, 2, 2, 0, 0, 0, 2, 2, 0, 2, 0, 1, 0, 0, 1, 1, 1, 2, 2, 1, 2, 2, 0, 0, 2, 2, 1, 2, 2, 2, 2, 2, 2, 2, 0, 1, 2, 2, 2, 0, 2, 2, 0, 2, 0, 1, 0, 0, 2, 2, 2, 2, 1, 2, 2, 2, 0, 0, 0, 2, 2, 0, 2, 1, 2, 2, 2, 2, 0, 2, 0, 0, 0, 2, 0, 2, 2, 2, 2, 2, 0, 2, 2, 2, 0, 0, 0, 2, 0, 1, 2, 2, 0, 2, 0, 0, 2, 0, 2, 2, 2, 2, 1, 2, 2, 2, 2, 0, 2, 0, 2, 2, 2, 1, 0, 2, 0, 2, 0, 2, 0, 1, 2, 2, 2, 2, 2, 0, 2, 2, 2, 2, 1, 0, 0, 0, 2, 0, 2, 2, 2, 0, 2, 0, 2, 2, 2, 2, 2, 2, 1, 2, 2, 0, 2, 0, 2, 0, 2, 2, 2, 1, 2, 2, 0, 2, 2, 1, 2, 2, 2, 0, 0, 2, 0, 2, 0, 1, 2, 2, 2, 2, 2, 2, 2, 0, 2, 0, 2, 2, 2, 2, 2, 2, 2, 2, 0, 0, 2, 2, 2, 0, 0, 1, 0, 2, 0, 2, 2, 2, 0, 0, 2, 1, 2, 2, 2, 2, 2, 0, 0, 2, 1, 0, 0, 0, 1, 0, 2, 0, 0, 2, 2, 2, 0, 0, 0, 2, 2, 2, 2, 2, 2, 0, 0, 2, 2, 2, 1, 2, 0, 0, 2, 0, 2, 0, 2, 2, 2, 0, 2, 2, 2, 0, 0, 2, 2, 0, 2, 0, 0, 2, 2, 0, 0, 0, 2, 0, 0, 2, 2, 0, 0, 2, 0, 0, 2, 2, 0, 0, 1, 1, 0, 2, 0, 0, 2, 2, 2, 2, 0, 2, 2, 2, 0, 2, 2, 2, 2, 2, 2, 0, 2, 1, 2, 2, 0, 2, 2, 2, 2, 2, 0, 1, 0, 2, 2, 0, 0, 0, 0, 2, 2, 0, 2, 1, 0, 2, 2, 1, 1, 2, 2, 2, 2, 2, 2, 2, 2, 2, 2, 2, 2, 2, 0, 2, 1, 2, 2, 0, 2, 2, 2, 0, 0, 1, 2, 2, 2, 2, 1, 0, 2, 2, 2, 1, 2, 0, 1, 2, 0, 2, 2, 0, 1, 0, 2, 2, 2, 0, 1, 0, 0, 2, 2, 2, 2, 2, 0, 0, 2, 2, 1, 2, 2, 2, 2, 2, 2, 0, 2, 0, 2, 2, 2, 2, 0, 2, 0, 2, 0, 2, 2, 0, 0, 0, 0, 2, 2, 2, 2, 2, 0, 2, 0, 0, 2, 2, 2, 2, 2, 2, 2, 0, 0, 2, 2, 0, 2, 2, 2, 2, 2, 1, 0, 0, 2, 2, 2, 0, 0, 0, 1, 0, 1, 0, 2, 0, 2, 1, 2, 2, 2, 2, 1, 0, 2, 2, 2, 2, 0, 2, 2, 1, 0, 0, 0, 2, 0, 0, 2, 2, 2, 1, 1, 0, 2, 0, 2, 2, 2, 2, 2, 1, 2, 2, 2, 2, 2, 2, 1, 1, 0, 0, 2, 1, 2, 2, 2, 2, 2, 2, 2, 1, 2, 2, 0, 1, 0, 0, 2, 2, 0, 2, 0, 0, 0, 0, 2, 1, 2, 2, 0, 2, 2, 2, 2, 0, 1, 2, 0, 0, 2, 2, 0, 2, 0, 1, 2, 2, 2, 2, 2, 1, 1, 2, 2, 2, 2, 2, 2, 0, 2, 1, 2, 2, 0, 2, 2, 2, 0, 2, 2, 0, 2, 2, 2, 2, 2, 1, 2, 0, 1, 0, 2, 0, 2, 2, 2, 0, 2, 2, 2, 0, 2, 0, 2, 2, 2, 2, 0, 1, 0, 1, 2, 0, 2, 2, 2, 0, 0, 2, 0, 0, 2, 2, 0, 2, 2, 2, 2, 1, 0, 1, 1, 2, 2, 2, 2, 1, 2, 0, 2, 0, 0, 0, 0, 2, 0, 2, 2, 2, 2, 2, 1, 2, 2, 1, 2, 1, 1, 2, 0, 2, 0, 2, 2, 2, 1, 0, 0, 2, 2, 2, 2, 2, 0, 2, 2, 0, 2, 2, 2, 2, 2, 0, 2, 2, 2, 1, 0, 2, 0, 1, 2, 2, 0, 2, 2, 0, 2, 2, 1, 1, 2, 0, 2, 0, 0, 2, 0, 0, 2, 0, 2, 2, 1, 2, 0, 2, 1, 0, 0, 2, 0, 0, 0, 2, 2, 2, 0, 2, 0, 2, 1, 0, 1, 2, 2, 1, 0, 2, 1, 2, 1, 0, 0, 2, 2, 2, 2, 2, 0, 0, 2, 0, 0, 2, 0, 2, 1, 0, 2, 2, 2, 0, 2, 2, 0, 2, 0, 2, 0, 0, 2, 2, 2, 2, 2, 0, 2, 2, 1, 0, 0, 2, 2, 2, 2, 2, 2, 0, 2, 0, 1, 2, 0, 2, 2, 2, 0, 2, 0, 2, 2, 2, 2, 2, 2, 0, 2, 1, 2, 2, 1, 0, 0, 2, 0, 0, 2, 2, 0, 2, 0, 1, 0, 0, 2, 2, 2, 2, 0, 2, 0, 1, 2, 2, 2, 2, 2, 2, 0, 2, 1, 0, 2, 2, 2, 2, 2, 1, 2, 0, 2, 2, 0, 0, 2, 2, 0, 2, 2, 2, 0, 2, 0, 1, 2, 2, 1, 2, 2, 0, 0, 2, 0, 2, 2, 2, 0, 0, 0, 0, 0, 2, 2, 0, 2, 0, 0, 0, 0, 2, 0, 2, 0, 1, 2, 0, 0, 0, 0, 2, 2, 2, 2, 0, 0, 1, 2, 0, 2, 1, 0, 0, 2, 2, 0, 0, 2, 2, 0, 2, 0, 2, 0, 2, 0, 0, 2, 2, 0, 0, 2, 0, 0, 2, 2, 2, 0, 0, 2, 0, 0, 2, 2, 2, 0, 2, 2, 2, 0, 0, 2, 0, 2, 2, 0, 2, 2, 0, 0, 2, 2, 0, 2, 0, 2, 2, 1, 2, 2, 2, 2, 0, 2, 2, 2, 0, 1, 2, 2, 2, 2, 2, 2, 0, 2, 2, 2, 2, 0, 2, 1, 2, 0, 2, 0, 2, 2, 0, 2, 2, 1, 2, 2, 2, 2, 2, 2, 0, 0, 2, 0, 2, 0, 2, 2, 2, 2, 2, 2, 1, 1, 1, 0, 0, 0, 2, 2, 2, 2, 0, 0, 2, 0, 2, 2, 1, 2, 0, 2, 2, 2, 2, 2, 0, 2, 2, 2, 2, 2, 2, 0, 2, 2, 2, 2, 2, 2, 2, 2, 2, 2, 2, 1, 2, 1, 2, 1, 2, 2, 2, 0, 2, 1, 2, 2, 2, 2, 2, 2, 2, 0, 2, 2, 1, 0, 2, 2, 2, 0, 2, 0, 2, 2, 2, 0, 2, 2, 1, 1, 2, 2, 2, 2, 2, 2, 2, 0, 2, 2, 0, 0, 2, 1, 1, 2, 0, 2, 2, 0, 2, 2, 0, 0, 2, 2, 0, 0, 0, 2, 2, 1, 2, 2, 2, 2, 0, 2, 2, 2, 2, 2, 2, 2, 2, 2, 2, 0, 2, 2, 2, 2, 2, 2, 0, 2, 2, 0, 2, 2, 2, 1, 0, 0, 2, 2, 0, 2, 0, 2, 0, 2, 2, 2, 0, 2, 2, 1, 2, 2, 2, 0, 0, 2, 0, 0, 0, 0, 2, 2, 1, 2, 2, 1, 0, 2, 2, 0, 2, 0, 2, 2, 0, 2, 0, 2, 1, 2, 2, 2, 2, 2, 0, 2, 0, 2, 0, 2, 0, 0, 2, 2, 2, 2, 2, 0, 2, 0, 2, 2, 0, 2, 0, 2, 0, 0, 2, 2, 2, 2, 0, 0, 2, 0, 2, 0, 0, 0, 2, 0, 2, 2, 0, 2, 2, 2, 2, 2, 2, 1, 2, 2, 2, 2, 2, 0, 2, 0, 2, 2, 2, 2, 2, 2, 2, 2, 0, 2, 2, 2, 2, 0, 2, 2, 1, 2, 2, 0, 2, 2, 0, 2, 0, 2, 0, 1, 2, 0, 2, 0, 2, 0, 2, 1, 2, 2, 0, 2, 0, 2, 2, 0, 2, 1, 2, 2, 0, 2, 2, 1, 0, 2, 2, 1, 2, 2, 2, 2, 1, 2, 2, 2, 2, 0, 0, 2, 0, 0, 0, 0, 0, 2, 2, 2, 2, 2, 0, 0, 0, 2, 2, 2, 0, 0, 2, 2, 0, 2, 0, 2, 1, 2, 2, 2, 2, 0, 2, 0, 2, 2, 0, 0, 2, 2, 2, 2, 2, 2, 2, 2, 2, 0, 2, 0, 2, 0, 0, 2, 2, 2, 2, 2, 2, 0, 0, 2, 2, 0, 0, 2, 2, 2, 0, 0, 0, 2, 1, 2, 2, 2, 1, 0, 2, 2, 2, 0, 2, 0, 2, 2, 2, 1, 2, 0, 0, 0, 0, 2, 0, 2, 2, 2, 2, 2, 2, 0, 2, 1, 2, 2, 2, 2, 2, 0, 2, 0, 2, 2, 2, 2, 0, 2, 2, 1, 0, 2, 2, 0, 2, 0, 2, 0, 2, 2, 2, 2, 0, 2, 2, 2, 2, 2, 2, 2, 1, 0, 0, 2, 2, 2, 2, 2, 1, 2, 2, 2, 0, 0, 0, 2, 0, 2, 2, 2, 2, 2, 0, 2, 2, 1, 2, 2, 2, 0, 2, 0, 0, 0, 2, 0, 2, 2, 0, 2, 2, 0, 1, 0, 2, 2, 2, 2, 2, 2, 2, 0, 2, 2, 2, 2, 2, 0, 2, 2, 2, 0, 2, 0, 2, 2, 2, 2, 0, 0, 2, 0, 2, 2, 0, 2, 2, 2, 2, 2, 1, 2, 0, 2, 0, 2, 2, 2, 2, 0, 2, 0, 2, 0, 1, 2, 0, 2, 1, 0, 2, 2, 0, 2, 2, 2, 2, 2, 0, 0, 2, 2, 2, 2, 0, 2, 2, 0, 2, 0, 0, 2, 0, 2, 2, 2, 2, 2, 1, 0, 2, 2, 2, 2, 2, 2, 2, 0, 0, 0, 2, 2, 1, 2, 0, 2, 2, 2, 2, 2, 2, 1, 2, 2, 2, 1, 0, 2, 2, 2, 2, 0, 0, 0, 2, 2, 0, 0, 0, 0, 2, 2, 1, 0, 2, 0, 2, 2, 2, 0, 2, 2, 2, 2, 2, 0, 0, 0, 0, 1, 2, 1, 2, 2, 2, 2, 2, 2, 0, 2, 2, 0, 2, 2, 1, 1, 2, 0, 0, 0, 2, 2, 0, 0, 2, 0, 2, 2, 2, 2, 2, 1, 2, 0, 2, 2, 1, 2, 0, 2, 1, 2, 2, 2, 2, 2, 2, 2, 2, 2, 2, 2, 2, 0, 0, 2, 2, 2, 0, 2, 2, 2, 2, 0, 0, 2, 2, 1, 2, 2, 2, 2, 2, 0, 2, 2, 2, 0, 2, 2, 1, 2, 2, 0, 1, 1, 2, 2, 0, 2, 1, 0, 2, 2, 2, 2, 2, 2, 0, 2, 0, 2, 2, 1, 0, 0, 0, 0, 0, 0, 0, 0, 0, 2, 2, 2, 2, 1, 1, 0, 0, 2, 2, 0, 0, 2, 2, 2, 0, 2, 2, 2, 2, 2, 0, 2, 0, 2, 2, 2, 2, 0, 2, 2, 0, 2, 2, 2, 0, 2, 2, 1, 2, 0, 2, 2, 2, 2, 2, 0, 1, 2, 0, 2, 0, 0, 2, 2, 2, 2, 2, 0, 2, 1, 0, 0, 2, 2, 2, 1, 2, 2, 0, 2, 2, 0, 2, 1, 2, 2, 2, 1, 2, 2, 0, 2, 2, 0, 2, 1, 0, 0, 0, 2, 2, 0, 2, 2, 2, 2, 2, 0, 2, 0, 2, 2, 1, 0, 2, 0, 2, 0, 2, 2, 2, 2, 0, 2, 1, 0, 2, 2, 2, 0, 2, 1, 0, 0, 2, 2, 2, 2, 0, 0, 1, 2, 2, 2, 2, 2, 0, 2, 0, 2, 2, 2, 2, 2, 2, 2, 1, 2, 1, 2, 2, 0, 2, 2, 2, 0, 2, 0, 0, 1, 2, 2, 2, 2, 0, 0, 2, 2, 0, 2, 0, 1, 2, 2, 2, 2, 2, 2, 2, 2, 2, 2, 2, 2, 0, 2, 2, 0, 2, 0, 2, 1, 2, 0, 2, 2, 0, 2, 0, 0, 0, 2, 2, 2, 0, 0, 0, 2, 2, 1, 0, 2, 0, 2, 2, 0, 0, 2, 2, 0, 1, 0, 0, 2, 2, 2, 2, 0, 2, 2, 0, 2, 2, 2, 2, 2, 2, 2, 2, 2, 1, 2, 2, 2, 1, 1, 0, 2, 2, 2, 2, 2, 2, 2, 1, 0, 2, 2, 0, 2, 2, 0, 0, 1, 2, 1, 2, 2, 0, 2, 2, 2, 2, 2, 2, 1, 0, 2, 0, 0, 2, 2, 2, 0, 0, 0, 2, 0, 0, 2, 2, 1, 2, 0, 0, 2, 2, 1, 0, 2, 1, 2, 0, 0, 0, 2, 2, 2, 2, 0, 0, 1, 0, 0, 2, 0, 0, 0, 0, 2, 1, 2, 2, 2, 2, 2, 2, 2, 2, 2, 2, 1, 0, 2, 2, 1, 0, 1, 0, 2, 2, 2, 2, 2, 2, 1, 2, 0, 2, 0, 2, 2, 0, 0, 2, 2, 0, 2, 2, 2, 2, 2, 0, 2, 2, 0, 2, 1, 2, 0, 2, 0, 0, 2, 2, 2, 1, 2, 0, 1, 2, 2, 2, 0, 2, 0, 0, 2, 2, 0, 1, 0, 2, 0, 0, 2, 0, 2, 2, 0, 0, 0, 2, 0, 2, 2, 2, 2, 2, 2, 2, 0, 2, 2, 2, 2, 2, 2, 0, 2, 2, 2, 2, 2, 2, 2, 0, 1, 0, 2, 0, 2, 2, 0, 2, 0, 0, 0, 2, 2, 2, 0, 0, 2, 2, 2, 2, 2, 2, 2, 1, 2, 2, 2, 2, 2, 2, 0, 2, 0, 2, 2, 0, 0, 2, 2, 2, 2, 0, 0, 2, 2, 2, 2, 2, 2, 2, 2, 2, 2, 0, 2, 2, 2, 0, 1, 2, 0, 2, 1, 2, 0, 2, 0, 2, 0, 0, 2, 2, 0, 0, 1, 2, 0, 2, 2, 2, 1, 2, 2, 2, 0, 0, 0, 2, 2, 2, 2, 2, 0, 2, 0, 0, 2, 2, 2, 2, 0, 1, 2, 2, 2, 2, 2, 2, 0, 2, 2, 1, 0, 2, 0, 2, 0, 0, 2, 0, 0, 2, 2, 2, 2, 2, 2, 0, 0, 0, 0, 0, 1, 2, 0, 2, 1, 2, 0, 2, 0, 0, 2, 2, 0, 0, 2, 2, 0, 2, 2, 2, 2, 1, 0, 2, 2, 2, 2, 0, 0, 0, 2, 2, 2, 0, 0, 0, 2, 2, 2, 0, 0, 0, 0, 2, 2, 2, 0, 2, 2, 0, 2, 2, 2, 2, 2, 2, 2, 0, 2, 2, 2, 2, 2, 0, 2, 0, 2, 2, 0, 2, 0, 2, 0, 0, 1, 2, 0, 2, 2, 2, 2, 0, 2, 2, 0, 2, 2, 2, 0, 2, 2, 0, 2, 2, 2, 1, 1, 0, 2, 2, 2, 2, 2, 2, 2, 2, 2, 2, 2, 0, 0, 0, 2, 2, 0, 0, 2, 0, 2, 2, 0, 2, 2, 0, 2, 2, 1, 2, 2, 0, 2, 2, 2, 2, 0, 0, 2, 2, 2, 0, 2, 0, 1, 2, 2, 0, 1, 2, 0, 2, 2, 2, 0, 2, 2, 2, 2, 2, 2, 2, 0, 2, 2, 0, 0, 2, 2, 2, 0, 0, 1, 1, 1, 0, 2, 2, 2, 2, 0, 2, 2, 2, 2, 2, 2, 2, 2, 0, 2, 2, 1, 2, 2, 0, 2, 0, 0, 2, 2, 0, 2, 2, 2, 2, 0, 0, 2, 2, 2, 2, 1, 2, 0, 2, 2, 2, 2, 0, 2, 0, 2, 0, 2, 1, 2, 2, 0, 2, 0, 0, 2, 2, 2, 0, 0, 2, 2, 2, 0, 2, 0, 2, 0, 2, 2, 0, 2, 1, 0, 2, 2, 2, 2, 2, 0, 0, 2, 2, 2, 2, 0, 0, 2, 0, 2, 2, 2, 2, 1, 0, 1, 2, 2, 0, 2, 0, 2, 2, 2, 2, 2, 2, 2, 2, 2, 1, 2, 0, 0, 0, 2, 2, 2, 1, 2, 2, 2, 2, 1, 2, 2, 0, 0, 2, 0, 1, 2, 2, 2, 2, 0, 0, 2, 0, 0, 2, 0, 0, 2, 2, 2, 2, 2, 2, 2, 0, 2, 1, 0, 2, 2, 2, 2, 2, 0, 0, 1, 0, 2, 0, 2, 2, 2, 2, 1, 0, 0, 0, 0, 1, 2, 0, 2, 0, 1, 2, 0, 2, 0, 2, 2, 0, 0, 0, 2, 2, 1, 0, 2, 0, 0, 0, 2, 2, 2, 0, 1, 2, 2, 0, 1, 2, 2, 0, 2, 2, 2, 0, 1, 0, 2, 2, 2, 2, 2, 0, 2, 0, 0, 2, 2, 2, 0, 0, 2, 0, 2, 0, 2, 2, 1, 2, 2, 0, 2, 1, 2, 2, 2, 2, 2, 2, 0, 2, 2, 2, 1, 0, 2, 2, 2, 2, 2, 2, 2, 2, 0, 2, 2, 2, 0, 0, 2, 2, 2, 2, 2, 1, 2, 0, 2, 0, 2, 2, 2, 2, 2, 0, 0, 0, 2, 0, 0, 0, 2, 0, 2, 2, 2, 0, 2, 1, 2, 2, 0, 2, 0, 2, 0, 2, 0, 0, 2, 2, 0, 2, 0, 2, 1, 2, 2, 2, 2, 2, 0, 2, 2, 2, 2, 2, 2, 1, 2, 1, 2, 0, 2, 2, 2, 2, 0, 2, 2, 2, 2, 2, 2, 0, 2, 2, 2, 2, 1, 1, 2, 2, 0, 2, 0, 0, 2, 1, 2, 2, 2, 2, 1, 0, 2, 0, 2, 2, 2, 1, 2, 2, 0, 1, 1, 0, 1, 2, 0, 0, 0, 2, 2, 1, 2, 2, 0, 2, 0, 1, 2, 1, 2, 2, 0, 2, 0, 2, 0, 1, 2, 2, 0, 2, 0, 2, 2, 1, 0, 2, 2, 2, 0, 1, 2, 0, 2, 1, 0, 0, 2, 0, 2, 0, 0, 2, 2, 0, 0, 0, 2, 2, 0, 0, 1, 0, 2, 2, 2, 2, 2, 2, 0, 0, 2, 2, 0, 0, 2, 0, 2, 0, 2, 0, 2, 2, 0, 2, 2, 0, 1, 2, 2, 2, 0, 2, 2, 2, 0, 2, 2, 2, 2, 2, 0, 2, 2, 2, 2, 2, 2, 2, 0, 2, 2, 2, 0, 2, 2, 2, 0, 2, 1, 0, 1, 2, 0, 2, 2, 0, 0, 0, 2, 0, 2, 0, 2, 0, 0, 2, 2, 2, 2, 2, 2, 0, 1, 2, 1, 2, 0, 0, 0, 1, 2, 2, 0, 2, 1, 2, 2, 2, 2, 0, 2, 2, 2, 2, 2, 2, 2, 2, 0, 2, 2, 2, 0, 0, 0, 0, 2, 0, 2, 2, 2, 2, 0, 2, 0, 2, 2, 2, 2, 0, 2, 0, 2, 2, 0, 2, 2, 0, 2, 0, 1, 2, 0, 0, 2, 2, 0, 2, 0, 1, 2, 0, 2, 2, 2, 1, 2, 0, 2, 2, 2, 2, 2, 0, 0, 2, 0, 0, 2, 2, 0, 2, 2, 2, 2, 0, 2, 2, 2, 2, 2, 2, 0, 2, 0, 2, 1, 2, 1, 0, 0, 0, 1, 0, 0, 2, 2, 0, 1, 2, 1, 2, 2, 0, 2, 0, 2, 0, 2, 0, 0, 2, 2, 2, 0, 2, 2, 2, 2, 2, 0, 2, 2, 2, 2, 2, 2, 2, 2, 1, 2, 2, 1, 2, 2, 2, 2, 1, 2, 2, 2, 2, 0, 0, 2, 0, 2, 0, 2, 0, 2, 2, 0, 2, 0, 2, 2, 2, 2, 2, 0, 0, 0, 1, 2, 2, 0, 0, 0, 2, 0, 1, 2, 0, 1, 2, 2, 0, 1, 2, 2, 1, 2, 0, 1, 2, 2, 1, 2, 0, 1, 2, 2, 2, 1, 1, 2, 1, 2, 2, 2, 2, 2, 2, 2, 1, 0, 0, 2, 0, 2, 2, 2, 2, 0, 2, 2, 0, 2, 0, 1, 2, 2, 2, 1, 0, 2, 2, 0, 2, 2, 2, 0, 2, 2, 2, 2, 2, 0, 0, 0, 0, 2, 2, 2, 2, 2, 2, 2, 2, 2, 2, 2, 2, 1, 2, 2, 1, 0, 0, 2, 2, 2, 0, 2, 2, 2, 2, 2, 2, 0, 2, 0, 2, 2, 2, 0, 2, 2, 2, 2, 2, 2, 2, 0, 2, 2, 0, 2, 0, 2, 0, 1, 0, 0, 0, 0, 2, 2, 2, 2, 2, 2, 2, 1, 0, 2, 0, 1, 2, 2, 0, 0, 0, 0, 1, 0, 0, 2, 2, 2, 2, 0, 2, 0, 1, 2, 2, 1, 1, 2, 2, 2, 2, 0, 2, 2, 0, 2, 0, 0, 0, 1, 2, 2, 2, 2, 0, 0, 2, 2, 2, 2, 0, 0, 2, 0, 2, 2, 0, 2, 2, 2, 2, 2, 0, 0, 0, 1, 0, 0, 2, 1, 1, 2, 0, 2, 2, 1, 0, 0, 2, 2, 0, 1, 0, 1, 0, 0, 0, 2, 2, 2, 2, 2, 2, 2, 0, 1, 2, 2, 2, 0, 0, 2, 0, 0, 0, 0, 2, 2, 0, 2, 2, 2, 2, 0, 2, 0, 2, 2, 0, 0, 0, 2, 2, 2, 0, 0, 2, 2, 2, 2, 0, 2, 2, 2, 2, 0, 0, 2, 0, 2, 1, 0, 2, 2, 0, 1, 1, 2, 2, 2, 2, 0, 0, 2, 0, 0, 2, 2, 2, 2, 0, 2, 0, 2, 0, 2, 2, 1, 0, 2, 0, 2, 2, 2, 2, 2, 2, 0, 2, 2, 2, 0, 2, 1, 0, 2, 0, 2, 0, 1, 0, 2, 2, 2, 2, 2, 2, 0, 0, 0, 0, 2, 2, 2, 0, 2, 2, 2, 2, 2, 2, 0, 0, 2, 1, 2, 2, 0, 2, 2, 2, 0, 2, 2, 0, 2, 2, 2, 2, 2, 2, 1, 0, 2, 0, 0, 2, 0, 2, 0, 2, 1, 1, 0, 2, 2, 0, 1, 2, 0, 2, 0, 2, 1, 2, 1, 2, 0, 2, 2, 1, 2, 2, 2, 0, 2, 2, 0, 0, 0, 2, 0, 2, 1, 2, 2, 2, 1, 0, 2, 2, 0, 2, 2, 2, 0, 2, 2, 2, 2, 0, 0, 1, 1, 2, 2, 2, 2, 0, 0, 1, 0, 2, 2, 2, 1, 2, 2, 2, 2, 2, 2, 2, 2, 0, 2, 2, 0, 1, 0, 2, 2, 2, 0, 0, 0, 2, 0, 2, 2, 2, 2, 2, 0, 1, 2, 0, 0, 2, 2, 0, 1, 2, 2, 0, 0, 0, 2, 1, 2, 2, 0, 0, 2, 2, 0, 2, 2, 0, 0, 2, 2, 0, 2, 1, 2, 0, 0, 1, 0, 0, 2, 2, 2, 0, 2, 0, 0, 0, 2, 2, 2, 1, 2, 2, 2, 2, 1, 2, 1, 0, 0, 0, 2, 2, 2, 0, 2, 2, 2, 0, 2, 2, 2, 2, 2, 0, 2, 0, 1, 0, 2, 2, 2, 2, 2, 2, 0, 1, 1, 2, 1, 0, 0, 0, 0, 2, 2, 2, 0, 2, 1, 2, 0, 2, 0, 0, 2, 2, 2, 0, 0, 0, 2, 0, 2, 0, 2, 2, 1, 2, 2, 0, 2, 0, 0, 2, 2, 2, 2, 1, 0, 2, 0, 2, 2, 2, 2, 2, 2, 0, 2, 2, 0, 2, 2, 2, 0, 2, 2, 2, 2, 0, 2, 2, 2, 2, 2, 2, 0, 1, 2, 1, 2, 2, 0, 2, 2, 2, 2, 2, 2, 2, 0, 0, 0, 2, 0, 2, 0, 2, 2, 0, 2, 2, 2, 2, 2, 2, 1, 1, 2, 0, 2, 2, 0, 2, 0, 0, 2, 2, 1, 0, 2, 2, 2, 2, 2, 2, 2, 2, 2, 0, 0, 0, 2, 2, 2, 2, 0, 2, 2, 0, 2, 1, 2, 2, 2, 2, 1, 2, 1, 0, 1, 0, 1, 1, 0, 0, 1, 2, 2, 2, 2, 1, 1, 0, 0, 2, 0, 2, 2, 0, 2, 2, 2, 2, 2, 2, 2, 2, 2, 1, 2, 0, 2, 0, 2, 0, 0, 2, 0, 0, 2, 2, 2, 0, 1, 2, 2, 2, 0, 2, 0, 1, 2, 2, 2, 2, 2, 2, 2, 2, 2, 2, 2, 1, 2, 1, 0, 2, 2, 1, 2, 0, 2, 2, 1, 2, 2, 2, 2, 1, 0, 0, 2, 2, 2, 2, 0, 2, 0, 2, 2, 2, 0, 2, 2, 2, 2, 2, 2, 1, 2, 2, 2, 0, 2, 2, 2, 2, 2, 2, 2, 0, 1, 2, 2, 0, 2, 2, 2, 2, 2, 2, 0, 2, 0, 0, 2, 2, 2, 0, 0, 2, 0, 1, 2, 0, 0, 1, 2, 0, 0, 2, 2, 2, 0, 0, 2, 1, 2, 0, 1, 0, 2, 2, 2, 2, 2, 2, 2, 2, 2, 1, 2, 2, 2, 2, 0, 2, 0, 0, 2, 0, 2, 2, 2, 0, 2, 2, 2, 2, 2, 0, 2, 0, 2, 2, 0, 0, 2, 2, 2, 2, 0, 2, 0, 0, 2, 0, 2, 0, 2, 0, 2, 2, 2, 0, 2, 2, 2, 0, 2, 0, 2, 2, 1, 1, 2, 2, 0, 2, 2, 0, 2, 1, 0, 2, 2, 2, 2, 2, 2, 1, 2, 2, 2, 2, 2, 2, 2, 2, 0, 2, 0, 0, 2, 2, 2, 2, 2, 2, 1, 2, 0, 2, 0, 0, 2, 0, 0, 2, 1, 0, 0, 2, 2, 0, 2, 2, 2, 2, 1, 0, 2, 2, 2, 2, 2, 2, 1, 2, 0, 2, 2, 0, 2, 2, 0, 2, 0, 0, 0, 2, 2, 2, 2, 2, 1, 0, 2, 2, 2, 2, 2, 2, 1, 2, 0, 2, 0, 0, 2, 2, 2, 2, 2, 2, 2, 2, 1, 2, 0, 2, 2, 1, 1, 2, 0, 2, 0, 2, 2, 0, 2, 0, 0, 0, 2, 2, 2, 0, 2, 2, 2, 2, 2, 0, 2, 2, 1, 2, 0, 0, 2, 1, 2, 2, 2, 2, 0, 2, 2, 0, 1, 2, 0, 2, 2, 2, 2, 0, 2, 2, 2, 0, 0, 2, 0, 2, 2, 2, 0, 2, 1, 0, 0, 2, 0, 2, 0, 0, 2, 2, 0, 2, 2, 2, 0, 0, 0, 2, 2, 2, 0, 2, 2, 2, 2, 2, 0, 2, 0, 2, 0, 2, 0, 0, 2, 1, 2, 1, 0, 2, 2, 1, 2, 2, 0, 1, 2, 2, 2, 0, 0, 0, 0, 2, 2, 2, 2, 2, 2, 2, 2, 0, 0, 2, 0, 0, 2, 2, 2, 2, 2, 0, 2, 0, 2, 2, 0, 2, 2, 2, 0, 2, 2, 2, 0, 2, 0, 2, 1, 2, 2, 2, 2, 2, 2, 0, 2, 2, 2, 2, 0, 0, 0, 0, 2, 2, 2, 2, 2, 2, 2, 2, 2, 2, 2, 2, 2, 0, 1, 2, 2, 2, 2, 0, 0, 1, 1, 0, 0, 0, 2, 2, 2, 2, 1, 2, 2, 2, 1, 0, 2, 2, 2, 2, 0, 2, 0, 2, 2, 1, 2, 2, 2, 2, 2, 2, 2, 2, 0, 2, 2, 2, 0, 2, 2, 2, 2, 2, 0, 2, 2, 0, 2, 2, 2, 2, 2, 1, 2, 2, 2, 1, 0, 0, 2, 0, 0, 2, 2, 2, 2, 0, 2, 0, 2, 0, 0, 2, 0, 0, 2, 1, 2, 2, 2, 2, 2, 2, 2, 0, 2, 0, 1, 2, 2, 2, 2, 1, 2, 2, 0, 2, 2, 0, 2, 1, 2, 2, 2, 2, 0, 0, 2, 2, 1, 2, 2, 2, 2, 2, 2, 2, 1, 2, 2, 2, 2, 2, 0, 2, 0, 0, 2, 2, 2, 0, 2, 2, 2, 2, 2, 0, 2, 1, 0, 0, 0, 2, 0, 2, 1, 2, 2, 2, 0, 2, 0, 2, 0, 2, 0, 2, 2, 2, 2, 0, 0, 0, 2, 2, 1, 0, 2, 0, 2, 2, 2, 2, 0, 2, 2, 0, 2, 2, 0, 0, 2, 2, 2, 2, 1, 2, 2, 2, 2, 0, 2, 2, 2, 2, 2, 2, 0, 0, 0, 2, 0, 2, 0, 2, 2, 2, 0, 0, 2, 1, 2, 2, 2, 0, 2, 0, 2, 2, 2, 2, 0, 2, 2, 0, 1, 2, 2, 2, 2, 2, 2, 2, 2, 2, 2, 0, 0, 0, 2, 0, 1, 2, 2, 0, 2, 0, 0, 1, 2, 2, 2, 2, 2, 2, 2, 0, 2, 0, 2, 1, 2, 0, 2, 1, 2, 2, 0, 2, 2, 1, 2, 0, 2, 0, 2, 2, 1, 2, 2, 2, 2, 0, 2, 2, 0, 1, 0, 0, 2, 0, 0, 2, 0, 0, 0, 2, 2, 2, 2, 2, 0, 2, 0, 2, 2, 0, 0, 2, 2, 2, 0, 0, 2, 2, 2, 2, 0, 0, 2, 0, 0, 0, 0, 2, 0, 2, 0, 0, 0, 0, 2, 2, 2, 2, 0, 1, 0, 0, 0, 1, 2, 1, 2, 0, 2, 0, 2, 2, 0, 0, 2, 2, 0, 0, 2, 2, 2, 0, 0, 2, 2, 2, 0, 0, 2, 2, 2, 2, 1, 2, 0, 0, 0, 2, 2, 2, 2, 0, 0, 0, 2, 0, 0, 0, 2, 2, 0, 0, 2, 2, 2, 2, 2, 2, 0, 0, 0, 2, 2, 2, 2, 2, 2, 2, 2, 0, 0, 2, 0, 0, 0, 2, 0, 1, 2, 2, 0, 2, 2, 1, 2, 2, 0, 0, 2, 2, 2, 0, 2, 2, 2, 0, 2, 2, 2, 2, 0, 2, 2, 2, 2, 2, 2, 2, 2, 2, 2, 2, 0, 1, 2, 2, 0, 1, 1, 2, 2, 2, 0, 1, 2, 1, 0, 1, 1, 2, 0, 2, 2, 0, 2, 2, 2, 2, 0, 2, 2, 1, 0, 2, 2, 2, 2, 0, 0, 2, 0, 2, 2, 0, 2, 2, 2, 0, 2, 2, 2, 0, 2, 2, 2, 0, 2, 2, 0, 0, 0, 2, 2, 2, 1, 2, 2, 1, 2, 0, 2, 0, 2, 2, 2, 2, 0, 2, 0, 0, 0, 0, 2, 2, 0, 2, 1, 2, 0, 0, 1, 0, 0, 1, 0, 0, 0, 2, 2, 2, 0, 2, 0, 2, 2, 1, 0, 2, 0, 0, 2, 1, 0, 2, 0, 2, 2, 2, 0, 2, 2, 2, 1, 2, 2, 0, 2, 2, 2, 2, 0, 2, 2, 2, 0, 0, 0, 0, 2, 2, 2, 2, 2, 2, 2, 0, 0, 1, 0, 1, 2, 2, 2, 2, 1, 0, 2, 2, 2, 2, 0, 0, 2, 2, 0, 2, 0, 0, 1, 0, 1, 2, 1, 0, 0, 0, 2, 0, 0, 2, 2, 2, 2, 0, 2, 2, 0, 1, 2, 2, 2, 2, 2, 2, 1, 2, 2, 0, 2, 0, 2, 0, 2, 2, 1, 2, 2, 2, 0, 0, 0, 0, 2, 0, 2, 0, 2, 2, 2, 1, 2, 2, 0, 2, 2, 0, 2, 2, 2, 2, 2, 1, 2, 2, 0, 2, 0, 2, 2, 2, 2, 2, 2, 1, 2, 0, 2, 0, 2, 2, 2, 0, 2, 0, 0, 0, 0, 1, 2, 2, 2, 0, 2, 0, 2, 2, 2, 2, 2, 2, 0, 2, 2, 1, 2, 0, 2, 2, 2, 0, 1, 1, 2, 2, 2, 0, 2, 2, 0, 0, 2, 2, 0, 2, 2, 1, 0, 0, 2, 0, 0, 2, 0, 2, 0, 2, 2, 2, 2, 2, 1, 2, 2, 2, 2, 2, 2, 2, 2, 1, 2, 2, 2, 2, 2, 2, 0, 2, 0, 2, 2, 2, 2, 0, 2, 2, 2, 2, 2, 0, 0, 2, 2, 0, 0, 2, 0, 2, 2, 0, 2, 2, 2, 0, 1, 2, 2, 2, 0, 0, 2, 0, 2, 0, 2, 2, 2, 2, 0, 2, 2, 2, 0, 2, 2, 0, 0, 2, 2, 2, 2, 1, 2, 0, 2, 0, 0, 0, 2, 2, 0, 1, 2, 2, 0, 0, 0, 2, 1, 1, 2, 0, 0, 2, 2, 2, 2, 1, 2, 2, 2, 2, 0, 0, 2, 2, 2, 2, 2, 2, 1, 2, 2, 2, 0, 2, 2, 0, 1, 0, 0, 2, 2, 2, 0, 2, 0, 2, 2, 0, 1, 0, 0, 2, 2, 1, 0, 2, 2, 0, 2, 0, 1, 2, 2, 2, 2, 2, 0, 2, 2, 2, 2, 2, 1, 2, 1, 0, 1, 0, 2, 2, 2, 0, 2, 2, 2, 2, 0, 0, 0, 2, 2, 0, 2, 0, 1, 0, 0, 2, 0, 2, 2, 0, 1, 2, 2, 2, 2, 0, 1, 2, 0, 0, 2, 2, 0, 2, 0, 0, 2, 2, 2, 2, 2, 2, 0, 2, 0, 2, 2, 2, 2, 2, 1, 2, 2, 2, 0, 2, 2, 2, 2, 2, 0, 2, 2, 2, 0, 2, 0, 0, 2, 0, 0, 1, 2, 2, 2, 2, 2, 2, 0, 2, 2, 0, 2, 1, 2, 2, 0, 1, 2, 2, 2, 2, 2, 2, 1, 2, 2, 2, 2, 2, 2, 0, 0, 0, 0, 0, 0, 2, 2, 0, 0, 0, 2, 2, 2, 2, 2, 0, 1, 0, 0, 2, 2, 2, 0, 2, 2, 2, 2, 2, 2, 0, 0, 2, 2, 2, 2, 2, 2, 0, 2, 2, 0, 0, 2, 0, 2, 1, 2, 2, 1, 2, 2, 0, 0, 1, 2, 0, 0, 2, 0, 0, 0, 0, 2, 2, 2, 2, 2, 0, 0, 2, 2, 2, 2, 2, 2, 2, 2, 2, 0, 2, 2, 2, 1, 2, 1, 0, 0, 0, 0, 0, 2, 1, 0, 2, 2, 2, 1, 2, 2, 2, 2, 2, 0, 0, 2, 2, 0, 2, 2, 2, 2, 2, 2, 2, 0, 2, 0, 2, 2, 2, 1, 0, 2, 2, 2, 2, 1, 0, 0, 2, 2, 0, 2, 2, 2, 1, 2, 0, 1, 2, 2, 0, 2, 2, 2, 2, 1, 2, 2, 0, 1, 0, 2, 2, 1, 2, 2, 0, 2, 2, 2, 0, 2, 2, 2, 2, 0, 0, 1, 0, 2, 0, 0, 2, 2, 2, 2, 0, 1, 2, 2, 0, 0, 2, 2, 2, 2, 0, 2, 2, 2, 2, 0, 2, 2, 0, 2, 1, 2, 0, 0, 2, 2, 2, 2, 2, 2, 2, 2, 0, 2, 0, 2, 2, 0, 2, 1, 0, 0, 2, 2, 2, 0, 2, 1, 0, 2, 0, 0, 1, 0, 2, 2, 2, 2, 0, 0, 2, 2, 2, 2, 2, 2, 2, 2, 0, 2, 2, 2, 2, 0, 1, 2, 0, 2, 2, 1, 1, 0, 2, 2, 2, 2, 2, 2, 2, 2, 1, 2, 0, 0, 2, 2, 2, 2, 0, 2, 0, 2, 2, 2, 0, 2, 2, 2, 0, 1, 2, 2, 2, 2, 0, 0, 2, 1, 2, 2, 2, 1, 2, 0, 1, 2, 2, 0, 2, 0, 2, 0, 2, 2, 2, 1, 2, 2, 2, 0, 1, 2, 2, 2, 1, 2, 0, 2, 2, 2, 0, 0, 2, 2, 2, 0, 2, 0, 0, 1, 1, 1, 2, 0, 0, 2, 2, 2, 1, 0, 1, 2, 2, 1, 2, 2, 0, 2, 0, 0, 2, 2, 2, 0, 2, 2, 1, 2, 0, 2, 0, 2, 0, 0, 0, 0, 2, 2, 2, 2, 2, 2, 1, 2, 2, 2, 2, 2, 2, 0, 2, 0, 2, 2, 2, 2, 0, 2, 0, 2, 2, 1, 0, 2, 1, 1, 2, 2, 2, 2, 2, 2, 0, 2, 0, 2, 2, 0, 2, 0, 0, 2, 2, 1, 0, 1, 1, 2, 2, 2, 2, 2, 2, 0, 2, 2, 0, 2, 2, 2, 0, 2, 2, 2, 2, 0, 2, 2, 0, 2, 2, 1, 0, 2, 2, 2, 0, 2, 2, 0, 0, 1, 0, 2, 2, 2, 2, 1, 0, 0, 2, 0, 2, 2, 2, 1, 2, 0, 2, 1, 1, 2, 0, 2, 2, 2, 2, 2, 2, 0, 2, 2, 2, 2, 2, 0, 2, 0, 2, 2, 0, 2, 2, 0, 2, 2, 2, 2, 1, 2, 2, 2, 2, 2, 2, 2, 0, 2, 2, 0, 0, 2, 2, 0, 2, 2, 2, 2, 2, 2, 0, 2, 2, 0, 0, 1, 1, 1, 1, 0, 2, 2, 2, 0, 2, 2, 2, 2, 2, 2, 0, 1, 0, 2, 1, 2, 2, 2, 2, 2, 2, 2, 2, 0, 0, 2, 2, 2, 2, 0, 0, 0, 0, 2, 2, 2, 0, 0, 2, 2, 2, 2, 0, 2, 2, 0, 0, 2, 2, 2, 1, 2, 2, 2, 0, 0, 2, 1, 2, 1, 0, 2, 2, 2, 2, 2, 0, 2, 2, 1, 2, 2, 0, 2, 0, 2, 2, 2, 2, 0, 2, 2, 2, 1, 0, 1, 2, 0, 0, 1, 2, 2, 2, 0, 2, 2, 2, 2, 0, 1, 0, 2, 2, 0, 2, 1, 2, 2, 0, 2, 2, 2, 0, 2, 2, 2, 2, 0, 0, 2, 0, 2, 0, 0, 2, 0, 2, 0, 0, 0, 2, 2, 2, 2, 2, 0, 2, 2, 1, 2, 1, 0, 0, 1, 0, 2, 0, 2, 2, 1, 0, 1, 2, 2, 2, 1, 2, 2, 2, 2, 2, 2, 2, 0, 0, 0, 2, 0, 2, 0, 2, 2, 2, 0, 2, 0, 1, 2, 1, 2, 0, 2, 2, 0, 2, 0, 2, 0, 0, 2, 0, 1, 0, 2, 2, 2, 0, 0, 0, 0, 1, 1, 0, 0, 2, 2, 2, 2, 2, 2, 2, 0, 2, 0, 0, 2, 1, 2, 2, 2, 2, 2, 2, 2, 0, 2, 0, 0, 2, 2, 2, 0, 0, 1, 2, 0, 2, 2, 0, 0, 0, 0, 0, 2, 0, 0, 2, 0, 2, 2, 2, 2, 2, 2, 2, 0, 1, 2, 0, 2, 2, 2, 2, 2, 1, 2, 2, 2, 2, 0, 2, 2, 0, 0, 2, 2, 0, 2, 1, 2, 2, 2, 1, 2, 0, 0, 2, 2, 2, 1, 0, 1, 2, 2, 2, 2, 2, 0, 2, 2, 0, 2, 2, 2, 2, 0, 0, 0, 2, 0, 0, 0, 2, 2, 0, 2, 2, 2, 2, 1, 2, 2, 0, 2, 0, 0, 2, 2, 1, 2, 2, 2, 2, 0, 2, 2, 0, 1, 2, 2, 2, 2, 1, 2, 0, 2, 1, 0, 2, 2, 0, 1, 0, 0, 2, 0, 0, 2, 2, 2, 2, 2, 2, 2, 2, 2, 2, 1, 0, 0, 2, 2, 2, 2, 2, 2, 2, 1, 2, 2, 2, 2, 0, 2, 2, 2, 2, 2, 2, 0, 2, 0, 2, 2, 1, 0, 0, 2, 2, 0, 2, 1, 2, 2, 0, 2, 2, 0, 2, 0, 1, 1, 2, 2, 0, 2, 0, 1, 0, 2, 0, 2, 2, 0, 2, 2, 2, 2, 2, 2, 2, 0, 2, 2, 2, 2, 0, 0, 2, 2, 0, 2, 2, 0, 2, 2, 2, 2, 2, 0, 2, 0, 0, 0, 0, 0, 0, 0, 2, 2, 2, 0, 0, 1, 2, 2, 2, 2, 2, 2, 0, 2, 2, 2, 0, 2, 0, 2, 2, 0, 2, 2, 2, 1, 0, 2, 0, 2, 0, 2, 0, 2, 2, 2, 2, 0, 2, 0, 0, 1, 1, 2, 2, 2, 2, 2, 0, 0, 2, 2, 0, 2, 0, 2, 0, 2, 2, 0, 2, 1, 2, 1, 0, 2, 2, 1, 2, 0, 1, 2, 0, 2, 2, 2, 2, 2, 2, 2, 0, 2, 2, 1, 2, 0, 1, 1, 2, 0, 2, 2, 2, 0, 2, 0, 1, 2, 2, 2, 0, 0, 2, 2, 2, 2, 0, 0, 2, 2, 2, 0, 2, 2, 2, 2, 2, 2, 2, 2, 2, 2, 2, 0, 2, 2, 2, 2, 0, 2, 2, 1, 2, 2, 0, 1, 0, 1, 0, 2, 2, 0, 1, 2, 1, 0, 2, 2, 2, 0, 2, 2, 2, 0, 1, 0, 0, 2, 2, 1, 2, 2, 0, 0, 2, 1, 2, 2, 0, 2, 2, 2, 2, 2, 0, 1, 2, 1, 2, 2, 1, 2, 2, 2, 2, 2, 2, 0, 0, 2, 2, 2, 1, 2, 0, 2, 2, 2, 2, 2, 1, 2, 2, 2, 2, 2, 2, 0, 0, 2, 2, 2, 2, 2, 0, 2, 2, 2, 2, 2, 2, 2, 2, 1, 2, 0, 2, 2, 0, 2, 0, 0, 2, 2, 2, 2, 2, 0, 2, 2, 2, 2, 2, 2, 2, 0, 0, 2, 2, 2, 2, 2, 1, 2, 2, 0, 2, 0, 2, 2, 2, 2, 2, 2, 1, 0, 2, 2, 0, 0, 1, 0, 2, 2, 2, 1, 0, 2, 0, 0, 0, 0, 2, 0, 2, 1, 2, 2, 2, 2, 2, 2, 2, 0, 0, 0, 2, 2, 2, 1, 0, 2, 2, 2, 2, 2, 1, 2, 2, 2, 0, 0, 2, 2, 0, 2, 2, 2, 2, 2, 2, 0, 0, 0, 1, 0, 2, 2, 2, 2, 0, 0, 2, 1, 2, 0, 2, 2, 2, 2, 0, 2, 0, 2, 2, 2, 2, 0, 2, 0, 2, 2, 1, 2, 2, 0, 0, 2, 2, 2, 2, 0, 2, 1, 2, 2, 1, 2, 0, 2, 0, 2, 2, 0, 2, 0, 2, 2, 2, 0, 1, 2, 2, 1, 2, 2, 2, 0, 0, 0, 2, 2, 2, 2, 0, 2, 0, 2, 2, 2, 2, 2, 2, 1, 2, 0, 2, 2, 2, 2, 1, 2, 2, 2, 2, 0, 1, 2, 2, 2, 2, 2, 2, 2, 2, 1, 1, 2, 1, 2, 0, 0, 2, 2, 2, 2, 2, 1, 2, 2, 2, 0, 2, 2, 2, 2, 2, 0, 2, 2, 2, 2, 2, 0, 1, 0, 0, 2, 2, 2, 0, 2, 2, 0, 2, 0, 2, 2, 0, 2, 0, 2, 0, 0, 2, 0, 2, 2, 2, 0, 0, 1, 2, 0, 0, 1, 0, 2, 2, 0, 0, 2, 2, 2, 2, 2, 1, 2, 1, 0, 2, 2, 0, 0, 1, 2, 1, 2, 2, 0, 2, 2, 1, 2, 2, 2, 2, 2, 0, 2, 2, 2, 1, 1, 2, 0, 0, 2, 0, 0, 2, 2, 0, 2, 2, 2, 1, 2, 0, 0, 2, 2, 2, 2, 2, 2, 2, 2, 0, 2, 0, 2, 2, 2, 2, 2, 2, 0, 0, 0, 0, 2, 2, 2, 2, 1, 2, 2, 2, 2, 1, 2, 2, 1, 2, 0, 2, 2, 2, 2, 2, 0, 0, 2, 1, 2, 0, 2, 0, 2, 2, 2, 0, 2, 2, 2, 0, 2, 2, 0, 0, 2, 2, 0, 0, 1, 2, 1, 0, 2, 0, 2, 0, 2, 2, 2, 2, 2, 2, 2, 2, 0, 2, 2, 0, 2, 2, 0, 0, 2, 2, 2, 2, 2, 2, 0, 2, 2, 0, 0, 1, 2, 2, 1, 0, 0, 1, 2, 2, 1, 2, 2, 2, 0, 0, 0, 2, 2, 0, 2, 1, 0, 0, 0, 2, 2, 2, 2, 2, 1, 0, 2, 2, 2, 2, 2, 0, 0, 1, 0, 1, 0, 2, 2, 0, 0, 2, 0, 2, 2, 2, 2, 2, 2, 2, 1, 0, 0, 2, 0, 0, 0, 2, 2, 2, 2, 0, 2, 1, 2, 0, 2, 1, 2, 1, 2, 0, 0, 2, 2, 0, 0, 0, 0, 0, 2, 2, 2, 0, 0, 2, 0, 0, 2, 2, 2, 0, 1, 2, 2, 0, 2, 2, 2, 2, 2, 2, 2, 2, 2, 1, 0, 2, 2, 2, 0, 2, 2, 2, 2, 2, 2, 0, 2, 2, 2, 2, 2, 2, 2, 2, 2, 0, 2, 2, 2, 2, 2, 0, 2, 1, 2, 2, 2, 0, 2, 0, 2, 2, 2, 0, 0, 2, 2, 2, 0, 0, 1, 2, 0, 2, 2, 0, 2, 1, 0, 2, 2, 2, 2, 2, 2, 2, 0, 1, 2, 2, 2, 2, 2, 2, 2, 2, 2, 1, 2, 0, 2, 0, 2, 0, 2, 2, 0, 2, 2, 2, 2, 0, 0, 2, 2, 2, 2, 0, 2, 2, 0, 0, 2, 2, 2, 2, 0, 0, 0, 0, 0, 0, 0, 2, 2, 2, 2, 1, 2, 0, 2, 2, 0, 2, 2, 0, 0, 0, 2, 2, 0, 2, 0, 2, 2, 0, 2, 0, 0, 0, 2, 0, 2, 2, 2, 2, 2, 1, 0, 2, 2, 2, 2, 1, 1, 0, 2, 0, 2, 2, 0, 1, 2, 2, 2, 0, 2, 2, 2, 0, 2, 0, 1, 0, 2, 2, 1, 0, 2, 0, 2, 0, 1, 0, 2, 1, 2, 0, 2, 2, 2, 2, 0, 2, 0, 2, 2, 2, 2, 2, 0, 2, 2, 2, 1, 2, 2, 0, 0, 2, 0, 1, 2, 0, 0, 2, 2, 0, 0, 2, 2, 2, 0, 2, 2, 2, 0, 2, 0, 2, 2, 2, 2, 2, 0, 2, 2, 0, 0, 0, 2, 0, 2, 2, 0, 0, 2, 0, 2, 2, 1, 2, 0, 2, 1, 0, 2, 0, 2, 2, 2, 0, 0, 1, 2, 2, 0, 0, 0, 2, 0, 1, 2, 2, 2, 2, 1, 2, 2, 2, 0, 2, 1, 2, 2, 0, 2, 2, 2, 2, 2, 0, 2, 0, 2, 1, 0, 0, 2, 2, 1, 2, 2, 2, 2, 0, 2, 2, 2, 2, 2, 0, 2, 0, 2, 2, 2, 2, 0, 0, 2, 2, 2, 2, 2, 2, 2, 2, 2, 2, 2, 0, 2, 2, 2, 2, 2, 0, 2, 2, 2, 0, 2, 0, 0, 2, 2, 1, 0, 2, 2, 2, 2, 2, 2, 2, 2, 0, 2, 2, 0, 2, 2, 2, 0, 2, 0, 2, 2, 2, 2, 0, 2, 1, 2, 2, 1, 0, 2, 2, 2, 2, 2, 2, 2, 0, 2, 2, 0, 0, 1, 0, 0, 2, 2, 2, 2, 2, 2, 2, 0, 0, 0, 0, 2, 2, 2, 2, 0, 1, 2, 2, 0, 0, 0, 2, 2, 2, 2, 0, 0, 2, 2, 2, 0, 1, 0, 2, 0, 1, 2, 2, 2, 2, 0, 0, 2, 0, 2, 0, 2, 2, 1, 2, 2, 0, 2, 2, 2, 2, 2, 2, 0, 0, 1, 1, 2, 2, 2, 2, 0, 2, 1, 2, 1, 0, 0, 1, 2, 0, 2, 0, 0, 2, 0, 0, 2, 2, 2, 2, 2, 0, 2, 2, 2, 2, 1, 2, 2, 0, 0, 1, 2, 2, 2, 1, 0, 2, 2, 0, 0, 2, 2, 1, 2, 2, 1, 2, 1, 0, 2, 2, 0, 2, 0, 0, 2, 1, 2, 2, 2, 2, 2, 2, 0, 0, 2, 2, 0, 2, 2, 2, 2, 0, 0, 2, 0, 1, 2, 2, 2, 2, 2, 2, 2, 2, 0, 2, 2, 2, 2, 2, 2, 0, 2, 2, 1, 0, 2, 2, 0, 2, 0, 2, 2, 2, 2, 2, 2, 2, 2, 2, 0, 0, 0, 2, 2, 2, 2, 1, 2, 2, 2, 1, 0, 2, 2, 0, 2, 0, 2, 2, 0, 2, 2, 2, 2, 2, 2, 0, 2, 1, 2, 2, 2, 2, 2, 2, 2, 2, 0, 2, 2, 2, 2, 2, 2, 2, 2, 1, 1, 2, 0, 0, 2, 2, 0, 2, 0, 2, 1, 1, 2, 2, 0, 2, 0, 2, 2, 2, 0, 0, 0, 2, 0, 2, 0, 2, 2, 0, 2, 2, 2, 2, 0, 2, 2, 2, 2, 0, 2, 2, 2, 2, 2, 0, 2, 2, 2, 0, 2, 0, 2, 0, 2, 2, 0, 2, 2, 2, 2, 2, 2, 2, 2, 0, 2, 2, 2, 2, 0, 2, 0, 0, 0, 2, 0, 2, 1, 2, 2, 0, 2, 0, 0, 2, 2, 0, 0, 0, 0, 1, 0, 2, 2, 0, 2, 0, 2, 2, 2, 2, 2, 2, 2, 2, 1, 0, 2, 1, 2, 2, 2, 2, 2, 1, 0, 1, 2, 2, 0, 2, 2, 2, 2, 0, 2, 2, 2, 0, 1, 2, 2, 2, 0, 2, 0, 0, 0, 2, 2, 0, 0, 2, 2, 2, 2, 0, 2, 2, 0, 0, 2, 2, 2, 0, 0, 0, 2, 2, 2, 0, 0, 1, 2, 0, 2, 2, 2, 2, 0, 0, 2, 2, 2, 2, 2, 1, 2, 2, 2, 2, 2, 2, 2, 2, 2, 2, 2, 2, 2, 0, 2, 2, 0, 2, 2, 2, 2, 0, 2, 2, 2, 2, 1, 2, 2, 2, 0, 2, 2, 1, 0, 2, 2, 0, 2, 1, 2, 2, 2, 2, 2, 2, 0, 2, 2, 2, 0, 0, 2, 0, 2, 2, 0, 2, 0, 2, 0, 0, 2, 2, 2, 2, 2, 2, 2, 2, 2, 2, 2, 2, 0, 0, 0, 0, 2, 2, 0, 2, 0, 2, 2, 2, 0, 0, 0, 2, 2, 2, 2, 2, 1, 0, 2, 2, 2, 0, 2, 2, 2, 2, 2, 0, 0, 2, 2, 2, 2, 2, 0, 2, 2, 1, 2, 2, 0, 2, 2, 0, 2, 1, 1, 2, 0, 2, 0, 0, 2, 2, 2, 0, 0, 0, 2, 2, 2, 2, 1, 0, 2, 2, 2, 2, 0, 1, 0, 2, 2, 2, 0, 1, 0, 2, 0, 2, 2, 2, 0, 2, 2, 0, 2, 0, 1, 2, 0, 2, 2, 2, 2, 1, 2, 2, 2, 2, 0, 2, 2, 2, 2, 2, 2, 2, 0, 2, 2, 0, 2, 0, 0, 1, 2, 2, 2, 2, 1, 2, 2, 2, 2, 2, 2, 1, 0, 2, 2, 0, 2, 2, 2, 2, 2, 2, 1, 2, 0, 2, 2, 2, 2, 2, 2, 0, 2, 0, 2, 0, 0, 0, 2, 1, 2, 2, 2, 1, 0, 2, 0, 0, 2, 2, 0, 2, 2, 2, 2, 2, 2, 2, 2, 1, 0, 2, 2, 2, 2, 0, 1, 2, 2, 0, 1, 0, 0, 0, 0, 0, 2, 2, 0, 1, 2, 2, 2, 0, 2, 2, 2, 0, 2, 2, 0, 0, 2, 2, 0, 2, 0, 2, 2, 2, 0, 2, 2, 2, 0, 2, 2, 2, 2, 2, 0, 0, 0, 2, 1, 1, 2, 2, 2, 1, 1, 0, 2, 2, 2, 2, 1, 2, 2, 2, 2, 1, 0, 0, 2, 2, 2, 2, 0, 2, 1, 0, 2, 0, 2, 2, 2, 2, 0, 0, 2, 0, 2, 2, 2, 0, 2, 2, 2, 2, 1, 2, 2, 0, 2, 2, 2, 2, 2, 2, 1, 2, 2, 0, 2, 0, 1, 0, 2, 2, 0, 2, 2, 2, 0, 0, 0, 0, 2, 1, 2, 2, 0, 2, 2, 0, 2, 0, 0, 0, 2, 2, 0, 2, 2, 2, 2, 2, 2, 0, 1, 2, 2, 1, 2, 2, 2, 2, 1, 0, 2, 0, 2, 0, 0, 0, 2, 2, 2, 0, 2, 2, 1, 2, 2, 1, 1, 2, 2, 0, 2, 0, 2, 2, 2, 0, 2, 2, 2, 2, 2, 0, 2, 2, 2, 0, 1, 2, 1, 2, 2, 0, 2, 0, 2, 0, 2, 1, 2, 0, 0, 2, 2, 1, 0, 0, 0, 0, 0, 2, 1, 2, 2, 2, 2, 0, 2, 2, 1, 0, 2, 2, 2, 0, 2, 2, 2, 2, 2, 2, 0, 2, 0, 2, 2, 2, 0, 0, 2, 1, 2, 2, 0, 1, 0, 2, 2, 2, 0, 0, 2, 0, 2, 2, 2, 0, 2, 2, 2, 2, 2, 2, 2, 2, 2, 0, 0, 2, 2, 2, 0, 2, 0, 2, 0, 2, 0, 2, 2, 1, 0, 2, 2, 2, 2, 0, 0, 2, 0, 0, 2, 0, 1, 2, 2, 0, 0, 2, 2, 2, 0, 2, 2, 0, 2, 2, 0, 2, 2, 0, 2, 2, 2, 0, 2, 2, 2, 2, 0, 2, 0, 2, 0, 2, 0, 2, 2, 0, 2, 0, 0, 0, 2, 0, 2, 0, 2, 0, 2, 1, 0, 2, 2, 2, 1, 2, 0, 2, 2, 2, 2, 0, 0, 0, 1, 0, 2, 2, 2, 2, 2, 2, 2, 0, 0, 2, 2, 2, 2, 2, 2, 2, 2, 2, 2, 2, 2, 2, 0, 0, 0, 2, 2, 2, 2, 2, 2, 2, 0, 2, 2, 0, 2, 2, 0, 2, 2, 0, 0, 2, 0, 2, 2, 2, 2, 0, 2, 2, 0, 2, 2, 0, 2, 0, 2, 2, 1, 0, 0, 2, 2, 1, 0, 0, 2, 2, 2, 2, 2, 1, 2, 2, 0, 2, 2, 1, 2, 2, 0, 2, 0, 0, 1, 2, 2, 2, 2, 2, 2, 2, 0, 2, 0, 0, 0, 2, 2, 2, 2, 2, 2, 2, 2, 2, 2, 0, 2, 2, 2, 0, 2, 2, 2, 0, 2, 2, 2, 2, 0, 2, 0, 2, 0, 2, 0, 2, 2, 0, 2, 2, 0, 2, 0, 0, 2, 0, 0, 2, 2, 1, 0, 2, 2, 2, 0, 2, 2, 2, 2, 2, 2, 0, 2, 2, 0, 2, 2, 1, 2, 2, 0, 1, 2, 2, 2, 1, 2, 0, 0, 1, 0, 2, 2, 2, 2, 1, 1, 0, 2, 0, 2, 1, 2, 2, 2, 0, 2, 0, 2, 2, 2, 0, 0, 0, 2, 0, 1, 2, 2, 1, 0, 0, 1, 2, 2, 2, 0, 2, 2, 0, 2, 0, 2, 2, 2, 1, 2, 2, 2, 1, 1, 2, 0, 2, 2, 2, 2, 0, 2, 2, 2, 2, 2, 2, 0, 2, 2, 0, 2, 0, 2, 2, 2, 1, 2, 0, 1, 2, 2, 0, 2, 2, 1, 2, 2, 2, 2, 2, 2, 2, 2, 0, 2, 1, 2, 0, 2, 0, 2, 0, 2, 2, 2, 2, 0, 0, 2, 2, 2, 2, 2, 2, 2, 0, 0, 1, 0, 2, 0, 2, 0, 0, 2, 0, 2, 2, 2, 0, 0, 0, 0, 0, 2, 0, 2, 2, 0, 1, 0, 2, 0, 0, 2, 2, 0, 2, 2, 2, 2, 0, 2, 2, 2, 2, 0, 0, 0, 2, 2, 0, 2, 2, 2, 2, 2, 1, 2, 2, 2, 2, 0, 0, 0, 0, 2, 2, 0, 0, 2, 2, 1, 2, 0, 0, 2, 2, 0, 2, 2, 2, 2, 2, 2, 2, 0, 2, 2, 0, 2, 0, 1, 0, 2, 2, 2, 0, 0, 0, 0, 0, 2, 2, 2, 1, 0, 2, 2, 0, 0, 2, 2, 1, 2, 2, 2, 2, 1, 2, 2, 2, 2, 2, 2, 2, 2, 2, 2, 2, 0, 2, 0, 0, 2, 2, 2, 2, 2, 2, 2, 0, 2, 2, 0, 2, 2, 0, 1, 0, 1, 2, 2, 2, 1, 0, 0, 2, 2, 2, 2, 2, 2, 2, 2, 2, 2, 2, 2, 0, 2, 0, 0, 2, 2, 2, 2, 2, 2, 0, 2, 2, 2, 2, 0, 2, 2, 2, 2, 0, 0, 0, 0, 2, 2, 2, 2, 0, 2, 1, 2, 0, 2, 2, 0, 0, 0, 2, 2, 2, 0, 2, 0, 2, 2, 2, 2, 2, 2, 2, 2, 2, 2, 2, 2, 2, 0, 0, 0, 0, 0, 0, 2, 0, 2, 1, 2, 1, 2, 0, 2, 2, 0, 0, 2, 0, 2, 2, 2, 2, 2, 0, 2, 0, 2, 2, 1, 1, 0, 1, 0, 2, 0, 2, 2, 2, 0, 0, 0, 0, 0, 2, 2, 2, 2, 2, 0, 2, 2, 2, 2, 2, 2, 2, 0, 2, 2, 2, 2, 0, 0, 2, 2, 2, 2, 0, 2, 2, 1, 2, 2, 2, 2, 0, 2, 2, 2, 2, 0, 2, 0, 0, 0, 2, 2, 2, 2, 0, 0, 0, 2, 1, 2, 1, 0, 2, 1, 0, 2, 2, 2, 2, 0, 0, 1, 2, 1, 0, 0, 0, 2, 2, 0, 2, 2, 0, 2, 2, 1, 2, 2, 0, 2, 0, 2, 2, 2, 2, 0, 2, 0, 2, 2, 0, 2, 2, 2, 2, 2, 2, 0, 2, 0, 2, 2, 2, 2, 2, 2, 2, 0, 2, 0, 0, 2, 1, 0, 0, 2, 1, 2, 0, 2, 0, 0, 0, 0, 2, 2, 0, 0, 2, 2, 1, 2, 2, 0, 2, 0, 1, 2, 0, 1, 2, 2, 0, 2, 2, 0, 2, 0, 2, 0, 1, 2, 2, 2, 0, 1, 0, 1, 0, 0, 2, 2, 0, 0, 0, 2, 2, 1, 2, 2, 2, 0, 2, 2, 2, 2, 2, 0, 2, 0, 2, 2, 0, 1, 2, 2, 2, 2, 0, 1, 2, 1, 0, 2, 2, 2, 0, 2, 2, 0, 1, 0, 2, 2, 0, 2, 0, 0, 0, 0, 2, 0, 0, 2, 2, 1, 1, 0, 0, 2, 2, 2, 2, 2, 2, 2, 0, 1, 2, 1, 0, 0, 0, 0, 0, 0, 2, 1, 2, 2, 2, 2, 0, 0, 2, 2, 0, 2, 2, 0, 0, 2, 0, 2, 0, 2, 2, 1, 2, 0, 2, 2, 0, 2, 0, 2, 2, 2, 2, 2, 0, 2, 0, 2, 0, 2, 0, 2, 2, 0, 2, 2, 0, 2, 2, 0, 2, 1, 2, 1, 1, 2, 0, 2, 2, 2, 0, 2, 0, 1, 0, 2, 2, 2, 0, 0, 1, 0, 0, 2, 0, 2, 2, 2, 2, 2, 2, 0, 2, 2, 2, 2, 2, 2, 2, 2, 2, 0, 0, 2, 2, 2, 2, 2, 0, 1, 2, 2, 1, 0, 1, 0, 2, 0, 2, 0, 0, 0, 2, 0, 1, 2, 2, 2, 2, 2, 0, 2, 2, 1, 0, 0, 2, 0, 2, 2, 0, 2, 1, 2, 2, 2, 0, 2, 2, 2, 0, 0, 2, 0, 2, 2, 2, 2, 2, 0, 2, 2, 2, 2, 1, 2, 2, 2, 2, 2, 2, 2, 2, 2, 0, 0, 2, 0, 2, 0, 2, 2, 2, 2, 2, 2, 2, 1, 2, 1, 2, 0, 2, 0, 2, 0, 2, 2, 2, 2, 0, 0, 2, 2, 2, 2, 2, 2, 0, 0, 2, 2, 2, 2, 2, 2, 2, 2, 0, 1, 2, 0, 1, 0, 2, 2, 2, 2, 1, 0, 2, 2, 2, 1, 2, 2, 2, 0, 1, 2, 0, 2, 0, 2, 0, 2, 2, 1, 0, 2, 2, 2, 2, 2, 2, 2, 2, 2, 2, 0, 2, 2, 2, 2, 2, 2, 2, 2, 0, 2, 1, 0, 2, 0, 0, 2, 0, 2, 0, 0, 2, 2, 2, 2, 0, 2, 1, 2, 2, 0, 2, 2, 2, 2, 1, 2, 0, 2, 1, 2, 0, 2, 2, 2, 0, 2, 2, 0, 2, 2, 2, 2, 2, 2, 2, 1, 2, 1, 0, 0, 2, 2, 0, 2, 2, 2, 2, 0, 0, 2, 2, 0, 2, 2, 2, 2, 2, 2, 2, 2, 0, 2, 0, 0, 2, 2, 0, 0, 2, 2, 2, 0, 2, 0, 2, 1, 2, 0, 2, 0, 2, 2, 0, 2, 0, 2, 0, 0, 2, 0, 2, 2, 1, 1, 0, 2, 2, 0, 0, 2, 2, 2, 2, 2, 2, 0, 2, 2, 2, 2, 2, 2, 0, 2, 2, 2, 2, 2, 2, 0, 2, 1, 1, 0, 2, 2, 0, 0, 2, 2, 2, 1, 2, 2, 2, 0, 0, 0, 0, 2, 2, 2, 0, 0, 0, 0, 1, 2, 2, 0, 2, 0, 2, 1, 2, 2, 2, 2, 2, 2, 1, 2, 0, 2, 2, 0, 2, 2, 0, 1, 2, 2, 2, 1, 2, 2, 1, 2, 1, 1, 2, 2, 2, 0, 2, 0, 0, 2, 0, 2, 2, 0, 0, 2, 2, 2, 2, 0, 0, 2, 2, 0, 2, 0, 0, 2, 0, 0, 2, 0, 0, 2, 2, 0, 2, 2, 0, 2, 2, 2, 2, 2, 1, 2, 2, 2, 2, 0, 2, 0, 2, 2, 2, 2, 2, 2, 0, 0, 0, 2, 2, 2, 2, 2, 0, 2, 0, 2, 2, 2, 2, 1, 1, 2, 2, 2, 1, 1, 0, 2, 2, 2, 1, 0, 2, 2, 2, 0, 1, 2, 0, 2, 0, 2, 0, 2, 2, 2, 1, 2, 2, 2, 1, 2, 0, 2, 1, 2, 2, 2, 0, 2, 2, 2, 0, 2, 0, 2, 2, 2, 0, 2, 0, 2, 0, 0, 0, 2, 2, 2, 2, 0, 2, 2, 2, 0, 0, 2, 0, 2, 0, 1, 0, 2, 0, 2, 1, 1, 0, 1, 0, 2, 1, 2, 0, 2, 2, 2, 0, 2, 0, 2, 0, 2, 2, 0, 0, 2, 2, 0, 1, 2, 2, 2, 2, 2, 2, 2, 2, 2, 2, 0, 0, 2, 2, 2, 1, 2, 2, 2, 1, 2, 2, 2, 2, 2, 2, 0, 0, 2, 2, 2, 2, 2, 1, 2, 1, 2, 2, 0, 0, 2, 2, 2, 2, 2, 2, 2, 2, 2, 2, 0, 1, 0, 2, 0, 0, 2, 0, 0, 0, 2, 0, 2, 2, 0, 0, 0, 2, 2, 2, 2, 1, 2, 2, 2, 2, 2, 2, 0, 2, 2, 2, 2, 0, 2, 2, 0, 2, 0, 2, 2, 2, 1, 2, 2, 2, 2, 2, 2, 0, 2, 2, 0, 0, 2, 2, 2, 1, 2, 2, 2, 0, 0, 2, 2, 2, 0, 2, 1, 2, 0, 2, 2, 2, 2, 0, 2, 2, 0, 2, 0, 2, 2, 1, 1, 2, 0, 2, 2, 0, 0, 2, 2, 2, 0, 2, 2, 2, 0, 2, 2, 2, 1, 0, 0, 2, 2, 0, 2, 0, 0, 2, 0, 2, 2, 2, 2, 2, 0, 0, 0, 2, 2, 2, 0, 1, 2, 2, 0, 2, 0, 0, 2, 2, 2, 2, 2, 1, 2, 0, 0, 2, 2, 0, 2, 2, 2, 0, 2, 2, 0, 0, 2, 0, 2, 1, 2, 0, 0, 0, 2, 2, 2, 2, 2, 1, 2, 0, 2, 2, 1, 2, 1, 2, 0, 1, 0, 0, 2, 0, 2, 2, 2, 2, 0, 2, 0, 0, 2, 2, 2, 0, 1, 1, 0, 0, 2, 2, 2, 2, 1, 2, 2, 2, 1, 2, 2, 2, 1, 0, 0, 0, 1, 2, 0, 0, 0, 2, 2, 2, 1, 2, 2, 2, 2, 2, 2, 0, 2, 2, 1, 2, 0, 2, 2, 2, 2, 2, 1, 0, 0, 1, 0, 0, 1, 1, 2, 0, 0, 0, 2, 2, 0, 0, 0, 0, 0, 2, 2, 2, 1, 2, 1, 2, 2, 0, 1, 0, 0, 0, 2, 2, 2, 2, 2, 2, 2, 0, 2, 2, 2, 0, 0, 2, 0, 1, 2, 2, 2, 2, 2, 2, 2, 0, 1, 0, 2, 2, 1, 2, 1, 2, 0, 0, 2, 2, 2, 2, 0, 1, 2, 2, 2, 1, 1, 2, 1, 0, 1, 0, 2, 2, 2, 2, 0, 2, 2, 2, 2, 0, 2, 2, 0, 2, 2, 2, 2, 1, 2, 0, 2, 2, 2, 0, 2, 0, 2, 2, 2, 2, 0, 0, 0, 2, 0, 2, 0, 1, 2, 0, 2, 1, 0, 2, 2, 0, 0, 0, 2, 2, 2, 1, 0, 2, 2, 2, 2, 1, 0, 0, 0, 0, 2, 2, 1, 2, 2, 1, 2, 2, 0, 2, 2, 0, 0, 2, 2, 0, 2, 2, 1, 2, 2, 0, 2, 2, 0, 0, 2, 2, 0, 1, 1, 2, 0, 2, 1, 2, 2, 2, 0, 2, 2, 0, 2, 0, 1, 0, 2, 2, 1, 0, 0, 2, 1, 0, 2, 2, 2, 2, 0, 1, 2, 2, 0, 2, 2, 0, 2, 0, 1, 2, 2, 0, 1, 2, 2, 2, 2, 2, 2, 0, 2, 0, 2, 2, 2, 2, 0, 2, 2, 0, 1, 2, 0, 2, 2, 0, 2, 2, 2, 2, 2, 0, 2, 2, 0, 2, 2, 0, 2, 2, 2, 0, 2, 2, 1, 2, 2, 2, 2, 2, 2, 1, 2, 2, 1, 2, 2, 2, 0, 1, 2, 2, 2, 2, 1, 0, 2, 2, 2, 2, 2, 2, 0, 0, 0, 1, 2, 0, 0, 2, 0, 2, 2, 0, 2, 2, 1, 2, 1, 0, 2, 1, 2, 1, 0, 2, 2, 2, 2, 0, 2, 2, 0, 0, 1, 2, 0, 0, 1, 2, 2, 2, 2, 0, 0, 1, 2, 2, 2, 0, 1, 2, 2, 0, 2, 0, 2, 0, 2, 0, 0, 2, 2, 2, 1, 2, 0, 0, 2, 0, 0, 2, 2, 2, 0, 2, 0, 2, 2, 2, 0, 2, 0, 2, 2, 0, 0, 1, 2, 2, 0, 0, 2, 2, 2, 1, 0, 2, 2, 2, 2, 2, 0, 2, 2, 0, 2, 2, 2, 2, 1, 2, 2, 2, 2, 2, 2, 2, 2, 0, 1, 2, 2, 2, 2, 2, 0, 0, 1, 0, 1, 2, 2, 2, 2, 2, 0, 2, 0, 2, 2, 2, 0, 0, 2, 0, 0, 2, 0, 2, 2, 2, 0, 2, 2, 2, 0, 2, 2, 2, 2, 2, 1, 0, 2, 0, 2, 0, 2, 2, 1, 2, 1, 2, 1, 2, 2, 2, 2, 2, 2, 2, 0, 2, 2, 2, 2, 2, 2, 2, 1, 2, 2, 2, 2, 2, 2, 0, 0, 2, 2, 1, 1, 2, 2, 2, 2, 0, 2, 2, 2, 0, 2, 0, 2, 0, 2, 1, 2, 0, 0, 2, 0, 2, 2, 2, 2, 2, 2, 0, 2, 2, 2, 2, 2, 0, 0, 2, 2, 0, 2, 2, 2, 0, 0, 0, 1, 2, 2, 0, 2, 2, 2, 0, 2, 0, 2, 2, 2, 0, 2, 0, 2, 2, 0, 1, 2, 2, 0, 0, 2, 2, 0, 2, 2, 2, 1, 2, 0, 2, 2, 2, 0, 2, 2, 2, 2, 0, 2, 1, 2, 0, 1, 2, 2, 0, 2, 2, 2, 1, 2, 2, 2, 2, 2, 2, 2, 0, 0, 2, 2, 2, 0, 2, 2, 2, 0, 2, 2, 1, 2, 0, 2, 2, 2, 0, 2, 2, 1, 2, 0, 0, 2, 2, 2, 2, 0, 2, 0, 2, 0, 2, 0, 0, 2, 0, 0, 2, 1, 2, 1, 2, 2, 2, 2, 2, 2, 0, 2, 0, 2, 0, 2, 2, 0, 0, 0, 2, 0, 0, 2, 2, 0, 2, 2, 2, 2, 1, 0, 2, 2, 2, 2, 2, 0, 2, 2, 0, 0, 1, 0, 2, 1, 0, 2, 2, 2, 2, 2, 1, 2, 1, 2, 2, 0, 0, 0, 1, 2, 2, 2, 2, 2, 2, 0, 2, 2, 2, 0, 2, 2, 0, 2, 2, 0, 0, 1, 2, 2, 0, 2, 2, 2, 0, 2, 0, 2, 2, 2, 2, 0, 2, 0, 2, 0, 2, 2, 2, 1, 0, 0, 2, 2, 2, 0, 2, 2, 1, 2, 0, 2, 2, 2, 0, 2, 2, 0, 2, 0, 2, 0, 2, 2, 0, 2, 2, 2, 2, 0, 2, 1, 2, 2, 0, 2, 2, 2, 0, 0, 2, 0, 0, 2, 0, 2, 0, 2, 0, 2, 2, 0, 0, 1, 2, 1, 2, 2, 2, 0, 0, 0, 0, 0, 2, 2, 2, 2, 2, 0, 2, 2, 0, 2, 2, 2, 2, 1, 0, 2, 2, 1, 2, 1, 2, 0, 1, 2, 1, 2, 2, 2, 2, 2, 1, 2, 2, 2, 2, 0, 0, 2, 0, 2, 2, 0, 2, 0, 1, 2, 2, 2, 2, 2, 2, 0, 1, 2, 1, 1, 0, 2, 2, 1, 2, 2, 2, 2, 0, 2, 2, 2, 1, 2, 2, 2, 2, 2, 2, 2, 2, 1, 0, 2, 1, 2, 1, 2, 0, 2, 0, 2, 2, 2, 2, 1, 2, 0, 2, 2, 2, 2, 2, 2, 0, 2, 2, 1, 2, 2, 2, 2, 0, 2, 1, 2, 2, 0, 1, 2, 0, 2, 2, 0, 0, 1, 2, 2, 2, 0, 2, 2, 0, 0, 2, 0, 0, 0, 2, 0, 0, 2, 2, 1, 2, 2, 1, 2, 2, 1, 2, 1, 2, 2, 2, 2, 2, 0, 2, 2, 2, 1, 0, 2, 2, 2, 1, 2, 1, 2, 2, 2, 0, 2, 0, 2, 0, 2, 0, 2, 2, 0, 2, 0, 2, 2, 0, 0, 2, 2, 2, 2, 0, 2, 2, 0, 2, 2, 2, 2, 0, 2, 2, 2, 2, 1, 2, 2, 2, 2, 2, 0, 0, 2, 2, 2, 2, 2, 2, 0, 2, 2, 2, 0, 2, 2, 2, 0, 2, 2, 2, 1, 0, 2, 0, 2, 0, 2, 2, 2, 2, 2, 2, 2, 0, 2, 2, 2, 2, 2, 0, 0, 2, 0, 2, 2, 2, 2, 2, 1, 0, 2, 2, 2, 0, 0, 2, 2, 0, 0, 0, 2, 2, 0, 2, 0, 2, 2, 2, 0, 0, 2, 2, 1, 2, 0, 0, 2, 2, 2, 2, 0, 1, 2, 2, 2, 1, 0, 2, 0, 2, 1, 2, 0, 2, 2, 2, 2, 2, 0, 2, 2, 2, 2, 2, 2, 1, 2, 0, 2, 2, 2, 2, 2, 2, 2, 2, 0, 2, 2, 2, 0, 0, 2, 2, 2, 2, 2, 2, 2, 0, 2, 0, 2, 2, 2, 0, 1, 2, 1, 2, 2, 2, 2, 0, 1, 2, 0, 2, 2, 0, 0, 0, 2, 0, 2, 0, 2, 2, 1, 1, 2, 2, 2, 0, 1, 2, 1, 0, 2, 2, 2, 2, 0, 0, 0, 2, 0, 2, 0, 2, 2, 0, 2, 2, 0, 0, 2, 0, 2, 2, 2, 2, 1, 2, 2, 0, 0, 2, 2, 2, 0, 2, 2, 0, 0, 2, 2, 2, 2, 0, 0, 2, 2, 2, 2, 0, 2, 0, 0, 1, 0, 2, 2, 2, 2, 2, 1, 1, 2, 2, 0, 2, 2, 0, 2, 2, 0, 2, 1, 2, 1, 2, 2, 2, 0, 0, 2, 2, 1, 2, 2, 2, 0, 0, 0, 1, 2, 0, 2, 0, 2, 2, 0, 2, 0, 1, 2, 2, 2, 1, 1, 2, 1, 2, 2, 2, 2, 2, 2, 2, 0, 2, 2, 1, 2, 0, 1, 2, 2, 0, 2, 2, 2, 2, 2, 2, 2, 2, 0, 2, 0, 2, 0, 0, 0, 0, 2, 0, 1, 2, 0, 2, 0, 2, 2, 0, 2, 2, 2, 2, 2, 0, 2, 2, 2, 2, 2, 2, 0, 2, 0, 0, 2, 2, 2, 2, 2, 2, 2, 0, 0, 2, 2, 2, 0, 0, 1, 2, 1, 2, 2, 2, 1, 1, 2, 2, 0, 2, 2, 2, 2, 0, 2, 2, 2, 2, 0, 2, 2, 2, 1, 2, 0, 2, 0, 1, 2, 2, 0, 2, 1, 0, 2, 0, 0, 0, 0, 1, 1, 2, 2, 2, 2, 2, 2, 0, 1, 0, 1, 1, 2, 2, 0, 2, 0, 2, 2, 2, 1, 2, 0, 0, 1, 0, 1, 2, 0, 2, 2, 2, 1, 1, 1, 1, 1, 0, 2, 1, 2, 2, 2, 2, 2, 0, 1, 1, 2, 2, 2, 2, 2, 2, 2, 0, 0, 2, 2, 2, 1, 0, 2, 0, 0, 0, 2, 2, 2, 0, 2, 0, 0, 2, 2, 0, 2, 2, 2, 2, 0, 2, 1, 0, 1, 1, 1, 0, 0, 2, 0, 2, 0, 2, 2, 0, 0, 0, 1, 1, 2, 2, 2, 2, 2, 2, 2, 2, 2, 2, 2, 2, 0, 2, 0, 2, 2, 2, 2, 2, 0, 2, 0, 0, 2, 2, 2, 2, 2, 2, 2, 2, 1, 2, 2, 0, 2, 1, 0, 2, 2, 2, 2, 0, 2, 2, 1, 0, 2, 2, 1, 2, 0, 0, 1, 2, 2, 2, 1, 2, 0, 2, 2, 2, 2, 2, 0, 2, 0, 2, 0, 2, 0, 2, 0, 2, 2, 2, 2, 2, 2, 0, 2, 0, 2, 2, 2, 2, 0, 0, 2, 2, 2, 0, 0, 2, 2, 0, 2, 2, 2, 2, 1, 0, 2, 2, 1, 0, 0, 2, 0, 2, 2, 2, 2, 2, 0, 2, 2, 2, 2, 2, 2, 2, 2, 2, 0, 2, 2, 0, 2, 0, 2, 2, 2, 0, 2, 1, 2, 2, 2, 2, 0, 0, 0, 2, 1, 2, 0, 2, 0, 0, 2, 0, 2, 2, 0, 2, 0, 0, 2, 0, 2, 1, 0, 2, 0, 2, 2, 2, 0, 0, 2, 0, 0, 2, 2, 2, 0, 2, 0, 2, 1, 2, 0, 0, 2, 0, 1, 2, 2, 2, 0, 2, 0, 1, 2, 2, 0, 2, 2, 0, 2, 2, 0, 0, 1, 2, 2, 2, 0, 0, 2, 0, 1, 0, 1, 0, 0, 2, 0, 1, 2, 1, 2, 2, 0, 1, 0, 1, 2, 0, 2, 2, 0, 0, 0, 2, 0, 2, 2, 2, 0, 0, 2, 2, 2, 2, 2, 2, 2, 2, 0, 0, 2, 1, 0, 2, 2, 2, 2, 0, 2, 2, 2, 2, 0, 2, 2, 0, 0, 1, 2, 0, 2, 0, 0, 0, 2, 0, 0, 2, 2, 2, 2, 2, 0, 2, 1, 0, 1, 2, 2, 0, 0, 2, 0, 2, 2, 0, 2, 2, 1, 2, 0, 2, 0, 0, 0, 2, 2, 0, 2, 0, 0, 2, 2, 0, 2, 2, 0, 2, 2, 1, 2, 2, 2, 2, 2, 2, 1, 2, 2, 2, 0, 0, 2, 2, 0, 2, 0, 2, 2, 0, 2, 2, 0, 2, 2, 2, 2, 2, 2, 2, 0, 2, 2, 2, 0, 0, 0, 1, 2, 0, 2, 2, 0, 2, 2, 2, 0, 2, 2, 0, 2, 2, 2, 2, 0, 2, 0, 2, 2, 1, 2, 2, 2, 1, 2, 2, 0, 0, 0, 0, 0, 2, 2, 2, 2, 0, 2, 0, 2, 2, 0, 2, 1, 2, 1, 2, 0, 2, 2, 2, 0, 0, 2, 0, 2, 2, 2, 0, 2, 2, 2, 0, 0, 2, 2, 2, 2, 0, 2, 1, 0, 0, 2, 2, 0, 2, 2, 2, 2, 2, 2, 2, 0, 2, 2, 0, 0, 2, 2, 2, 1, 2, 2, 2, 2, 0, 0, 2, 2, 2, 2, 0, 2, 2, 2, 0, 2, 1, 2, 0, 0, 2, 2, 2, 2, 2, 2, 0, 2, 2, 2, 2, 0, 0, 0, 0, 0, 2, 2, 2, 2, 2, 2, 2, 2, 2, 2, 2, 2, 2, 2, 1, 2, 2, 0, 2, 0, 2, 0, 0, 0, 2, 2, 2, 2, 1, 0, 0, 0, 0, 0, 0, 2, 0, 2, 2, 2, 0, 2, 2, 2, 2, 0, 2, 2, 2, 2, 2, 0, 2, 0, 2, 2, 2, 2, 0, 2, 2, 0, 0, 2, 2, 0, 2, 2, 2, 0, 2, 2, 2, 2, 0, 2, 2, 0, 0, 2, 0, 2, 2, 0, 2, 1, 2, 0, 2, 2, 0, 2, 2, 2, 2, 2, 0, 2, 2, 2, 0, 2, 0, 2, 0, 2, 2, 2, 2, 0, 2, 2, 2, 2, 2, 2, 1, 0, 2, 2, 0, 2, 0, 2, 0, 2, 2, 0, 2, 0, 0, 2, 2, 2, 2, 2, 2, 2, 0, 2, 2, 0, 1, 0, 2, 2, 0, 2, 1, 1, 2, 2, 2, 2, 2, 2, 2, 2, 2, 2, 0, 0, 2, 2, 2, 2, 0, 2, 0, 0, 2, 2, 0, 2, 2, 2, 0, 2, 2, 2, 2, 2, 2, 0, 2, 2, 0, 0, 0, 2, 2, 2, 2, 0, 0, 0, 2, 2, 0, 2, 0, 0, 1, 2, 2, 2, 2, 0, 0, 2, 0, 0, 0, 0, 2, 0, 2, 2, 0, 2, 2, 0, 2, 2, 2, 2, 2, 0, 2, 1, 2, 0, 2, 2, 0, 0, 1, 1, 0, 0, 2, 2, 1, 2, 2, 2, 2, 2, 2, 2, 2, 2, 2, 0, 0, 2, 2, 0, 2, 2, 2, 0, 2, 2, 0, 2, 0, 0, 0, 2, 0, 2, 2, 0, 0, 2, 0, 2, 2, 2, 2, 0, 2, 2, 2, 2, 2, 2, 0, 0, 1, 0, 2, 2, 2, 0, 2, 0, 2, 0, 2, 2, 0, 0, 2, 2, 2, 2, 0, 2, 0, 0, 0, 1, 2, 0, 0, 2, 2, 0, 2, 2, 0, 0, 2, 2, 1, 0, 2, 0, 0, 2, 2, 0, 0, 2, 2, 2, 2, 2, 1, 1, 0, 0, 2, 2, 2, 1, 2, 2, 2, 2, 0, 2, 2, 2, 0, 0, 2, 1, 2, 0, 2]\n"
          ]
        }
      ],
      "source": [
        "print(ypred)"
      ]
    },
    {
      "cell_type": "code",
      "execution_count": 45,
      "metadata": {},
      "outputs": [
        {
          "name": "stdout",
          "output_type": "stream",
          "text": [
            "MAPE: 4005915970474630.5\n"
          ]
        }
      ],
      "source": [
        "from sklearn.metrics import mean_absolute_percentage_error\n",
        "\n",
        "\n",
        "mape = mean_absolute_percentage_error(y_train, ypred)\n",
        "print(\"MAPE:\", mape)\n"
      ]
    },
    {
      "cell_type": "code",
      "execution_count": 46,
      "metadata": {},
      "outputs": [
        {
          "data": {
            "text/plain": [
              "(array([0, 1, 2], dtype=int64),)"
            ]
          },
          "execution_count": 46,
          "metadata": {},
          "output_type": "execute_result"
        }
      ],
      "source": [
        "\n",
        "np.unique(ypred),"
      ]
    },
    {
      "cell_type": "code",
      "execution_count": 47,
      "metadata": {},
      "outputs": [
        {
          "data": {
            "text/plain": [
              "['C:\\\\Users\\\\AmirHussain\\\\Desktop\\\\machine-Learning-tradert-bot-main\\\\Models\\\\test\\\\Neural Network  19.42%.h5']"
            ]
          },
          "execution_count": 47,
          "metadata": {},
          "output_type": "execute_result"
        }
      ],
      "source": [
        "joblib.dump ( nn_model,f\"C:\\\\Users\\\\AmirHussain\\\\Desktop\\\\machine-Learning-tradert-bot-main\\\\Models\\\\test\\\\Neural Network {loss : .2%}.h5\")"
      ]
    },
    {
      "attachments": {},
      "cell_type": "markdown",
      "metadata": {},
      "source": [
        "## Naive Bayes"
      ]
    },
    {
      "cell_type": "code",
      "execution_count": 48,
      "metadata": {},
      "outputs": [],
      "source": [
        "from sklearn.naive_bayes import GaussianNB\n",
        "nb_model = GaussianNB()\n",
        "nb_model.fit(X_train , y_train)\n",
        "\n",
        "nb_pred_train = nb_model.predict(X_train)\n",
        "nb_pred_test = nb_model.predict(X_test)\n",
        "\n",
        "nb_score_train = accuracy_score(y_train, nb_pred_train)\n",
        "nb_score_test = accuracy_score(y_test, nb_pred_test) \n",
        "\n",
        "\n",
        "\n",
        "nb_cm_train = confusion_matrix(y_train, nb_pred_train)\n",
        "nb_cm_test = confusion_matrix(y_test, nb_pred_test)\n",
        "\n",
        "nb_clasi_train = classification_report(y_train, nb_pred_train)\n",
        "nb_clasi_test = classification_report(y_test, nb_pred_test)"
      ]
    },
    {
      "cell_type": "code",
      "execution_count": 49,
      "metadata": {},
      "outputs": [
        {
          "name": "stdout",
          "output_type": "stream",
          "text": [
            "========================================\n",
            "accuracy for Train :   94.33% \n",
            "accuracy for Test :    94.31% \n",
            "----------------------------------------\n",
            "confusion matrix for Train :  \n",
            " [[66038     0     0]\n",
            " [ 2055     0     0]\n",
            " [ 1911     0     0]]\n",
            "----------------------------------------\n",
            "confusion matrix for Test : \n",
            " [[28296     0     0]\n",
            " [  882     0     0]\n",
            " [  825     0     0]]\n",
            "----------------------------------------\n",
            "classification report for Train :\n",
            "               precision    recall  f1-score   support\n",
            "\n",
            "           0       0.94      1.00      0.97     66038\n",
            "           1       0.00      0.00      0.00      2055\n",
            "           2       0.00      0.00      0.00      1911\n",
            "\n",
            "    accuracy                           0.94     70004\n",
            "   macro avg       0.31      0.33      0.32     70004\n",
            "weighted avg       0.89      0.94      0.92     70004\n",
            "\n",
            "----------------------------------------\n",
            "classification report for Test :\n",
            "               precision    recall  f1-score   support\n",
            "\n",
            "           0       0.94      1.00      0.97     28296\n",
            "           1       0.00      0.00      0.00       882\n",
            "           2       0.00      0.00      0.00       825\n",
            "\n",
            "    accuracy                           0.94     30003\n",
            "   macro avg       0.31      0.33      0.32     30003\n",
            "weighted avg       0.89      0.94      0.92     30003\n",
            "\n"
          ]
        }
      ],
      "source": [
        "print(\"==\"*20)\n",
        "print(f\"accuracy for Train :  { nb_score_train : .2%} \")\n",
        "print(f\"accuracy for Test :   { nb_score_test : .2%} \")\n",
        "print(\"--\"*20)\n",
        "print(f\"confusion matrix for Train :  \\n\", nb_cm_train)\n",
        "print(\"--\"*20)\n",
        "print(f\"confusion matrix for Test : \\n\" , nb_cm_test)\n",
        "print(\"--\"*20)\n",
        "print(f\"classification report for Train :\\n\", nb_clasi_train )\n",
        "print(\"--\"*20)\n",
        "print(f\"classification report for Test :\\n\" , nb_clasi_test )\n"
      ]
    },
    {
      "cell_type": "code",
      "execution_count": 50,
      "metadata": {},
      "outputs": [
        {
          "data": {
            "image/png": "[encoded data removed]",
            "text/plain": [
              "<Figure size 640x480 with 2 Axes>"
            ]
          },
          "metadata": {},
          "output_type": "display_data"
        }
      ],
      "source": [
        "labels = ['hold', 'buy', 'sell']\n",
        "\n",
        "fig = plt.figure()\n",
        "ax = fig.add_subplot(111)\n",
        "cax = ax.matshow(nb_cm_train)\n",
        "plt.title('Confusion matrix of the classifier')\n",
        "fig.colorbar(cax)\n",
        "ax.set_xticklabels([''] + labels)\n",
        "ax.set_yticklabels([''] + labels)\n",
        "plt.xlabel('Predicted')\n",
        "plt.ylabel('True')\n",
        "plt.show()"
      ]
    },
    {
      "cell_type": "code",
      "execution_count": 51,
      "metadata": {},
      "outputs": [
        {
          "data": {
            "image/png": "[encoded data removed]",
            "text/plain": [
              "<Figure size 640x480 with 2 Axes>"
            ]
          },
          "metadata": {},
          "output_type": "display_data"
        }
      ],
      "source": [
        "labels = ['hold', 'buy', 'sell']\n",
        "\n",
        "fig = plt.figure()\n",
        "ax = fig.add_subplot(111)\n",
        "cax = ax.matshow(nb_cm_test)\n",
        "plt.title('Confusion matrix of the classifier')\n",
        "fig.colorbar(cax)\n",
        "ax.set_xticklabels([''] + labels)\n",
        "ax.set_yticklabels([''] + labels)\n",
        "plt.xlabel('Predicted')\n",
        "plt.ylabel('True')\n",
        "plt.show()"
      ]
    },
    {
      "cell_type": "code",
      "execution_count": 52,
      "metadata": {},
      "outputs": [
        {
          "data": {
            "text/plain": [
              "['C:\\\\Users\\\\AmirHussain\\\\Desktop\\\\machine-Learning-tradert-bot-main\\\\Models\\\\test\\\\Naive Bayes  94.31%.h5']"
            ]
          },
          "execution_count": 52,
          "metadata": {},
          "output_type": "execute_result"
        }
      ],
      "source": [
        "joblib.dump ( nb_model,f\"C:\\\\Users\\\\AmirHussain\\\\Desktop\\\\machine-Learning-tradert-bot-main\\\\Models\\\\test\\\\Naive Bayes {nb_score_test : .2%}.h5\")"
      ]
    },
    {
      "attachments": {},
      "cell_type": "markdown",
      "metadata": {},
      "source": [
        "## XGBoost"
      ]
    },
    {
      "cell_type": "code",
      "execution_count": 53,
      "metadata": {},
      "outputs": [],
      "source": [
        "xgb_model = XGBClassifier()\n",
        "xgb_model.fit(X_train , y_train)\n",
        "xgb_pred_train = xgb_model.predict(X_train)\n",
        "xgb_pred_test = xgb_model.predict(X_test)\n",
        "\n",
        "xgb_score_train = accuracy_score(y_train, xgb_pred_train)\n",
        "xgb_score_test = accuracy_score(y_test, xgb_pred_test)  \n",
        "\n",
        "xcmtrain = confusion_matrix(y_train, xgb_pred_train)\n",
        "xcmtest = confusion_matrix(y_test, xgb_pred_test)\n",
        "xgc_train = classification_report(y_train, xgb_pred_train)\n",
        "xgc_test = classification_report(y_test, xgb_pred_test)"
      ]
    },
    {
      "cell_type": "code",
      "execution_count": 54,
      "metadata": {},
      "outputs": [
        {
          "name": "stdout",
          "output_type": "stream",
          "text": [
            "========================================\n",
            "accuracy for Train :   95.02% \n",
            "accuracy for Test :    94.43% \n",
            "----------------------------------------\n",
            "confusion matrix for Train :  \n",
            " [[66035     3     0]\n",
            " [ 1817   238     0]\n",
            " [ 1669     0   242]]\n",
            "----------------------------------------\n",
            "confusion matrix for Test : \n",
            " [[28258    21    17]\n",
            " [  845    37     0]\n",
            " [  787     0    38]]\n",
            "----------------------------------------\n",
            "classification report for Train :\n",
            "                precision    recall  f1-score   support\n",
            "\n",
            "           0       0.95      1.00      0.97     66038\n",
            "           1       0.99      0.12      0.21      2055\n",
            "           2       1.00      0.13      0.22      1911\n",
            "\n",
            "    accuracy                           0.95     70004\n",
            "   macro avg       0.98      0.41      0.47     70004\n",
            "weighted avg       0.95      0.95      0.93     70004\n",
            "\n",
            "----------------------------------------\n",
            "classification report for Test :\n",
            "                precision    recall  f1-score   support\n",
            "\n",
            "           0       0.95      1.00      0.97     28296\n",
            "           1       0.64      0.04      0.08       882\n",
            "           2       0.69      0.05      0.09       825\n",
            "\n",
            "    accuracy                           0.94     30003\n",
            "   macro avg       0.76      0.36      0.38     30003\n",
            "weighted avg       0.93      0.94      0.92     30003\n",
            "\n"
          ]
        }
      ],
      "source": [
        "print(\"==\"*20)\n",
        "\n",
        "print(f\"accuracy for Train :  { xgb_score_train : .2%} \")\n",
        "print(f\"accuracy for Test :   { xgb_score_test : .2%} \")\n",
        "# confusion matrix\n",
        "print(\"--\"*20)\n",
        "print(f\"confusion matrix for Train :  \\n\" ,xcmtrain)\n",
        "print(\"--\"*20)\n",
        "print(f\"confusion matrix for Test : \\n\" , xcmtest  )\n",
        "print(\"--\"*20)\n",
        "print(f\"classification report for Train :\\n  {xgc_train}\")\n",
        "print(\"--\"*20)\n",
        "print(f\"classification report for Test :\\n  {xgc_test}\")"
      ]
    },
    {
      "cell_type": "code",
      "execution_count": 55,
      "metadata": {},
      "outputs": [
        {
          "data": {
            "image/png": "[encoded data removed]",
            "text/plain": [
              "<Figure size 640x480 with 2 Axes>"
            ]
          },
          "metadata": {},
          "output_type": "display_data"
        }
      ],
      "source": [
        "labels = ['hold', 'buy', 'sell']\n",
        "\n",
        "fig = plt.figure()\n",
        "ax = fig.add_subplot(111)\n",
        "cax = ax.matshow(xcmtrain)\n",
        "plt.title('Confusion matrix of the classifier')\n",
        "fig.colorbar(cax)\n",
        "ax.set_xticklabels([''] + labels)\n",
        "ax.set_yticklabels([''] + labels)\n",
        "plt.xlabel('Predicted')\n",
        "plt.ylabel('True')\n",
        "plt.show()"
      ]
    },
    {
      "cell_type": "code",
      "execution_count": 56,
      "metadata": {},
      "outputs": [
        {
          "data": {
            "image/png": "[encoded data removed]",
            "text/plain": [
              "<Figure size 640x480 with 2 Axes>"
            ]
          },
          "metadata": {},
          "output_type": "display_data"
        }
      ],
      "source": [
        "labels = ['hold', 'buy', 'sell']\n",
        "\n",
        "fig = plt.figure()\n",
        "ax = fig.add_subplot(111)\n",
        "cax = ax.matshow(xcmtest)\n",
        "plt.title('Confusion matrix of the classifier')\n",
        "fig.colorbar(cax)\n",
        "ax.set_xticklabels([''] + labels)\n",
        "ax.set_yticklabels([''] + labels)\n",
        "plt.xlabel('Predicted')\n",
        "plt.ylabel('True')\n",
        "plt.show()"
      ]
    },
    {
      "cell_type": "code",
      "execution_count": 57,
      "metadata": {},
      "outputs": [
        {
          "data": {
            "text/plain": [
              "['C:\\\\Users\\\\AmirHussain\\\\Desktop\\\\machine-Learning-tradert-bot-main\\\\Models\\\\test\\\\XGboost  94.43%.h5']"
            ]
          },
          "execution_count": 57,
          "metadata": {},
          "output_type": "execute_result"
        }
      ],
      "source": [
        "joblib.dump ( xgb_model,f\"C:\\\\Users\\\\AmirHussain\\\\Desktop\\\\machine-Learning-tradert-bot-main\\\\Models\\\\test\\\\XGboost {xgb_score_test : .2%}.h5\")"
      ]
    },
    {
      "attachments": {},
      "cell_type": "markdown",
      "metadata": {},
      "source": [
        "## SKlearn MLPclassifier\n"
      ]
    },
    {
      "cell_type": "code",
      "execution_count": 58,
      "metadata": {},
      "outputs": [],
      "source": [
        "from sklearn.neural_network import MLPClassifier\n",
        "\n",
        "clf = MLPClassifier(solver='adam', alpha=.0001, activation= \"identity\",\n",
        "                    hidden_layer_sizes=(90, 20, 20, 7, 9), random_state=100,  learning_rate=\"adaptive\", verbose= False)\n",
        "\n",
        "\n",
        "clf.fit(X_train, y_train)\n",
        "\n",
        "\n",
        "mlp_pred_train = clf.predict(X_train)\n",
        "mlp_accuracy_train = accuracy_score(y_train, mlp_pred_train)\n",
        "\n",
        "mlp_pred_test = clf.predict(X_test)\n",
        "mlp_accuracy_test = accuracy_score(y_test, mlp_pred_test)\n"
      ]
    },
    {
      "cell_type": "code",
      "execution_count": 59,
      "metadata": {},
      "outputs": [
        {
          "name": "stdout",
          "output_type": "stream",
          "text": [
            "========================================\n",
            "accuracy for Train :  94.70% \n",
            "accuracy for Test :  94.72% \n",
            "----------------------------------------\n",
            "confusion matrix for Train :  \n",
            " [[65569   107   362]\n",
            " [ 1800   255     0]\n",
            " [ 1439     0   472]]\n",
            "----------------------------------------\n",
            "confusion matrix for Test : \n",
            " [[28106    45   145]\n",
            " [  775   107     0]\n",
            " [  619     0   206]]\n",
            "----------------------------------------\n",
            "classification report for Train :\n",
            "                precision    recall  f1-score   support\n",
            "\n",
            "           0       0.95      0.99      0.97     66038\n",
            "           1       0.70      0.12      0.21      2055\n",
            "           2       0.57      0.25      0.34      1911\n",
            "\n",
            "    accuracy                           0.95     70004\n",
            "   macro avg       0.74      0.45      0.51     70004\n",
            "weighted avg       0.94      0.95      0.93     70004\n",
            "\n",
            "----------------------------------------\n",
            "classification report for Test :\n",
            "                precision    recall  f1-score   support\n",
            "\n",
            "           0       0.95      0.99      0.97     28296\n",
            "           1       0.70      0.12      0.21       882\n",
            "           2       0.59      0.25      0.35       825\n",
            "\n",
            "    accuracy                           0.95     30003\n",
            "   macro avg       0.75      0.45      0.51     30003\n",
            "weighted avg       0.94      0.95      0.93     30003\n",
            "\n"
          ]
        }
      ],
      "source": [
        "print(\"==\"*20)\n",
        "\n",
        "print(f\"accuracy for Train :  {mlp_accuracy_train:.2%} \")\n",
        "print(f\"accuracy for Test :  {mlp_accuracy_test:.2%} \")\n",
        "# confusion matrix\n",
        "print(\"--\"*20)\n",
        "print(f\"confusion matrix for Train :  \\n\" ,xcmtrain_mlp := confusion_matrix(y_train, mlp_pred_train),)\n",
        "print(\"--\"*20)\n",
        "print(f\"confusion matrix for Test : \\n\" , xcmtest_mlp := confusion_matrix(y_test, mlp_pred_test))\n",
        "print(\"--\"*20)\n",
        "print(f\"classification report for Train :\\n  {classification_report(y_train, mlp_pred_train)}\")\n",
        "print(\"--\"*20)\n",
        "print(f\"classification report for Test :\\n  {classification_report(y_test, mlp_pred_test)}\")"
      ]
    },
    {
      "cell_type": "code",
      "execution_count": 60,
      "metadata": {},
      "outputs": [
        {
          "data": {
            "image/png": "[encoded data removed]",
            "text/plain": [
              "<Figure size 640x480 with 2 Axes>"
            ]
          },
          "metadata": {},
          "output_type": "display_data"
        }
      ],
      "source": [
        "labels = ['hold', 'buy', 'sell']\n",
        "\n",
        "fig = plt.figure()\n",
        "ax = fig.add_subplot(111)\n",
        "cax = ax.matshow(xcmtrain_mlp)\n",
        "plt.title('Confusion matrix of the classifier')\n",
        "fig.colorbar(cax)\n",
        "ax.set_xticklabels([''] + labels)\n",
        "ax.set_yticklabels([''] + labels)\n",
        "plt.xlabel('Predicted')\n",
        "plt.ylabel('True')\n",
        "plt.show()"
      ]
    },
    {
      "cell_type": "code",
      "execution_count": 61,
      "metadata": {},
      "outputs": [
        {
          "data": {
            "image/png": "[encoded data removed]",
            "text/plain": [
              "<Figure size 640x480 with 2 Axes>"
            ]
          },
          "metadata": {},
          "output_type": "display_data"
        }
      ],
      "source": [
        "labels = ['hold', 'buy', 'sell']\n",
        "\n",
        "fig = plt.figure()\n",
        "ax = fig.add_subplot(111)\n",
        "cax = ax.matshow(xcmtest_mlp)\n",
        "plt.title('Confusion matrix of the classifier')\n",
        "fig.colorbar(cax)\n",
        "ax.set_xticklabels([''] + labels)\n",
        "ax.set_yticklabels([''] + labels)\n",
        "plt.xlabel('Predicted')\n",
        "plt.ylabel('True')\n",
        "plt.show()"
      ]
    },
    {
      "cell_type": "code",
      "execution_count": 62,
      "metadata": {},
      "outputs": [
        {
          "data": {
            "text/plain": [
              "['C:\\\\Users\\\\AmirHussain\\\\Desktop\\\\machine-Learning-tradert-bot-main\\\\Models\\\\test\\\\MLPClassifier  94.72%.h5']"
            ]
          },
          "execution_count": 62,
          "metadata": {},
          "output_type": "execute_result"
        }
      ],
      "source": [
        "joblib.dump ( clf,f\"C:\\\\Users\\\\AmirHussain\\\\Desktop\\\\machine-Learning-tradert-bot-main\\\\Models\\\\test\\\\MLPClassifier {mlp_accuracy_test : .2%}.h5\")"
      ]
    },
    {
      "attachments": {},
      "cell_type": "markdown",
      "metadata": {},
      "source": [
        "## K Neighbors Classifier\n"
      ]
    },
    {
      "cell_type": "code",
      "execution_count": 63,
      "metadata": {},
      "outputs": [],
      "source": [
        "# Create a KNN classifier with 5 neighbors\n",
        "knn = KNeighborsClassifier(\n",
        "    n_neighbors=15, weights='distance', metric=\"euclidean\", \n",
        "    algorithm='auto', leaf_size=100, n_jobs  = 10)\n",
        "\n",
        "knn.fit(X_train, y_train)  # Train the model using the training data\n",
        "\n",
        "knn_y_pred_train = knn.predict(X_train)\n",
        "knn_y_pred_test = knn.predict(X_test)\n",
        "\n",
        "# Step 5: Evaluate the model\n",
        "knn_accuracy_train = accuracy_score(y_train, knn_y_pred_train)\n",
        "knn_accuracy_test = accuracy_score(y_test, knn_y_pred_test)\n",
        "\n",
        "knn_classification_report_trian = classification_report(y_train, knn_y_pred_train)\n",
        "knn_classification_report_test = classification_report(y_test, knn_y_pred_test)\n",
        "\n"
      ]
    },
    {
      "cell_type": "code",
      "execution_count": 64,
      "metadata": {},
      "outputs": [
        {
          "name": "stdout",
          "output_type": "stream",
          "text": [
            "========================================\n",
            "KNN Train Accuracy:   100.00%\n",
            "KNN Test Accuracy:   94.39%\n",
            "----------------------------------------\n",
            "classification report for Train :\n",
            "               precision    recall  f1-score   support\n",
            "\n",
            "           0       1.00      1.00      1.00     66038\n",
            "           1       1.00      1.00      1.00      2055\n",
            "           2       1.00      1.00      1.00      1911\n",
            "\n",
            "    accuracy                           1.00     70004\n",
            "   macro avg       1.00      1.00      1.00     70004\n",
            "weighted avg       1.00      1.00      1.00     70004\n",
            "\n",
            "classification report for Test :\n",
            "               precision    recall  f1-score   support\n",
            "\n",
            "           0       0.94      1.00      0.97     28296\n",
            "           1       0.73      0.02      0.04       882\n",
            "           2       0.72      0.03      0.05       825\n",
            "\n",
            "    accuracy                           0.94     30003\n",
            "   macro avg       0.80      0.35      0.35     30003\n",
            "weighted avg       0.93      0.94      0.92     30003\n",
            "\n"
          ]
        }
      ],
      "source": [
        "print(\"==\"*20)\n",
        "print(f\"KNN Train Accuracy:  {knn_accuracy_train: .2%}\")\n",
        "print(f\"KNN Test Accuracy:  {knn_accuracy_test: .2%}\")\n",
        "print(\"--\"*20)\n",
        "print(f\"classification report for Train :\\n {knn_classification_report_trian}\")\n",
        "print(f\"classification report for Test :\\n {knn_classification_report_test}\")\n"
      ]
    },
    {
      "cell_type": "code",
      "execution_count": 65,
      "metadata": {},
      "outputs": [
        {
          "name": "stdout",
          "output_type": "stream",
          "text": [
            "[[66038     0     0]\n",
            " [    0  2055     0]\n",
            " [    0     0  1911]]\n"
          ]
        },
        {
          "data": {
            "image/png": "[encoded data removed]",
            "text/plain": [
              "<Figure size 640x480 with 2 Axes>"
            ]
          },
          "metadata": {},
          "output_type": "display_data"
        }
      ],
      "source": [
        "labels = ['hold', 'buy', 'sell']\n",
        "cm = confusion_matrix(\n",
        "    y_train, knn_y_pred_train)\n",
        "print(cm)\n",
        "fig = plt.figure()\n",
        "ax = fig.add_subplot(111)\n",
        "cax = ax.matshow(cm)\n",
        "plt.title('Confusion matrix of the classifier')\n",
        "fig.colorbar(cax)\n",
        "ax.set_xticklabels([''] + labels)\n",
        "ax.set_yticklabels([''] + labels)\n",
        "plt.xlabel('Predicted')\n",
        "plt.ylabel('True')\n",
        "plt.show()"
      ]
    },
    {
      "cell_type": "code",
      "execution_count": 66,
      "metadata": {},
      "outputs": [
        {
          "name": "stdout",
          "output_type": "stream",
          "text": [
            "[[28281     6     9]\n",
            " [  866    16     0]\n",
            " [  802     0    23]]\n"
          ]
        },
        {
          "data": {
            "image/png": "[encoded data removed]",
            "text/plain": [
              "<Figure size 640x480 with 2 Axes>"
            ]
          },
          "metadata": {},
          "output_type": "display_data"
        }
      ],
      "source": [
        "labels = ['hold', 'buy', 'sell']\n",
        "cm = confusion_matrix(\n",
        "    y_test, knn_y_pred_test)\n",
        "print(cm)\n",
        "fig = plt.figure()\n",
        "ax = fig.add_subplot(111)\n",
        "cax = ax.matshow(cm)\n",
        "plt.title('Confusion matrix of the classifier')\n",
        "fig.colorbar(cax)\n",
        "ax.set_xticklabels([''] + labels)\n",
        "ax.set_yticklabels([''] + labels)\n",
        "plt.xlabel('Predicted')\n",
        "plt.ylabel('True')\n",
        "plt.show()"
      ]
    },
    {
      "cell_type": "code",
      "execution_count": 67,
      "metadata": {},
      "outputs": [
        {
          "data": {
            "text/plain": [
              "['C:\\\\Users\\\\AmirHussain\\\\Desktop\\\\machine-Learning-tradert-bot-main\\\\Models\\\\test\\\\knn_model 94.39%.h5']"
            ]
          },
          "execution_count": 67,
          "metadata": {},
          "output_type": "execute_result"
        }
      ],
      "source": [
        "# Step 6: Save the model in M5 format\n",
        "\n",
        "joblib.dump(knn, f\"C:\\\\Users\\\\AmirHussain\\\\Desktop\\\\machine-Learning-tradert-bot-main\\\\Models\\\\test\\\\knn_model {knn_accuracy_test :.2%}.h5\")"
      ]
    },
    {
      "attachments": {},
      "cell_type": "markdown",
      "metadata": {},
      "source": [
        "## Decision Tree Classifier\n"
      ]
    },
    {
      "cell_type": "code",
      "execution_count": 68,
      "metadata": {},
      "outputs": [],
      "source": [
        "# Create the Decision Tree Classifier\n",
        "Decision_model = DecisionTreeClassifier(min_samples_split=11,\n",
        "                                        random_state=10,\n",
        "                                        criterion=\"entropy\",\n",
        "                                        )\n",
        "# Fit the model to your training data\n",
        "Decision_model.fit(X_train, y_train)\n",
        "# Predict using the trained model\n",
        "Decision_y_pred_train= Decision_model.predict(X_train)\n",
        "Decision_y_pred_test = Decision_model.predict(X_test)\n",
        "\n",
        "Decision_accuracy_train = accuracy_score(y_train, Decision_y_pred_train)\n",
        "Decision_accuracy_test = accuracy_score(y_test, Decision_y_pred_test)\n",
        "Decision_report_train = classification_report(y_train,Decision_y_pred_train )\n",
        "Decision_report_test = classification_report(y_test,Decision_y_pred_test )\n",
        "\n"
      ]
    },
    {
      "cell_type": "code",
      "execution_count": 69,
      "metadata": {},
      "outputs": [
        {
          "name": "stdout",
          "output_type": "stream",
          "text": [
            "========================================\n",
            "Decision Train Accuracy:  97.45%\n",
            "Decision Test Accuracy:  92.92%\n",
            "----------------------------------------\n",
            "classification report for Train :\n",
            "               precision    recall  f1-score   support\n",
            "\n",
            "           0       0.98      0.99      0.99     66038\n",
            "           1       0.83      0.70      0.76      2055\n",
            "           2       0.83      0.67      0.74      1911\n",
            "\n",
            "    accuracy                           0.97     70004\n",
            "   macro avg       0.88      0.79      0.83     70004\n",
            "weighted avg       0.97      0.97      0.97     70004\n",
            "\n",
            "classification report for Train :\n",
            "               precision    recall  f1-score   support\n",
            "\n",
            "           0       0.96      0.97      0.96     28296\n",
            "           1       0.33      0.26      0.29       882\n",
            "           2       0.36      0.26      0.30       825\n",
            "\n",
            "    accuracy                           0.93     30003\n",
            "   macro avg       0.55      0.50      0.52     30003\n",
            "weighted avg       0.92      0.93      0.92     30003\n",
            "\n"
          ]
        }
      ],
      "source": [
        "print(\"==\" * 20)\n",
        "print(f\"Decision Train Accuracy: {Decision_accuracy_train: .2%}\")\n",
        "print(f\"Decision Test Accuracy: {Decision_accuracy_test: .2%}\")\n",
        "print(\"--\"*20)\n",
        "print(f\"classification report for Train :\\n {Decision_report_train}\")\n",
        "print(f\"classification report for Train :\\n {Decision_report_test}\")\n"
      ]
    },
    {
      "cell_type": "code",
      "execution_count": 70,
      "metadata": {},
      "outputs": [
        {
          "name": "stdout",
          "output_type": "stream",
          "text": [
            "[[65504   285   249]\n",
            " [  612  1438     5]\n",
            " [  632     1  1278]]\n"
          ]
        },
        {
          "data": {
            "image/png": "[encoded data removed]",
            "text/plain": [
              "<Figure size 640x480 with 2 Axes>"
            ]
          },
          "metadata": {},
          "output_type": "display_data"
        }
      ],
      "source": [
        "labels = ['hold', 'buy', 'sell']\n",
        "cm = confusion_matrix(\n",
        "    y_train, Decision_y_pred_train)\n",
        "print(cm)\n",
        "fig = plt.figure()\n",
        "ax = fig.add_subplot(111)\n",
        "cax = ax.matshow(cm)\n",
        "plt.title('Confusion matrix of the classifier')\n",
        "fig.colorbar(cax)\n",
        "ax.set_xticklabels([''] + labels)\n",
        "ax.set_yticklabels([''] + labels)\n",
        "plt.xlabel('Predicted')\n",
        "plt.ylabel('True')\n",
        "plt.show()"
      ]
    },
    {
      "cell_type": "code",
      "execution_count": 71,
      "metadata": {},
      "outputs": [
        {
          "name": "stdout",
          "output_type": "stream",
          "text": [
            "[[27431   478   387]\n",
            " [  647   233     2]\n",
            " [  608     1   216]]\n"
          ]
        },
        {
          "data": {
            "image/png": "[encoded data removed]",
            "text/plain": [
              "<Figure size 640x480 with 2 Axes>"
            ]
          },
          "metadata": {},
          "output_type": "display_data"
        }
      ],
      "source": [
        "labels = ['hold', 'buy', 'sell']\n",
        "cm = confusion_matrix(\n",
        "    y_test, Decision_y_pred_test)\n",
        "print(cm)\n",
        "fig = plt.figure()\n",
        "ax = fig.add_subplot(111)\n",
        "cax = ax.matshow(cm)\n",
        "plt.title('Confusion matrix of the classifier')\n",
        "fig.colorbar(cax)\n",
        "ax.set_xticklabels([''] + labels)\n",
        "ax.set_yticklabels([''] + labels)\n",
        "plt.xlabel('Predicted')\n",
        "plt.ylabel('True')\n",
        "plt.show()"
      ]
    },
    {
      "cell_type": "code",
      "execution_count": 72,
      "metadata": {},
      "outputs": [
        {
          "data": {
            "text/plain": [
              "['C:\\\\Users\\\\AmirHussain\\\\Desktop\\\\machine-Learning-tradert-bot-main\\\\Models\\\\test\\\\Decision Tree model  92.92%.h5']"
            ]
          },
          "execution_count": 72,
          "metadata": {},
          "output_type": "execute_result"
        }
      ],
      "source": [
        "joblib.dump(Decision_model, f\"C:\\\\Users\\\\AmirHussain\\\\Desktop\\\\machine-Learning-tradert-bot-main\\\\Models\\\\test\\\\Decision Tree model {Decision_accuracy_test: .2%}.h5\")\n"
      ]
    },
    {
      "attachments": {},
      "cell_type": "markdown",
      "metadata": {},
      "source": [
        "## Random Forest Classifier\n"
      ]
    },
    {
      "cell_type": "code",
      "execution_count": 73,
      "metadata": {},
      "outputs": [],
      "source": [
        "# Create the Random Forest Classifier\n",
        "Forest_model = Forest(n_estimators=100,\n",
        "                      min_samples_split=4,\n",
        "                      random_state=8\n",
        "                      )\n",
        "\n",
        "Forest_model.fit(X_train, y_train)\n",
        "Forest_y_pred_train = Forest_model.predict(X_train)\n",
        "Forest_y_pred_test = Forest_model.predict(X_test)\n",
        "\n",
        "\n",
        "# Calculate accuracy\n",
        "Forest_accuracy_train = accuracy_score(y_train, Forest_y_pred_train)\n",
        "Forest_accuracy_test = accuracy_score(y_test, Forest_y_pred_test)\n",
        "\n",
        "Forest_classification_report_trian = classification_report(y_train, Forest_y_pred_train)\n",
        "Forest_classification_report_test = classification_report(y_test, Forest_y_pred_test)\n",
        "\n"
      ]
    },
    {
      "cell_type": "code",
      "execution_count": 74,
      "metadata": {},
      "outputs": [
        {
          "name": "stdout",
          "output_type": "stream",
          "text": [
            "========================================\n",
            "Forest Train Accuracy:  99.65%\n",
            "Forest Test Accuracy:  94.53%\n",
            "----------------------------------------\n",
            "classification report for Train :\n",
            "               precision    recall  f1-score   support\n",
            "\n",
            "           0       1.00      1.00      1.00     66038\n",
            "           1       1.00      0.94      0.97      2055\n",
            "           2       1.00      0.94      0.97      1911\n",
            "\n",
            "    accuracy                           1.00     70004\n",
            "   macro avg       1.00      0.96      0.98     70004\n",
            "weighted avg       1.00      1.00      1.00     70004\n",
            "\n",
            "classification report for Train :\n",
            "               precision    recall  f1-score   support\n",
            "\n",
            "           0       0.95      1.00      0.97     28296\n",
            "           1       0.63      0.10      0.18       882\n",
            "           2       0.59      0.11      0.19       825\n",
            "\n",
            "    accuracy                           0.95     30003\n",
            "   macro avg       0.72      0.40      0.44     30003\n",
            "weighted avg       0.93      0.95      0.93     30003\n",
            "\n"
          ]
        }
      ],
      "source": [
        "print(\"==\"*20)\n",
        "print(f\"Forest Train Accuracy: {Forest_accuracy_train: .2%}\")\n",
        "print(f\"Forest Test Accuracy: {Forest_accuracy_test: .2%}\")\n",
        "# Random Forest Classifier\n",
        "print(\"--\"*20)\n",
        "print(f\"classification report for Train :\\n {Forest_classification_report_trian}\")\n",
        "print(f\"classification report for Train :\\n {Forest_classification_report_test}\")\n"
      ]
    },
    {
      "cell_type": "code",
      "execution_count": 75,
      "metadata": {},
      "outputs": [
        {
          "name": "stdout",
          "output_type": "stream",
          "text": [
            "[[66038     0     0]\n",
            " [  131  1922     2]\n",
            " [  115     0  1796]]\n"
          ]
        },
        {
          "data": {
            "image/png": "[encoded data removed]",
            "text/plain": [
              "<Figure size 640x480 with 2 Axes>"
            ]
          },
          "metadata": {},
          "output_type": "display_data"
        }
      ],
      "source": [
        "labels = ['hold', 'buy', 'sell']\n",
        "cm = confusion_matrix(\n",
        "    y_train, Forest_y_pred_train)\n",
        "print(cm)\n",
        "fig = plt.figure()\n",
        "ax = fig.add_subplot(111)\n",
        "cax = ax.matshow(cm)\n",
        "plt.title('Confusion matrix of the classifier')\n",
        "fig.colorbar(cax)\n",
        "ax.set_xticklabels([''] + labels)\n",
        "ax.set_yticklabels([''] + labels)\n",
        "plt.xlabel('Predicted')\n",
        "plt.ylabel('True')\n",
        "plt.show()"
      ]
    },
    {
      "cell_type": "code",
      "execution_count": 76,
      "metadata": {},
      "outputs": [
        {
          "name": "stdout",
          "output_type": "stream",
          "text": [
            "[[28180    53    63]\n",
            " [  791    91     0]\n",
            " [  734     0    91]]\n"
          ]
        },
        {
          "data": {
            "image/png": "[encoded data removed]",
            "text/plain": [
              "<Figure size 640x480 with 2 Axes>"
            ]
          },
          "metadata": {},
          "output_type": "display_data"
        }
      ],
      "source": [
        "labels = ['hold', 'buy', 'sell']\n",
        "cm = confusion_matrix(\n",
        "    y_test, Forest_y_pred_test)\n",
        "print(cm)\n",
        "fig = plt.figure()\n",
        "ax = fig.add_subplot(111)\n",
        "cax = ax.matshow(cm)\n",
        "plt.title('Confusion matrix of the classifier')\n",
        "fig.colorbar(cax)\n",
        "ax.set_xticklabels([''] + labels)\n",
        "ax.set_yticklabels([''] + labels)\n",
        "plt.xlabel('Predicted')\n",
        "plt.ylabel('True')\n",
        "plt.show()"
      ]
    },
    {
      "cell_type": "code",
      "execution_count": 77,
      "metadata": {},
      "outputs": [
        {
          "data": {
            "text/plain": [
              "['C:\\\\Users\\\\AmirHussain\\\\Desktop\\\\machine-Learning-tradert-bot-main\\\\Models\\\\test\\\\Random Forest model  94.53%.h5']"
            ]
          },
          "execution_count": 77,
          "metadata": {},
          "output_type": "execute_result"
        }
      ],
      "source": [
        "joblib.dump(Forest_model,f\"C:\\\\Users\\\\AmirHussain\\\\Desktop\\\\machine-Learning-tradert-bot-main\\\\Models\\\\test\\\\Random Forest model {Forest_accuracy_test: .2%}.h5\")"
      ]
    },
    {
      "attachments": {},
      "cell_type": "markdown",
      "metadata": {},
      "source": [
        "## Support Vector Machine"
      ]
    },
    {
      "cell_type": "code",
      "execution_count": 28,
      "metadata": {
        "notebookRunGroups": {
          "groupValue": "1"
        }
      },
      "outputs": [],
      "source": [
        "svc = SVC(kernel= 'rbf',class_weight='balanced')\n",
        "\n",
        "svc.fit(X_train, y_train)\n"
      ]
    },
    {
      "cell_type": "code",
      "execution_count": null,
      "metadata": {},
      "outputs": [],
      "source": [
        "svc_y_pred_train = svc.predict(X_train)\n",
        "svc_y_pred_test = svc.predict(X_test)\n",
        "\n",
        "# Step 5: Evaluate the model\n",
        "svc_accuracy_train = accuracy_score(y_train, svc_y_pred_train)\n",
        "svc_accuracy_test = accuracy_score(y_test, svc_y_pred_test)\n",
        "\n",
        "svc_classification_report_trian = classification_report(y_train, svc_y_pred_train)\n",
        "svc_classification_report_test = classification_report(y_test, svc_y_pred_test)"
      ]
    },
    {
      "cell_type": "code",
      "execution_count": null,
      "metadata": {},
      "outputs": [],
      "source": [
        "print(\"==\"*20)\n",
        "print(f\"SVC Train Accuracy:  {svc_accuracy_train: .2%}\")\n",
        "print(f\"SVC Test Accuracy: {svc_accuracy_test: .2%}\")\n",
        "print(\"--\"*20)\n",
        "print(f\"classification report for Train :\\n {svc_classification_report_trian}\")\n",
        "print(f\"classification report for Test :\\n {svc_classification_report_test}\")\n"
      ]
    },
    {
      "cell_type": "code",
      "execution_count": null,
      "metadata": {},
      "outputs": [],
      "source": [
        "labels = ['hold', 'buy', 'sell']\n",
        "cm = confusion_matrix(\n",
        "    y_train, svc_y_pred_train)\n",
        "print(cm)\n",
        "fig = plt.figure()\n",
        "ax = fig.add_subplot(111)\n",
        "cax = ax.matshow(cm)\n",
        "plt.title('Confusion matrix of the classifier')\n",
        "fig.colorbar(cax)\n",
        "ax.set_xticklabels([''] + labels)\n",
        "ax.set_yticklabels([''] + labels)\n",
        "plt.xlabel('Predicted')\n",
        "plt.ylabel('True')\n",
        "plt.show()"
      ]
    },
    {
      "cell_type": "code",
      "execution_count": null,
      "metadata": {},
      "outputs": [],
      "source": [
        "labels = ['hold', 'buy', 'sell']\n",
        "cm = confusion_matrix(\n",
        "    y_test, svc_y_pred_test)\n",
        "print(cm)\n",
        "fig = plt.figure()\n",
        "ax = fig.add_subplot(111)\n",
        "cax = ax.matshow(cm)\n",
        "plt.title('Confusion matrix of the classifier')\n",
        "fig.colorbar(cax)\n",
        "ax.set_xticklabels([''] + labels)\n",
        "ax.set_yticklabels([''] + labels)\n",
        "plt.xlabel('Predicted')\n",
        "plt.ylabel('True')\n",
        "plt.show()"
      ]
    },
    {
      "cell_type": "code",
      "execution_count": null,
      "metadata": {},
      "outputs": [],
      "source": [
        "joblib.dump(svc, f\"C:\\\\Users\\\\AmirHussain\\\\Desktop\\\\machine-Learning-tradert-bot-main\\\\Models\\\\test\\\\SVC {svc_accuracy_test: .2%}.h5\")"
      ]
    },
    {
      "attachments": {},
      "cell_type": "markdown",
      "metadata": {},
      "source": [
        "# The END"
      ]
    }
  ],
  "metadata": {
    "colab": {
      "provenance": []
    },
    "gpuClass": "standard",
    "kernelspec": {
      "display_name": "Python 3",
      "name": "python3"
    },
    "language_info": {
      "codemirror_mode": {
        "name": "ipython",
        "version": 3
      },
      "file_extension": ".py",
      "mimetype": "text/x-python",
      "name": "python",
      "nbconvert_exporter": "python",
      "pygments_lexer": "ipython3",
      "version": "3.10.11"
    },
    "orig_nbformat": 4
  },
  "nbformat": 4,
  "nbformat_minor": 0
}
